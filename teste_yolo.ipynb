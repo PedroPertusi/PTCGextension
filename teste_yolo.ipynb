{
 "cells": [
  {
   "cell_type": "markdown",
   "id": "d34b9acd",
   "metadata": {},
   "source": [
    "### Yolo Model for Card Detection"
   ]
  },
  {
   "cell_type": "markdown",
   "id": "353f09a4",
   "metadata": {},
   "source": [
    "##### The dataset was developed using labelimg in images found from oficial pokemon streams, labeling cards. \n",
    "##### Training process was done on google colab following the tutorial: https://youtu.be/r0RspiLG260?si=dnAAPY-aWfhOj97z"
   ]
  },
  {
   "cell_type": "markdown",
   "id": "6fdf460f",
   "metadata": {},
   "source": [
    "### Importing the trained model (yolo_model/my_model.pt)"
   ]
  },
  {
   "cell_type": "code",
   "execution_count": 4,
   "id": "9b989a5e",
   "metadata": {},
   "outputs": [],
   "source": [
    "from ultralytics import YOLO\n",
    "import os\n",
    "\n",
    "model_path = 'my_model/my_model.pt'  \n",
    "\n",
    "assert os.path.isfile(model_path), f\"Model file not found at {model_path}\"\n",
    "model = YOLO(model_path)\n",
    "# print(model)\n"
   ]
  },
  {
   "cell_type": "markdown",
   "id": "39ce8ace",
   "metadata": {},
   "source": [
    "### Running the model on all images in the directory /input_example and saving the output in the directory /outputs/predict - saves both image and label"
   ]
  },
  {
   "cell_type": "code",
   "execution_count": 5,
   "id": "982528d8",
   "metadata": {},
   "outputs": [
    {
     "name": "stdout",
     "output_type": "stream",
     "text": [
      "\n",
      "image 1/2 /Users/pedropertusi/Desktop/comp_vis/PTCGextension/input_example/image_png_example.png: 384x640 14 pokemon_cards, 89.4ms\n",
      "image 2/2 /Users/pedropertusi/Desktop/comp_vis/PTCGextension/input_example/teste_portland.jpeg: 384x640 12 pokemon_cards, 63.5ms\n",
      "Speed: 5.2ms preprocess, 76.4ms inference, 6.3ms postprocess per image at shape (1, 3, 384, 640)\n",
      "Results saved to \u001b[1moutputs/predict\u001b[0m\n",
      "3 labels saved to outputs/predict/labels\n"
     ]
    }
   ],
   "source": [
    "results = model.predict(\n",
    "    source='input_example',  # ← a directory of images\n",
    "    save=True,\n",
    "    imgsz=640,\n",
    "    conf=0.25,\n",
    "    save_txt=True,\n",
    "    project='outputs',\n",
    "    exist_ok=True,\n",
    ")"
   ]
  },
  {
   "cell_type": "code",
   "execution_count": null,
   "id": "3528c910",
   "metadata": {},
   "outputs": [],
   "source": []
  }
 ],
 "metadata": {
  "kernelspec": {
   "display_name": "env",
   "language": "python",
   "name": "python3"
  },
  "language_info": {
   "codemirror_mode": {
    "name": "ipython",
    "version": 3
   },
   "file_extension": ".py",
   "mimetype": "text/x-python",
   "name": "python",
   "nbconvert_exporter": "python",
   "pygments_lexer": "ipython3",
   "version": "3.12.3"
  }
 },
 "nbformat": 4,
 "nbformat_minor": 5
}
