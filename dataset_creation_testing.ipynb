{
 "cells": [
  {
   "cell_type": "code",
   "execution_count": null,
   "id": "5f02e87c",
   "metadata": {},
   "outputs": [],
   "source": [
    "import os\n",
    "import random\n",
    "import cv2\n",
    "import numpy as np\n",
    "from glob import glob\n",
    "from PIL import Image, ImageEnhance\n",
    "import json"
   ]
  },
  {
   "cell_type": "code",
   "execution_count": null,
   "id": "522c30d9",
   "metadata": {},
   "outputs": [],
   "source": [
    "TABLE_IMAGE_PATH = 'path/to/your/table_background.jpg'\n",
    "CARD_IMAGES_FOLDER = 'path/to/your/cards_folder/'\n",
    "OUTPUT_IMAGES_FOLDER = 'output/images/'\n",
    "OUTPUT_LABELS_FOLDER = 'output/labels/'\n",
    "\n",
    "PASTE_AREA = {\n",
    "    'x_min': 0.1,\n",
    "    'x_max': 0.9,\n",
    "    'y_min': 0.1,\n",
    "    'y_max': 0.9,\n",
    "}\n",
    "\n",
    "IMAGE_SIZE = (1280, 720)\n",
    "MAX_TRIES = 50  \n",
    "\n",
    "os.makedirs(OUTPUT_IMAGES_FOLDER, exist_ok=True)\n",
    "os.makedirs(OUTPUT_LABELS_FOLDER, exist_ok=True)"
   ]
  },
  {
   "cell_type": "code",
   "execution_count": null,
   "id": "b24f17ec",
   "metadata": {},
   "outputs": [],
   "source": [
    "def load_card_images():\n",
    "    paths = glob(os.path.join(CARD_IMAGES_FOLDER, '*.png'))\n",
    "    return paths"
   ]
  },
  {
   "cell_type": "code",
   "execution_count": null,
   "id": "f2687795",
   "metadata": {},
   "outputs": [],
   "source": [
    "def random_transform(card_img):\n",
    "    # Random rotation\n",
    "    angle = random.uniform(-25, 25)\n",
    "    card_img = card_img.rotate(angle, expand=True)\n",
    "\n",
    "    # Random brightness\n",
    "    enhancer = ImageEnhance.Brightness(card_img)\n",
    "    card_img = enhancer.enhance(random.uniform(0.7, 1.3))\n",
    "\n",
    "    return card_img"
   ]
  },
  {
   "cell_type": "code",
   "execution_count": null,
   "id": "40ef4a03",
   "metadata": {},
   "outputs": [],
   "source": [
    "def get_random_position(card_size, table_size):\n",
    "    for _ in range(MAX_TRIES):\n",
    "        x_min_area = int(PASTE_AREA['x_min'] * table_size[0])\n",
    "        x_max_area = int(PASTE_AREA['x_max'] * table_size[0])\n",
    "        y_min_area = int(PASTE_AREA['y_min'] * table_size[1])\n",
    "        y_max_area = int(PASTE_AREA['y_max'] * table_size[1])\n",
    "\n",
    "        x = random.randint(x_min_area, x_max_area - card_size[0])\n",
    "        y = random.randint(y_min_area, y_max_area - card_size[1])\n",
    "        return x, y\n",
    "    return None, None  # If cannot find a valid spot"
   ]
  },
  {
   "cell_type": "code",
   "execution_count": null,
   "id": "1540ec11",
   "metadata": {},
   "outputs": [],
   "source": [
    "def paste_card(base_img, card_img, position):\n",
    "    base_img.paste(card_img, position, card_img.convert('RGBA'))"
   ]
  },
  {
   "cell_type": "code",
   "execution_count": null,
   "id": "4495b6c8",
   "metadata": {},
   "outputs": [],
   "source": [
    "def create_one_image(image_id, table_image, card_paths):\n",
    "    table = table_image.copy()\n",
    "    h_table, w_table = table.size\n",
    "    annotations = []\n",
    "\n",
    "    selected_cards = random.sample(card_paths, random.randint(4, 8))\n",
    "\n",
    "    for card_path in selected_cards:\n",
    "        card_img = Image.open(card_path).convert('RGBA')\n",
    "        card_img = random_transform(card_img)\n",
    "\n",
    "        card_w, card_h = card_img.size\n",
    "        x, y = get_random_position((card_w, card_h), (w_table, h_table))\n",
    "\n",
    "        if x is None:\n",
    "            continue  # Skip if no position found\n",
    "\n",
    "        paste_card(table, card_img, (x, y))\n",
    "\n",
    "        card_name = os.path.splitext(os.path.basename(card_path))[0]\n",
    "\n",
    "        annotations.append({\n",
    "            'class': card_name,\n",
    "            'bbox': [x, y, x + card_w, y + card_h]\n",
    "        })\n",
    "\n",
    "    output_img_path = os.path.join(OUTPUT_IMAGES_FOLDER, f'image_{image_id}.png')\n",
    "    output_label_path = os.path.join(OUTPUT_LABELS_FOLDER, f'image_{image_id}.json')\n",
    "\n",
    "    table.save(output_img_path)\n",
    "\n",
    "    with open(output_label_path, 'w') as f:\n",
    "        json.dump(annotations, f, indent=2)"
   ]
  },
  {
   "cell_type": "code",
   "execution_count": null,
   "id": "a18d4ef6",
   "metadata": {},
   "outputs": [],
   "source": [
    "table_image = Image.open(TABLE_IMAGE_PATH).convert('RGB').resize(IMAGE_SIZE)\n",
    "card_paths = load_card_images()\n",
    "\n",
    "num_images = 100  # how many synthetic images you want\n",
    "for i in range(num_images):\n",
    "    create_one_image(i, table_image, card_paths)"
   ]
  }
 ],
 "metadata": {
  "language_info": {
   "name": "python"
  }
 },
 "nbformat": 4,
 "nbformat_minor": 5
}
