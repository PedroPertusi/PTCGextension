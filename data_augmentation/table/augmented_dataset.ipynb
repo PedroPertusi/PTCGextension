{
 "cells": [
  {
   "cell_type": "code",
   "execution_count": 42,
   "id": "e9ecf40a",
   "metadata": {},
   "outputs": [],
   "source": [
    "import os\n",
    "import cv2\n",
    "import random\n",
    "import matplotlib.pyplot as plt\n",
    "from natsort import natsorted\n",
    "from uuid import uuid4"
   ]
  },
  {
   "cell_type": "code",
   "execution_count": 43,
   "id": "29177e5a",
   "metadata": {},
   "outputs": [],
   "source": [
    "def load_image(image_path):\n",
    "    image = cv2.imread(image_path, cv2.IMREAD_UNCHANGED)\n",
    "    if image is None:\n",
    "        print(f\"Failed to read {image_path}\")\n",
    "    return image"
   ]
  },
  {
   "cell_type": "code",
   "execution_count": 44,
   "id": "4b81abb2",
   "metadata": {},
   "outputs": [],
   "source": [
    "def save_image_and_labels(labels, image, image_shape, i):\n",
    "    h, w = image_shape[:2]\n",
    "    id = str(uuid4())\n",
    "\n",
    "    os.makedirs(\"labels\", exist_ok=True)\n",
    "    os.makedirs(\"images\", exist_ok=True)\n",
    "\n",
    "    with open(f\"labels/{id}-pokemon_{i}.txt\", \"w\") as f:\n",
    "        for card_id, x1, y1, x2, y2 in labels:\n",
    "            x_center = ((x1 + x2) / 2) / w\n",
    "            y_center = ((y1 + y2) / 2) / h\n",
    "            box_width = (x2 - x1) / w\n",
    "            box_height = (y2 - y1) / h\n",
    "            f.write(f\"{card_id} {x_center:.6f} {y_center:.6f} {box_width:.6f} {box_height:.6f}\\n\")\n",
    "\n",
    "    cv2.imwrite(f\"images/{id}-pokemon_{i}.png\", image)"
   ]
  },
  {
   "cell_type": "code",
   "execution_count": 45,
   "id": "a932dae9",
   "metadata": {},
   "outputs": [],
   "source": [
    "def draw_random_cards(blank_table, cards_dict, card_keys: list, area, num_cards):\n",
    "    table = blank_table.copy()\n",
    "    labels = []\n",
    "\n",
    "    x_min, y_min, x_max, y_max = area\n",
    "    for _ in range(num_cards):\n",
    "        if len(cards_dict) == 0:\n",
    "            break\n",
    "\n",
    "        card_key = random.choice(list(cards_dict.keys()))\n",
    "        card_id = card_keys.index(card_key)\n",
    "\n",
    "        card_path = random.choice(cards_dict[card_key])\n",
    "        cards_dict[card_key].remove(card_path) \n",
    "        if len(cards_dict[card_key]) == 0:\n",
    "            cards_dict.pop(card_key)\n",
    "\n",
    "        card = load_image(card_path)\n",
    "        if card is None:\n",
    "            continue\n",
    "\n",
    "        # Add alpha if missing\n",
    "        if card.shape[2] == 3:\n",
    "            card = cv2.cvtColor(card, cv2.COLOR_BGR2BGRA)\n",
    "\n",
    "        # Random size\n",
    "        target_w, target_h = 100, 140\n",
    "        card = cv2.resize(card, (target_w, target_h), interpolation=cv2.INTER_AREA)\n",
    "\n",
    "        # Random rotation\n",
    "        angle = random.choice(range(-30, 31, 5))\n",
    "        center = (target_w // 2, target_h // 2)\n",
    "        rot_mat = cv2.getRotationMatrix2D(center, angle, 1.0)\n",
    "\n",
    "        cos = abs(rot_mat[0, 0])\n",
    "        sin = abs(rot_mat[0, 1])\n",
    "        bound_w = int((target_h * sin) + (target_w * cos))\n",
    "        bound_h = int((target_h * cos) + (target_w * sin))\n",
    "\n",
    "        rot_mat[0, 2] += (bound_w / 2) - center[0]\n",
    "        rot_mat[1, 2] += (bound_h / 2) - center[1]\n",
    "\n",
    "        rotated_card = cv2.warpAffine(card, rot_mat, (bound_w, bound_h),\n",
    "                                      flags=cv2.INTER_LINEAR, borderMode=cv2.BORDER_CONSTANT,\n",
    "                                      borderValue=(0, 0, 0, 0))\n",
    "\n",
    "        # Random position inside the allowed area\n",
    "        max_x = x_max - bound_w\n",
    "        max_y = y_max - bound_h\n",
    "        if max_x <= x_min or max_y <= y_min:\n",
    "            continue\n",
    "        offset_x = random.randint(x_min, max_x)\n",
    "        offset_y = random.randint(y_min, max_y)\n",
    "\n",
    "        roi = table[offset_y:offset_y+bound_h, offset_x:offset_x+bound_w]\n",
    "\n",
    "        alpha = rotated_card[:, :, 3] / 255.0\n",
    "        for c in range(3):\n",
    "            roi[:, :, c] = (1 - alpha) * roi[:, :, c] + alpha * rotated_card[:, :, c]\n",
    "        table[offset_y:offset_y+bound_h, offset_x:offset_x+bound_w] = roi\n",
    "\n",
    "        # Save bounding box\n",
    "        labels.append((card_id, offset_x, offset_y, offset_x + bound_w, offset_y + bound_h))\n",
    "\n",
    "    return table, labels"
   ]
  },
  {
   "cell_type": "code",
   "execution_count": 46,
   "id": "afc6b4ba",
   "metadata": {},
   "outputs": [],
   "source": [
    "import os\n",
    "from glob import glob\n",
    "\n",
    "card_dir = \"cards\"\n",
    "card_dict = {}\n",
    "\n",
    "for card_name in os.listdir(card_dir):\n",
    "    full_path = os.path.join(card_dir, card_name)\n",
    "    if os.path.isdir(full_path):\n",
    "        images = glob(os.path.join(full_path, \"*\"))\n",
    "        card_dict[card_name] = images\n"
   ]
  },
  {
   "cell_type": "code",
   "execution_count": 47,
   "id": "1b115d1e",
   "metadata": {},
   "outputs": [],
   "source": [
    "card_list = natsorted(os.listdir(card_dir))"
   ]
  },
  {
   "cell_type": "code",
   "execution_count": 48,
   "id": "97f6297d",
   "metadata": {},
   "outputs": [],
   "source": [
    "blank_table = load_image('table.png')\n",
    "area = (100, 100, blank_table.shape[1] - 100, blank_table.shape[0] - 100)\n",
    "\n",
    "i = 0\n",
    "while(len(card_dict) > 0):\n",
    "    table_with_cards, labels = draw_random_cards(blank_table=blank_table, cards_dict=card_dict, card_keys=card_list, area=area, num_cards=random.randint(3,15))\n",
    "    \n",
    "    save_image_and_labels(labels, table_with_cards, blank_table.shape, i)\n",
    "    i += 1"
   ]
  },
  {
   "cell_type": "code",
   "execution_count": 49,
   "id": "a5a7b926",
   "metadata": {},
   "outputs": [],
   "source": [
    "with open(\"classes.txt\", \"w\") as f:\n",
    "    for card in card_list:\n",
    "        f.write(f\"{card}\\n\")"
   ]
  }
 ],
 "metadata": {
  "kernelspec": {
   "display_name": "env",
   "language": "python",
   "name": "python3"
  },
  "language_info": {
   "codemirror_mode": {
    "name": "ipython",
    "version": 3
   },
   "file_extension": ".py",
   "mimetype": "text/x-python",
   "name": "python",
   "nbconvert_exporter": "python",
   "pygments_lexer": "ipython3",
   "version": "3.13.3"
  }
 },
 "nbformat": 4,
 "nbformat_minor": 5
}
