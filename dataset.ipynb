{
 "cells": [
  {
   "cell_type": "markdown",
   "id": "fc5e1da5",
   "metadata": {},
   "source": [
    "### DOWNLOAD DATASET"
   ]
  },
  {
   "cell_type": "code",
   "execution_count": null,
   "id": "fdf7f42e",
   "metadata": {},
   "outputs": [],
   "source": [
    "from dotenv import load_dotenv\n",
    "import os\n",
    "\n",
    "load_dotenv()  \n",
    "\n",
    "my_secret = os.environ.get('TCG_KEY')\n",
    "\n"
   ]
  },
  {
   "cell_type": "markdown",
   "id": "3ab03b87",
   "metadata": {},
   "source": [
    "### 245 x 342 --> \"small\" image"
   ]
  },
  {
   "cell_type": "code",
   "execution_count": null,
   "id": "bbfe18da",
   "metadata": {},
   "outputs": [],
   "source": [
    "from pokemontcgsdk import Card\n",
    "from pokemontcgsdk import RestClient\n",
    "from pokemontcgsdk import Set\n",
    "\n",
    "RestClient.configure(my_secret)\n",
    "\n",
    "cards = Card.all()\n"
   ]
  },
  {
   "cell_type": "code",
   "execution_count": null,
   "id": "0759854b",
   "metadata": {},
   "outputs": [],
   "source": [
    "import requests\n",
    "\n",
    "# current directory + folder name (cards)\n",
    "folder_path = os.path.join(os.getcwd(), 'cards')\n",
    "# os.makedirs(folder_path, exist_ok=True)\n",
    "\n",
    "for card in cards:\n",
    "    ## download the image\n",
    "    response = requests.get(card.images.small)\n",
    "\n",
    "    if response.status_code == 200:\n",
    "        file_path = os.path.join(folder_path, card.id + '.png')\n",
    "        with open(file_path, 'wb') as file:\n",
    "            file.write(response.content)\n",
    "        print(f\"Image successfully downloaded: {file_path}\")\n",
    "    else:\n",
    "        print(\"Failed to retrieve the image. Status code:\", response.status_code)\n"
   ]
  }
 ],
 "metadata": {
  "kernelspec": {
   "display_name": "env",
   "language": "python",
   "name": "python3"
  },
  "language_info": {
   "codemirror_mode": {
    "name": "ipython",
    "version": 3
   },
   "file_extension": ".py",
   "mimetype": "text/x-python",
   "name": "python",
   "nbconvert_exporter": "python",
   "pygments_lexer": "ipython3",
   "version": "3.12.3"
  }
 },
 "nbformat": 4,
 "nbformat_minor": 5
}
