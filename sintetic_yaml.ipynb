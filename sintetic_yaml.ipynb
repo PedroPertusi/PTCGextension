{
 "cells": [
  {
   "cell_type": "code",
   "execution_count": null,
   "id": "fe01994d",
   "metadata": {},
   "outputs": [
    {
     "data": {
      "text/plain": [
       "device(type='mps')"
      ]
     },
     "execution_count": 1,
     "metadata": {},
     "output_type": "execute_result"
    }
   ],
   "source": [
    "from ultralytics import YOLO\n",
    "import torch\n",
    "\n",
    "\n",
    "device = torch.device(\"cpu\")\n",
    "\n",
    "device\n"
   ]
  },
  {
   "cell_type": "code",
   "execution_count": null,
   "id": "476c78c7",
   "metadata": {},
   "outputs": [
    {
     "name": "stdout",
     "output_type": "stream",
     "text": [
      "New https://pypi.org/project/ultralytics/8.3.146 available 😃 Update with 'pip install -U ultralytics'\n",
      "\u001b[34m\u001b[1mengine/trainer: \u001b[0magnostic_nms=False, amp=True, augment=False, auto_augment=randaugment, batch=8, bgr=0.0, box=7.5, cache=False, cfg=None, classes=None, close_mosaic=10, cls=0.5, conf=None, copy_paste=0.0, copy_paste_mode=flip, cos_lr=False, cutmix=0.0, data=custom.yaml, degrees=0.0, deterministic=True, device=mps, dfl=1.5, dnn=False, dropout=0.0, dynamic=False, embed=None, epochs=10, erasing=0.4, exist_ok=False, fliplr=0.5, flipud=0.0, format=torchscript, fraction=1.0, freeze=None, half=False, hsv_h=0.015, hsv_s=0.7, hsv_v=0.4, imgsz=640, int8=False, iou=0.7, keras=False, kobj=1.0, line_width=None, lr0=0.01, lrf=0.01, mask_ratio=4, max_det=300, mixup=0.0, mode=train, model=yolov8s.pt, momentum=0.937, mosaic=1.0, multi_scale=False, name=train, nbs=64, nms=False, opset=None, optimize=False, optimizer=auto, overlap_mask=True, patience=100, perspective=0.0, plots=True, pose=12.0, pretrained=True, profile=False, project=None, rect=False, resume=False, retina_masks=False, save=True, save_conf=False, save_crop=False, save_dir=/Users/pedropertusi/Desktop/comp_vis/PTCGextension/runs/detect/train, save_frames=False, save_json=False, save_period=1, save_txt=False, scale=0.5, seed=0, shear=0.0, show=False, show_boxes=True, show_conf=True, show_labels=True, simplify=True, single_cls=False, source=None, split=val, stream_buffer=False, task=detect, time=None, tracker=botsort.yaml, translate=0.1, val=True, verbose=True, vid_stride=1, visualize=False, warmup_bias_lr=0.1, warmup_epochs=3.0, warmup_momentum=0.8, weight_decay=0.0005, workers=8, workspace=None\n",
      "Overriding model.yaml nc=80 with nc=3005\n",
      "\n",
      "                   from  n    params  module                                       arguments                     \n",
      "  0                  -1  1       928  ultralytics.nn.modules.conv.Conv             [3, 32, 3, 2]                 \n",
      "  1                  -1  1     18560  ultralytics.nn.modules.conv.Conv             [32, 64, 3, 2]                \n",
      "  2                  -1  1     29056  ultralytics.nn.modules.block.C2f             [64, 64, 1, True]             \n",
      "  3                  -1  1     73984  ultralytics.nn.modules.conv.Conv             [64, 128, 3, 2]               \n",
      "  4                  -1  2    197632  ultralytics.nn.modules.block.C2f             [128, 128, 2, True]           \n",
      "  5                  -1  1    295424  ultralytics.nn.modules.conv.Conv             [128, 256, 3, 2]              \n",
      "  6                  -1  2    788480  ultralytics.nn.modules.block.C2f             [256, 256, 2, True]           \n",
      "  7                  -1  1   1180672  ultralytics.nn.modules.conv.Conv             [256, 512, 3, 2]              \n",
      "  8                  -1  1   1838080  ultralytics.nn.modules.block.C2f             [512, 512, 1, True]           \n",
      "  9                  -1  1    656896  ultralytics.nn.modules.block.SPPF            [512, 512, 5]                 \n",
      " 10                  -1  1         0  torch.nn.modules.upsampling.Upsample         [None, 2, 'nearest']          \n",
      " 11             [-1, 6]  1         0  ultralytics.nn.modules.conv.Concat           [1]                           \n",
      " 12                  -1  1    591360  ultralytics.nn.modules.block.C2f             [768, 256, 1]                 \n",
      " 13                  -1  1         0  torch.nn.modules.upsampling.Upsample         [None, 2, 'nearest']          \n",
      " 14             [-1, 4]  1         0  ultralytics.nn.modules.conv.Concat           [1]                           \n",
      " 15                  -1  1    148224  ultralytics.nn.modules.block.C2f             [384, 128, 1]                 \n",
      " 16                  -1  1    147712  ultralytics.nn.modules.conv.Conv             [128, 128, 3, 2]              \n",
      " 17            [-1, 12]  1         0  ultralytics.nn.modules.conv.Concat           [1]                           \n",
      " 18                  -1  1    493056  ultralytics.nn.modules.block.C2f             [384, 256, 1]                 \n",
      " 19                  -1  1    590336  ultralytics.nn.modules.conv.Conv             [256, 256, 3, 2]              \n",
      " 20             [-1, 9]  1         0  ultralytics.nn.modules.conv.Concat           [1]                           \n",
      " 21                  -1  1   1969152  ultralytics.nn.modules.block.C2f             [768, 512, 1]                 \n",
      " 22        [15, 18, 21]  1   3278983  ultralytics.nn.modules.head.Detect           [3005, [128, 256, 512]]       \n",
      "Model summary: 129 layers, 12,298,535 parameters, 12,298,519 gradients, 35.1 GFLOPs\n",
      "\n",
      "Transferred 349/355 items from pretrained weights\n",
      "Freezing layer 'model.22.dfl.conv.weight'\n",
      "\u001b[34m\u001b[1mtrain: \u001b[0mFast image access ✅ (ping: 0.0±0.0 ms, read: 1882.6±252.3 MB/s, size: 1922.5 KB)\n"
     ]
    },
    {
     "name": "stderr",
     "output_type": "stream",
     "text": [
      "\u001b[34m\u001b[1mtrain: \u001b[0mScanning /Users/pedropertusi/Desktop/comp_vis/PTCGextension/data/labels/train.cache... 2392 images, 0 backgrounds, 0 corrupt: 100%|██████████| 2392/2392 [00:00<?, ?it/s]"
     ]
    },
    {
     "name": "stdout",
     "output_type": "stream",
     "text": [
      "\u001b[34m\u001b[1mval: \u001b[0mFast image access ✅ (ping: 0.0±0.0 ms, read: 1856.4±184.9 MB/s, size: 1849.7 KB)\n"
     ]
    },
    {
     "name": "stderr",
     "output_type": "stream",
     "text": [
      "\n",
      "\u001b[34m\u001b[1mval: \u001b[0mScanning /Users/pedropertusi/Desktop/comp_vis/PTCGextension/data/labels/val.cache... 598 images, 0 backgrounds, 0 corrupt: 100%|██████████| 598/598 [00:00<?, ?it/s]\n"
     ]
    },
    {
     "name": "stdout",
     "output_type": "stream",
     "text": [
      "Plotting labels to /Users/pedropertusi/Desktop/comp_vis/PTCGextension/runs/detect/train/labels.jpg... \n",
      "\u001b[34m\u001b[1moptimizer:\u001b[0m 'optimizer=auto' found, ignoring 'lr0=0.01' and 'momentum=0.937' and determining best 'optimizer', 'lr0' and 'momentum' automatically... \n",
      "\u001b[34m\u001b[1moptimizer:\u001b[0m AdamW(lr=3e-06, momentum=0.9) with parameter groups 57 weight(decay=0.0), 64 weight(decay=0.0005), 63 bias(decay=0.0)\n",
      "Image sizes 640 train, 640 val\n",
      "Using 0 dataloader workers\n",
      "Logging results to \u001b[1m/Users/pedropertusi/Desktop/comp_vis/PTCGextension/runs/detect/train\u001b[0m\n",
      "Starting training for 10 epochs...\n",
      "Closing dataloader mosaic\n",
      "\n",
      "      Epoch    GPU_mem   box_loss   cls_loss   dfl_loss  Instances       Size\n"
     ]
    },
    {
     "name": "stderr",
     "output_type": "stream",
     "text": [
      "       1/10      14.6G     0.9027      7.782      1.029         68        640: 100%|██████████| 299/299 [50:17<00:00, 10.09s/it]\n",
      "                 Class     Images  Instances      Box(P          R      mAP50  mAP50-95):   0%|          | 0/38 [00:00<?, ?it/s]"
     ]
    },
    {
     "name": "stdout",
     "output_type": "stream",
     "text": [
      "WARNING ⚠️ NMS time limit 2.800s exceeded\n"
     ]
    },
    {
     "name": "stderr",
     "output_type": "stream",
     "text": [
      "                 Class     Images  Instances      Box(P          R      mAP50  mAP50-95):   3%|▎         | 1/38 [00:22<13:45, 22.31s/it]"
     ]
    },
    {
     "name": "stdout",
     "output_type": "stream",
     "text": [
      "WARNING ⚠️ NMS time limit 2.800s exceeded\n"
     ]
    },
    {
     "name": "stderr",
     "output_type": "stream",
     "text": [
      "                 Class     Images  Instances      Box(P          R      mAP50  mAP50-95):   5%|▌         | 2/38 [00:45<13:43, 22.89s/it]"
     ]
    },
    {
     "name": "stdout",
     "output_type": "stream",
     "text": [
      "WARNING ⚠️ NMS time limit 2.800s exceeded\n"
     ]
    },
    {
     "name": "stderr",
     "output_type": "stream",
     "text": [
      "                 Class     Images  Instances      Box(P          R      mAP50  mAP50-95):   8%|▊         | 3/38 [01:01<11:36, 19.89s/it]"
     ]
    },
    {
     "name": "stdout",
     "output_type": "stream",
     "text": [
      "WARNING ⚠️ NMS time limit 2.800s exceeded\n"
     ]
    },
    {
     "name": "stderr",
     "output_type": "stream",
     "text": [
      "                 Class     Images  Instances      Box(P          R      mAP50  mAP50-95):  11%|█         | 4/38 [01:30<13:17, 23.47s/it]"
     ]
    },
    {
     "name": "stdout",
     "output_type": "stream",
     "text": [
      "WARNING ⚠️ NMS time limit 2.800s exceeded\n"
     ]
    },
    {
     "name": "stderr",
     "output_type": "stream",
     "text": [
      "                 Class     Images  Instances      Box(P          R      mAP50  mAP50-95):  13%|█▎        | 5/38 [01:56<13:25, 24.42s/it]"
     ]
    },
    {
     "name": "stdout",
     "output_type": "stream",
     "text": [
      "WARNING ⚠️ NMS time limit 2.800s exceeded\n"
     ]
    },
    {
     "name": "stderr",
     "output_type": "stream",
     "text": [
      "                 Class     Images  Instances      Box(P          R      mAP50  mAP50-95):  16%|█▌        | 6/38 [02:12<11:29, 21.54s/it]"
     ]
    },
    {
     "name": "stdout",
     "output_type": "stream",
     "text": [
      "WARNING ⚠️ NMS time limit 2.800s exceeded\n"
     ]
    },
    {
     "name": "stderr",
     "output_type": "stream",
     "text": [
      "                 Class     Images  Instances      Box(P          R      mAP50  mAP50-95):  18%|█▊        | 7/38 [02:26<09:42, 18.80s/it]"
     ]
    },
    {
     "name": "stdout",
     "output_type": "stream",
     "text": [
      "WARNING ⚠️ NMS time limit 2.800s exceeded\n"
     ]
    },
    {
     "name": "stderr",
     "output_type": "stream",
     "text": [
      "                 Class     Images  Instances      Box(P          R      mAP50  mAP50-95):  21%|██        | 8/38 [02:41<08:50, 17.69s/it]"
     ]
    },
    {
     "name": "stdout",
     "output_type": "stream",
     "text": [
      "WARNING ⚠️ NMS time limit 2.800s exceeded\n"
     ]
    },
    {
     "name": "stderr",
     "output_type": "stream",
     "text": [
      "                 Class     Images  Instances      Box(P          R      mAP50  mAP50-95):  24%|██▎       | 9/38 [02:55<08:01, 16.60s/it]"
     ]
    },
    {
     "name": "stdout",
     "output_type": "stream",
     "text": [
      "WARNING ⚠️ NMS time limit 2.800s exceeded\n"
     ]
    },
    {
     "name": "stderr",
     "output_type": "stream",
     "text": [
      "                 Class     Images  Instances      Box(P          R      mAP50  mAP50-95):  26%|██▋       | 10/38 [03:13<07:58, 17.09s/it]"
     ]
    },
    {
     "name": "stdout",
     "output_type": "stream",
     "text": [
      "WARNING ⚠️ NMS time limit 2.800s exceeded\n"
     ]
    },
    {
     "name": "stderr",
     "output_type": "stream",
     "text": [
      "                 Class     Images  Instances      Box(P          R      mAP50  mAP50-95):  29%|██▉       | 11/38 [03:29<07:26, 16.54s/it]"
     ]
    },
    {
     "name": "stdout",
     "output_type": "stream",
     "text": [
      "WARNING ⚠️ NMS time limit 2.800s exceeded\n"
     ]
    },
    {
     "name": "stderr",
     "output_type": "stream",
     "text": [
      "                 Class     Images  Instances      Box(P          R      mAP50  mAP50-95):  32%|███▏      | 12/38 [03:43<06:54, 15.95s/it]"
     ]
    },
    {
     "name": "stdout",
     "output_type": "stream",
     "text": [
      "WARNING ⚠️ NMS time limit 2.800s exceeded\n"
     ]
    },
    {
     "name": "stderr",
     "output_type": "stream",
     "text": [
      "                 Class     Images  Instances      Box(P          R      mAP50  mAP50-95):  34%|███▍      | 13/38 [03:58<06:33, 15.75s/it]"
     ]
    },
    {
     "name": "stdout",
     "output_type": "stream",
     "text": [
      "WARNING ⚠️ NMS time limit 2.800s exceeded\n"
     ]
    },
    {
     "name": "stderr",
     "output_type": "stream",
     "text": [
      "                 Class     Images  Instances      Box(P          R      mAP50  mAP50-95):  37%|███▋      | 14/38 [04:13<06:11, 15.47s/it]"
     ]
    },
    {
     "name": "stdout",
     "output_type": "stream",
     "text": [
      "WARNING ⚠️ NMS time limit 2.800s exceeded\n"
     ]
    },
    {
     "name": "stderr",
     "output_type": "stream",
     "text": [
      "                 Class     Images  Instances      Box(P          R      mAP50  mAP50-95):  39%|███▉      | 15/38 [04:29<05:54, 15.40s/it]"
     ]
    },
    {
     "name": "stdout",
     "output_type": "stream",
     "text": [
      "WARNING ⚠️ NMS time limit 2.800s exceeded\n"
     ]
    },
    {
     "name": "stderr",
     "output_type": "stream",
     "text": [
      "                 Class     Images  Instances      Box(P          R      mAP50  mAP50-95):  42%|████▏     | 16/38 [04:43<05:30, 15.00s/it]"
     ]
    },
    {
     "name": "stdout",
     "output_type": "stream",
     "text": [
      "WARNING ⚠️ NMS time limit 2.800s exceeded\n"
     ]
    },
    {
     "name": "stderr",
     "output_type": "stream",
     "text": [
      "                 Class     Images  Instances      Box(P          R      mAP50  mAP50-95):  45%|████▍     | 17/38 [04:59<05:20, 15.27s/it]"
     ]
    },
    {
     "name": "stdout",
     "output_type": "stream",
     "text": [
      "WARNING ⚠️ NMS time limit 2.800s exceeded\n"
     ]
    },
    {
     "name": "stderr",
     "output_type": "stream",
     "text": [
      "                 Class     Images  Instances      Box(P          R      mAP50  mAP50-95):  47%|████▋     | 18/38 [05:14<05:05, 15.26s/it]"
     ]
    },
    {
     "name": "stdout",
     "output_type": "stream",
     "text": [
      "WARNING ⚠️ NMS time limit 2.800s exceeded\n"
     ]
    },
    {
     "name": "stderr",
     "output_type": "stream",
     "text": [
      "                 Class     Images  Instances      Box(P          R      mAP50  mAP50-95):  50%|█████     | 19/38 [05:30<04:56, 15.58s/it]"
     ]
    },
    {
     "name": "stdout",
     "output_type": "stream",
     "text": [
      "WARNING ⚠️ NMS time limit 2.800s exceeded\n"
     ]
    },
    {
     "name": "stderr",
     "output_type": "stream",
     "text": [
      "                 Class     Images  Instances      Box(P          R      mAP50  mAP50-95):  53%|█████▎    | 20/38 [05:45<04:37, 15.40s/it]"
     ]
    },
    {
     "name": "stdout",
     "output_type": "stream",
     "text": [
      "WARNING ⚠️ NMS time limit 2.800s exceeded\n"
     ]
    },
    {
     "name": "stderr",
     "output_type": "stream",
     "text": [
      "                 Class     Images  Instances      Box(P          R      mAP50  mAP50-95):  55%|█████▌    | 21/38 [06:06<04:48, 16.95s/it]"
     ]
    },
    {
     "name": "stdout",
     "output_type": "stream",
     "text": [
      "WARNING ⚠️ NMS time limit 2.800s exceeded\n"
     ]
    },
    {
     "name": "stderr",
     "output_type": "stream",
     "text": [
      "                 Class     Images  Instances      Box(P          R      mAP50  mAP50-95):  58%|█████▊    | 22/38 [06:23<04:32, 17.03s/it]"
     ]
    },
    {
     "name": "stdout",
     "output_type": "stream",
     "text": [
      "WARNING ⚠️ NMS time limit 2.800s exceeded\n"
     ]
    },
    {
     "name": "stderr",
     "output_type": "stream",
     "text": [
      "                 Class     Images  Instances      Box(P          R      mAP50  mAP50-95):  61%|██████    | 23/38 [06:40<04:15, 17.04s/it]"
     ]
    },
    {
     "name": "stdout",
     "output_type": "stream",
     "text": [
      "WARNING ⚠️ NMS time limit 2.800s exceeded\n"
     ]
    },
    {
     "name": "stderr",
     "output_type": "stream",
     "text": [
      "                 Class     Images  Instances      Box(P          R      mAP50  mAP50-95):  63%|██████▎   | 24/38 [06:55<03:51, 16.51s/it]"
     ]
    },
    {
     "name": "stdout",
     "output_type": "stream",
     "text": [
      "WARNING ⚠️ NMS time limit 2.800s exceeded\n"
     ]
    },
    {
     "name": "stderr",
     "output_type": "stream",
     "text": [
      "                 Class     Images  Instances      Box(P          R      mAP50  mAP50-95):  66%|██████▌   | 25/38 [07:09<03:22, 15.57s/it]"
     ]
    },
    {
     "name": "stdout",
     "output_type": "stream",
     "text": [
      "WARNING ⚠️ NMS time limit 2.800s exceeded\n"
     ]
    },
    {
     "name": "stderr",
     "output_type": "stream",
     "text": [
      "                 Class     Images  Instances      Box(P          R      mAP50  mAP50-95):  68%|██████▊   | 26/38 [07:25<03:09, 15.78s/it]"
     ]
    },
    {
     "name": "stdout",
     "output_type": "stream",
     "text": [
      "WARNING ⚠️ NMS time limit 2.800s exceeded\n"
     ]
    },
    {
     "name": "stderr",
     "output_type": "stream",
     "text": [
      "                 Class     Images  Instances      Box(P          R      mAP50  mAP50-95):  71%|███████   | 27/38 [07:42<02:57, 16.13s/it]"
     ]
    },
    {
     "name": "stdout",
     "output_type": "stream",
     "text": [
      "WARNING ⚠️ NMS time limit 2.800s exceeded\n"
     ]
    },
    {
     "name": "stderr",
     "output_type": "stream",
     "text": [
      "                 Class     Images  Instances      Box(P          R      mAP50  mAP50-95):  74%|███████▎  | 28/38 [08:01<02:49, 16.91s/it]"
     ]
    },
    {
     "name": "stdout",
     "output_type": "stream",
     "text": [
      "WARNING ⚠️ NMS time limit 2.800s exceeded\n"
     ]
    },
    {
     "name": "stderr",
     "output_type": "stream",
     "text": [
      "                 Class     Images  Instances      Box(P          R      mAP50  mAP50-95):  76%|███████▋  | 29/38 [08:18<02:32, 16.96s/it]"
     ]
    },
    {
     "name": "stdout",
     "output_type": "stream",
     "text": [
      "WARNING ⚠️ NMS time limit 2.800s exceeded\n"
     ]
    },
    {
     "name": "stderr",
     "output_type": "stream",
     "text": [
      "                 Class     Images  Instances      Box(P          R      mAP50  mAP50-95):  79%|███████▉  | 30/38 [08:33<02:12, 16.57s/it]"
     ]
    },
    {
     "name": "stdout",
     "output_type": "stream",
     "text": [
      "WARNING ⚠️ NMS time limit 2.800s exceeded\n"
     ]
    },
    {
     "name": "stderr",
     "output_type": "stream",
     "text": [
      "                 Class     Images  Instances      Box(P          R      mAP50  mAP50-95):  82%|████████▏ | 31/38 [08:53<02:03, 17.59s/it]"
     ]
    },
    {
     "name": "stdout",
     "output_type": "stream",
     "text": [
      "WARNING ⚠️ NMS time limit 2.800s exceeded\n"
     ]
    },
    {
     "name": "stderr",
     "output_type": "stream",
     "text": [
      "                 Class     Images  Instances      Box(P          R      mAP50  mAP50-95):  84%|████████▍ | 32/38 [09:10<01:44, 17.47s/it]"
     ]
    },
    {
     "name": "stdout",
     "output_type": "stream",
     "text": [
      "WARNING ⚠️ NMS time limit 2.800s exceeded\n"
     ]
    },
    {
     "name": "stderr",
     "output_type": "stream",
     "text": [
      "                 Class     Images  Instances      Box(P          R      mAP50  mAP50-95):  87%|████████▋ | 33/38 [09:25<01:23, 16.61s/it]"
     ]
    },
    {
     "name": "stdout",
     "output_type": "stream",
     "text": [
      "WARNING ⚠️ NMS time limit 2.800s exceeded\n"
     ]
    },
    {
     "name": "stderr",
     "output_type": "stream",
     "text": [
      "                 Class     Images  Instances      Box(P          R      mAP50  mAP50-95):  89%|████████▉ | 34/38 [09:43<01:08, 17.15s/it]"
     ]
    },
    {
     "name": "stdout",
     "output_type": "stream",
     "text": [
      "WARNING ⚠️ NMS time limit 2.800s exceeded\n"
     ]
    },
    {
     "name": "stderr",
     "output_type": "stream",
     "text": [
      "                 Class     Images  Instances      Box(P          R      mAP50  mAP50-95):  92%|█████████▏| 35/38 [10:04<00:54, 18.27s/it]"
     ]
    },
    {
     "name": "stdout",
     "output_type": "stream",
     "text": [
      "WARNING ⚠️ NMS time limit 2.800s exceeded\n"
     ]
    },
    {
     "name": "stderr",
     "output_type": "stream",
     "text": [
      "                 Class     Images  Instances      Box(P          R      mAP50  mAP50-95):  95%|█████████▍| 36/38 [10:25<00:37, 18.88s/it]"
     ]
    },
    {
     "name": "stdout",
     "output_type": "stream",
     "text": [
      "WARNING ⚠️ NMS time limit 2.800s exceeded\n"
     ]
    },
    {
     "name": "stderr",
     "output_type": "stream",
     "text": [
      "                 Class     Images  Instances      Box(P          R      mAP50  mAP50-95):  97%|█████████▋| 37/38 [10:43<00:18, 18.65s/it]"
     ]
    },
    {
     "name": "stdout",
     "output_type": "stream",
     "text": [
      "WARNING ⚠️ NMS time limit 2.300s exceeded\n"
     ]
    },
    {
     "name": "stderr",
     "output_type": "stream",
     "text": [
      "                 Class     Images  Instances      Box(P          R      mAP50  mAP50-95): 100%|██████████| 38/38 [10:59<00:00, 17.34s/it]\n"
     ]
    },
    {
     "name": "stdout",
     "output_type": "stream",
     "text": [
      "                   all        598       5432   7.49e-06   0.000319    7.1e-06   6.87e-06\n",
      "\n",
      "      Epoch    GPU_mem   box_loss   cls_loss   dfl_loss  Instances       Size\n"
     ]
    },
    {
     "name": "stderr",
     "output_type": "stream",
     "text": [
      "       2/10      12.6G     0.7833      7.284     0.9779         72        640: 100%|██████████| 299/299 [41:06<00:00,  8.25s/it]\n",
      "                 Class     Images  Instances      Box(P          R      mAP50  mAP50-95):   0%|          | 0/38 [00:00<?, ?it/s]"
     ]
    },
    {
     "name": "stdout",
     "output_type": "stream",
     "text": [
      "WARNING ⚠️ NMS time limit 2.800s exceeded\n"
     ]
    },
    {
     "name": "stderr",
     "output_type": "stream",
     "text": [
      "                 Class     Images  Instances      Box(P          R      mAP50  mAP50-95):   3%|▎         | 1/38 [00:23<14:31, 23.55s/it]"
     ]
    },
    {
     "name": "stdout",
     "output_type": "stream",
     "text": [
      "WARNING ⚠️ NMS time limit 2.800s exceeded\n"
     ]
    },
    {
     "name": "stderr",
     "output_type": "stream",
     "text": [
      "                 Class     Images  Instances      Box(P          R      mAP50  mAP50-95):   5%|▌         | 2/38 [00:41<12:06, 20.19s/it]"
     ]
    },
    {
     "name": "stdout",
     "output_type": "stream",
     "text": [
      "WARNING ⚠️ NMS time limit 2.800s exceeded\n"
     ]
    },
    {
     "name": "stderr",
     "output_type": "stream",
     "text": [
      "                 Class     Images  Instances      Box(P          R      mAP50  mAP50-95):   8%|▊         | 3/38 [01:02<12:06, 20.74s/it]"
     ]
    },
    {
     "name": "stdout",
     "output_type": "stream",
     "text": [
      "WARNING ⚠️ NMS time limit 2.800s exceeded\n"
     ]
    },
    {
     "name": "stderr",
     "output_type": "stream",
     "text": [
      "                 Class     Images  Instances      Box(P          R      mAP50  mAP50-95):  11%|█         | 4/38 [01:19<10:53, 19.21s/it]"
     ]
    },
    {
     "name": "stdout",
     "output_type": "stream",
     "text": [
      "WARNING ⚠️ NMS time limit 2.800s exceeded\n"
     ]
    },
    {
     "name": "stderr",
     "output_type": "stream",
     "text": [
      "                 Class     Images  Instances      Box(P          R      mAP50  mAP50-95):  13%|█▎        | 5/38 [01:45<11:55, 21.69s/it]"
     ]
    },
    {
     "name": "stdout",
     "output_type": "stream",
     "text": [
      "WARNING ⚠️ NMS time limit 2.800s exceeded\n"
     ]
    },
    {
     "name": "stderr",
     "output_type": "stream",
     "text": [
      "                 Class     Images  Instances      Box(P          R      mAP50  mAP50-95):  16%|█▌        | 6/38 [02:08<11:49, 22.17s/it]"
     ]
    },
    {
     "name": "stdout",
     "output_type": "stream",
     "text": [
      "WARNING ⚠️ NMS time limit 2.800s exceeded\n"
     ]
    },
    {
     "name": "stderr",
     "output_type": "stream",
     "text": [
      "                 Class     Images  Instances      Box(P          R      mAP50  mAP50-95):  18%|█▊        | 7/38 [02:28<10:57, 21.22s/it]"
     ]
    },
    {
     "name": "stdout",
     "output_type": "stream",
     "text": [
      "WARNING ⚠️ NMS time limit 2.800s exceeded\n"
     ]
    },
    {
     "name": "stderr",
     "output_type": "stream",
     "text": [
      "                 Class     Images  Instances      Box(P          R      mAP50  mAP50-95):  21%|██        | 8/38 [02:49<10:35, 21.18s/it]"
     ]
    },
    {
     "name": "stdout",
     "output_type": "stream",
     "text": [
      "WARNING ⚠️ NMS time limit 2.800s exceeded\n"
     ]
    },
    {
     "name": "stderr",
     "output_type": "stream",
     "text": [
      "                 Class     Images  Instances      Box(P          R      mAP50  mAP50-95):  24%|██▎       | 9/38 [03:05<09:28, 19.60s/it]"
     ]
    },
    {
     "name": "stdout",
     "output_type": "stream",
     "text": [
      "WARNING ⚠️ NMS time limit 2.800s exceeded\n"
     ]
    },
    {
     "name": "stderr",
     "output_type": "stream",
     "text": [
      "                 Class     Images  Instances      Box(P          R      mAP50  mAP50-95):  26%|██▋       | 10/38 [03:20<08:28, 18.17s/it]"
     ]
    },
    {
     "name": "stdout",
     "output_type": "stream",
     "text": [
      "WARNING ⚠️ NMS time limit 2.800s exceeded\n"
     ]
    },
    {
     "name": "stderr",
     "output_type": "stream",
     "text": [
      "                 Class     Images  Instances      Box(P          R      mAP50  mAP50-95):  29%|██▉       | 11/38 [03:41<08:33, 19.01s/it]"
     ]
    },
    {
     "name": "stdout",
     "output_type": "stream",
     "text": [
      "WARNING ⚠️ NMS time limit 2.800s exceeded\n"
     ]
    },
    {
     "name": "stderr",
     "output_type": "stream",
     "text": [
      "                 Class     Images  Instances      Box(P          R      mAP50  mAP50-95):  32%|███▏      | 12/38 [04:01<08:23, 19.38s/it]"
     ]
    },
    {
     "name": "stdout",
     "output_type": "stream",
     "text": [
      "WARNING ⚠️ NMS time limit 2.800s exceeded\n"
     ]
    },
    {
     "name": "stderr",
     "output_type": "stream",
     "text": [
      "                 Class     Images  Instances      Box(P          R      mAP50  mAP50-95):  34%|███▍      | 13/38 [04:22<08:17, 19.89s/it]"
     ]
    },
    {
     "name": "stdout",
     "output_type": "stream",
     "text": [
      "WARNING ⚠️ NMS time limit 2.800s exceeded\n"
     ]
    },
    {
     "name": "stderr",
     "output_type": "stream",
     "text": [
      "                 Class     Images  Instances      Box(P          R      mAP50  mAP50-95):  37%|███▋      | 14/38 [04:42<08:01, 20.05s/it]"
     ]
    },
    {
     "name": "stdout",
     "output_type": "stream",
     "text": [
      "WARNING ⚠️ NMS time limit 2.800s exceeded\n"
     ]
    },
    {
     "name": "stderr",
     "output_type": "stream",
     "text": [
      "                 Class     Images  Instances      Box(P          R      mAP50  mAP50-95):  39%|███▉      | 15/38 [04:59<07:14, 18.90s/it]"
     ]
    },
    {
     "name": "stdout",
     "output_type": "stream",
     "text": [
      "WARNING ⚠️ NMS time limit 2.800s exceeded\n"
     ]
    },
    {
     "name": "stderr",
     "output_type": "stream",
     "text": [
      "                 Class     Images  Instances      Box(P          R      mAP50  mAP50-95):  42%|████▏     | 16/38 [05:16<06:45, 18.42s/it]"
     ]
    },
    {
     "name": "stdout",
     "output_type": "stream",
     "text": [
      "WARNING ⚠️ NMS time limit 2.800s exceeded\n"
     ]
    },
    {
     "name": "stderr",
     "output_type": "stream",
     "text": [
      "                 Class     Images  Instances      Box(P          R      mAP50  mAP50-95):  45%|████▍     | 17/38 [05:33<06:19, 18.09s/it]"
     ]
    },
    {
     "name": "stdout",
     "output_type": "stream",
     "text": [
      "WARNING ⚠️ NMS time limit 2.800s exceeded\n"
     ]
    },
    {
     "name": "stderr",
     "output_type": "stream",
     "text": [
      "                 Class     Images  Instances      Box(P          R      mAP50  mAP50-95):  47%|████▋     | 18/38 [05:49<05:49, 17.47s/it]"
     ]
    },
    {
     "name": "stdout",
     "output_type": "stream",
     "text": [
      "WARNING ⚠️ NMS time limit 2.800s exceeded\n"
     ]
    },
    {
     "name": "stderr",
     "output_type": "stream",
     "text": [
      "                 Class     Images  Instances      Box(P          R      mAP50  mAP50-95):  50%|█████     | 19/38 [06:09<05:43, 18.06s/it]"
     ]
    },
    {
     "name": "stdout",
     "output_type": "stream",
     "text": [
      "WARNING ⚠️ NMS time limit 2.800s exceeded\n"
     ]
    },
    {
     "name": "stderr",
     "output_type": "stream",
     "text": [
      "                 Class     Images  Instances      Box(P          R      mAP50  mAP50-95):  53%|█████▎    | 20/38 [06:29<05:35, 18.63s/it]"
     ]
    },
    {
     "name": "stdout",
     "output_type": "stream",
     "text": [
      "WARNING ⚠️ NMS time limit 2.800s exceeded\n"
     ]
    },
    {
     "name": "stderr",
     "output_type": "stream",
     "text": [
      "                 Class     Images  Instances      Box(P          R      mAP50  mAP50-95):  55%|█████▌    | 21/38 [06:48<05:19, 18.79s/it]"
     ]
    },
    {
     "name": "stdout",
     "output_type": "stream",
     "text": [
      "WARNING ⚠️ NMS time limit 2.800s exceeded\n"
     ]
    },
    {
     "name": "stderr",
     "output_type": "stream",
     "text": [
      "                 Class     Images  Instances      Box(P          R      mAP50  mAP50-95):  58%|█████▊    | 22/38 [07:03<04:43, 17.69s/it]"
     ]
    },
    {
     "name": "stdout",
     "output_type": "stream",
     "text": [
      "WARNING ⚠️ NMS time limit 2.800s exceeded\n"
     ]
    },
    {
     "name": "stderr",
     "output_type": "stream",
     "text": [
      "                 Class     Images  Instances      Box(P          R      mAP50  mAP50-95):  61%|██████    | 23/38 [07:20<04:21, 17.41s/it]"
     ]
    },
    {
     "name": "stdout",
     "output_type": "stream",
     "text": [
      "WARNING ⚠️ NMS time limit 2.800s exceeded\n"
     ]
    },
    {
     "name": "stderr",
     "output_type": "stream",
     "text": [
      "                 Class     Images  Instances      Box(P          R      mAP50  mAP50-95):  63%|██████▎   | 24/38 [07:42<04:24, 18.88s/it]"
     ]
    },
    {
     "name": "stdout",
     "output_type": "stream",
     "text": [
      "WARNING ⚠️ NMS time limit 2.800s exceeded\n"
     ]
    },
    {
     "name": "stderr",
     "output_type": "stream",
     "text": [
      "                 Class     Images  Instances      Box(P          R      mAP50  mAP50-95):  66%|██████▌   | 25/38 [08:01<04:06, 18.95s/it]"
     ]
    },
    {
     "name": "stdout",
     "output_type": "stream",
     "text": [
      "WARNING ⚠️ NMS time limit 2.800s exceeded\n"
     ]
    },
    {
     "name": "stderr",
     "output_type": "stream",
     "text": [
      "                 Class     Images  Instances      Box(P          R      mAP50  mAP50-95):  68%|██████▊   | 26/38 [08:21<03:51, 19.32s/it]"
     ]
    },
    {
     "name": "stdout",
     "output_type": "stream",
     "text": [
      "WARNING ⚠️ NMS time limit 2.800s exceeded\n"
     ]
    },
    {
     "name": "stderr",
     "output_type": "stream",
     "text": [
      "                 Class     Images  Instances      Box(P          R      mAP50  mAP50-95):  71%|███████   | 27/38 [08:38<03:22, 18.43s/it]"
     ]
    },
    {
     "name": "stdout",
     "output_type": "stream",
     "text": [
      "WARNING ⚠️ NMS time limit 2.800s exceeded\n"
     ]
    },
    {
     "name": "stderr",
     "output_type": "stream",
     "text": [
      "                 Class     Images  Instances      Box(P          R      mAP50  mAP50-95):  74%|███████▎  | 28/38 [09:00<03:16, 19.63s/it]"
     ]
    },
    {
     "name": "stdout",
     "output_type": "stream",
     "text": [
      "WARNING ⚠️ NMS time limit 2.800s exceeded\n"
     ]
    },
    {
     "name": "stderr",
     "output_type": "stream",
     "text": [
      "                 Class     Images  Instances      Box(P          R      mAP50  mAP50-95):  76%|███████▋  | 29/38 [09:17<02:48, 18.74s/it]"
     ]
    },
    {
     "name": "stdout",
     "output_type": "stream",
     "text": [
      "WARNING ⚠️ NMS time limit 2.800s exceeded\n"
     ]
    },
    {
     "name": "stderr",
     "output_type": "stream",
     "text": [
      "                 Class     Images  Instances      Box(P          R      mAP50  mAP50-95):  79%|███████▉  | 30/38 [09:32<02:22, 17.82s/it]"
     ]
    },
    {
     "name": "stdout",
     "output_type": "stream",
     "text": [
      "WARNING ⚠️ NMS time limit 2.800s exceeded\n"
     ]
    },
    {
     "name": "stderr",
     "output_type": "stream",
     "text": [
      "                 Class     Images  Instances      Box(P          R      mAP50  mAP50-95):  82%|████████▏ | 31/38 [09:55<02:13, 19.09s/it]"
     ]
    },
    {
     "name": "stdout",
     "output_type": "stream",
     "text": [
      "WARNING ⚠️ NMS time limit 2.800s exceeded\n"
     ]
    },
    {
     "name": "stderr",
     "output_type": "stream",
     "text": [
      "                 Class     Images  Instances      Box(P          R      mAP50  mAP50-95):  84%|████████▍ | 32/38 [10:19<02:03, 20.60s/it]"
     ]
    },
    {
     "name": "stdout",
     "output_type": "stream",
     "text": [
      "WARNING ⚠️ NMS time limit 2.800s exceeded\n"
     ]
    },
    {
     "name": "stderr",
     "output_type": "stream",
     "text": [
      "                 Class     Images  Instances      Box(P          R      mAP50  mAP50-95):  87%|████████▋ | 33/38 [10:44<01:49, 21.93s/it]"
     ]
    },
    {
     "name": "stdout",
     "output_type": "stream",
     "text": [
      "WARNING ⚠️ NMS time limit 2.800s exceeded\n"
     ]
    },
    {
     "name": "stderr",
     "output_type": "stream",
     "text": [
      "                 Class     Images  Instances      Box(P          R      mAP50  mAP50-95):  89%|████████▉ | 34/38 [11:07<01:29, 22.26s/it]"
     ]
    },
    {
     "name": "stdout",
     "output_type": "stream",
     "text": [
      "WARNING ⚠️ NMS time limit 2.800s exceeded\n"
     ]
    },
    {
     "name": "stderr",
     "output_type": "stream",
     "text": [
      "                 Class     Images  Instances      Box(P          R      mAP50  mAP50-95):  92%|█████████▏| 35/38 [11:34<01:11, 23.77s/it]"
     ]
    },
    {
     "name": "stdout",
     "output_type": "stream",
     "text": [
      "WARNING ⚠️ NMS time limit 2.800s exceeded\n"
     ]
    },
    {
     "name": "stderr",
     "output_type": "stream",
     "text": [
      "                 Class     Images  Instances      Box(P          R      mAP50  mAP50-95):  95%|█████████▍| 36/38 [11:54<00:45, 22.78s/it]"
     ]
    },
    {
     "name": "stdout",
     "output_type": "stream",
     "text": [
      "WARNING ⚠️ NMS time limit 2.800s exceeded\n"
     ]
    },
    {
     "name": "stderr",
     "output_type": "stream",
     "text": [
      "                 Class     Images  Instances      Box(P          R      mAP50  mAP50-95):  97%|█████████▋| 37/38 [12:14<00:21, 21.70s/it]"
     ]
    },
    {
     "name": "stdout",
     "output_type": "stream",
     "text": [
      "WARNING ⚠️ NMS time limit 2.300s exceeded\n"
     ]
    },
    {
     "name": "stderr",
     "output_type": "stream",
     "text": [
      "                 Class     Images  Instances      Box(P          R      mAP50  mAP50-95): 100%|██████████| 38/38 [12:20<00:00, 19.47s/it]\n"
     ]
    },
    {
     "name": "stdout",
     "output_type": "stream",
     "text": [
      "                   all        598       5432   0.000142    0.00176   0.000101    8.1e-05\n",
      "\n",
      "      Epoch    GPU_mem   box_loss   cls_loss   dfl_loss  Instances       Size\n"
     ]
    },
    {
     "name": "stderr",
     "output_type": "stream",
     "text": [
      "       3/10      12.6G      0.709      7.017     0.9479         83        640: 100%|██████████| 299/299 [45:37<00:00,  9.16s/it]\n",
      "                 Class     Images  Instances      Box(P          R      mAP50  mAP50-95):   0%|          | 0/38 [00:00<?, ?it/s]"
     ]
    },
    {
     "name": "stdout",
     "output_type": "stream",
     "text": [
      "WARNING ⚠️ NMS time limit 2.800s exceeded\n"
     ]
    },
    {
     "name": "stderr",
     "output_type": "stream",
     "text": [
      "                 Class     Images  Instances      Box(P          R      mAP50  mAP50-95):   3%|▎         | 1/38 [00:21<13:17, 21.55s/it]"
     ]
    },
    {
     "name": "stdout",
     "output_type": "stream",
     "text": [
      "WARNING ⚠️ NMS time limit 2.800s exceeded\n"
     ]
    },
    {
     "name": "stderr",
     "output_type": "stream",
     "text": [
      "                 Class     Images  Instances      Box(P          R      mAP50  mAP50-95):   5%|▌         | 2/38 [00:50<15:23, 25.65s/it]"
     ]
    },
    {
     "name": "stdout",
     "output_type": "stream",
     "text": [
      "WARNING ⚠️ NMS time limit 2.800s exceeded\n"
     ]
    },
    {
     "name": "stderr",
     "output_type": "stream",
     "text": [
      "                 Class     Images  Instances      Box(P          R      mAP50  mAP50-95):   8%|▊         | 3/38 [01:12<14:03, 24.11s/it]"
     ]
    },
    {
     "name": "stdout",
     "output_type": "stream",
     "text": [
      "WARNING ⚠️ NMS time limit 2.800s exceeded\n"
     ]
    },
    {
     "name": "stderr",
     "output_type": "stream",
     "text": [
      "                 Class     Images  Instances      Box(P          R      mAP50  mAP50-95):  11%|█         | 4/38 [01:35<13:24, 23.66s/it]"
     ]
    },
    {
     "name": "stdout",
     "output_type": "stream",
     "text": [
      "WARNING ⚠️ NMS time limit 2.800s exceeded\n"
     ]
    },
    {
     "name": "stderr",
     "output_type": "stream",
     "text": [
      "                 Class     Images  Instances      Box(P          R      mAP50  mAP50-95):  13%|█▎        | 5/38 [01:55<12:23, 22.52s/it]"
     ]
    },
    {
     "name": "stdout",
     "output_type": "stream",
     "text": [
      "WARNING ⚠️ NMS time limit 2.800s exceeded\n"
     ]
    },
    {
     "name": "stderr",
     "output_type": "stream",
     "text": [
      "                 Class     Images  Instances      Box(P          R      mAP50  mAP50-95):  16%|█▌        | 6/38 [02:19<12:18, 23.07s/it]"
     ]
    },
    {
     "name": "stdout",
     "output_type": "stream",
     "text": [
      "WARNING ⚠️ NMS time limit 2.800s exceeded\n"
     ]
    },
    {
     "name": "stderr",
     "output_type": "stream",
     "text": [
      "                 Class     Images  Instances      Box(P          R      mAP50  mAP50-95):  18%|█▊        | 7/38 [02:42<11:48, 22.87s/it]"
     ]
    },
    {
     "name": "stdout",
     "output_type": "stream",
     "text": [
      "WARNING ⚠️ NMS time limit 2.800s exceeded\n"
     ]
    },
    {
     "name": "stderr",
     "output_type": "stream",
     "text": [
      "                 Class     Images  Instances      Box(P          R      mAP50  mAP50-95):  21%|██        | 8/38 [03:03<11:11, 22.38s/it]"
     ]
    },
    {
     "name": "stdout",
     "output_type": "stream",
     "text": [
      "WARNING ⚠️ NMS time limit 2.800s exceeded\n"
     ]
    },
    {
     "name": "stderr",
     "output_type": "stream",
     "text": [
      "                 Class     Images  Instances      Box(P          R      mAP50  mAP50-95):  24%|██▎       | 9/38 [03:23<10:27, 21.64s/it]"
     ]
    },
    {
     "name": "stdout",
     "output_type": "stream",
     "text": [
      "WARNING ⚠️ NMS time limit 2.800s exceeded\n"
     ]
    },
    {
     "name": "stderr",
     "output_type": "stream",
     "text": [
      "                 Class     Images  Instances      Box(P          R      mAP50  mAP50-95):  26%|██▋       | 10/38 [03:46<10:12, 21.86s/it]"
     ]
    },
    {
     "name": "stdout",
     "output_type": "stream",
     "text": [
      "WARNING ⚠️ NMS time limit 2.800s exceeded\n"
     ]
    },
    {
     "name": "stderr",
     "output_type": "stream",
     "text": [
      "                 Class     Images  Instances      Box(P          R      mAP50  mAP50-95):  29%|██▉       | 11/38 [04:12<10:24, 23.13s/it]"
     ]
    },
    {
     "name": "stdout",
     "output_type": "stream",
     "text": [
      "WARNING ⚠️ NMS time limit 2.800s exceeded\n"
     ]
    },
    {
     "name": "stderr",
     "output_type": "stream",
     "text": [
      "                 Class     Images  Instances      Box(P          R      mAP50  mAP50-95):  32%|███▏      | 12/38 [04:32<09:39, 22.30s/it]"
     ]
    },
    {
     "name": "stdout",
     "output_type": "stream",
     "text": [
      "WARNING ⚠️ NMS time limit 2.800s exceeded\n"
     ]
    },
    {
     "name": "stderr",
     "output_type": "stream",
     "text": [
      "                 Class     Images  Instances      Box(P          R      mAP50  mAP50-95):  34%|███▍      | 13/38 [04:55<09:20, 22.44s/it]"
     ]
    },
    {
     "name": "stdout",
     "output_type": "stream",
     "text": [
      "WARNING ⚠️ NMS time limit 2.800s exceeded\n"
     ]
    },
    {
     "name": "stderr",
     "output_type": "stream",
     "text": [
      "                 Class     Images  Instances      Box(P          R      mAP50  mAP50-95):  37%|███▋      | 14/38 [05:19<09:08, 22.84s/it]"
     ]
    },
    {
     "name": "stdout",
     "output_type": "stream",
     "text": [
      "WARNING ⚠️ NMS time limit 2.800s exceeded\n"
     ]
    },
    {
     "name": "stderr",
     "output_type": "stream",
     "text": [
      "                 Class     Images  Instances      Box(P          R      mAP50  mAP50-95):  39%|███▉      | 15/38 [05:38<08:23, 21.88s/it]"
     ]
    },
    {
     "name": "stdout",
     "output_type": "stream",
     "text": [
      "WARNING ⚠️ NMS time limit 2.800s exceeded\n"
     ]
    },
    {
     "name": "stderr",
     "output_type": "stream",
     "text": [
      "                 Class     Images  Instances      Box(P          R      mAP50  mAP50-95):  42%|████▏     | 16/38 [05:57<07:41, 20.98s/it]"
     ]
    },
    {
     "name": "stdout",
     "output_type": "stream",
     "text": [
      "WARNING ⚠️ NMS time limit 2.800s exceeded\n"
     ]
    },
    {
     "name": "stderr",
     "output_type": "stream",
     "text": [
      "                 Class     Images  Instances      Box(P          R      mAP50  mAP50-95):  45%|████▍     | 17/38 [06:18<07:18, 20.87s/it]"
     ]
    },
    {
     "name": "stdout",
     "output_type": "stream",
     "text": [
      "WARNING ⚠️ NMS time limit 2.800s exceeded\n"
     ]
    },
    {
     "name": "stderr",
     "output_type": "stream",
     "text": [
      "                 Class     Images  Instances      Box(P          R      mAP50  mAP50-95):  47%|████▋     | 18/38 [06:37<06:49, 20.45s/it]"
     ]
    },
    {
     "name": "stdout",
     "output_type": "stream",
     "text": [
      "WARNING ⚠️ NMS time limit 2.800s exceeded\n"
     ]
    },
    {
     "name": "stderr",
     "output_type": "stream",
     "text": [
      "                 Class     Images  Instances      Box(P          R      mAP50  mAP50-95):  50%|█████     | 19/38 [07:00<06:41, 21.11s/it]"
     ]
    },
    {
     "name": "stdout",
     "output_type": "stream",
     "text": [
      "WARNING ⚠️ NMS time limit 2.800s exceeded\n"
     ]
    },
    {
     "name": "stderr",
     "output_type": "stream",
     "text": [
      "                 Class     Images  Instances      Box(P          R      mAP50  mAP50-95):  53%|█████▎    | 20/38 [07:22<06:24, 21.38s/it]"
     ]
    },
    {
     "name": "stdout",
     "output_type": "stream",
     "text": [
      "WARNING ⚠️ NMS time limit 2.800s exceeded\n"
     ]
    },
    {
     "name": "stderr",
     "output_type": "stream",
     "text": [
      "                 Class     Images  Instances      Box(P          R      mAP50  mAP50-95):  55%|█████▌    | 21/38 [07:44<06:08, 21.67s/it]"
     ]
    },
    {
     "name": "stdout",
     "output_type": "stream",
     "text": [
      "WARNING ⚠️ NMS time limit 2.800s exceeded\n"
     ]
    },
    {
     "name": "stderr",
     "output_type": "stream",
     "text": [
      "                 Class     Images  Instances      Box(P          R      mAP50  mAP50-95):  58%|█████▊    | 22/38 [08:00<05:19, 19.94s/it]"
     ]
    },
    {
     "name": "stdout",
     "output_type": "stream",
     "text": [
      "WARNING ⚠️ NMS time limit 2.800s exceeded\n"
     ]
    },
    {
     "name": "stderr",
     "output_type": "stream",
     "text": [
      "                 Class     Images  Instances      Box(P          R      mAP50  mAP50-95):  61%|██████    | 23/38 [08:21<05:04, 20.27s/it]"
     ]
    },
    {
     "name": "stdout",
     "output_type": "stream",
     "text": [
      "WARNING ⚠️ NMS time limit 2.800s exceeded\n"
     ]
    },
    {
     "name": "stderr",
     "output_type": "stream",
     "text": [
      "                 Class     Images  Instances      Box(P          R      mAP50  mAP50-95):  63%|██████▎   | 24/38 [08:39<04:33, 19.57s/it]"
     ]
    },
    {
     "name": "stdout",
     "output_type": "stream",
     "text": [
      "WARNING ⚠️ NMS time limit 2.800s exceeded\n"
     ]
    },
    {
     "name": "stderr",
     "output_type": "stream",
     "text": [
      "                 Class     Images  Instances      Box(P          R      mAP50  mAP50-95):  66%|██████▌   | 25/38 [09:01<04:24, 20.31s/it]"
     ]
    },
    {
     "name": "stdout",
     "output_type": "stream",
     "text": [
      "WARNING ⚠️ NMS time limit 2.800s exceeded\n"
     ]
    },
    {
     "name": "stderr",
     "output_type": "stream",
     "text": [
      "                 Class     Images  Instances      Box(P          R      mAP50  mAP50-95):  68%|██████▊   | 26/38 [09:28<04:25, 22.16s/it]"
     ]
    },
    {
     "name": "stdout",
     "output_type": "stream",
     "text": [
      "WARNING ⚠️ NMS time limit 2.800s exceeded\n"
     ]
    },
    {
     "name": "stderr",
     "output_type": "stream",
     "text": [
      "                 Class     Images  Instances      Box(P          R      mAP50  mAP50-95):  71%|███████   | 27/38 [09:52<04:12, 22.98s/it]"
     ]
    },
    {
     "name": "stdout",
     "output_type": "stream",
     "text": [
      "WARNING ⚠️ NMS time limit 2.800s exceeded\n"
     ]
    },
    {
     "name": "stderr",
     "output_type": "stream",
     "text": [
      "                 Class     Images  Instances      Box(P          R      mAP50  mAP50-95):  74%|███████▎  | 28/38 [10:17<03:54, 23.47s/it]"
     ]
    },
    {
     "name": "stdout",
     "output_type": "stream",
     "text": [
      "WARNING ⚠️ NMS time limit 2.800s exceeded\n"
     ]
    },
    {
     "name": "stderr",
     "output_type": "stream",
     "text": [
      "                 Class     Images  Instances      Box(P          R      mAP50  mAP50-95):  76%|███████▋  | 29/38 [10:37<03:21, 22.37s/it]"
     ]
    },
    {
     "name": "stdout",
     "output_type": "stream",
     "text": [
      "WARNING ⚠️ NMS time limit 2.800s exceeded\n"
     ]
    },
    {
     "name": "stderr",
     "output_type": "stream",
     "text": [
      "                 Class     Images  Instances      Box(P          R      mAP50  mAP50-95):  79%|███████▉  | 30/38 [10:57<02:53, 21.74s/it]"
     ]
    },
    {
     "name": "stdout",
     "output_type": "stream",
     "text": [
      "WARNING ⚠️ NMS time limit 2.800s exceeded\n"
     ]
    },
    {
     "name": "stderr",
     "output_type": "stream",
     "text": [
      "                 Class     Images  Instances      Box(P          R      mAP50  mAP50-95):  82%|████████▏ | 31/38 [11:17<02:27, 21.02s/it]"
     ]
    },
    {
     "name": "stdout",
     "output_type": "stream",
     "text": [
      "WARNING ⚠️ NMS time limit 2.800s exceeded\n"
     ]
    },
    {
     "name": "stderr",
     "output_type": "stream",
     "text": [
      "                 Class     Images  Instances      Box(P          R      mAP50  mAP50-95):  84%|████████▍ | 32/38 [11:39<02:09, 21.56s/it]"
     ]
    },
    {
     "name": "stdout",
     "output_type": "stream",
     "text": [
      "WARNING ⚠️ NMS time limit 2.800s exceeded\n"
     ]
    },
    {
     "name": "stderr",
     "output_type": "stream",
     "text": [
      "                 Class     Images  Instances      Box(P          R      mAP50  mAP50-95):  87%|████████▋ | 33/38 [11:59<01:45, 21.06s/it]"
     ]
    },
    {
     "name": "stdout",
     "output_type": "stream",
     "text": [
      "WARNING ⚠️ NMS time limit 2.800s exceeded\n"
     ]
    },
    {
     "name": "stderr",
     "output_type": "stream",
     "text": [
      "                 Class     Images  Instances      Box(P          R      mAP50  mAP50-95):  89%|████████▉ | 34/38 [12:20<01:23, 20.94s/it]"
     ]
    },
    {
     "name": "stdout",
     "output_type": "stream",
     "text": [
      "WARNING ⚠️ NMS time limit 2.800s exceeded\n"
     ]
    },
    {
     "name": "stderr",
     "output_type": "stream",
     "text": [
      "                 Class     Images  Instances      Box(P          R      mAP50  mAP50-95):  92%|█████████▏| 35/38 [12:39<01:01, 20.44s/it]"
     ]
    },
    {
     "name": "stdout",
     "output_type": "stream",
     "text": [
      "WARNING ⚠️ NMS time limit 2.800s exceeded\n"
     ]
    },
    {
     "name": "stderr",
     "output_type": "stream",
     "text": [
      "                 Class     Images  Instances      Box(P          R      mAP50  mAP50-95):  95%|█████████▍| 36/38 [12:57<00:39, 19.59s/it]"
     ]
    },
    {
     "name": "stdout",
     "output_type": "stream",
     "text": [
      "WARNING ⚠️ NMS time limit 2.800s exceeded\n"
     ]
    },
    {
     "name": "stderr",
     "output_type": "stream",
     "text": [
      "                 Class     Images  Instances      Box(P          R      mAP50  mAP50-95):  97%|█████████▋| 37/38 [13:14<00:18, 18.84s/it]"
     ]
    },
    {
     "name": "stdout",
     "output_type": "stream",
     "text": [
      "WARNING ⚠️ NMS time limit 2.300s exceeded\n"
     ]
    },
    {
     "name": "stderr",
     "output_type": "stream",
     "text": [
      "                 Class     Images  Instances      Box(P          R      mAP50  mAP50-95): 100%|██████████| 38/38 [13:21<00:00, 21.10s/it]\n"
     ]
    },
    {
     "name": "stdout",
     "output_type": "stream",
     "text": [
      "                   all        598       5432   4.45e-06   0.000383   5.77e-06   5.77e-06\n",
      "\n",
      "      Epoch    GPU_mem   box_loss   cls_loss   dfl_loss  Instances       Size\n"
     ]
    },
    {
     "name": "stderr",
     "output_type": "stream",
     "text": [
      "       4/10      12.6G     0.6762      6.885     0.9334         73        640: 100%|██████████| 299/299 [44:07<00:00,  8.85s/it]\n",
      "                 Class     Images  Instances      Box(P          R      mAP50  mAP50-95):   0%|          | 0/38 [00:00<?, ?it/s]"
     ]
    },
    {
     "name": "stdout",
     "output_type": "stream",
     "text": [
      "WARNING ⚠️ NMS time limit 2.800s exceeded\n"
     ]
    },
    {
     "name": "stderr",
     "output_type": "stream",
     "text": [
      "                 Class     Images  Instances      Box(P          R      mAP50  mAP50-95):   3%|▎         | 1/38 [00:22<13:58, 22.65s/it]"
     ]
    },
    {
     "name": "stdout",
     "output_type": "stream",
     "text": [
      "WARNING ⚠️ NMS time limit 2.800s exceeded\n"
     ]
    },
    {
     "name": "stderr",
     "output_type": "stream",
     "text": [
      "                 Class     Images  Instances      Box(P          R      mAP50  mAP50-95):   5%|▌         | 2/38 [00:47<14:23, 24.00s/it]"
     ]
    },
    {
     "name": "stdout",
     "output_type": "stream",
     "text": [
      "WARNING ⚠️ NMS time limit 2.800s exceeded\n"
     ]
    },
    {
     "name": "stderr",
     "output_type": "stream",
     "text": [
      "                 Class     Images  Instances      Box(P          R      mAP50  mAP50-95):   8%|▊         | 3/38 [01:06<12:42, 21.79s/it]"
     ]
    },
    {
     "name": "stdout",
     "output_type": "stream",
     "text": [
      "WARNING ⚠️ NMS time limit 2.800s exceeded\n"
     ]
    },
    {
     "name": "stderr",
     "output_type": "stream",
     "text": [
      "                 Class     Images  Instances      Box(P          R      mAP50  mAP50-95):  11%|█         | 4/38 [01:31<13:05, 23.10s/it]"
     ]
    },
    {
     "name": "stdout",
     "output_type": "stream",
     "text": [
      "WARNING ⚠️ NMS time limit 2.800s exceeded\n"
     ]
    },
    {
     "name": "stderr",
     "output_type": "stream",
     "text": [
      "                 Class     Images  Instances      Box(P          R      mAP50  mAP50-95):  13%|█▎        | 5/38 [01:59<13:36, 24.74s/it]"
     ]
    },
    {
     "name": "stdout",
     "output_type": "stream",
     "text": [
      "WARNING ⚠️ NMS time limit 2.800s exceeded\n"
     ]
    },
    {
     "name": "stderr",
     "output_type": "stream",
     "text": [
      "                 Class     Images  Instances      Box(P          R      mAP50  mAP50-95):  16%|█▌        | 6/38 [02:28<13:53, 26.04s/it]"
     ]
    },
    {
     "name": "stdout",
     "output_type": "stream",
     "text": [
      "WARNING ⚠️ NMS time limit 2.800s exceeded\n"
     ]
    },
    {
     "name": "stderr",
     "output_type": "stream",
     "text": [
      "                 Class     Images  Instances      Box(P          R      mAP50  mAP50-95):  18%|█▊        | 7/38 [02:55<13:38, 26.40s/it]"
     ]
    },
    {
     "name": "stdout",
     "output_type": "stream",
     "text": [
      "WARNING ⚠️ NMS time limit 2.800s exceeded\n"
     ]
    },
    {
     "name": "stderr",
     "output_type": "stream",
     "text": [
      "                 Class     Images  Instances      Box(P          R      mAP50  mAP50-95):  21%|██        | 8/38 [03:22<13:22, 26.74s/it]"
     ]
    },
    {
     "name": "stdout",
     "output_type": "stream",
     "text": [
      "WARNING ⚠️ NMS time limit 2.800s exceeded\n"
     ]
    },
    {
     "name": "stderr",
     "output_type": "stream",
     "text": [
      "                 Class     Images  Instances      Box(P          R      mAP50  mAP50-95):  24%|██▎       | 9/38 [03:47<12:35, 26.04s/it]"
     ]
    },
    {
     "name": "stdout",
     "output_type": "stream",
     "text": [
      "WARNING ⚠️ NMS time limit 2.800s exceeded\n"
     ]
    },
    {
     "name": "stderr",
     "output_type": "stream",
     "text": [
      "                 Class     Images  Instances      Box(P          R      mAP50  mAP50-95):  26%|██▋       | 10/38 [04:14<12:18, 26.37s/it]"
     ]
    },
    {
     "name": "stdout",
     "output_type": "stream",
     "text": [
      "WARNING ⚠️ NMS time limit 2.800s exceeded\n"
     ]
    },
    {
     "name": "stderr",
     "output_type": "stream",
     "text": [
      "                 Class     Images  Instances      Box(P          R      mAP50  mAP50-95):  29%|██▉       | 11/38 [04:41<11:57, 26.57s/it]"
     ]
    },
    {
     "name": "stdout",
     "output_type": "stream",
     "text": [
      "WARNING ⚠️ NMS time limit 2.800s exceeded\n"
     ]
    },
    {
     "name": "stderr",
     "output_type": "stream",
     "text": [
      "                 Class     Images  Instances      Box(P          R      mAP50  mAP50-95):  32%|███▏      | 12/38 [05:11<11:58, 27.65s/it]"
     ]
    },
    {
     "name": "stdout",
     "output_type": "stream",
     "text": [
      "WARNING ⚠️ NMS time limit 2.800s exceeded\n"
     ]
    },
    {
     "name": "stderr",
     "output_type": "stream",
     "text": [
      "                 Class     Images  Instances      Box(P          R      mAP50  mAP50-95):  34%|███▍      | 13/38 [05:41<11:52, 28.50s/it]"
     ]
    },
    {
     "name": "stdout",
     "output_type": "stream",
     "text": [
      "WARNING ⚠️ NMS time limit 2.800s exceeded\n"
     ]
    },
    {
     "name": "stderr",
     "output_type": "stream",
     "text": [
      "                 Class     Images  Instances      Box(P          R      mAP50  mAP50-95):  37%|███▋      | 14/38 [06:17<12:12, 30.52s/it]"
     ]
    },
    {
     "name": "stdout",
     "output_type": "stream",
     "text": [
      "WARNING ⚠️ NMS time limit 2.800s exceeded\n"
     ]
    },
    {
     "name": "stderr",
     "output_type": "stream",
     "text": [
      "                 Class     Images  Instances      Box(P          R      mAP50  mAP50-95):  39%|███▉      | 15/38 [06:45<11:25, 29.80s/it]"
     ]
    },
    {
     "name": "stdout",
     "output_type": "stream",
     "text": [
      "WARNING ⚠️ NMS time limit 2.800s exceeded\n"
     ]
    },
    {
     "name": "stderr",
     "output_type": "stream",
     "text": [
      "                 Class     Images  Instances      Box(P          R      mAP50  mAP50-95):  42%|████▏     | 16/38 [07:12<10:39, 29.09s/it]"
     ]
    },
    {
     "name": "stdout",
     "output_type": "stream",
     "text": [
      "WARNING ⚠️ NMS time limit 2.800s exceeded\n"
     ]
    },
    {
     "name": "stderr",
     "output_type": "stream",
     "text": [
      "                 Class     Images  Instances      Box(P          R      mAP50  mAP50-95):  45%|████▍     | 17/38 [07:38<09:49, 28.08s/it]"
     ]
    },
    {
     "name": "stdout",
     "output_type": "stream",
     "text": [
      "WARNING ⚠️ NMS time limit 2.800s exceeded\n"
     ]
    },
    {
     "name": "stderr",
     "output_type": "stream",
     "text": [
      "                 Class     Images  Instances      Box(P          R      mAP50  mAP50-95):  47%|████▋     | 18/38 [08:05<09:13, 27.66s/it]"
     ]
    },
    {
     "name": "stdout",
     "output_type": "stream",
     "text": [
      "WARNING ⚠️ NMS time limit 2.800s exceeded\n"
     ]
    },
    {
     "name": "stderr",
     "output_type": "stream",
     "text": [
      "                 Class     Images  Instances      Box(P          R      mAP50  mAP50-95):  50%|█████     | 19/38 [08:33<08:47, 27.75s/it]"
     ]
    },
    {
     "name": "stdout",
     "output_type": "stream",
     "text": [
      "WARNING ⚠️ NMS time limit 2.800s exceeded\n"
     ]
    },
    {
     "name": "stderr",
     "output_type": "stream",
     "text": [
      "                 Class     Images  Instances      Box(P          R      mAP50  mAP50-95):  53%|█████▎    | 20/38 [08:59<08:11, 27.30s/it]"
     ]
    },
    {
     "name": "stdout",
     "output_type": "stream",
     "text": [
      "WARNING ⚠️ NMS time limit 2.800s exceeded\n"
     ]
    },
    {
     "name": "stderr",
     "output_type": "stream",
     "text": [
      "                 Class     Images  Instances      Box(P          R      mAP50  mAP50-95):  55%|█████▌    | 21/38 [09:31<08:08, 28.72s/it]"
     ]
    },
    {
     "name": "stdout",
     "output_type": "stream",
     "text": [
      "WARNING ⚠️ NMS time limit 2.800s exceeded\n"
     ]
    },
    {
     "name": "stderr",
     "output_type": "stream",
     "text": [
      "                 Class     Images  Instances      Box(P          R      mAP50  mAP50-95):  58%|█████▊    | 22/38 [09:59<07:37, 28.60s/it]"
     ]
    },
    {
     "name": "stdout",
     "output_type": "stream",
     "text": [
      "WARNING ⚠️ NMS time limit 2.800s exceeded\n"
     ]
    },
    {
     "name": "stderr",
     "output_type": "stream",
     "text": [
      "                 Class     Images  Instances      Box(P          R      mAP50  mAP50-95):  61%|██████    | 23/38 [10:27<07:07, 28.49s/it]"
     ]
    },
    {
     "name": "stdout",
     "output_type": "stream",
     "text": [
      "WARNING ⚠️ NMS time limit 2.800s exceeded\n"
     ]
    },
    {
     "name": "stderr",
     "output_type": "stream",
     "text": [
      "                 Class     Images  Instances      Box(P          R      mAP50  mAP50-95):  63%|██████▎   | 24/38 [10:56<06:39, 28.50s/it]"
     ]
    },
    {
     "name": "stdout",
     "output_type": "stream",
     "text": [
      "WARNING ⚠️ NMS time limit 2.800s exceeded\n"
     ]
    },
    {
     "name": "stderr",
     "output_type": "stream",
     "text": [
      "                 Class     Images  Instances      Box(P          R      mAP50  mAP50-95):  66%|██████▌   | 25/38 [11:22<06:00, 27.72s/it]"
     ]
    },
    {
     "name": "stdout",
     "output_type": "stream",
     "text": [
      "WARNING ⚠️ NMS time limit 2.800s exceeded\n"
     ]
    },
    {
     "name": "stderr",
     "output_type": "stream",
     "text": [
      "                 Class     Images  Instances      Box(P          R      mAP50  mAP50-95):  68%|██████▊   | 26/38 [11:49<05:29, 27.50s/it]"
     ]
    },
    {
     "name": "stdout",
     "output_type": "stream",
     "text": [
      "WARNING ⚠️ NMS time limit 2.800s exceeded\n"
     ]
    },
    {
     "name": "stderr",
     "output_type": "stream",
     "text": [
      "                 Class     Images  Instances      Box(P          R      mAP50  mAP50-95):  71%|███████   | 27/38 [12:19<05:12, 28.37s/it]"
     ]
    },
    {
     "name": "stdout",
     "output_type": "stream",
     "text": [
      "WARNING ⚠️ NMS time limit 2.800s exceeded\n"
     ]
    },
    {
     "name": "stderr",
     "output_type": "stream",
     "text": [
      "                 Class     Images  Instances      Box(P          R      mAP50  mAP50-95):  74%|███████▎  | 28/38 [12:48<04:46, 28.65s/it]"
     ]
    },
    {
     "name": "stdout",
     "output_type": "stream",
     "text": [
      "WARNING ⚠️ NMS time limit 2.800s exceeded\n"
     ]
    },
    {
     "name": "stderr",
     "output_type": "stream",
     "text": [
      "                 Class     Images  Instances      Box(P          R      mAP50  mAP50-95):  76%|███████▋  | 29/38 [13:24<04:35, 30.64s/it]"
     ]
    },
    {
     "name": "stdout",
     "output_type": "stream",
     "text": [
      "WARNING ⚠️ NMS time limit 2.800s exceeded\n"
     ]
    },
    {
     "name": "stderr",
     "output_type": "stream",
     "text": [
      "                 Class     Images  Instances      Box(P          R      mAP50  mAP50-95):  79%|███████▉  | 30/38 [13:51<03:56, 29.52s/it]"
     ]
    },
    {
     "name": "stdout",
     "output_type": "stream",
     "text": [
      "WARNING ⚠️ NMS time limit 2.800s exceeded\n"
     ]
    },
    {
     "name": "stderr",
     "output_type": "stream",
     "text": [
      "                 Class     Images  Instances      Box(P          R      mAP50  mAP50-95):  82%|████████▏ | 31/38 [14:22<03:31, 30.17s/it]"
     ]
    },
    {
     "name": "stdout",
     "output_type": "stream",
     "text": [
      "WARNING ⚠️ NMS time limit 2.800s exceeded\n"
     ]
    },
    {
     "name": "stderr",
     "output_type": "stream",
     "text": [
      "                 Class     Images  Instances      Box(P          R      mAP50  mAP50-95):  84%|████████▍ | 32/38 [14:50<02:55, 29.33s/it]"
     ]
    },
    {
     "name": "stdout",
     "output_type": "stream",
     "text": [
      "WARNING ⚠️ NMS time limit 2.800s exceeded\n"
     ]
    },
    {
     "name": "stderr",
     "output_type": "stream",
     "text": [
      "                 Class     Images  Instances      Box(P          R      mAP50  mAP50-95):  87%|████████▋ | 33/38 [15:22<02:31, 30.31s/it]"
     ]
    },
    {
     "name": "stdout",
     "output_type": "stream",
     "text": [
      "WARNING ⚠️ NMS time limit 2.800s exceeded\n"
     ]
    },
    {
     "name": "stderr",
     "output_type": "stream",
     "text": [
      "                 Class     Images  Instances      Box(P          R      mAP50  mAP50-95):  89%|████████▉ | 34/38 [15:55<02:03, 30.99s/it]"
     ]
    },
    {
     "name": "stdout",
     "output_type": "stream",
     "text": [
      "WARNING ⚠️ NMS time limit 2.800s exceeded\n"
     ]
    },
    {
     "name": "stderr",
     "output_type": "stream",
     "text": [
      "                 Class     Images  Instances      Box(P          R      mAP50  mAP50-95):  92%|█████████▏| 35/38 [16:23<01:30, 30.08s/it]"
     ]
    },
    {
     "name": "stdout",
     "output_type": "stream",
     "text": [
      "WARNING ⚠️ NMS time limit 2.800s exceeded\n"
     ]
    },
    {
     "name": "stderr",
     "output_type": "stream",
     "text": [
      "                 Class     Images  Instances      Box(P          R      mAP50  mAP50-95):  95%|█████████▍| 36/38 [16:52<00:59, 29.82s/it]"
     ]
    },
    {
     "name": "stdout",
     "output_type": "stream",
     "text": [
      "WARNING ⚠️ NMS time limit 2.800s exceeded\n"
     ]
    },
    {
     "name": "stderr",
     "output_type": "stream",
     "text": [
      "                 Class     Images  Instances      Box(P          R      mAP50  mAP50-95):  97%|█████████▋| 37/38 [17:24<00:30, 30.33s/it]"
     ]
    },
    {
     "name": "stdout",
     "output_type": "stream",
     "text": [
      "WARNING ⚠️ NMS time limit 2.300s exceeded\n"
     ]
    },
    {
     "name": "stderr",
     "output_type": "stream",
     "text": [
      "                 Class     Images  Instances      Box(P          R      mAP50  mAP50-95): 100%|██████████| 38/38 [17:31<00:00, 27.67s/it]\n"
     ]
    },
    {
     "name": "stdout",
     "output_type": "stream",
     "text": [
      "                   all        598       5432   2.92e-05   0.000766   2.67e-05   2.49e-05\n",
      "\n",
      "      Epoch    GPU_mem   box_loss   cls_loss   dfl_loss  Instances       Size\n"
     ]
    },
    {
     "name": "stderr",
     "output_type": "stream",
     "text": [
      "       5/10      12.6G     0.6593      6.794     0.9238         76        640: 100%|██████████| 299/299 [51:08<00:00, 10.26s/it]\n",
      "                 Class     Images  Instances      Box(P          R      mAP50  mAP50-95):   0%|          | 0/38 [00:00<?, ?it/s]"
     ]
    },
    {
     "name": "stdout",
     "output_type": "stream",
     "text": [
      "WARNING ⚠️ NMS time limit 2.800s exceeded\n"
     ]
    },
    {
     "name": "stderr",
     "output_type": "stream",
     "text": [
      "                 Class     Images  Instances      Box(P          R      mAP50  mAP50-95):   3%|▎         | 1/38 [00:23<14:42, 23.85s/it]"
     ]
    },
    {
     "name": "stdout",
     "output_type": "stream",
     "text": [
      "WARNING ⚠️ NMS time limit 2.800s exceeded\n"
     ]
    },
    {
     "name": "stderr",
     "output_type": "stream",
     "text": [
      "                 Class     Images  Instances      Box(P          R      mAP50  mAP50-95):   5%|▌         | 2/38 [00:47<14:08, 23.56s/it]"
     ]
    },
    {
     "name": "stdout",
     "output_type": "stream",
     "text": [
      "WARNING ⚠️ NMS time limit 2.800s exceeded\n"
     ]
    },
    {
     "name": "stderr",
     "output_type": "stream",
     "text": [
      "                 Class     Images  Instances      Box(P          R      mAP50  mAP50-95):   8%|▊         | 3/38 [01:07<12:51, 22.04s/it]"
     ]
    },
    {
     "name": "stdout",
     "output_type": "stream",
     "text": [
      "WARNING ⚠️ NMS time limit 2.800s exceeded\n"
     ]
    },
    {
     "name": "stderr",
     "output_type": "stream",
     "text": [
      "                 Class     Images  Instances      Box(P          R      mAP50  mAP50-95):  11%|█         | 4/38 [01:25<11:37, 20.52s/it]"
     ]
    },
    {
     "name": "stdout",
     "output_type": "stream",
     "text": [
      "WARNING ⚠️ NMS time limit 2.800s exceeded\n"
     ]
    },
    {
     "name": "stderr",
     "output_type": "stream",
     "text": [
      "                 Class     Images  Instances      Box(P          R      mAP50  mAP50-95):  13%|█▎        | 5/38 [01:47<11:32, 20.98s/it]"
     ]
    },
    {
     "name": "stdout",
     "output_type": "stream",
     "text": [
      "WARNING ⚠️ NMS time limit 2.800s exceeded\n"
     ]
    },
    {
     "name": "stderr",
     "output_type": "stream",
     "text": [
      "                 Class     Images  Instances      Box(P          R      mAP50  mAP50-95):  16%|█▌        | 6/38 [02:19<13:11, 24.73s/it]"
     ]
    },
    {
     "name": "stdout",
     "output_type": "stream",
     "text": [
      "WARNING ⚠️ NMS time limit 2.800s exceeded\n"
     ]
    },
    {
     "name": "stderr",
     "output_type": "stream",
     "text": [
      "                 Class     Images  Instances      Box(P          R      mAP50  mAP50-95):  18%|█▊        | 7/38 [02:40<12:04, 23.37s/it]"
     ]
    },
    {
     "name": "stdout",
     "output_type": "stream",
     "text": [
      "WARNING ⚠️ NMS time limit 2.800s exceeded\n"
     ]
    },
    {
     "name": "stderr",
     "output_type": "stream",
     "text": [
      "                 Class     Images  Instances      Box(P          R      mAP50  mAP50-95):  21%|██        | 8/38 [03:10<12:44, 25.48s/it]"
     ]
    },
    {
     "name": "stdout",
     "output_type": "stream",
     "text": [
      "WARNING ⚠️ NMS time limit 2.800s exceeded\n"
     ]
    },
    {
     "name": "stderr",
     "output_type": "stream",
     "text": [
      "                 Class     Images  Instances      Box(P          R      mAP50  mAP50-95):  24%|██▎       | 9/38 [03:28<11:11, 23.17s/it]"
     ]
    },
    {
     "name": "stdout",
     "output_type": "stream",
     "text": [
      "WARNING ⚠️ NMS time limit 2.800s exceeded\n"
     ]
    },
    {
     "name": "stderr",
     "output_type": "stream",
     "text": [
      "                 Class     Images  Instances      Box(P          R      mAP50  mAP50-95):  26%|██▋       | 10/38 [03:56<11:37, 24.93s/it]"
     ]
    },
    {
     "name": "stdout",
     "output_type": "stream",
     "text": [
      "WARNING ⚠️ NMS time limit 2.800s exceeded\n"
     ]
    },
    {
     "name": "stderr",
     "output_type": "stream",
     "text": [
      "                 Class     Images  Instances      Box(P          R      mAP50  mAP50-95):  29%|██▉       | 11/38 [04:17<10:33, 23.45s/it]"
     ]
    },
    {
     "name": "stdout",
     "output_type": "stream",
     "text": [
      "WARNING ⚠️ NMS time limit 2.800s exceeded\n"
     ]
    },
    {
     "name": "stderr",
     "output_type": "stream",
     "text": [
      "                 Class     Images  Instances      Box(P          R      mAP50  mAP50-95):  32%|███▏      | 12/38 [04:44<10:40, 24.64s/it]"
     ]
    },
    {
     "name": "stdout",
     "output_type": "stream",
     "text": [
      "WARNING ⚠️ NMS time limit 2.800s exceeded\n"
     ]
    },
    {
     "name": "stderr",
     "output_type": "stream",
     "text": [
      "                 Class     Images  Instances      Box(P          R      mAP50  mAP50-95):  34%|███▍      | 13/38 [05:05<09:49, 23.60s/it]"
     ]
    },
    {
     "name": "stdout",
     "output_type": "stream",
     "text": [
      "WARNING ⚠️ NMS time limit 2.800s exceeded\n"
     ]
    },
    {
     "name": "stderr",
     "output_type": "stream",
     "text": [
      "                 Class     Images  Instances      Box(P          R      mAP50  mAP50-95):  37%|███▋      | 14/38 [05:32<09:51, 24.66s/it]"
     ]
    },
    {
     "name": "stdout",
     "output_type": "stream",
     "text": [
      "WARNING ⚠️ NMS time limit 2.800s exceeded\n"
     ]
    },
    {
     "name": "stderr",
     "output_type": "stream",
     "text": [
      "                 Class     Images  Instances      Box(P          R      mAP50  mAP50-95):  39%|███▉      | 15/38 [05:55<09:13, 24.06s/it]"
     ]
    },
    {
     "name": "stdout",
     "output_type": "stream",
     "text": [
      "WARNING ⚠️ NMS time limit 2.800s exceeded\n"
     ]
    },
    {
     "name": "stderr",
     "output_type": "stream",
     "text": [
      "                 Class     Images  Instances      Box(P          R      mAP50  mAP50-95):  42%|████▏     | 16/38 [06:21<09:04, 24.73s/it]"
     ]
    },
    {
     "name": "stdout",
     "output_type": "stream",
     "text": [
      "WARNING ⚠️ NMS time limit 2.800s exceeded\n"
     ]
    },
    {
     "name": "stderr",
     "output_type": "stream",
     "text": [
      "                 Class     Images  Instances      Box(P          R      mAP50  mAP50-95):  45%|████▍     | 17/38 [06:40<08:00, 22.87s/it]"
     ]
    },
    {
     "name": "stdout",
     "output_type": "stream",
     "text": [
      "WARNING ⚠️ NMS time limit 2.800s exceeded\n"
     ]
    },
    {
     "name": "stderr",
     "output_type": "stream",
     "text": [
      "                 Class     Images  Instances      Box(P          R      mAP50  mAP50-95):  47%|████▋     | 18/38 [07:04<07:43, 23.16s/it]"
     ]
    },
    {
     "name": "stdout",
     "output_type": "stream",
     "text": [
      "WARNING ⚠️ NMS time limit 2.800s exceeded\n"
     ]
    },
    {
     "name": "stderr",
     "output_type": "stream",
     "text": [
      "                 Class     Images  Instances      Box(P          R      mAP50  mAP50-95):  50%|█████     | 19/38 [07:27<07:22, 23.27s/it]"
     ]
    },
    {
     "name": "stdout",
     "output_type": "stream",
     "text": [
      "WARNING ⚠️ NMS time limit 2.800s exceeded\n"
     ]
    },
    {
     "name": "stderr",
     "output_type": "stream",
     "text": [
      "                 Class     Images  Instances      Box(P          R      mAP50  mAP50-95):  53%|█████▎    | 20/38 [07:50<06:56, 23.15s/it]"
     ]
    },
    {
     "name": "stdout",
     "output_type": "stream",
     "text": [
      "WARNING ⚠️ NMS time limit 2.800s exceeded\n"
     ]
    },
    {
     "name": "stderr",
     "output_type": "stream",
     "text": [
      "                 Class     Images  Instances      Box(P          R      mAP50  mAP50-95):  55%|█████▌    | 21/38 [08:12<06:26, 22.72s/it]"
     ]
    },
    {
     "name": "stdout",
     "output_type": "stream",
     "text": [
      "WARNING ⚠️ NMS time limit 2.800s exceeded\n"
     ]
    },
    {
     "name": "stderr",
     "output_type": "stream",
     "text": [
      "                 Class     Images  Instances      Box(P          R      mAP50  mAP50-95):  58%|█████▊    | 22/38 [08:36<06:11, 23.22s/it]"
     ]
    },
    {
     "name": "stdout",
     "output_type": "stream",
     "text": [
      "WARNING ⚠️ NMS time limit 2.800s exceeded\n"
     ]
    },
    {
     "name": "stderr",
     "output_type": "stream",
     "text": [
      "                 Class     Images  Instances      Box(P          R      mAP50  mAP50-95):  61%|██████    | 23/38 [08:59<05:48, 23.22s/it]"
     ]
    },
    {
     "name": "stdout",
     "output_type": "stream",
     "text": [
      "WARNING ⚠️ NMS time limit 2.800s exceeded\n"
     ]
    },
    {
     "name": "stderr",
     "output_type": "stream",
     "text": [
      "                 Class     Images  Instances      Box(P          R      mAP50  mAP50-95):  63%|██████▎   | 24/38 [09:24<05:32, 23.77s/it]"
     ]
    },
    {
     "name": "stdout",
     "output_type": "stream",
     "text": [
      "WARNING ⚠️ NMS time limit 2.800s exceeded\n"
     ]
    },
    {
     "name": "stderr",
     "output_type": "stream",
     "text": [
      "                 Class     Images  Instances      Box(P          R      mAP50  mAP50-95):  66%|██████▌   | 25/38 [09:47<05:03, 23.37s/it]"
     ]
    },
    {
     "name": "stdout",
     "output_type": "stream",
     "text": [
      "WARNING ⚠️ NMS time limit 2.800s exceeded\n"
     ]
    },
    {
     "name": "stderr",
     "output_type": "stream",
     "text": [
      "                 Class     Images  Instances      Box(P          R      mAP50  mAP50-95):  68%|██████▊   | 26/38 [10:15<04:57, 24.80s/it]"
     ]
    },
    {
     "name": "stdout",
     "output_type": "stream",
     "text": [
      "WARNING ⚠️ NMS time limit 2.800s exceeded\n"
     ]
    },
    {
     "name": "stderr",
     "output_type": "stream",
     "text": [
      "                 Class     Images  Instances      Box(P          R      mAP50  mAP50-95):  71%|███████   | 27/38 [10:36<04:19, 23.63s/it]"
     ]
    },
    {
     "name": "stdout",
     "output_type": "stream",
     "text": [
      "WARNING ⚠️ NMS time limit 2.800s exceeded\n"
     ]
    },
    {
     "name": "stderr",
     "output_type": "stream",
     "text": [
      "                 Class     Images  Instances      Box(P          R      mAP50  mAP50-95):  74%|███████▎  | 28/38 [11:05<04:12, 25.27s/it]"
     ]
    },
    {
     "name": "stdout",
     "output_type": "stream",
     "text": [
      "WARNING ⚠️ NMS time limit 2.800s exceeded\n"
     ]
    },
    {
     "name": "stderr",
     "output_type": "stream",
     "text": [
      "                 Class     Images  Instances      Box(P          R      mAP50  mAP50-95):  76%|███████▋  | 29/38 [11:27<03:39, 24.34s/it]"
     ]
    },
    {
     "name": "stdout",
     "output_type": "stream",
     "text": [
      "WARNING ⚠️ NMS time limit 2.800s exceeded\n"
     ]
    },
    {
     "name": "stderr",
     "output_type": "stream",
     "text": [
      "                 Class     Images  Instances      Box(P          R      mAP50  mAP50-95):  79%|███████▉  | 30/38 [12:00<03:35, 26.96s/it]"
     ]
    },
    {
     "name": "stdout",
     "output_type": "stream",
     "text": [
      "WARNING ⚠️ NMS time limit 2.800s exceeded\n"
     ]
    },
    {
     "name": "stderr",
     "output_type": "stream",
     "text": [
      "                 Class     Images  Instances      Box(P          R      mAP50  mAP50-95):  82%|████████▏ | 31/38 [12:23<03:00, 25.76s/it]"
     ]
    },
    {
     "name": "stdout",
     "output_type": "stream",
     "text": [
      "WARNING ⚠️ NMS time limit 2.800s exceeded\n"
     ]
    },
    {
     "name": "stderr",
     "output_type": "stream",
     "text": [
      "                 Class     Images  Instances      Box(P          R      mAP50  mAP50-95):  84%|████████▍ | 32/38 [12:48<02:32, 25.40s/it]"
     ]
    },
    {
     "name": "stdout",
     "output_type": "stream",
     "text": [
      "WARNING ⚠️ NMS time limit 2.800s exceeded\n"
     ]
    },
    {
     "name": "stderr",
     "output_type": "stream",
     "text": [
      "                 Class     Images  Instances      Box(P          R      mAP50  mAP50-95):  87%|████████▋ | 33/38 [13:06<01:56, 23.36s/it]"
     ]
    },
    {
     "name": "stdout",
     "output_type": "stream",
     "text": [
      "WARNING ⚠️ NMS time limit 2.800s exceeded\n"
     ]
    },
    {
     "name": "stderr",
     "output_type": "stream",
     "text": [
      "                 Class     Images  Instances      Box(P          R      mAP50  mAP50-95):  89%|████████▉ | 34/38 [13:36<01:41, 25.40s/it]"
     ]
    },
    {
     "name": "stdout",
     "output_type": "stream",
     "text": [
      "WARNING ⚠️ NMS time limit 2.800s exceeded\n"
     ]
    },
    {
     "name": "stderr",
     "output_type": "stream",
     "text": [
      "                 Class     Images  Instances      Box(P          R      mAP50  mAP50-95):  92%|█████████▏| 35/38 [13:59<01:13, 24.41s/it]"
     ]
    },
    {
     "name": "stdout",
     "output_type": "stream",
     "text": [
      "WARNING ⚠️ NMS time limit 2.800s exceeded\n"
     ]
    },
    {
     "name": "stderr",
     "output_type": "stream",
     "text": [
      "                 Class     Images  Instances      Box(P          R      mAP50  mAP50-95):  95%|█████████▍| 36/38 [14:25<00:50, 25.14s/it]"
     ]
    },
    {
     "name": "stdout",
     "output_type": "stream",
     "text": [
      "WARNING ⚠️ NMS time limit 2.800s exceeded\n"
     ]
    },
    {
     "name": "stderr",
     "output_type": "stream",
     "text": [
      "                 Class     Images  Instances      Box(P          R      mAP50  mAP50-95):  97%|█████████▋| 37/38 [14:50<00:24, 24.95s/it]"
     ]
    },
    {
     "name": "stdout",
     "output_type": "stream",
     "text": [
      "WARNING ⚠️ NMS time limit 2.300s exceeded\n"
     ]
    },
    {
     "name": "stderr",
     "output_type": "stream",
     "text": [
      "                 Class     Images  Instances      Box(P          R      mAP50  mAP50-95): 100%|██████████| 38/38 [15:04<00:00, 23.81s/it]\n"
     ]
    },
    {
     "name": "stdout",
     "output_type": "stream",
     "text": [
      "                   all        598       5432   2.79e-05   0.000766   2.92e-05   2.81e-05\n",
      "\n",
      "      Epoch    GPU_mem   box_loss   cls_loss   dfl_loss  Instances       Size\n"
     ]
    },
    {
     "name": "stderr",
     "output_type": "stream",
     "text": [
      "       6/10      12.6G     0.6525      6.729     0.9256         80        640: 100%|██████████| 299/299 [52:22<00:00, 10.51s/it]\n",
      "                 Class     Images  Instances      Box(P          R      mAP50  mAP50-95):   0%|          | 0/38 [00:00<?, ?it/s]"
     ]
    },
    {
     "name": "stdout",
     "output_type": "stream",
     "text": [
      "WARNING ⚠️ NMS time limit 2.800s exceeded\n"
     ]
    },
    {
     "name": "stderr",
     "output_type": "stream",
     "text": [
      "                 Class     Images  Instances      Box(P          R      mAP50  mAP50-95):   3%|▎         | 1/38 [00:35<21:55, 35.55s/it]"
     ]
    },
    {
     "name": "stdout",
     "output_type": "stream",
     "text": [
      "WARNING ⚠️ NMS time limit 2.800s exceeded\n"
     ]
    },
    {
     "name": "stderr",
     "output_type": "stream",
     "text": [
      "                 Class     Images  Instances      Box(P          R      mAP50  mAP50-95):   5%|▌         | 2/38 [00:54<15:36, 26.02s/it]"
     ]
    },
    {
     "name": "stdout",
     "output_type": "stream",
     "text": [
      "WARNING ⚠️ NMS time limit 2.800s exceeded\n"
     ]
    },
    {
     "name": "stderr",
     "output_type": "stream",
     "text": [
      "                 Class     Images  Instances      Box(P          R      mAP50  mAP50-95):   8%|▊         | 3/38 [01:12<13:01, 22.33s/it]"
     ]
    },
    {
     "name": "stdout",
     "output_type": "stream",
     "text": [
      "WARNING ⚠️ NMS time limit 2.800s exceeded\n"
     ]
    },
    {
     "name": "stderr",
     "output_type": "stream",
     "text": [
      "                 Class     Images  Instances      Box(P          R      mAP50  mAP50-95):  11%|█         | 4/38 [01:30<11:39, 20.58s/it]"
     ]
    },
    {
     "name": "stdout",
     "output_type": "stream",
     "text": [
      "WARNING ⚠️ NMS time limit 2.800s exceeded\n"
     ]
    },
    {
     "name": "stderr",
     "output_type": "stream",
     "text": [
      "                 Class     Images  Instances      Box(P          R      mAP50  mAP50-95):  13%|█▎        | 5/38 [01:50<11:13, 20.40s/it]"
     ]
    },
    {
     "name": "stdout",
     "output_type": "stream",
     "text": [
      "WARNING ⚠️ NMS time limit 2.800s exceeded\n"
     ]
    },
    {
     "name": "stderr",
     "output_type": "stream",
     "text": [
      "                 Class     Images  Instances      Box(P          R      mAP50  mAP50-95):  16%|█▌        | 6/38 [02:12<11:05, 20.80s/it]"
     ]
    },
    {
     "name": "stdout",
     "output_type": "stream",
     "text": [
      "WARNING ⚠️ NMS time limit 2.800s exceeded\n"
     ]
    },
    {
     "name": "stderr",
     "output_type": "stream",
     "text": [
      "                 Class     Images  Instances      Box(P          R      mAP50  mAP50-95):  18%|█▊        | 7/38 [02:27<09:45, 18.90s/it]"
     ]
    },
    {
     "name": "stdout",
     "output_type": "stream",
     "text": [
      "WARNING ⚠️ NMS time limit 2.800s exceeded\n"
     ]
    },
    {
     "name": "stderr",
     "output_type": "stream",
     "text": [
      "                 Class     Images  Instances      Box(P          R      mAP50  mAP50-95):  21%|██        | 8/38 [02:42<08:50, 17.68s/it]"
     ]
    },
    {
     "name": "stdout",
     "output_type": "stream",
     "text": [
      "WARNING ⚠️ NMS time limit 2.800s exceeded\n"
     ]
    },
    {
     "name": "stderr",
     "output_type": "stream",
     "text": [
      "                 Class     Images  Instances      Box(P          R      mAP50  mAP50-95):  24%|██▎       | 9/38 [03:01<08:46, 18.16s/it]"
     ]
    },
    {
     "name": "stdout",
     "output_type": "stream",
     "text": [
      "WARNING ⚠️ NMS time limit 2.800s exceeded\n"
     ]
    },
    {
     "name": "stderr",
     "output_type": "stream",
     "text": [
      "                 Class     Images  Instances      Box(P          R      mAP50  mAP50-95):  26%|██▋       | 10/38 [03:19<08:26, 18.10s/it]"
     ]
    },
    {
     "name": "stdout",
     "output_type": "stream",
     "text": [
      "WARNING ⚠️ NMS time limit 2.800s exceeded\n"
     ]
    },
    {
     "name": "stderr",
     "output_type": "stream",
     "text": [
      "                 Class     Images  Instances      Box(P          R      mAP50  mAP50-95):  29%|██▉       | 11/38 [03:36<07:56, 17.66s/it]"
     ]
    },
    {
     "name": "stdout",
     "output_type": "stream",
     "text": [
      "WARNING ⚠️ NMS time limit 2.800s exceeded\n"
     ]
    },
    {
     "name": "stderr",
     "output_type": "stream",
     "text": [
      "                 Class     Images  Instances      Box(P          R      mAP50  mAP50-95):  32%|███▏      | 12/38 [03:52<07:24, 17.11s/it]"
     ]
    },
    {
     "name": "stdout",
     "output_type": "stream",
     "text": [
      "WARNING ⚠️ NMS time limit 2.800s exceeded\n"
     ]
    },
    {
     "name": "stderr",
     "output_type": "stream",
     "text": [
      "                 Class     Images  Instances      Box(P          R      mAP50  mAP50-95):  34%|███▍      | 13/38 [04:07<06:56, 16.67s/it]"
     ]
    },
    {
     "name": "stdout",
     "output_type": "stream",
     "text": [
      "WARNING ⚠️ NMS time limit 2.800s exceeded\n"
     ]
    },
    {
     "name": "stderr",
     "output_type": "stream",
     "text": [
      "                 Class     Images  Instances      Box(P          R      mAP50  mAP50-95):  37%|███▋      | 14/38 [04:23<06:34, 16.44s/it]"
     ]
    },
    {
     "name": "stdout",
     "output_type": "stream",
     "text": [
      "WARNING ⚠️ NMS time limit 2.800s exceeded\n"
     ]
    },
    {
     "name": "stderr",
     "output_type": "stream",
     "text": [
      "                 Class     Images  Instances      Box(P          R      mAP50  mAP50-95):  39%|███▉      | 15/38 [04:38<06:09, 16.08s/it]"
     ]
    },
    {
     "name": "stdout",
     "output_type": "stream",
     "text": [
      "WARNING ⚠️ NMS time limit 2.800s exceeded\n"
     ]
    },
    {
     "name": "stderr",
     "output_type": "stream",
     "text": [
      "                 Class     Images  Instances      Box(P          R      mAP50  mAP50-95):  42%|████▏     | 16/38 [04:57<06:10, 16.84s/it]"
     ]
    },
    {
     "name": "stdout",
     "output_type": "stream",
     "text": [
      "WARNING ⚠️ NMS time limit 2.800s exceeded\n"
     ]
    },
    {
     "name": "stderr",
     "output_type": "stream",
     "text": [
      "                 Class     Images  Instances      Box(P          R      mAP50  mAP50-95):  45%|████▍     | 17/38 [05:14<05:51, 16.73s/it]"
     ]
    },
    {
     "name": "stdout",
     "output_type": "stream",
     "text": [
      "WARNING ⚠️ NMS time limit 2.800s exceeded\n"
     ]
    },
    {
     "name": "stderr",
     "output_type": "stream",
     "text": [
      "                 Class     Images  Instances      Box(P          R      mAP50  mAP50-95):  47%|████▋     | 18/38 [05:33<05:52, 17.64s/it]"
     ]
    },
    {
     "name": "stdout",
     "output_type": "stream",
     "text": [
      "WARNING ⚠️ NMS time limit 2.800s exceeded\n"
     ]
    },
    {
     "name": "stderr",
     "output_type": "stream",
     "text": [
      "                 Class     Images  Instances      Box(P          R      mAP50  mAP50-95):  50%|█████     | 19/38 [05:47<05:14, 16.56s/it]"
     ]
    },
    {
     "name": "stdout",
     "output_type": "stream",
     "text": [
      "WARNING ⚠️ NMS time limit 2.800s exceeded\n"
     ]
    },
    {
     "name": "stderr",
     "output_type": "stream",
     "text": [
      "                 Class     Images  Instances      Box(P          R      mAP50  mAP50-95):  53%|█████▎    | 20/38 [06:04<04:56, 16.46s/it]"
     ]
    },
    {
     "name": "stdout",
     "output_type": "stream",
     "text": [
      "WARNING ⚠️ NMS time limit 2.800s exceeded\n"
     ]
    },
    {
     "name": "stderr",
     "output_type": "stream",
     "text": [
      "                 Class     Images  Instances      Box(P          R      mAP50  mAP50-95):  55%|█████▌    | 21/38 [06:27<05:16, 18.62s/it]"
     ]
    },
    {
     "name": "stdout",
     "output_type": "stream",
     "text": [
      "WARNING ⚠️ NMS time limit 2.800s exceeded\n"
     ]
    },
    {
     "name": "stderr",
     "output_type": "stream",
     "text": [
      "                 Class     Images  Instances      Box(P          R      mAP50  mAP50-95):  58%|█████▊    | 22/38 [06:46<05:00, 18.76s/it]"
     ]
    },
    {
     "name": "stdout",
     "output_type": "stream",
     "text": [
      "WARNING ⚠️ NMS time limit 2.800s exceeded\n"
     ]
    },
    {
     "name": "stderr",
     "output_type": "stream",
     "text": [
      "                 Class     Images  Instances      Box(P          R      mAP50  mAP50-95):  61%|██████    | 23/38 [07:07<04:51, 19.45s/it]"
     ]
    },
    {
     "name": "stdout",
     "output_type": "stream",
     "text": [
      "WARNING ⚠️ NMS time limit 2.800s exceeded\n"
     ]
    },
    {
     "name": "stderr",
     "output_type": "stream",
     "text": [
      "                 Class     Images  Instances      Box(P          R      mAP50  mAP50-95):  63%|██████▎   | 24/38 [07:21<04:07, 17.66s/it]"
     ]
    },
    {
     "name": "stdout",
     "output_type": "stream",
     "text": [
      "WARNING ⚠️ NMS time limit 2.800s exceeded\n"
     ]
    },
    {
     "name": "stderr",
     "output_type": "stream",
     "text": [
      "                 Class     Images  Instances      Box(P          R      mAP50  mAP50-95):  66%|██████▌   | 25/38 [07:40<03:57, 18.24s/it]"
     ]
    },
    {
     "name": "stdout",
     "output_type": "stream",
     "text": [
      "WARNING ⚠️ NMS time limit 2.800s exceeded\n"
     ]
    },
    {
     "name": "stderr",
     "output_type": "stream",
     "text": [
      "                 Class     Images  Instances      Box(P          R      mAP50  mAP50-95):  68%|██████▊   | 26/38 [07:56<03:27, 17.31s/it]"
     ]
    },
    {
     "name": "stdout",
     "output_type": "stream",
     "text": [
      "WARNING ⚠️ NMS time limit 2.800s exceeded\n"
     ]
    },
    {
     "name": "stderr",
     "output_type": "stream",
     "text": [
      "                 Class     Images  Instances      Box(P          R      mAP50  mAP50-95):  71%|███████   | 27/38 [08:11<03:03, 16.73s/it]"
     ]
    },
    {
     "name": "stdout",
     "output_type": "stream",
     "text": [
      "WARNING ⚠️ NMS time limit 2.800s exceeded\n"
     ]
    },
    {
     "name": "stderr",
     "output_type": "stream",
     "text": [
      "                 Class     Images  Instances      Box(P          R      mAP50  mAP50-95):  74%|███████▎  | 28/38 [08:31<02:56, 17.66s/it]"
     ]
    },
    {
     "name": "stdout",
     "output_type": "stream",
     "text": [
      "WARNING ⚠️ NMS time limit 2.800s exceeded\n"
     ]
    },
    {
     "name": "stderr",
     "output_type": "stream",
     "text": [
      "                 Class     Images  Instances      Box(P          R      mAP50  mAP50-95):  76%|███████▋  | 29/38 [08:48<02:38, 17.56s/it]"
     ]
    },
    {
     "name": "stdout",
     "output_type": "stream",
     "text": [
      "WARNING ⚠️ NMS time limit 2.800s exceeded\n"
     ]
    },
    {
     "name": "stderr",
     "output_type": "stream",
     "text": [
      "                 Class     Images  Instances      Box(P          R      mAP50  mAP50-95):  79%|███████▉  | 30/38 [09:05<02:18, 17.30s/it]"
     ]
    },
    {
     "name": "stdout",
     "output_type": "stream",
     "text": [
      "WARNING ⚠️ NMS time limit 2.800s exceeded\n"
     ]
    },
    {
     "name": "stderr",
     "output_type": "stream",
     "text": [
      "                 Class     Images  Instances      Box(P          R      mAP50  mAP50-95):  82%|████████▏ | 31/38 [09:24<02:05, 17.86s/it]"
     ]
    },
    {
     "name": "stdout",
     "output_type": "stream",
     "text": [
      "WARNING ⚠️ NMS time limit 2.800s exceeded\n"
     ]
    },
    {
     "name": "stderr",
     "output_type": "stream",
     "text": [
      "                 Class     Images  Instances      Box(P          R      mAP50  mAP50-95):  84%|████████▍ | 32/38 [09:39<01:42, 17.11s/it]"
     ]
    },
    {
     "name": "stdout",
     "output_type": "stream",
     "text": [
      "WARNING ⚠️ NMS time limit 2.800s exceeded\n"
     ]
    },
    {
     "name": "stderr",
     "output_type": "stream",
     "text": [
      "                 Class     Images  Instances      Box(P          R      mAP50  mAP50-95):  87%|████████▋ | 33/38 [09:52<01:19, 15.86s/it]"
     ]
    },
    {
     "name": "stdout",
     "output_type": "stream",
     "text": [
      "WARNING ⚠️ NMS time limit 2.800s exceeded\n"
     ]
    },
    {
     "name": "stderr",
     "output_type": "stream",
     "text": [
      "                 Class     Images  Instances      Box(P          R      mAP50  mAP50-95):  89%|████████▉ | 34/38 [10:09<01:03, 15.99s/it]"
     ]
    },
    {
     "name": "stdout",
     "output_type": "stream",
     "text": [
      "WARNING ⚠️ NMS time limit 2.800s exceeded\n"
     ]
    },
    {
     "name": "stderr",
     "output_type": "stream",
     "text": [
      "                 Class     Images  Instances      Box(P          R      mAP50  mAP50-95):  92%|█████████▏| 35/38 [10:24<00:47, 15.79s/it]"
     ]
    },
    {
     "name": "stdout",
     "output_type": "stream",
     "text": [
      "WARNING ⚠️ NMS time limit 2.800s exceeded\n"
     ]
    },
    {
     "name": "stderr",
     "output_type": "stream",
     "text": [
      "                 Class     Images  Instances      Box(P          R      mAP50  mAP50-95):  95%|█████████▍| 36/38 [10:43<00:33, 16.64s/it]"
     ]
    },
    {
     "name": "stdout",
     "output_type": "stream",
     "text": [
      "WARNING ⚠️ NMS time limit 2.800s exceeded\n"
     ]
    },
    {
     "name": "stderr",
     "output_type": "stream",
     "text": [
      "                 Class     Images  Instances      Box(P          R      mAP50  mAP50-95):  97%|█████████▋| 37/38 [10:59<00:16, 16.58s/it]"
     ]
    },
    {
     "name": "stdout",
     "output_type": "stream",
     "text": [
      "WARNING ⚠️ NMS time limit 2.300s exceeded\n"
     ]
    },
    {
     "name": "stderr",
     "output_type": "stream",
     "text": [
      "                 Class     Images  Instances      Box(P          R      mAP50  mAP50-95): 100%|██████████| 38/38 [11:15<00:00, 17.78s/it]\n"
     ]
    },
    {
     "name": "stdout",
     "output_type": "stream",
     "text": [
      "                   all        598       5432   4.41e-05    0.00105    4.4e-05   4.26e-05\n",
      "\n",
      "      Epoch    GPU_mem   box_loss   cls_loss   dfl_loss  Instances       Size\n"
     ]
    },
    {
     "name": "stderr",
     "output_type": "stream",
     "text": [
      "       7/10      12.5G     0.6457      6.681     0.9241         73        640: 100%|██████████| 299/299 [53:49<00:00, 10.80s/it] \n",
      "                 Class     Images  Instances      Box(P          R      mAP50  mAP50-95):   0%|          | 0/38 [00:00<?, ?it/s]"
     ]
    },
    {
     "name": "stdout",
     "output_type": "stream",
     "text": [
      "WARNING ⚠️ NMS time limit 2.800s exceeded\n"
     ]
    },
    {
     "name": "stderr",
     "output_type": "stream",
     "text": [
      "                 Class     Images  Instances      Box(P          R      mAP50  mAP50-95):   3%|▎         | 1/38 [00:21<12:58, 21.05s/it]"
     ]
    },
    {
     "name": "stdout",
     "output_type": "stream",
     "text": [
      "WARNING ⚠️ NMS time limit 2.800s exceeded\n"
     ]
    },
    {
     "name": "stderr",
     "output_type": "stream",
     "text": [
      "                 Class     Images  Instances      Box(P          R      mAP50  mAP50-95):   5%|▌         | 2/38 [00:55<17:16, 28.80s/it]"
     ]
    },
    {
     "name": "stdout",
     "output_type": "stream",
     "text": [
      "WARNING ⚠️ NMS time limit 2.800s exceeded\n"
     ]
    },
    {
     "name": "stderr",
     "output_type": "stream",
     "text": [
      "                 Class     Images  Instances      Box(P          R      mAP50  mAP50-95):   8%|▊         | 3/38 [01:17<15:06, 25.90s/it]"
     ]
    },
    {
     "name": "stdout",
     "output_type": "stream",
     "text": [
      "WARNING ⚠️ NMS time limit 2.800s exceeded\n"
     ]
    },
    {
     "name": "stderr",
     "output_type": "stream",
     "text": [
      "                 Class     Images  Instances      Box(P          R      mAP50  mAP50-95):  11%|█         | 4/38 [01:48<15:50, 27.96s/it]"
     ]
    },
    {
     "name": "stdout",
     "output_type": "stream",
     "text": [
      "WARNING ⚠️ NMS time limit 2.800s exceeded\n"
     ]
    },
    {
     "name": "stderr",
     "output_type": "stream",
     "text": [
      "                 Class     Images  Instances      Box(P          R      mAP50  mAP50-95):  13%|█▎        | 5/38 [02:17<15:25, 28.06s/it]"
     ]
    },
    {
     "name": "stdout",
     "output_type": "stream",
     "text": [
      "WARNING ⚠️ NMS time limit 2.800s exceeded\n"
     ]
    },
    {
     "name": "stderr",
     "output_type": "stream",
     "text": [
      "                 Class     Images  Instances      Box(P          R      mAP50  mAP50-95):  16%|█▌        | 6/38 [02:45<14:57, 28.03s/it]"
     ]
    },
    {
     "name": "stdout",
     "output_type": "stream",
     "text": [
      "WARNING ⚠️ NMS time limit 2.800s exceeded\n"
     ]
    },
    {
     "name": "stderr",
     "output_type": "stream",
     "text": [
      "                 Class     Images  Instances      Box(P          R      mAP50  mAP50-95):  18%|█▊        | 7/38 [03:13<14:28, 28.02s/it]"
     ]
    },
    {
     "name": "stdout",
     "output_type": "stream",
     "text": [
      "WARNING ⚠️ NMS time limit 2.800s exceeded\n"
     ]
    },
    {
     "name": "stderr",
     "output_type": "stream",
     "text": [
      "                 Class     Images  Instances      Box(P          R      mAP50  mAP50-95):  21%|██        | 8/38 [03:38<13:32, 27.10s/it]"
     ]
    },
    {
     "name": "stdout",
     "output_type": "stream",
     "text": [
      "WARNING ⚠️ NMS time limit 2.800s exceeded\n"
     ]
    },
    {
     "name": "stderr",
     "output_type": "stream",
     "text": [
      "                 Class     Images  Instances      Box(P          R      mAP50  mAP50-95):  24%|██▎       | 9/38 [04:04<12:58, 26.83s/it]"
     ]
    },
    {
     "name": "stdout",
     "output_type": "stream",
     "text": [
      "WARNING ⚠️ NMS time limit 2.800s exceeded\n"
     ]
    },
    {
     "name": "stderr",
     "output_type": "stream",
     "text": [
      "                 Class     Images  Instances      Box(P          R      mAP50  mAP50-95):  26%|██▋       | 10/38 [04:28<12:04, 25.86s/it]"
     ]
    },
    {
     "name": "stdout",
     "output_type": "stream",
     "text": [
      "WARNING ⚠️ NMS time limit 2.800s exceeded\n"
     ]
    },
    {
     "name": "stderr",
     "output_type": "stream",
     "text": [
      "                 Class     Images  Instances      Box(P          R      mAP50  mAP50-95):  29%|██▉       | 11/38 [04:58<12:12, 27.14s/it]"
     ]
    },
    {
     "name": "stdout",
     "output_type": "stream",
     "text": [
      "WARNING ⚠️ NMS time limit 2.800s exceeded\n"
     ]
    },
    {
     "name": "stderr",
     "output_type": "stream",
     "text": [
      "                 Class     Images  Instances      Box(P          R      mAP50  mAP50-95):  32%|███▏      | 12/38 [05:35<13:04, 30.16s/it]"
     ]
    },
    {
     "name": "stdout",
     "output_type": "stream",
     "text": [
      "WARNING ⚠️ NMS time limit 2.800s exceeded\n"
     ]
    },
    {
     "name": "stderr",
     "output_type": "stream",
     "text": [
      "                 Class     Images  Instances      Box(P          R      mAP50  mAP50-95):  34%|███▍      | 13/38 [06:00<11:55, 28.63s/it]"
     ]
    },
    {
     "name": "stdout",
     "output_type": "stream",
     "text": [
      "WARNING ⚠️ NMS time limit 2.800s exceeded\n"
     ]
    },
    {
     "name": "stderr",
     "output_type": "stream",
     "text": [
      "                 Class     Images  Instances      Box(P          R      mAP50  mAP50-95):  37%|███▋      | 14/38 [06:24<10:53, 27.22s/it]"
     ]
    },
    {
     "name": "stdout",
     "output_type": "stream",
     "text": [
      "WARNING ⚠️ NMS time limit 2.800s exceeded\n"
     ]
    },
    {
     "name": "stderr",
     "output_type": "stream",
     "text": [
      "                 Class     Images  Instances      Box(P          R      mAP50  mAP50-95):  39%|███▉      | 15/38 [06:47<09:55, 25.89s/it]"
     ]
    },
    {
     "name": "stdout",
     "output_type": "stream",
     "text": [
      "WARNING ⚠️ NMS time limit 2.800s exceeded\n"
     ]
    },
    {
     "name": "stderr",
     "output_type": "stream",
     "text": [
      "                 Class     Images  Instances      Box(P          R      mAP50  mAP50-95):  42%|████▏     | 16/38 [07:13<09:33, 26.06s/it]"
     ]
    },
    {
     "name": "stdout",
     "output_type": "stream",
     "text": [
      "WARNING ⚠️ NMS time limit 2.800s exceeded\n"
     ]
    },
    {
     "name": "stderr",
     "output_type": "stream",
     "text": [
      "                 Class     Images  Instances      Box(P          R      mAP50  mAP50-95):  45%|████▍     | 17/38 [07:40<09:10, 26.21s/it]"
     ]
    },
    {
     "name": "stdout",
     "output_type": "stream",
     "text": [
      "WARNING ⚠️ NMS time limit 2.800s exceeded\n"
     ]
    },
    {
     "name": "stderr",
     "output_type": "stream",
     "text": [
      "                 Class     Images  Instances      Box(P          R      mAP50  mAP50-95):  47%|████▋     | 18/38 [08:05<08:42, 26.11s/it]"
     ]
    },
    {
     "name": "stdout",
     "output_type": "stream",
     "text": [
      "WARNING ⚠️ NMS time limit 2.800s exceeded\n"
     ]
    },
    {
     "name": "stderr",
     "output_type": "stream",
     "text": [
      "                 Class     Images  Instances      Box(P          R      mAP50  mAP50-95):  50%|█████     | 19/38 [08:31<08:14, 26.02s/it]"
     ]
    },
    {
     "name": "stdout",
     "output_type": "stream",
     "text": [
      "WARNING ⚠️ NMS time limit 2.800s exceeded\n"
     ]
    },
    {
     "name": "stderr",
     "output_type": "stream",
     "text": [
      "                 Class     Images  Instances      Box(P          R      mAP50  mAP50-95):  53%|█████▎    | 20/38 [09:00<08:00, 26.68s/it]"
     ]
    },
    {
     "name": "stdout",
     "output_type": "stream",
     "text": [
      "WARNING ⚠️ NMS time limit 2.800s exceeded\n"
     ]
    },
    {
     "name": "stderr",
     "output_type": "stream",
     "text": [
      "                 Class     Images  Instances      Box(P          R      mAP50  mAP50-95):  55%|█████▌    | 21/38 [09:23<07:18, 25.81s/it]"
     ]
    },
    {
     "name": "stdout",
     "output_type": "stream",
     "text": [
      "WARNING ⚠️ NMS time limit 2.800s exceeded\n"
     ]
    },
    {
     "name": "stderr",
     "output_type": "stream",
     "text": [
      "                 Class     Images  Instances      Box(P          R      mAP50  mAP50-95):  58%|█████▊    | 22/38 [09:49<06:50, 25.64s/it]"
     ]
    },
    {
     "name": "stdout",
     "output_type": "stream",
     "text": [
      "WARNING ⚠️ NMS time limit 2.800s exceeded\n"
     ]
    },
    {
     "name": "stderr",
     "output_type": "stream",
     "text": [
      "                 Class     Images  Instances      Box(P          R      mAP50  mAP50-95):  61%|██████    | 23/38 [10:14<06:23, 25.55s/it]"
     ]
    },
    {
     "name": "stdout",
     "output_type": "stream",
     "text": [
      "WARNING ⚠️ NMS time limit 2.800s exceeded\n"
     ]
    },
    {
     "name": "stderr",
     "output_type": "stream",
     "text": [
      "                 Class     Images  Instances      Box(P          R      mAP50  mAP50-95):  63%|██████▎   | 24/38 [10:39<05:57, 25.52s/it]"
     ]
    },
    {
     "name": "stdout",
     "output_type": "stream",
     "text": [
      "WARNING ⚠️ NMS time limit 2.800s exceeded\n"
     ]
    },
    {
     "name": "stderr",
     "output_type": "stream",
     "text": [
      "                 Class     Images  Instances      Box(P          R      mAP50  mAP50-95):  66%|██████▌   | 25/38 [11:03<05:24, 24.94s/it]"
     ]
    },
    {
     "name": "stdout",
     "output_type": "stream",
     "text": [
      "WARNING ⚠️ NMS time limit 2.800s exceeded\n"
     ]
    },
    {
     "name": "stderr",
     "output_type": "stream",
     "text": [
      "                 Class     Images  Instances      Box(P          R      mAP50  mAP50-95):  68%|██████▊   | 26/38 [11:25<04:49, 24.15s/it]"
     ]
    },
    {
     "name": "stdout",
     "output_type": "stream",
     "text": [
      "WARNING ⚠️ NMS time limit 2.800s exceeded\n"
     ]
    },
    {
     "name": "stderr",
     "output_type": "stream",
     "text": [
      "                 Class     Images  Instances      Box(P          R      mAP50  mAP50-95):  71%|███████   | 27/38 [11:48<04:20, 23.68s/it]"
     ]
    },
    {
     "name": "stdout",
     "output_type": "stream",
     "text": [
      "WARNING ⚠️ NMS time limit 2.800s exceeded\n"
     ]
    },
    {
     "name": "stderr",
     "output_type": "stream",
     "text": [
      "                 Class     Images  Instances      Box(P          R      mAP50  mAP50-95):  74%|███████▎  | 28/38 [12:12<03:56, 23.69s/it]"
     ]
    },
    {
     "name": "stdout",
     "output_type": "stream",
     "text": [
      "WARNING ⚠️ NMS time limit 2.800s exceeded\n"
     ]
    },
    {
     "name": "stderr",
     "output_type": "stream",
     "text": [
      "                 Class     Images  Instances      Box(P          R      mAP50  mAP50-95):  76%|███████▋  | 29/38 [12:41<03:48, 25.41s/it]"
     ]
    },
    {
     "name": "stdout",
     "output_type": "stream",
     "text": [
      "WARNING ⚠️ NMS time limit 2.800s exceeded\n"
     ]
    },
    {
     "name": "stderr",
     "output_type": "stream",
     "text": [
      "                 Class     Images  Instances      Box(P          R      mAP50  mAP50-95):  79%|███████▉  | 30/38 [13:08<03:27, 25.96s/it]"
     ]
    },
    {
     "name": "stdout",
     "output_type": "stream",
     "text": [
      "WARNING ⚠️ NMS time limit 2.800s exceeded\n"
     ]
    },
    {
     "name": "stderr",
     "output_type": "stream",
     "text": [
      "                 Class     Images  Instances      Box(P          R      mAP50  mAP50-95):  82%|████████▏ | 31/38 [13:30<02:52, 24.70s/it]"
     ]
    },
    {
     "name": "stdout",
     "output_type": "stream",
     "text": [
      "WARNING ⚠️ NMS time limit 2.800s exceeded\n"
     ]
    },
    {
     "name": "stderr",
     "output_type": "stream",
     "text": [
      "                 Class     Images  Instances      Box(P          R      mAP50  mAP50-95):  84%|████████▍ | 32/38 [13:55<02:29, 24.85s/it]"
     ]
    },
    {
     "name": "stdout",
     "output_type": "stream",
     "text": [
      "WARNING ⚠️ NMS time limit 2.800s exceeded\n"
     ]
    },
    {
     "name": "stderr",
     "output_type": "stream",
     "text": [
      "                 Class     Images  Instances      Box(P          R      mAP50  mAP50-95):  87%|████████▋ | 33/38 [14:17<02:00, 24.00s/it]"
     ]
    },
    {
     "name": "stdout",
     "output_type": "stream",
     "text": [
      "WARNING ⚠️ NMS time limit 2.800s exceeded\n"
     ]
    },
    {
     "name": "stderr",
     "output_type": "stream",
     "text": [
      "                 Class     Images  Instances      Box(P          R      mAP50  mAP50-95):  89%|████████▉ | 34/38 [14:45<01:40, 25.06s/it]"
     ]
    },
    {
     "name": "stdout",
     "output_type": "stream",
     "text": [
      "WARNING ⚠️ NMS time limit 2.800s exceeded\n"
     ]
    },
    {
     "name": "stderr",
     "output_type": "stream",
     "text": [
      "                 Class     Images  Instances      Box(P          R      mAP50  mAP50-95):  92%|█████████▏| 35/38 [15:09<01:14, 24.78s/it]"
     ]
    },
    {
     "name": "stdout",
     "output_type": "stream",
     "text": [
      "WARNING ⚠️ NMS time limit 2.800s exceeded\n"
     ]
    },
    {
     "name": "stderr",
     "output_type": "stream",
     "text": [
      "                 Class     Images  Instances      Box(P          R      mAP50  mAP50-95):  95%|█████████▍| 36/38 [15:34<00:49, 24.80s/it]"
     ]
    },
    {
     "name": "stdout",
     "output_type": "stream",
     "text": [
      "WARNING ⚠️ NMS time limit 2.800s exceeded\n"
     ]
    },
    {
     "name": "stderr",
     "output_type": "stream",
     "text": [
      "                 Class     Images  Instances      Box(P          R      mAP50  mAP50-95):  97%|█████████▋| 37/38 [16:00<00:25, 25.18s/it]"
     ]
    },
    {
     "name": "stdout",
     "output_type": "stream",
     "text": [
      "WARNING ⚠️ NMS time limit 2.300s exceeded\n"
     ]
    },
    {
     "name": "stderr",
     "output_type": "stream",
     "text": [
      "                 Class     Images  Instances      Box(P          R      mAP50  mAP50-95): 100%|██████████| 38/38 [16:06<00:00, 25.44s/it]\n"
     ]
    },
    {
     "name": "stdout",
     "output_type": "stream",
     "text": [
      "                   all        598       5432   3.55e-05   0.000734   5.74e-05   5.48e-05\n",
      "\n",
      "      Epoch    GPU_mem   box_loss   cls_loss   dfl_loss  Instances       Size\n"
     ]
    },
    {
     "name": "stderr",
     "output_type": "stream",
     "text": [
      "       8/10        12G     0.6333      6.645     0.9197         59        640: 100%|██████████| 299/299 [46:59<00:00,  9.43s/it] \n",
      "                 Class     Images  Instances      Box(P          R      mAP50  mAP50-95):   0%|          | 0/38 [00:00<?, ?it/s]"
     ]
    },
    {
     "name": "stdout",
     "output_type": "stream",
     "text": [
      "WARNING ⚠️ NMS time limit 2.800s exceeded\n"
     ]
    },
    {
     "name": "stderr",
     "output_type": "stream",
     "text": [
      "                 Class     Images  Instances      Box(P          R      mAP50  mAP50-95):   3%|▎         | 1/38 [00:32<20:18, 32.94s/it]"
     ]
    },
    {
     "name": "stdout",
     "output_type": "stream",
     "text": [
      "WARNING ⚠️ NMS time limit 2.800s exceeded\n"
     ]
    },
    {
     "name": "stderr",
     "output_type": "stream",
     "text": [
      "                 Class     Images  Instances      Box(P          R      mAP50  mAP50-95):   5%|▌         | 2/38 [00:55<15:58, 26.62s/it]"
     ]
    },
    {
     "name": "stdout",
     "output_type": "stream",
     "text": [
      "WARNING ⚠️ NMS time limit 2.800s exceeded\n"
     ]
    },
    {
     "name": "stderr",
     "output_type": "stream",
     "text": [
      "                 Class     Images  Instances      Box(P          R      mAP50  mAP50-95):   8%|▊         | 3/38 [01:30<17:56, 30.75s/it]"
     ]
    },
    {
     "name": "stdout",
     "output_type": "stream",
     "text": [
      "WARNING ⚠️ NMS time limit 2.800s exceeded\n"
     ]
    },
    {
     "name": "stderr",
     "output_type": "stream",
     "text": [
      "                 Class     Images  Instances      Box(P          R      mAP50  mAP50-95):  11%|█         | 4/38 [01:57<16:25, 28.99s/it]"
     ]
    },
    {
     "name": "stdout",
     "output_type": "stream",
     "text": [
      "WARNING ⚠️ NMS time limit 2.800s exceeded\n"
     ]
    },
    {
     "name": "stderr",
     "output_type": "stream",
     "text": [
      "                 Class     Images  Instances      Box(P          R      mAP50  mAP50-95):  13%|█▎        | 5/38 [02:28<16:21, 29.73s/it]"
     ]
    },
    {
     "name": "stdout",
     "output_type": "stream",
     "text": [
      "WARNING ⚠️ NMS time limit 2.800s exceeded\n"
     ]
    },
    {
     "name": "stderr",
     "output_type": "stream",
     "text": [
      "                 Class     Images  Instances      Box(P          R      mAP50  mAP50-95):  16%|█▌        | 6/38 [02:49<14:15, 26.74s/it]"
     ]
    },
    {
     "name": "stdout",
     "output_type": "stream",
     "text": [
      "WARNING ⚠️ NMS time limit 2.800s exceeded\n"
     ]
    },
    {
     "name": "stderr",
     "output_type": "stream",
     "text": [
      "                 Class     Images  Instances      Box(P          R      mAP50  mAP50-95):  18%|█▊        | 7/38 [03:13<13:28, 26.08s/it]"
     ]
    },
    {
     "name": "stdout",
     "output_type": "stream",
     "text": [
      "WARNING ⚠️ NMS time limit 2.800s exceeded\n"
     ]
    },
    {
     "name": "stderr",
     "output_type": "stream",
     "text": [
      "                 Class     Images  Instances      Box(P          R      mAP50  mAP50-95):  21%|██        | 8/38 [03:37<12:37, 25.25s/it]"
     ]
    },
    {
     "name": "stdout",
     "output_type": "stream",
     "text": [
      "WARNING ⚠️ NMS time limit 2.800s exceeded\n"
     ]
    },
    {
     "name": "stderr",
     "output_type": "stream",
     "text": [
      "                 Class     Images  Instances      Box(P          R      mAP50  mAP50-95):  24%|██▎       | 9/38 [04:01<12:04, 24.99s/it]"
     ]
    },
    {
     "name": "stdout",
     "output_type": "stream",
     "text": [
      "WARNING ⚠️ NMS time limit 2.800s exceeded\n"
     ]
    },
    {
     "name": "stderr",
     "output_type": "stream",
     "text": [
      "                 Class     Images  Instances      Box(P          R      mAP50  mAP50-95):  26%|██▋       | 10/38 [04:45<14:20, 30.75s/it]"
     ]
    },
    {
     "name": "stdout",
     "output_type": "stream",
     "text": [
      "WARNING ⚠️ NMS time limit 2.800s exceeded\n"
     ]
    },
    {
     "name": "stderr",
     "output_type": "stream",
     "text": [
      "                 Class     Images  Instances      Box(P          R      mAP50  mAP50-95):  29%|██▉       | 11/38 [05:07<12:36, 28.01s/it]"
     ]
    },
    {
     "name": "stdout",
     "output_type": "stream",
     "text": [
      "WARNING ⚠️ NMS time limit 2.800s exceeded\n"
     ]
    },
    {
     "name": "stderr",
     "output_type": "stream",
     "text": [
      "                 Class     Images  Instances      Box(P          R      mAP50  mAP50-95):  32%|███▏      | 12/38 [05:32<11:44, 27.09s/it]"
     ]
    },
    {
     "name": "stdout",
     "output_type": "stream",
     "text": [
      "WARNING ⚠️ NMS time limit 2.800s exceeded\n"
     ]
    },
    {
     "name": "stderr",
     "output_type": "stream",
     "text": [
      "                 Class     Images  Instances      Box(P          R      mAP50  mAP50-95):  34%|███▍      | 13/38 [05:58<11:15, 27.01s/it]"
     ]
    },
    {
     "name": "stdout",
     "output_type": "stream",
     "text": [
      "WARNING ⚠️ NMS time limit 2.800s exceeded\n"
     ]
    },
    {
     "name": "stderr",
     "output_type": "stream",
     "text": [
      "                 Class     Images  Instances      Box(P          R      mAP50  mAP50-95):  37%|███▋      | 14/38 [06:23<10:32, 26.36s/it]"
     ]
    },
    {
     "name": "stdout",
     "output_type": "stream",
     "text": [
      "WARNING ⚠️ NMS time limit 2.800s exceeded\n"
     ]
    },
    {
     "name": "stderr",
     "output_type": "stream",
     "text": [
      "                 Class     Images  Instances      Box(P          R      mAP50  mAP50-95):  39%|███▉      | 15/38 [06:53<10:32, 27.49s/it]"
     ]
    },
    {
     "name": "stdout",
     "output_type": "stream",
     "text": [
      "WARNING ⚠️ NMS time limit 2.800s exceeded\n"
     ]
    },
    {
     "name": "stderr",
     "output_type": "stream",
     "text": [
      "                 Class     Images  Instances      Box(P          R      mAP50  mAP50-95):  42%|████▏     | 16/38 [07:16<09:34, 26.12s/it]"
     ]
    },
    {
     "name": "stdout",
     "output_type": "stream",
     "text": [
      "WARNING ⚠️ NMS time limit 2.800s exceeded\n"
     ]
    },
    {
     "name": "stderr",
     "output_type": "stream",
     "text": [
      "                 Class     Images  Instances      Box(P          R      mAP50  mAP50-95):  45%|████▍     | 17/38 [07:55<10:30, 30.01s/it]"
     ]
    },
    {
     "name": "stdout",
     "output_type": "stream",
     "text": [
      "WARNING ⚠️ NMS time limit 2.800s exceeded\n"
     ]
    },
    {
     "name": "stderr",
     "output_type": "stream",
     "text": [
      "                 Class     Images  Instances      Box(P          R      mAP50  mAP50-95):  47%|████▋     | 18/38 [08:28<10:14, 30.73s/it]"
     ]
    },
    {
     "name": "stdout",
     "output_type": "stream",
     "text": [
      "WARNING ⚠️ NMS time limit 2.800s exceeded\n"
     ]
    },
    {
     "name": "stderr",
     "output_type": "stream",
     "text": [
      "                 Class     Images  Instances      Box(P          R      mAP50  mAP50-95):  50%|█████     | 19/38 [08:56<09:31, 30.10s/it]"
     ]
    },
    {
     "name": "stdout",
     "output_type": "stream",
     "text": [
      "WARNING ⚠️ NMS time limit 2.800s exceeded\n"
     ]
    },
    {
     "name": "stderr",
     "output_type": "stream",
     "text": [
      "                 Class     Images  Instances      Box(P          R      mAP50  mAP50-95):  53%|█████▎    | 20/38 [09:25<08:56, 29.79s/it]"
     ]
    },
    {
     "name": "stdout",
     "output_type": "stream",
     "text": [
      "WARNING ⚠️ NMS time limit 2.800s exceeded\n"
     ]
    },
    {
     "name": "stderr",
     "output_type": "stream",
     "text": [
      "                 Class     Images  Instances      Box(P          R      mAP50  mAP50-95):  55%|█████▌    | 21/38 [09:49<07:53, 27.87s/it]"
     ]
    },
    {
     "name": "stdout",
     "output_type": "stream",
     "text": [
      "WARNING ⚠️ NMS time limit 2.800s exceeded\n"
     ]
    },
    {
     "name": "stderr",
     "output_type": "stream",
     "text": [
      "                 Class     Images  Instances      Box(P          R      mAP50  mAP50-95):  58%|█████▊    | 22/38 [10:13<07:09, 26.85s/it]"
     ]
    },
    {
     "name": "stdout",
     "output_type": "stream",
     "text": [
      "WARNING ⚠️ NMS time limit 2.800s exceeded\n"
     ]
    },
    {
     "name": "stderr",
     "output_type": "stream",
     "text": [
      "                 Class     Images  Instances      Box(P          R      mAP50  mAP50-95):  61%|██████    | 23/38 [10:39<06:39, 26.61s/it]"
     ]
    },
    {
     "name": "stdout",
     "output_type": "stream",
     "text": [
      "WARNING ⚠️ NMS time limit 2.800s exceeded\n"
     ]
    },
    {
     "name": "stderr",
     "output_type": "stream",
     "text": [
      "                 Class     Images  Instances      Box(P          R      mAP50  mAP50-95):  63%|██████▎   | 24/38 [11:09<06:23, 27.41s/it]"
     ]
    },
    {
     "name": "stdout",
     "output_type": "stream",
     "text": [
      "WARNING ⚠️ NMS time limit 2.800s exceeded\n"
     ]
    },
    {
     "name": "stderr",
     "output_type": "stream",
     "text": [
      "                 Class     Images  Instances      Box(P          R      mAP50  mAP50-95):  66%|██████▌   | 25/38 [11:39<06:06, 28.21s/it]"
     ]
    },
    {
     "name": "stdout",
     "output_type": "stream",
     "text": [
      "WARNING ⚠️ NMS time limit 2.800s exceeded\n"
     ]
    },
    {
     "name": "stderr",
     "output_type": "stream",
     "text": [
      "                 Class     Images  Instances      Box(P          R      mAP50  mAP50-95):  68%|██████▊   | 26/38 [12:05<05:31, 27.65s/it]"
     ]
    },
    {
     "name": "stdout",
     "output_type": "stream",
     "text": [
      "WARNING ⚠️ NMS time limit 2.800s exceeded\n"
     ]
    },
    {
     "name": "stderr",
     "output_type": "stream",
     "text": [
      "                 Class     Images  Instances      Box(P          R      mAP50  mAP50-95):  71%|███████   | 27/38 [12:30<04:54, 26.76s/it]"
     ]
    },
    {
     "name": "stdout",
     "output_type": "stream",
     "text": [
      "WARNING ⚠️ NMS time limit 2.800s exceeded\n"
     ]
    },
    {
     "name": "stderr",
     "output_type": "stream",
     "text": [
      "                 Class     Images  Instances      Box(P          R      mAP50  mAP50-95):  74%|███████▎  | 28/38 [12:58<04:32, 27.20s/it]"
     ]
    },
    {
     "name": "stdout",
     "output_type": "stream",
     "text": [
      "WARNING ⚠️ NMS time limit 2.800s exceeded\n"
     ]
    },
    {
     "name": "stderr",
     "output_type": "stream",
     "text": [
      "                 Class     Images  Instances      Box(P          R      mAP50  mAP50-95):  76%|███████▋  | 29/38 [13:26<04:08, 27.57s/it]"
     ]
    },
    {
     "name": "stdout",
     "output_type": "stream",
     "text": [
      "WARNING ⚠️ NMS time limit 2.800s exceeded\n"
     ]
    },
    {
     "name": "stderr",
     "output_type": "stream",
     "text": [
      "                 Class     Images  Instances      Box(P          R      mAP50  mAP50-95):  79%|███████▉  | 30/38 [14:01<03:56, 29.61s/it]"
     ]
    },
    {
     "name": "stdout",
     "output_type": "stream",
     "text": [
      "WARNING ⚠️ NMS time limit 2.800s exceeded\n"
     ]
    },
    {
     "name": "stderr",
     "output_type": "stream",
     "text": [
      "                 Class     Images  Instances      Box(P          R      mAP50  mAP50-95):  82%|████████▏ | 31/38 [14:34<03:34, 30.65s/it]"
     ]
    },
    {
     "name": "stdout",
     "output_type": "stream",
     "text": [
      "WARNING ⚠️ NMS time limit 2.800s exceeded\n"
     ]
    },
    {
     "name": "stderr",
     "output_type": "stream",
     "text": [
      "                 Class     Images  Instances      Box(P          R      mAP50  mAP50-95):  84%|████████▍ | 32/38 [15:07<03:08, 31.45s/it]"
     ]
    },
    {
     "name": "stdout",
     "output_type": "stream",
     "text": [
      "WARNING ⚠️ NMS time limit 2.800s exceeded\n"
     ]
    },
    {
     "name": "stderr",
     "output_type": "stream",
     "text": [
      "                 Class     Images  Instances      Box(P          R      mAP50  mAP50-95):  87%|████████▋ | 33/38 [15:36<02:32, 30.52s/it]"
     ]
    },
    {
     "name": "stdout",
     "output_type": "stream",
     "text": [
      "WARNING ⚠️ NMS time limit 2.800s exceeded\n"
     ]
    },
    {
     "name": "stderr",
     "output_type": "stream",
     "text": [
      "                 Class     Images  Instances      Box(P          R      mAP50  mAP50-95):  89%|████████▉ | 34/38 [16:03<01:58, 29.66s/it]"
     ]
    },
    {
     "name": "stdout",
     "output_type": "stream",
     "text": [
      "WARNING ⚠️ NMS time limit 2.800s exceeded\n"
     ]
    },
    {
     "name": "stderr",
     "output_type": "stream",
     "text": [
      "                 Class     Images  Instances      Box(P          R      mAP50  mAP50-95):  92%|█████████▏| 35/38 [16:44<01:39, 33.14s/it]"
     ]
    },
    {
     "name": "stdout",
     "output_type": "stream",
     "text": [
      "WARNING ⚠️ NMS time limit 2.800s exceeded\n"
     ]
    },
    {
     "name": "stderr",
     "output_type": "stream",
     "text": [
      "                 Class     Images  Instances      Box(P          R      mAP50  mAP50-95):  95%|█████████▍| 36/38 [17:24<01:09, 34.94s/it]"
     ]
    },
    {
     "name": "stdout",
     "output_type": "stream",
     "text": [
      "WARNING ⚠️ NMS time limit 2.800s exceeded\n"
     ]
    },
    {
     "name": "stderr",
     "output_type": "stream",
     "text": [
      "                 Class     Images  Instances      Box(P          R      mAP50  mAP50-95):  97%|█████████▋| 37/38 [17:54<00:33, 33.48s/it]"
     ]
    },
    {
     "name": "stdout",
     "output_type": "stream",
     "text": [
      "WARNING ⚠️ NMS time limit 2.300s exceeded\n"
     ]
    },
    {
     "name": "stderr",
     "output_type": "stream",
     "text": [
      "                 Class     Images  Instances      Box(P          R      mAP50  mAP50-95): 100%|██████████| 38/38 [18:07<00:00, 28.62s/it]\n"
     ]
    },
    {
     "name": "stdout",
     "output_type": "stream",
     "text": [
      "                   all        598       5432   0.000419   0.000862   0.000314   0.000286\n",
      "\n",
      "      Epoch    GPU_mem   box_loss   cls_loss   dfl_loss  Instances       Size\n"
     ]
    },
    {
     "name": "stderr",
     "output_type": "stream",
     "text": [
      "       9/10      13.6G     0.6238      6.628     0.9155         74        640:  52%|█████▏    | 154/299 [43:02<40:31, 16.77s/it]  \n"
     ]
    },
    {
     "ename": "KeyboardInterrupt",
     "evalue": "",
     "output_type": "error",
     "traceback": [
      "\u001b[31m---------------------------------------------------------------------------\u001b[39m",
      "\u001b[31mKeyboardInterrupt\u001b[39m                         Traceback (most recent call last)",
      "\u001b[36mCell\u001b[39m\u001b[36m \u001b[39m\u001b[32mIn[2]\u001b[39m\u001b[32m, line 2\u001b[39m\n\u001b[32m      1\u001b[39m model = YOLO(\u001b[33m\"\u001b[39m\u001b[33myolov8s.pt\u001b[39m\u001b[33m\"\u001b[39m)\n\u001b[32m----> \u001b[39m\u001b[32m2\u001b[39m \u001b[43mmodel\u001b[49m\u001b[43m.\u001b[49m\u001b[43mtrain\u001b[49m\u001b[43m(\u001b[49m\u001b[43mdata\u001b[49m\u001b[43m=\u001b[49m\u001b[33;43m\"\u001b[39;49m\u001b[33;43mcustom.yaml\u001b[39;49m\u001b[33;43m\"\u001b[39;49m\u001b[43m,\u001b[49m\u001b[43m \u001b[49m\u001b[43mepochs\u001b[49m\u001b[43m=\u001b[49m\u001b[32;43m10\u001b[39;49m\u001b[43m,\u001b[49m\u001b[43m \u001b[49m\u001b[43mimgsz\u001b[49m\u001b[43m=\u001b[49m\u001b[32;43m640\u001b[39;49m\u001b[43m,\u001b[49m\u001b[43m \u001b[49m\u001b[43mdevice\u001b[49m\u001b[43m=\u001b[49m\u001b[43mdevice\u001b[49m\u001b[43m,\u001b[49m\u001b[43m \u001b[49m\u001b[43mbatch\u001b[49m\u001b[43m=\u001b[49m\u001b[32;43m8\u001b[39;49m\u001b[43m,\u001b[49m\u001b[43m \u001b[49m\u001b[43msave_period\u001b[49m\u001b[43m=\u001b[49m\u001b[32;43m1\u001b[39;49m\u001b[43m,\u001b[49m\u001b[43m \u001b[49m\u001b[43msave\u001b[49m\u001b[43m=\u001b[49m\u001b[38;5;28;43;01mTrue\u001b[39;49;00m\u001b[43m)\u001b[49m\n",
      "\u001b[36mFile \u001b[39m\u001b[32m~/Desktop/comp_vis/PTCGextension/env/lib/python3.12/site-packages/ultralytics/engine/model.py:797\u001b[39m, in \u001b[36mModel.train\u001b[39m\u001b[34m(self, trainer, **kwargs)\u001b[39m\n\u001b[32m    794\u001b[39m     \u001b[38;5;28mself\u001b[39m.model = \u001b[38;5;28mself\u001b[39m.trainer.model\n\u001b[32m    796\u001b[39m \u001b[38;5;28mself\u001b[39m.trainer.hub_session = \u001b[38;5;28mself\u001b[39m.session  \u001b[38;5;66;03m# attach optional HUB session\u001b[39;00m\n\u001b[32m--> \u001b[39m\u001b[32m797\u001b[39m \u001b[38;5;28;43mself\u001b[39;49m\u001b[43m.\u001b[49m\u001b[43mtrainer\u001b[49m\u001b[43m.\u001b[49m\u001b[43mtrain\u001b[49m\u001b[43m(\u001b[49m\u001b[43m)\u001b[49m\n\u001b[32m    798\u001b[39m \u001b[38;5;66;03m# Update model and cfg after training\u001b[39;00m\n\u001b[32m    799\u001b[39m \u001b[38;5;28;01mif\u001b[39;00m RANK \u001b[38;5;129;01min\u001b[39;00m {-\u001b[32m1\u001b[39m, \u001b[32m0\u001b[39m}:\n",
      "\u001b[36mFile \u001b[39m\u001b[32m~/Desktop/comp_vis/PTCGextension/env/lib/python3.12/site-packages/ultralytics/engine/trainer.py:227\u001b[39m, in \u001b[36mBaseTrainer.train\u001b[39m\u001b[34m(self)\u001b[39m\n\u001b[32m    224\u001b[39m         ddp_cleanup(\u001b[38;5;28mself\u001b[39m, \u001b[38;5;28mstr\u001b[39m(file))\n\u001b[32m    226\u001b[39m \u001b[38;5;28;01melse\u001b[39;00m:\n\u001b[32m--> \u001b[39m\u001b[32m227\u001b[39m     \u001b[38;5;28;43mself\u001b[39;49m\u001b[43m.\u001b[49m\u001b[43m_do_train\u001b[49m\u001b[43m(\u001b[49m\u001b[43mworld_size\u001b[49m\u001b[43m)\u001b[49m\n",
      "\u001b[36mFile \u001b[39m\u001b[32m~/Desktop/comp_vis/PTCGextension/env/lib/python3.12/site-packages/ultralytics/engine/trainer.py:406\u001b[39m, in \u001b[36mBaseTrainer._do_train\u001b[39m\u001b[34m(self, world_size)\u001b[39m\n\u001b[32m    404\u001b[39m \u001b[38;5;28;01mwith\u001b[39;00m autocast(\u001b[38;5;28mself\u001b[39m.amp):\n\u001b[32m    405\u001b[39m     batch = \u001b[38;5;28mself\u001b[39m.preprocess_batch(batch)\n\u001b[32m--> \u001b[39m\u001b[32m406\u001b[39m     loss, \u001b[38;5;28mself\u001b[39m.loss_items = \u001b[38;5;28;43mself\u001b[39;49m\u001b[43m.\u001b[49m\u001b[43mmodel\u001b[49m\u001b[43m(\u001b[49m\u001b[43mbatch\u001b[49m\u001b[43m)\u001b[49m\n\u001b[32m    407\u001b[39m     \u001b[38;5;28mself\u001b[39m.loss = loss.sum()\n\u001b[32m    408\u001b[39m     \u001b[38;5;28;01mif\u001b[39;00m RANK != -\u001b[32m1\u001b[39m:\n",
      "\u001b[36mFile \u001b[39m\u001b[32m~/Desktop/comp_vis/PTCGextension/env/lib/python3.12/site-packages/torch/nn/modules/module.py:1751\u001b[39m, in \u001b[36mModule._wrapped_call_impl\u001b[39m\u001b[34m(self, *args, **kwargs)\u001b[39m\n\u001b[32m   1749\u001b[39m     \u001b[38;5;28;01mreturn\u001b[39;00m \u001b[38;5;28mself\u001b[39m._compiled_call_impl(*args, **kwargs)  \u001b[38;5;66;03m# type: ignore[misc]\u001b[39;00m\n\u001b[32m   1750\u001b[39m \u001b[38;5;28;01melse\u001b[39;00m:\n\u001b[32m-> \u001b[39m\u001b[32m1751\u001b[39m     \u001b[38;5;28;01mreturn\u001b[39;00m \u001b[38;5;28;43mself\u001b[39;49m\u001b[43m.\u001b[49m\u001b[43m_call_impl\u001b[49m\u001b[43m(\u001b[49m\u001b[43m*\u001b[49m\u001b[43margs\u001b[49m\u001b[43m,\u001b[49m\u001b[43m \u001b[49m\u001b[43m*\u001b[49m\u001b[43m*\u001b[49m\u001b[43mkwargs\u001b[49m\u001b[43m)\u001b[49m\n",
      "\u001b[36mFile \u001b[39m\u001b[32m~/Desktop/comp_vis/PTCGextension/env/lib/python3.12/site-packages/torch/nn/modules/module.py:1762\u001b[39m, in \u001b[36mModule._call_impl\u001b[39m\u001b[34m(self, *args, **kwargs)\u001b[39m\n\u001b[32m   1757\u001b[39m \u001b[38;5;66;03m# If we don't have any hooks, we want to skip the rest of the logic in\u001b[39;00m\n\u001b[32m   1758\u001b[39m \u001b[38;5;66;03m# this function, and just call forward.\u001b[39;00m\n\u001b[32m   1759\u001b[39m \u001b[38;5;28;01mif\u001b[39;00m \u001b[38;5;129;01mnot\u001b[39;00m (\u001b[38;5;28mself\u001b[39m._backward_hooks \u001b[38;5;129;01mor\u001b[39;00m \u001b[38;5;28mself\u001b[39m._backward_pre_hooks \u001b[38;5;129;01mor\u001b[39;00m \u001b[38;5;28mself\u001b[39m._forward_hooks \u001b[38;5;129;01mor\u001b[39;00m \u001b[38;5;28mself\u001b[39m._forward_pre_hooks\n\u001b[32m   1760\u001b[39m         \u001b[38;5;129;01mor\u001b[39;00m _global_backward_pre_hooks \u001b[38;5;129;01mor\u001b[39;00m _global_backward_hooks\n\u001b[32m   1761\u001b[39m         \u001b[38;5;129;01mor\u001b[39;00m _global_forward_hooks \u001b[38;5;129;01mor\u001b[39;00m _global_forward_pre_hooks):\n\u001b[32m-> \u001b[39m\u001b[32m1762\u001b[39m     \u001b[38;5;28;01mreturn\u001b[39;00m \u001b[43mforward_call\u001b[49m\u001b[43m(\u001b[49m\u001b[43m*\u001b[49m\u001b[43margs\u001b[49m\u001b[43m,\u001b[49m\u001b[43m \u001b[49m\u001b[43m*\u001b[49m\u001b[43m*\u001b[49m\u001b[43mkwargs\u001b[49m\u001b[43m)\u001b[49m\n\u001b[32m   1764\u001b[39m result = \u001b[38;5;28;01mNone\u001b[39;00m\n\u001b[32m   1765\u001b[39m called_always_called_hooks = \u001b[38;5;28mset\u001b[39m()\n",
      "\u001b[36mFile \u001b[39m\u001b[32m~/Desktop/comp_vis/PTCGextension/env/lib/python3.12/site-packages/ultralytics/nn/tasks.py:137\u001b[39m, in \u001b[36mBaseModel.forward\u001b[39m\u001b[34m(self, x, *args, **kwargs)\u001b[39m\n\u001b[32m    123\u001b[39m \u001b[38;5;250m\u001b[39m\u001b[33;03m\"\"\"\u001b[39;00m\n\u001b[32m    124\u001b[39m \u001b[33;03mPerform forward pass of the model for either training or inference.\u001b[39;00m\n\u001b[32m    125\u001b[39m \n\u001b[32m   (...)\u001b[39m\u001b[32m    134\u001b[39m \u001b[33;03m    (torch.Tensor): Loss if x is a dict (training), or network predictions (inference).\u001b[39;00m\n\u001b[32m    135\u001b[39m \u001b[33;03m\"\"\"\u001b[39;00m\n\u001b[32m    136\u001b[39m \u001b[38;5;28;01mif\u001b[39;00m \u001b[38;5;28misinstance\u001b[39m(x, \u001b[38;5;28mdict\u001b[39m):  \u001b[38;5;66;03m# for cases of training and validating while training.\u001b[39;00m\n\u001b[32m--> \u001b[39m\u001b[32m137\u001b[39m     \u001b[38;5;28;01mreturn\u001b[39;00m \u001b[38;5;28;43mself\u001b[39;49m\u001b[43m.\u001b[49m\u001b[43mloss\u001b[49m\u001b[43m(\u001b[49m\u001b[43mx\u001b[49m\u001b[43m,\u001b[49m\u001b[43m \u001b[49m\u001b[43m*\u001b[49m\u001b[43margs\u001b[49m\u001b[43m,\u001b[49m\u001b[43m \u001b[49m\u001b[43m*\u001b[49m\u001b[43m*\u001b[49m\u001b[43mkwargs\u001b[49m\u001b[43m)\u001b[49m\n\u001b[32m    138\u001b[39m \u001b[38;5;28;01mreturn\u001b[39;00m \u001b[38;5;28mself\u001b[39m.predict(x, *args, **kwargs)\n",
      "\u001b[36mFile \u001b[39m\u001b[32m~/Desktop/comp_vis/PTCGextension/env/lib/python3.12/site-packages/ultralytics/nn/tasks.py:337\u001b[39m, in \u001b[36mBaseModel.loss\u001b[39m\u001b[34m(self, batch, preds)\u001b[39m\n\u001b[32m    334\u001b[39m     \u001b[38;5;28mself\u001b[39m.criterion = \u001b[38;5;28mself\u001b[39m.init_criterion()\n\u001b[32m    336\u001b[39m preds = \u001b[38;5;28mself\u001b[39m.forward(batch[\u001b[33m\"\u001b[39m\u001b[33mimg\u001b[39m\u001b[33m\"\u001b[39m]) \u001b[38;5;28;01mif\u001b[39;00m preds \u001b[38;5;129;01mis\u001b[39;00m \u001b[38;5;28;01mNone\u001b[39;00m \u001b[38;5;28;01melse\u001b[39;00m preds\n\u001b[32m--> \u001b[39m\u001b[32m337\u001b[39m \u001b[38;5;28;01mreturn\u001b[39;00m \u001b[38;5;28;43mself\u001b[39;49m\u001b[43m.\u001b[49m\u001b[43mcriterion\u001b[49m\u001b[43m(\u001b[49m\u001b[43mpreds\u001b[49m\u001b[43m,\u001b[49m\u001b[43m \u001b[49m\u001b[43mbatch\u001b[49m\u001b[43m)\u001b[49m\n",
      "\u001b[36mFile \u001b[39m\u001b[32m~/Desktop/comp_vis/PTCGextension/env/lib/python3.12/site-packages/ultralytics/utils/loss.py:270\u001b[39m, in \u001b[36mv8DetectionLoss.__call__\u001b[39m\u001b[34m(self, preds, batch)\u001b[39m\n\u001b[32m    266\u001b[39m pred_bboxes = \u001b[38;5;28mself\u001b[39m.bbox_decode(anchor_points, pred_distri)  \u001b[38;5;66;03m# xyxy, (b, h*w, 4)\u001b[39;00m\n\u001b[32m    267\u001b[39m \u001b[38;5;66;03m# dfl_conf = pred_distri.view(batch_size, -1, 4, self.reg_max).detach().softmax(-1)\u001b[39;00m\n\u001b[32m    268\u001b[39m \u001b[38;5;66;03m# dfl_conf = (dfl_conf.amax(-1).mean(-1) + dfl_conf.amax(-1).amin(-1)) / 2\u001b[39;00m\n\u001b[32m--> \u001b[39m\u001b[32m270\u001b[39m _, target_bboxes, target_scores, fg_mask, _ = \u001b[38;5;28;43mself\u001b[39;49m\u001b[43m.\u001b[49m\u001b[43massigner\u001b[49m\u001b[43m(\u001b[49m\n\u001b[32m    271\u001b[39m \u001b[43m    \u001b[49m\u001b[38;5;66;43;03m# pred_scores.detach().sigmoid() * 0.8 + dfl_conf.unsqueeze(-1) * 0.2,\u001b[39;49;00m\n\u001b[32m    272\u001b[39m \u001b[43m    \u001b[49m\u001b[43mpred_scores\u001b[49m\u001b[43m.\u001b[49m\u001b[43mdetach\u001b[49m\u001b[43m(\u001b[49m\u001b[43m)\u001b[49m\u001b[43m.\u001b[49m\u001b[43msigmoid\u001b[49m\u001b[43m(\u001b[49m\u001b[43m)\u001b[49m\u001b[43m,\u001b[49m\n\u001b[32m    273\u001b[39m \u001b[43m    \u001b[49m\u001b[43m(\u001b[49m\u001b[43mpred_bboxes\u001b[49m\u001b[43m.\u001b[49m\u001b[43mdetach\u001b[49m\u001b[43m(\u001b[49m\u001b[43m)\u001b[49m\u001b[43m \u001b[49m\u001b[43m*\u001b[49m\u001b[43m \u001b[49m\u001b[43mstride_tensor\u001b[49m\u001b[43m)\u001b[49m\u001b[43m.\u001b[49m\u001b[43mtype\u001b[49m\u001b[43m(\u001b[49m\u001b[43mgt_bboxes\u001b[49m\u001b[43m.\u001b[49m\u001b[43mdtype\u001b[49m\u001b[43m)\u001b[49m\u001b[43m,\u001b[49m\n\u001b[32m    274\u001b[39m \u001b[43m    \u001b[49m\u001b[43manchor_points\u001b[49m\u001b[43m \u001b[49m\u001b[43m*\u001b[49m\u001b[43m \u001b[49m\u001b[43mstride_tensor\u001b[49m\u001b[43m,\u001b[49m\n\u001b[32m    275\u001b[39m \u001b[43m    \u001b[49m\u001b[43mgt_labels\u001b[49m\u001b[43m,\u001b[49m\n\u001b[32m    276\u001b[39m \u001b[43m    \u001b[49m\u001b[43mgt_bboxes\u001b[49m\u001b[43m,\u001b[49m\n\u001b[32m    277\u001b[39m \u001b[43m    \u001b[49m\u001b[43mmask_gt\u001b[49m\u001b[43m,\u001b[49m\n\u001b[32m    278\u001b[39m \u001b[43m\u001b[49m\u001b[43m)\u001b[49m\n\u001b[32m    280\u001b[39m target_scores_sum = \u001b[38;5;28mmax\u001b[39m(target_scores.sum(), \u001b[32m1\u001b[39m)\n\u001b[32m    282\u001b[39m \u001b[38;5;66;03m# Cls loss\u001b[39;00m\n\u001b[32m    283\u001b[39m \u001b[38;5;66;03m# loss[1] = self.varifocal_loss(pred_scores, target_scores, target_labels) / target_scores_sum  # VFL way\u001b[39;00m\n",
      "\u001b[36mFile \u001b[39m\u001b[32m~/Desktop/comp_vis/PTCGextension/env/lib/python3.12/site-packages/torch/nn/modules/module.py:1751\u001b[39m, in \u001b[36mModule._wrapped_call_impl\u001b[39m\u001b[34m(self, *args, **kwargs)\u001b[39m\n\u001b[32m   1749\u001b[39m     \u001b[38;5;28;01mreturn\u001b[39;00m \u001b[38;5;28mself\u001b[39m._compiled_call_impl(*args, **kwargs)  \u001b[38;5;66;03m# type: ignore[misc]\u001b[39;00m\n\u001b[32m   1750\u001b[39m \u001b[38;5;28;01melse\u001b[39;00m:\n\u001b[32m-> \u001b[39m\u001b[32m1751\u001b[39m     \u001b[38;5;28;01mreturn\u001b[39;00m \u001b[38;5;28;43mself\u001b[39;49m\u001b[43m.\u001b[49m\u001b[43m_call_impl\u001b[49m\u001b[43m(\u001b[49m\u001b[43m*\u001b[49m\u001b[43margs\u001b[49m\u001b[43m,\u001b[49m\u001b[43m \u001b[49m\u001b[43m*\u001b[49m\u001b[43m*\u001b[49m\u001b[43mkwargs\u001b[49m\u001b[43m)\u001b[49m\n",
      "\u001b[36mFile \u001b[39m\u001b[32m~/Desktop/comp_vis/PTCGextension/env/lib/python3.12/site-packages/torch/nn/modules/module.py:1762\u001b[39m, in \u001b[36mModule._call_impl\u001b[39m\u001b[34m(self, *args, **kwargs)\u001b[39m\n\u001b[32m   1757\u001b[39m \u001b[38;5;66;03m# If we don't have any hooks, we want to skip the rest of the logic in\u001b[39;00m\n\u001b[32m   1758\u001b[39m \u001b[38;5;66;03m# this function, and just call forward.\u001b[39;00m\n\u001b[32m   1759\u001b[39m \u001b[38;5;28;01mif\u001b[39;00m \u001b[38;5;129;01mnot\u001b[39;00m (\u001b[38;5;28mself\u001b[39m._backward_hooks \u001b[38;5;129;01mor\u001b[39;00m \u001b[38;5;28mself\u001b[39m._backward_pre_hooks \u001b[38;5;129;01mor\u001b[39;00m \u001b[38;5;28mself\u001b[39m._forward_hooks \u001b[38;5;129;01mor\u001b[39;00m \u001b[38;5;28mself\u001b[39m._forward_pre_hooks\n\u001b[32m   1760\u001b[39m         \u001b[38;5;129;01mor\u001b[39;00m _global_backward_pre_hooks \u001b[38;5;129;01mor\u001b[39;00m _global_backward_hooks\n\u001b[32m   1761\u001b[39m         \u001b[38;5;129;01mor\u001b[39;00m _global_forward_hooks \u001b[38;5;129;01mor\u001b[39;00m _global_forward_pre_hooks):\n\u001b[32m-> \u001b[39m\u001b[32m1762\u001b[39m     \u001b[38;5;28;01mreturn\u001b[39;00m \u001b[43mforward_call\u001b[49m\u001b[43m(\u001b[49m\u001b[43m*\u001b[49m\u001b[43margs\u001b[49m\u001b[43m,\u001b[49m\u001b[43m \u001b[49m\u001b[43m*\u001b[49m\u001b[43m*\u001b[49m\u001b[43mkwargs\u001b[49m\u001b[43m)\u001b[49m\n\u001b[32m   1764\u001b[39m result = \u001b[38;5;28;01mNone\u001b[39;00m\n\u001b[32m   1765\u001b[39m called_always_called_hooks = \u001b[38;5;28mset\u001b[39m()\n",
      "\u001b[36mFile \u001b[39m\u001b[32m~/Desktop/comp_vis/PTCGextension/env/lib/python3.12/site-packages/torch/utils/_contextlib.py:116\u001b[39m, in \u001b[36mcontext_decorator.<locals>.decorate_context\u001b[39m\u001b[34m(*args, **kwargs)\u001b[39m\n\u001b[32m    113\u001b[39m \u001b[38;5;129m@functools\u001b[39m.wraps(func)\n\u001b[32m    114\u001b[39m \u001b[38;5;28;01mdef\u001b[39;00m\u001b[38;5;250m \u001b[39m\u001b[34mdecorate_context\u001b[39m(*args, **kwargs):\n\u001b[32m    115\u001b[39m     \u001b[38;5;28;01mwith\u001b[39;00m ctx_factory():\n\u001b[32m--> \u001b[39m\u001b[32m116\u001b[39m         \u001b[38;5;28;01mreturn\u001b[39;00m \u001b[43mfunc\u001b[49m\u001b[43m(\u001b[49m\u001b[43m*\u001b[49m\u001b[43margs\u001b[49m\u001b[43m,\u001b[49m\u001b[43m \u001b[49m\u001b[43m*\u001b[49m\u001b[43m*\u001b[49m\u001b[43mkwargs\u001b[49m\u001b[43m)\u001b[49m\n",
      "\u001b[36mFile \u001b[39m\u001b[32m~/Desktop/comp_vis/PTCGextension/env/lib/python3.12/site-packages/ultralytics/utils/tal.py:84\u001b[39m, in \u001b[36mTaskAlignedAssigner.forward\u001b[39m\u001b[34m(self, pd_scores, pd_bboxes, anc_points, gt_labels, gt_bboxes, mask_gt)\u001b[39m\n\u001b[32m     75\u001b[39m     \u001b[38;5;28;01mreturn\u001b[39;00m (\n\u001b[32m     76\u001b[39m         torch.full_like(pd_scores[..., \u001b[32m0\u001b[39m], \u001b[38;5;28mself\u001b[39m.num_classes),\n\u001b[32m     77\u001b[39m         torch.zeros_like(pd_bboxes),\n\u001b[32m   (...)\u001b[39m\u001b[32m     80\u001b[39m         torch.zeros_like(pd_scores[..., \u001b[32m0\u001b[39m]),\n\u001b[32m     81\u001b[39m     )\n\u001b[32m     83\u001b[39m \u001b[38;5;28;01mtry\u001b[39;00m:\n\u001b[32m---> \u001b[39m\u001b[32m84\u001b[39m     \u001b[38;5;28;01mreturn\u001b[39;00m \u001b[38;5;28;43mself\u001b[39;49m\u001b[43m.\u001b[49m\u001b[43m_forward\u001b[49m\u001b[43m(\u001b[49m\u001b[43mpd_scores\u001b[49m\u001b[43m,\u001b[49m\u001b[43m \u001b[49m\u001b[43mpd_bboxes\u001b[49m\u001b[43m,\u001b[49m\u001b[43m \u001b[49m\u001b[43manc_points\u001b[49m\u001b[43m,\u001b[49m\u001b[43m \u001b[49m\u001b[43mgt_labels\u001b[49m\u001b[43m,\u001b[49m\u001b[43m \u001b[49m\u001b[43mgt_bboxes\u001b[49m\u001b[43m,\u001b[49m\u001b[43m \u001b[49m\u001b[43mmask_gt\u001b[49m\u001b[43m)\u001b[49m\n\u001b[32m     85\u001b[39m \u001b[38;5;28;01mexcept\u001b[39;00m torch.cuda.OutOfMemoryError:\n\u001b[32m     86\u001b[39m     \u001b[38;5;66;03m# Move tensors to CPU, compute, then move back to original device\u001b[39;00m\n\u001b[32m     87\u001b[39m     LOGGER.warning(\u001b[33m\"\u001b[39m\u001b[33mCUDA OutOfMemoryError in TaskAlignedAssigner, using CPU\u001b[39m\u001b[33m\"\u001b[39m)\n",
      "\u001b[36mFile \u001b[39m\u001b[32m~/Desktop/comp_vis/PTCGextension/env/lib/python3.12/site-packages/ultralytics/utils/tal.py:111\u001b[39m, in \u001b[36mTaskAlignedAssigner._forward\u001b[39m\u001b[34m(self, pd_scores, pd_bboxes, anc_points, gt_labels, gt_bboxes, mask_gt)\u001b[39m\n\u001b[32m     92\u001b[39m \u001b[38;5;28;01mdef\u001b[39;00m\u001b[38;5;250m \u001b[39m\u001b[34m_forward\u001b[39m(\u001b[38;5;28mself\u001b[39m, pd_scores, pd_bboxes, anc_points, gt_labels, gt_bboxes, mask_gt):\n\u001b[32m     93\u001b[39m \u001b[38;5;250m    \u001b[39m\u001b[33;03m\"\"\"\u001b[39;00m\n\u001b[32m     94\u001b[39m \u001b[33;03m    Compute the task-aligned assignment.\u001b[39;00m\n\u001b[32m     95\u001b[39m \n\u001b[32m   (...)\u001b[39m\u001b[32m    109\u001b[39m \u001b[33;03m        target_gt_idx (torch.Tensor): Target ground truth indices with shape (bs, num_total_anchors).\u001b[39;00m\n\u001b[32m    110\u001b[39m \u001b[33;03m    \"\"\"\u001b[39;00m\n\u001b[32m--> \u001b[39m\u001b[32m111\u001b[39m     mask_pos, align_metric, overlaps = \u001b[38;5;28;43mself\u001b[39;49m\u001b[43m.\u001b[49m\u001b[43mget_pos_mask\u001b[49m\u001b[43m(\u001b[49m\n\u001b[32m    112\u001b[39m \u001b[43m        \u001b[49m\u001b[43mpd_scores\u001b[49m\u001b[43m,\u001b[49m\u001b[43m \u001b[49m\u001b[43mpd_bboxes\u001b[49m\u001b[43m,\u001b[49m\u001b[43m \u001b[49m\u001b[43mgt_labels\u001b[49m\u001b[43m,\u001b[49m\u001b[43m \u001b[49m\u001b[43mgt_bboxes\u001b[49m\u001b[43m,\u001b[49m\u001b[43m \u001b[49m\u001b[43manc_points\u001b[49m\u001b[43m,\u001b[49m\u001b[43m \u001b[49m\u001b[43mmask_gt\u001b[49m\n\u001b[32m    113\u001b[39m \u001b[43m    \u001b[49m\u001b[43m)\u001b[49m\n\u001b[32m    115\u001b[39m     target_gt_idx, fg_mask, mask_pos = \u001b[38;5;28mself\u001b[39m.select_highest_overlaps(mask_pos, overlaps, \u001b[38;5;28mself\u001b[39m.n_max_boxes)\n\u001b[32m    117\u001b[39m     \u001b[38;5;66;03m# Assigned target\u001b[39;00m\n",
      "\u001b[36mFile \u001b[39m\u001b[32m~/Desktop/comp_vis/PTCGextension/env/lib/python3.12/site-packages/ultralytics/utils/tal.py:148\u001b[39m, in \u001b[36mTaskAlignedAssigner.get_pos_mask\u001b[39m\u001b[34m(self, pd_scores, pd_bboxes, gt_labels, gt_bboxes, anc_points, mask_gt)\u001b[39m\n\u001b[32m    146\u001b[39m mask_in_gts = \u001b[38;5;28mself\u001b[39m.select_candidates_in_gts(anc_points, gt_bboxes)\n\u001b[32m    147\u001b[39m \u001b[38;5;66;03m# Get anchor_align metric, (b, max_num_obj, h*w)\u001b[39;00m\n\u001b[32m--> \u001b[39m\u001b[32m148\u001b[39m align_metric, overlaps = \u001b[38;5;28;43mself\u001b[39;49m\u001b[43m.\u001b[49m\u001b[43mget_box_metrics\u001b[49m\u001b[43m(\u001b[49m\u001b[43mpd_scores\u001b[49m\u001b[43m,\u001b[49m\u001b[43m \u001b[49m\u001b[43mpd_bboxes\u001b[49m\u001b[43m,\u001b[49m\u001b[43m \u001b[49m\u001b[43mgt_labels\u001b[49m\u001b[43m,\u001b[49m\u001b[43m \u001b[49m\u001b[43mgt_bboxes\u001b[49m\u001b[43m,\u001b[49m\u001b[43m \u001b[49m\u001b[43mmask_in_gts\u001b[49m\u001b[43m \u001b[49m\u001b[43m*\u001b[49m\u001b[43m \u001b[49m\u001b[43mmask_gt\u001b[49m\u001b[43m)\u001b[49m\n\u001b[32m    149\u001b[39m \u001b[38;5;66;03m# Get topk_metric mask, (b, max_num_obj, h*w)\u001b[39;00m\n\u001b[32m    150\u001b[39m mask_topk = \u001b[38;5;28mself\u001b[39m.select_topk_candidates(align_metric, topk_mask=mask_gt.expand(-\u001b[32m1\u001b[39m, -\u001b[32m1\u001b[39m, \u001b[38;5;28mself\u001b[39m.topk).bool())\n",
      "\u001b[36mFile \u001b[39m\u001b[32m~/Desktop/comp_vis/PTCGextension/env/lib/python3.12/site-packages/ultralytics/utils/tal.py:184\u001b[39m, in \u001b[36mTaskAlignedAssigner.get_box_metrics\u001b[39m\u001b[34m(self, pd_scores, pd_bboxes, gt_labels, gt_bboxes, mask_gt)\u001b[39m\n\u001b[32m    182\u001b[39m \u001b[38;5;66;03m# (b, max_num_obj, 1, 4), (b, 1, h*w, 4)\u001b[39;00m\n\u001b[32m    183\u001b[39m pd_boxes = pd_bboxes.unsqueeze(\u001b[32m1\u001b[39m).expand(-\u001b[32m1\u001b[39m, \u001b[38;5;28mself\u001b[39m.n_max_boxes, -\u001b[32m1\u001b[39m, -\u001b[32m1\u001b[39m)[mask_gt]\n\u001b[32m--> \u001b[39m\u001b[32m184\u001b[39m gt_boxes = \u001b[43mgt_bboxes\u001b[49m\u001b[43m.\u001b[49m\u001b[43munsqueeze\u001b[49m\u001b[43m(\u001b[49m\u001b[32;43m2\u001b[39;49m\u001b[43m)\u001b[49m.expand(-\u001b[32m1\u001b[39m, -\u001b[32m1\u001b[39m, na, -\u001b[32m1\u001b[39m)[mask_gt]\n\u001b[32m    185\u001b[39m overlaps[mask_gt] = \u001b[38;5;28mself\u001b[39m.iou_calculation(gt_boxes, pd_boxes)\n\u001b[32m    187\u001b[39m align_metric = bbox_scores.pow(\u001b[38;5;28mself\u001b[39m.alpha) * overlaps.pow(\u001b[38;5;28mself\u001b[39m.beta)\n",
      "\u001b[31mKeyboardInterrupt\u001b[39m: "
     ]
    }
   ],
   "source": [
    "model = YOLO(\"yolov8s.pt\")\n",
    "model.train(data=\"custom.yaml\", epochs=100, imgsz=1024, device=device, batch=16, save_period=1, save=True)"
   ]
  },
  {
   "cell_type": "code",
   "execution_count": 4,
   "id": "97cb7048",
   "metadata": {},
   "outputs": [
    {
     "name": "stdout",
     "output_type": "stream",
     "text": [
      "\n",
      "WARNING ⚠️ imgsz=[1080] must be multiple of max stride 32, updating to [1088]\n",
      "image 1/1 /Users/pedropertusi/Desktop/comp_vis/PTCGextension/input_example/teste_simples.jpeg: 640x1088 1 sv1-154, 1 sv2-6, 1 sv4-131, 1 sv6-126, 1 sv6-223, 1 sv8-21, 2 sv8pt5-103s, 1 svp-45, 1 svp-82, 1 svp-162, 217.7ms\n",
      "Speed: 3.4ms preprocess, 217.7ms inference, 26.1ms postprocess per image at shape (1, 3, 640, 1088)\n",
      "Results saved to \u001b[1m/Users/pedropertusi/Desktop/comp_vis/PTCGextension/runs/detect/predict8\u001b[0m\n"
     ]
    }
   ],
   "source": [
    "from ultralytics import YOLO\n",
    "\n",
    "model = YOLO(\"runs/detect/train2/weights/best.pt\")  # adjust path if needed\n",
    "results = model.predict(\n",
    "    source=\"./input_example/teste_simples.jpeg\",\n",
    "    imgsz=1080,\n",
    "    conf=0.01,\n",
    "    save=True\n",
    ")\n"
   ]
  },
  {
   "cell_type": "code",
   "execution_count": 17,
   "id": "c0de8411",
   "metadata": {},
   "outputs": [
    {
     "name": "stdout",
     "output_type": "stream",
     "text": [
      "New https://pypi.org/project/ultralytics/8.3.146 available 😃 Update with 'pip install -U ultralytics'\n",
      "Ultralytics 8.3.145 🚀 Python-3.12.3 torch-2.7.0 CPU (Apple M2 Pro)\n",
      "\u001b[34m\u001b[1mengine/trainer: \u001b[0magnostic_nms=False, amp=True, augment=False, auto_augment=randaugment, batch=8, bgr=0.0, box=7.5, cache=False, cfg=None, classes=None, close_mosaic=10, cls=0.5, conf=None, copy_paste=0.0, copy_paste_mode=flip, cos_lr=False, cutmix=0.0, data=custom.yaml, degrees=0.0, deterministic=True, device=cpu, dfl=1.5, dnn=False, dropout=0.0, dynamic=False, embed=None, epochs=20, erasing=0.4, exist_ok=False, fliplr=0.5, flipud=0.0, format=torchscript, fraction=1.0, freeze=None, half=False, hsv_h=0.015, hsv_s=0.7, hsv_v=0.4, imgsz=640, int8=False, iou=0.7, keras=False, kobj=1.0, line_width=None, lr0=0.01, lrf=0.01, mask_ratio=4, max_det=300, mixup=0.0, mode=train, model=runs/detect/train/weights/last.pt, momentum=0.937, mosaic=1.0, multi_scale=False, name=train2, nbs=64, nms=False, opset=None, optimize=False, optimizer=auto, overlap_mask=True, patience=100, perspective=0.0, plots=True, pose=12.0, pretrained=True, profile=False, project=None, rect=False, resume=False, retina_masks=False, save=True, save_conf=False, save_crop=False, save_dir=/Users/pedropertusi/Desktop/comp_vis/PTCGextension/runs/detect/train2, save_frames=False, save_json=False, save_period=1, save_txt=False, scale=0.5, seed=0, shear=0.0, show=False, show_boxes=True, show_conf=True, show_labels=True, simplify=True, single_cls=False, source=None, split=val, stream_buffer=False, task=detect, time=None, tracker=botsort.yaml, translate=0.1, val=True, verbose=True, vid_stride=1, visualize=False, warmup_bias_lr=0.1, warmup_epochs=3.0, warmup_momentum=0.8, weight_decay=0.0005, workers=8, workspace=None\n",
      "\n",
      "                   from  n    params  module                                       arguments                     \n",
      "  0                  -1  1       928  ultralytics.nn.modules.conv.Conv             [3, 32, 3, 2]                 \n",
      "  1                  -1  1     18560  ultralytics.nn.modules.conv.Conv             [32, 64, 3, 2]                \n",
      "  2                  -1  1     29056  ultralytics.nn.modules.block.C2f             [64, 64, 1, True]             \n",
      "  3                  -1  1     73984  ultralytics.nn.modules.conv.Conv             [64, 128, 3, 2]               \n",
      "  4                  -1  2    197632  ultralytics.nn.modules.block.C2f             [128, 128, 2, True]           \n",
      "  5                  -1  1    295424  ultralytics.nn.modules.conv.Conv             [128, 256, 3, 2]              \n",
      "  6                  -1  2    788480  ultralytics.nn.modules.block.C2f             [256, 256, 2, True]           \n",
      "  7                  -1  1   1180672  ultralytics.nn.modules.conv.Conv             [256, 512, 3, 2]              \n",
      "  8                  -1  1   1838080  ultralytics.nn.modules.block.C2f             [512, 512, 1, True]           \n",
      "  9                  -1  1    656896  ultralytics.nn.modules.block.SPPF            [512, 512, 5]                 \n",
      " 10                  -1  1         0  torch.nn.modules.upsampling.Upsample         [None, 2, 'nearest']          \n",
      " 11             [-1, 6]  1         0  ultralytics.nn.modules.conv.Concat           [1]                           \n",
      " 12                  -1  1    591360  ultralytics.nn.modules.block.C2f             [768, 256, 1]                 \n",
      " 13                  -1  1         0  torch.nn.modules.upsampling.Upsample         [None, 2, 'nearest']          \n",
      " 14             [-1, 4]  1         0  ultralytics.nn.modules.conv.Concat           [1]                           \n",
      " 15                  -1  1    148224  ultralytics.nn.modules.block.C2f             [384, 128, 1]                 \n",
      " 16                  -1  1    147712  ultralytics.nn.modules.conv.Conv             [128, 128, 3, 2]              \n",
      " 17            [-1, 12]  1         0  ultralytics.nn.modules.conv.Concat           [1]                           \n",
      " 18                  -1  1    493056  ultralytics.nn.modules.block.C2f             [384, 256, 1]                 \n",
      " 19                  -1  1    590336  ultralytics.nn.modules.conv.Conv             [256, 256, 3, 2]              \n",
      " 20             [-1, 9]  1         0  ultralytics.nn.modules.conv.Concat           [1]                           \n",
      " 21                  -1  1   1969152  ultralytics.nn.modules.block.C2f             [768, 512, 1]                 \n",
      " 22        [15, 18, 21]  1   3278983  ultralytics.nn.modules.head.Detect           [3005, [128, 256, 512]]       \n",
      "Model summary: 129 layers, 12,298,535 parameters, 12,298,519 gradients, 35.1 GFLOPs\n",
      "\n",
      "Transferred 355/355 items from pretrained weights\n",
      "Freezing layer 'model.22.dfl.conv.weight'\n",
      "\u001b[34m\u001b[1mtrain: \u001b[0mFast image access ✅ (ping: 0.0±0.0 ms, read: 1683.2±221.3 MB/s, size: 1922.5 KB)\n"
     ]
    },
    {
     "name": "stderr",
     "output_type": "stream",
     "text": [
      "\u001b[34m\u001b[1mtrain: \u001b[0mScanning /Users/pedropertusi/Desktop/comp_vis/PTCGextension/data/labels/train.cache... 2392 images, 0 backgrounds, 0 corrupt: 100%|██████████| 2392/2392 [00:00<?, ?it/s]"
     ]
    },
    {
     "name": "stdout",
     "output_type": "stream",
     "text": [
      "\u001b[34m\u001b[1mval: \u001b[0mFast image access ✅ (ping: 0.0±0.1 ms, read: 2039.2±133.1 MB/s, size: 1849.7 KB)\n"
     ]
    },
    {
     "name": "stderr",
     "output_type": "stream",
     "text": [
      "\n",
      "\u001b[34m\u001b[1mval: \u001b[0mScanning /Users/pedropertusi/Desktop/comp_vis/PTCGextension/data/labels/val.cache... 598 images, 0 backgrounds, 0 corrupt: 100%|██████████| 598/598 [00:00<?, ?it/s]"
     ]
    },
    {
     "name": "stdout",
     "output_type": "stream",
     "text": [
      "Plotting labels to /Users/pedropertusi/Desktop/comp_vis/PTCGextension/runs/detect/train2/labels.jpg... \n"
     ]
    },
    {
     "name": "stderr",
     "output_type": "stream",
     "text": [
      "\n"
     ]
    },
    {
     "name": "stdout",
     "output_type": "stream",
     "text": [
      "\u001b[34m\u001b[1moptimizer:\u001b[0m 'optimizer=auto' found, ignoring 'lr0=0.01' and 'momentum=0.937' and determining best 'optimizer', 'lr0' and 'momentum' automatically... \n",
      "\u001b[34m\u001b[1moptimizer:\u001b[0m AdamW(lr=3e-06, momentum=0.9) with parameter groups 57 weight(decay=0.0), 64 weight(decay=0.0005), 63 bias(decay=0.0)\n",
      "Image sizes 640 train, 640 val\n",
      "Using 0 dataloader workers\n",
      "Logging results to \u001b[1m/Users/pedropertusi/Desktop/comp_vis/PTCGextension/runs/detect/train2\u001b[0m\n",
      "Starting training for 20 epochs...\n",
      "\n",
      "      Epoch    GPU_mem   box_loss   cls_loss   dfl_loss  Instances       Size\n"
     ]
    },
    {
     "name": "stderr",
     "output_type": "stream",
     "text": [
      "       1/20         0G     0.7421      6.735     0.9699        159        640: 100%|██████████| 299/299 [25:30<00:00,  5.12s/it]\n",
      "                 Class     Images  Instances      Box(P          R      mAP50  mAP50-95): 100%|██████████| 38/38 [04:08<00:00,  6.53s/it]\n"
     ]
    },
    {
     "name": "stdout",
     "output_type": "stream",
     "text": [
      "                   all        598       5432   6.29e-05    0.00838   0.000129   0.000119\n",
      "\n",
      "      Epoch    GPU_mem   box_loss   cls_loss   dfl_loss  Instances       Size\n"
     ]
    },
    {
     "name": "stderr",
     "output_type": "stream",
     "text": [
      "       2/20         0G     0.7274      6.654     0.9477         96        640: 100%|██████████| 299/299 [24:30<00:00,  4.92s/it]\n",
      "                 Class     Images  Instances      Box(P          R      mAP50  mAP50-95): 100%|██████████| 38/38 [04:11<00:00,  6.61s/it]\n"
     ]
    },
    {
     "name": "stdout",
     "output_type": "stream",
     "text": [
      "                   all        598       5432   6.95e-05    0.00929   0.000135   0.000126\n",
      "\n",
      "      Epoch    GPU_mem   box_loss   cls_loss   dfl_loss  Instances       Size\n"
     ]
    },
    {
     "name": "stderr",
     "output_type": "stream",
     "text": [
      "       3/20         0G     0.6929      6.555     0.9331        165        640: 100%|██████████| 299/299 [25:14<00:00,  5.06s/it]\n",
      "                 Class     Images  Instances      Box(P          R      mAP50  mAP50-95): 100%|██████████| 38/38 [04:12<00:00,  6.65s/it]\n"
     ]
    },
    {
     "name": "stdout",
     "output_type": "stream",
     "text": [
      "                   all        598       5432   8.18e-05    0.00949   0.000152   0.000144\n",
      "\n",
      "      Epoch    GPU_mem   box_loss   cls_loss   dfl_loss  Instances       Size\n"
     ]
    },
    {
     "name": "stderr",
     "output_type": "stream",
     "text": [
      "       4/20         0G     0.6982      6.466     0.9229         95        640: 100%|██████████| 299/299 [23:35<00:00,  4.73s/it]\n",
      "                 Class     Images  Instances      Box(P          R      mAP50  mAP50-95): 100%|██████████| 38/38 [04:15<00:00,  6.72s/it]\n"
     ]
    },
    {
     "name": "stdout",
     "output_type": "stream",
     "text": [
      "                   all        598       5432   0.000106    0.00965   0.000174   0.000164\n",
      "\n",
      "      Epoch    GPU_mem   box_loss   cls_loss   dfl_loss  Instances       Size\n"
     ]
    },
    {
     "name": "stderr",
     "output_type": "stream",
     "text": [
      "       5/20         0G     0.6854      6.366     0.9162        135        640: 100%|██████████| 299/299 [23:22<00:00,  4.69s/it]\n",
      "                 Class     Images  Instances      Box(P          R      mAP50  mAP50-95): 100%|██████████| 38/38 [04:11<00:00,  6.62s/it]\n"
     ]
    },
    {
     "name": "stdout",
     "output_type": "stream",
     "text": [
      "                   all        598       5432    0.00011     0.0104   0.000174   0.000163\n",
      "\n",
      "      Epoch    GPU_mem   box_loss   cls_loss   dfl_loss  Instances       Size\n"
     ]
    },
    {
     "name": "stderr",
     "output_type": "stream",
     "text": [
      "       6/20         0G     0.6762      6.289      0.914        177        640: 100%|██████████| 299/299 [23:41<00:00,  4.75s/it]\n",
      "                 Class     Images  Instances      Box(P          R      mAP50  mAP50-95): 100%|██████████| 38/38 [04:10<00:00,  6.60s/it]\n"
     ]
    },
    {
     "name": "stdout",
     "output_type": "stream",
     "text": [
      "                   all        598       5432   0.000122     0.0114   0.000191   0.000175\n",
      "\n",
      "      Epoch    GPU_mem   box_loss   cls_loss   dfl_loss  Instances       Size\n"
     ]
    },
    {
     "name": "stderr",
     "output_type": "stream",
     "text": [
      "       7/20         0G     0.6713      6.249     0.9117        136        640: 100%|██████████| 299/299 [24:54<00:00,  5.00s/it]\n",
      "                 Class     Images  Instances      Box(P          R      mAP50  mAP50-95): 100%|██████████| 38/38 [04:15<00:00,  6.73s/it]\n"
     ]
    },
    {
     "name": "stdout",
     "output_type": "stream",
     "text": [
      "                   all        598       5432   9.95e-05     0.0121   0.000193    0.00017\n",
      "\n",
      "      Epoch    GPU_mem   box_loss   cls_loss   dfl_loss  Instances       Size\n"
     ]
    },
    {
     "name": "stderr",
     "output_type": "stream",
     "text": [
      "       8/20         0G     0.6707      6.228     0.9074        157        640: 100%|██████████| 299/299 [24:29<00:00,  4.91s/it]\n",
      "                 Class     Images  Instances      Box(P          R      mAP50  mAP50-95): 100%|██████████| 38/38 [04:15<00:00,  6.72s/it]\n"
     ]
    },
    {
     "name": "stdout",
     "output_type": "stream",
     "text": [
      "                   all        598       5432   0.000118     0.0124   0.000219   0.000198\n",
      "\n",
      "      Epoch    GPU_mem   box_loss   cls_loss   dfl_loss  Instances       Size\n"
     ]
    },
    {
     "name": "stderr",
     "output_type": "stream",
     "text": [
      "       9/20         0G     0.6732      6.194     0.9056         81        640: 100%|██████████| 299/299 [24:32<00:00,  4.92s/it]\n",
      "                 Class     Images  Instances      Box(P          R      mAP50  mAP50-95): 100%|██████████| 38/38 [04:14<00:00,  6.71s/it]\n"
     ]
    },
    {
     "name": "stdout",
     "output_type": "stream",
     "text": [
      "                   all        598       5432   0.000126      0.012   0.000228   0.000207\n",
      "\n",
      "      Epoch    GPU_mem   box_loss   cls_loss   dfl_loss  Instances       Size\n"
     ]
    },
    {
     "name": "stderr",
     "output_type": "stream",
     "text": [
      "      10/20         0G     0.6633      6.153     0.9092        120        640: 100%|██████████| 299/299 [25:29<00:00,  5.11s/it]\n",
      "                 Class     Images  Instances      Box(P          R      mAP50  mAP50-95): 100%|██████████| 38/38 [04:10<00:00,  6.59s/it]\n"
     ]
    },
    {
     "name": "stdout",
     "output_type": "stream",
     "text": [
      "                   all        598       5432   0.000127     0.0119   0.000223   0.000202\n",
      "Closing dataloader mosaic\n",
      "\n",
      "      Epoch    GPU_mem   box_loss   cls_loss   dfl_loss  Instances       Size\n"
     ]
    },
    {
     "name": "stderr",
     "output_type": "stream",
     "text": [
      "      11/20         0G     0.6214      6.246     0.8896         59        640: 100%|██████████| 299/299 [24:08<00:00,  4.84s/it]\n",
      "                 Class     Images  Instances      Box(P          R      mAP50  mAP50-95): 100%|██████████| 38/38 [04:20<00:00,  6.86s/it]\n"
     ]
    },
    {
     "name": "stdout",
     "output_type": "stream",
     "text": [
      "                   all        598       5432   0.000133     0.0106   0.000459   0.000426\n",
      "\n",
      "      Epoch    GPU_mem   box_loss   cls_loss   dfl_loss  Instances       Size\n"
     ]
    },
    {
     "name": "stderr",
     "output_type": "stream",
     "text": [
      "      12/20         0G     0.6003      6.141     0.8903         83        640: 100%|██████████| 299/299 [25:01<00:00,  5.02s/it]\n",
      "                 Class     Images  Instances      Box(P          R      mAP50  mAP50-95): 100%|██████████| 38/38 [04:12<00:00,  6.65s/it]\n"
     ]
    },
    {
     "name": "stdout",
     "output_type": "stream",
     "text": [
      "                   all        598       5432   0.000176     0.0113    0.00042   0.000388\n",
      "\n",
      "      Epoch    GPU_mem   box_loss   cls_loss   dfl_loss  Instances       Size\n"
     ]
    },
    {
     "name": "stderr",
     "output_type": "stream",
     "text": [
      "      13/20         0G     0.5946      6.115     0.8893         84        640: 100%|██████████| 299/299 [23:06<00:00,  4.64s/it]\n",
      "                 Class     Images  Instances      Box(P          R      mAP50  mAP50-95): 100%|██████████| 38/38 [04:11<00:00,  6.63s/it]\n"
     ]
    },
    {
     "name": "stdout",
     "output_type": "stream",
     "text": [
      "                   all        598       5432   0.000167     0.0119   0.000401   0.000371\n",
      "\n",
      "      Epoch    GPU_mem   box_loss   cls_loss   dfl_loss  Instances       Size\n"
     ]
    },
    {
     "name": "stderr",
     "output_type": "stream",
     "text": [
      "      14/20         0G     0.5905      6.097     0.8871         61        640: 100%|██████████| 299/299 [23:03<00:00,  4.63s/it]\n",
      "                 Class     Images  Instances      Box(P          R      mAP50  mAP50-95): 100%|██████████| 38/38 [04:10<00:00,  6.60s/it]\n"
     ]
    },
    {
     "name": "stdout",
     "output_type": "stream",
     "text": [
      "                   all        598       5432    0.00016     0.0116   0.000372   0.000354\n",
      "\n",
      "      Epoch    GPU_mem   box_loss   cls_loss   dfl_loss  Instances       Size\n"
     ]
    },
    {
     "name": "stderr",
     "output_type": "stream",
     "text": [
      "      15/20         0G     0.5842      6.075     0.8884         49        640: 100%|██████████| 299/299 [23:25<00:00,  4.70s/it]\n",
      "                 Class     Images  Instances      Box(P          R      mAP50  mAP50-95): 100%|██████████| 38/38 [04:13<00:00,  6.68s/it]\n"
     ]
    },
    {
     "name": "stdout",
     "output_type": "stream",
     "text": [
      "                   all        598       5432   0.000156     0.0112   0.000358   0.000343\n",
      "\n",
      "      Epoch    GPU_mem   box_loss   cls_loss   dfl_loss  Instances       Size\n"
     ]
    },
    {
     "name": "stderr",
     "output_type": "stream",
     "text": [
      "      16/20         0G     0.5883      6.078     0.8871         72        640: 100%|██████████| 299/299 [24:23<00:00,  4.90s/it]\n",
      "                 Class     Images  Instances      Box(P          R      mAP50  mAP50-95): 100%|██████████| 38/38 [04:14<00:00,  6.70s/it]\n"
     ]
    },
    {
     "name": "stdout",
     "output_type": "stream",
     "text": [
      "                   all        598       5432   0.000151     0.0114   0.000356    0.00034\n",
      "\n",
      "      Epoch    GPU_mem   box_loss   cls_loss   dfl_loss  Instances       Size\n"
     ]
    },
    {
     "name": "stderr",
     "output_type": "stream",
     "text": [
      "      17/20         0G     0.5848      6.064     0.8843         62        640: 100%|██████████| 299/299 [24:53<00:00,  5.00s/it]\n",
      "                 Class     Images  Instances      Box(P          R      mAP50  mAP50-95): 100%|██████████| 38/38 [04:16<00:00,  6.75s/it]\n"
     ]
    },
    {
     "name": "stdout",
     "output_type": "stream",
     "text": [
      "                   all        598       5432   0.000154     0.0118   0.000358   0.000341\n",
      "\n",
      "      Epoch    GPU_mem   box_loss   cls_loss   dfl_loss  Instances       Size\n"
     ]
    },
    {
     "name": "stderr",
     "output_type": "stream",
     "text": [
      "      18/20         0G     0.5823      6.055     0.8864         66        640: 100%|██████████| 299/299 [25:15<00:00,  5.07s/it]\n",
      "                 Class     Images  Instances      Box(P          R      mAP50  mAP50-95): 100%|██████████| 38/38 [04:16<00:00,  6.76s/it]\n"
     ]
    },
    {
     "name": "stdout",
     "output_type": "stream",
     "text": [
      "                   all        598       5432   0.000159     0.0121   0.000349   0.000334\n",
      "\n",
      "      Epoch    GPU_mem   box_loss   cls_loss   dfl_loss  Instances       Size\n"
     ]
    },
    {
     "name": "stderr",
     "output_type": "stream",
     "text": [
      "      19/20         0G     0.5795      6.049     0.8863         76        640: 100%|██████████| 299/299 [23:48<00:00,  4.78s/it]\n",
      "                 Class     Images  Instances      Box(P          R      mAP50  mAP50-95): 100%|██████████| 38/38 [04:11<00:00,  6.62s/it]\n"
     ]
    },
    {
     "name": "stdout",
     "output_type": "stream",
     "text": [
      "                   all        598       5432    0.00015     0.0116   0.000342   0.000325\n",
      "\n",
      "      Epoch    GPU_mem   box_loss   cls_loss   dfl_loss  Instances       Size\n"
     ]
    },
    {
     "name": "stderr",
     "output_type": "stream",
     "text": [
      "      20/20         0G     0.5831      6.049      0.885         70        640: 100%|██████████| 299/299 [23:57<00:00,  4.81s/it]\n",
      "                 Class     Images  Instances      Box(P          R      mAP50  mAP50-95): 100%|██████████| 38/38 [04:12<00:00,  6.66s/it]\n"
     ]
    },
    {
     "name": "stdout",
     "output_type": "stream",
     "text": [
      "                   all        598       5432   0.000149     0.0116   0.000337   0.000322\n",
      "\n",
      "20 epochs completed in 9.527 hours.\n",
      "Optimizer stripped from /Users/pedropertusi/Desktop/comp_vis/PTCGextension/runs/detect/train2/weights/last.pt, 24.9MB\n",
      "Optimizer stripped from /Users/pedropertusi/Desktop/comp_vis/PTCGextension/runs/detect/train2/weights/best.pt, 24.9MB\n",
      "\n",
      "Validating /Users/pedropertusi/Desktop/comp_vis/PTCGextension/runs/detect/train2/weights/best.pt...\n",
      "Ultralytics 8.3.145 🚀 Python-3.12.3 torch-2.7.0 CPU (Apple M2 Pro)\n",
      "Model summary (fused): 72 layers, 12,288,519 parameters, 0 gradients, 34.9 GFLOPs\n"
     ]
    },
    {
     "name": "stderr",
     "output_type": "stream",
     "text": [
      "                 Class     Images  Instances      Box(P          R      mAP50  mAP50-95): 100%|██████████| 38/38 [03:04<00:00,  4.85s/it]\n"
     ]
    },
    {
     "name": "stdout",
     "output_type": "stream",
     "text": [
      "                   all        598       5432    0.00013     0.0104   0.000456   0.000424\n",
      "                 sv1-1          2          2          0          0          0          0\n",
      "                 sv1-2          2          2          0          0          0          0\n",
      "                 sv1-3          1          1          0          0          0          0\n",
      "                 sv1-4          2          2          0          0          0          0\n",
      "                 sv1-5          2          2          0          0          0          0\n",
      "                 sv1-6          1          1    0.00253          1    0.00771    0.00771\n",
      "                 sv1-7          1          1          0          0          0          0\n",
      "                 sv1-8          2          2          0          0          0          0\n",
      "                 sv1-9          3          3          0          0          0          0\n",
      "                sv1-10          1          1          0          0          0          0\n",
      "                sv1-11          1          1          0          0          0          0\n",
      "                sv1-12          3          3          0          0          0          0\n",
      "                sv1-13          1          1          0          0          0          0\n",
      "                sv1-14          3          3          0          0          0          0\n",
      "                sv1-15          3          3          0          0          0          0\n",
      "                sv1-16          2          2          0          0          0          0\n",
      "                sv1-17          1          1          0          0          0          0\n",
      "                sv1-18          2          2          0          0          0          0\n",
      "                sv1-19          2          2          0          0          0          0\n",
      "                sv1-21          1          1          0          0          0          0\n",
      "                sv1-22          2          2          0          0          0          0\n",
      "                sv1-23          1          1          0          0          0          0\n",
      "                sv1-24          2          2          0          0          0          0\n",
      "                sv1-25          4          4          0          0          0          0\n",
      "                sv1-27          4          4          0          0          0          0\n",
      "                sv1-28          1          1          0          0          0          0\n",
      "                sv1-29          3          3          0          0          0          0\n",
      "                sv1-30          2          2          0          0          0          0\n",
      "                sv1-31          4          4          0          0          0          0\n",
      "                sv1-32          2          2          0          0          0          0\n",
      "                sv1-33          4          4          0          0          0          0\n",
      "                sv1-34          4          4          0          0          0          0\n",
      "                sv1-35          2          2          0          0          0          0\n",
      "                sv1-36          1          1          0          0          0          0\n",
      "                sv1-37          2          2          0          0          0          0\n",
      "                sv1-38          3          3          0          0          0          0\n",
      "                sv1-40          2          2          0          0          0          0\n",
      "                sv1-41          2          2   0.000961        0.5   0.000745   0.000671\n",
      "                sv1-42          2          2          0          0          0          0\n",
      "                sv1-43          1          1          0          0          0          0\n",
      "                sv1-44          1          1          0          0          0          0\n",
      "                sv1-45          2          2    0.00571        0.5    0.00539    0.00485\n",
      "                sv1-47          3          3          0          0          0          0\n",
      "                sv1-48          1          1          0          0          0          0\n",
      "                sv1-49          2          2          0          0          0          0\n",
      "                sv1-51          3          3          0          0          0          0\n",
      "                sv1-52          4          4          0          0          0          0\n",
      "                sv1-53          3          3          0          0          0          0\n",
      "                sv1-54          2          2          0          0          0          0\n",
      "                sv1-55          2          2          0          0          0          0\n",
      "                sv1-56          2          2          0          0          0          0\n",
      "                sv1-57          1          1          0          0          0          0\n",
      "                sv1-58          2          2          0          0          0          0\n",
      "                sv1-59          2          2          0          0          0          0\n",
      "                sv1-60          4          4    0.00225       0.25    0.00149    0.00134\n",
      "                sv1-62          1          1          0          0          0          0\n",
      "                sv1-63          2          2          0          0          0          0\n",
      "                sv1-64          1          1          0          0          0          0\n",
      "                sv1-65          2          2          0          0          0          0\n",
      "                sv1-66          2          2          0          0          0          0\n",
      "                sv1-68          2          2          0          0          0          0\n",
      "                sv1-69          3          3          0          0          0          0\n",
      "                sv1-70          1          1          0          0          0          0\n",
      "                sv1-71          2          2          0          0          0          0\n",
      "                sv1-72          3          3          0          0          0          0\n",
      "                sv1-73          1          1          0          0          0          0\n",
      "                sv1-74          2          2          0          0          0          0\n",
      "                sv1-75          2          2          0          0          0          0\n",
      "                sv1-76          6          6          0          0          0          0\n",
      "                sv1-77          2          2          0          0          0          0\n",
      "                sv1-78          1          1          0          0          0          0\n",
      "                sv1-79          2          2          0          0          0          0\n",
      "                sv1-80          3          3          0          0          0          0\n",
      "                sv1-81          3          3          0          0          0          0\n",
      "                sv1-82          1          1          0          0          0          0\n",
      "                sv1-83          2          2          0          0          0          0\n",
      "                sv1-84          1          1          0          0          0          0\n",
      "                sv1-85          1          1          0          0          0          0\n",
      "                sv1-86          2          2          0          0          0          0\n",
      "                sv1-87          2          2          0          0          0          0\n",
      "                sv1-88          2          2          0          0          0          0\n",
      "                sv1-89          2          2          0          0          0          0\n",
      "                sv1-90          3          3          0          0          0          0\n",
      "                sv1-91          3          3          0          0          0          0\n",
      "                sv1-92          2          2          0          0          0          0\n",
      "                sv1-94          1          1          0          0          0          0\n",
      "                sv1-95          2          2          0          0          0          0\n",
      "                sv1-96          2          2          0          0          0          0\n",
      "                sv1-97          4          4          0          0          0          0\n",
      "                sv1-98          3          3          0          0          0          0\n",
      "                sv1-99          1          1          0          0          0          0\n",
      "               sv1-100          2          2          0          0          0          0\n",
      "               sv1-101          3          3          0          0          0          0\n",
      "               sv1-102          3          3          0          0          0          0\n",
      "               sv1-103          1          1          0          0          0          0\n",
      "               sv1-104          1          1          0          0          0          0\n",
      "               sv1-105          1          1          0          0          0          0\n",
      "               sv1-106          1          1          0          0          0          0\n",
      "               sv1-107          2          2          0          0          0          0\n",
      "               sv1-108          2          2          0          0          0          0\n",
      "               sv1-109          2          2          0          0          0          0\n",
      "               sv1-110          1          1          0          0          0          0\n",
      "               sv1-111          3          3          0          0          0          0\n",
      "               sv1-112          2          2          0          0          0          0\n",
      "               sv1-113          1          1          0          0          0          0\n",
      "               sv1-115          4          4          0          0          0          0\n",
      "               sv1-116          1          1          0          0          0          0\n",
      "               sv1-118          2          2          0          0          0          0\n",
      "               sv1-119          2          2          0          0          0          0\n",
      "               sv1-120          3          3          0          0          0          0\n",
      "               sv1-121          3          3          0          0          0          0\n",
      "               sv1-122          2          2          0          0          0          0\n",
      "               sv1-123          2          2          0          0          0          0\n",
      "               sv1-124          1          1          0          0          0          0\n",
      "               sv1-125          2          2          0          0          0          0\n",
      "               sv1-127          3          3          0          0          0          0\n",
      "               sv1-128          3          3          0          0          0          0\n",
      "               sv1-129          2          2          0          0          0          0\n",
      "               sv1-130          3          3          0          0          0          0\n",
      "               sv1-131          2          2          0          0          0          0\n",
      "               sv1-132          2          2          0          0          0          0\n",
      "               sv1-134          2          2          0          0          0          0\n",
      "               sv1-135          4          4          0          0          0          0\n",
      "               sv1-136          1          1          0          0          0          0\n",
      "               sv1-137          2          2          0          0          0          0\n",
      "               sv1-138          1          1          0          0          0          0\n",
      "               sv1-139          3          3          0          0          0          0\n",
      "               sv1-140          1          1          0          0          0          0\n",
      "               sv1-141          3          3          0          0          0          0\n",
      "               sv1-142          2          2          0          0          0          0\n",
      "               sv1-143          1          1          0          0          0          0\n",
      "               sv1-144          3          3          0          0          0          0\n",
      "               sv1-145          1          1          0          0          0          0\n",
      "               sv1-146          1          1          0          0          0          0\n",
      "               sv1-147          3          3          0          0          0          0\n",
      "               sv1-148          1          1          0          0          0          0\n",
      "               sv1-150          1          1          0          0          0          0\n",
      "               sv1-151          4          4          0          0          0          0\n",
      "               sv1-152          2          2          0          0          0          0\n",
      "               sv1-153          2          2          0          0          0          0\n",
      "               sv1-154          3          3          0          0          0          0\n",
      "               sv1-155          4          4          0          0          0          0\n",
      "               sv1-156          1          1          0          0          0          0\n",
      "               sv1-158          1          1          0          0          0          0\n",
      "               sv1-159          5          5          0          0          0          0\n",
      "               sv1-160          3          3          0          0          0          0\n",
      "               sv1-161          3          3          0          0          0          0\n",
      "               sv1-162          2          2          0          0          0          0\n",
      "               sv1-163          1          1          0          0          0          0\n",
      "               sv1-164          1          1          0          0          0          0\n",
      "               sv1-165          3          3          0          0          0          0\n",
      "               sv1-166          1          1          0          0          0          0\n",
      "               sv1-167          1          1          0          0          0          0\n",
      "               sv1-168          2          2          0          0          0          0\n",
      "               sv1-169          2          2          0          0          0          0\n",
      "               sv1-170          2          2          0          0          0          0\n",
      "               sv1-171          2          2          0          0          0          0\n",
      "               sv1-172          2          2          0          0          0          0\n",
      "               sv1-174          1          1          0          0          0          0\n",
      "               sv1-176          2          2          0          0          0          0\n",
      "               sv1-177          2          2          0          0          0          0\n",
      "               sv1-178          3          3          0          0          0          0\n",
      "               sv1-179          2          2          0          0          0          0\n",
      "               sv1-180          2          2          0          0          0          0\n",
      "               sv1-181          3          3          0          0          0          0\n",
      "               sv1-182          3          3          0          0          0          0\n",
      "               sv1-183          1          1          0          0          0          0\n",
      "               sv1-184          3          3          0          0          0          0\n",
      "               sv1-185          4          4          0          0          0          0\n",
      "               sv1-186          1          1          0          0          0          0\n",
      "               sv1-187          1          1          0          0          0          0\n",
      "               sv1-188          2          2          0          0          0          0\n",
      "               sv1-190          2          2          0          0          0          0\n",
      "               sv1-191          1          1          0          0          0          0\n",
      "               sv1-192          1          1          0          0          0          0\n",
      "               sv1-193          3          3          0          0          0          0\n",
      "               sv1-194          1          1          0          0          0          0\n",
      "               sv1-195          4          4          0          0          0          0\n",
      "               sv1-196          2          2    0.00221        0.5    0.00178     0.0016\n",
      "               sv1-197          2          2          0          0          0          0\n",
      "               sv1-198          1          1          0          0          0          0\n",
      "               sv1-199          1          1          0          0          0          0\n",
      "               sv1-200          2          2          0          0          0          0\n",
      "               sv1-201          3          3          0          0          0          0\n",
      "               sv1-202          3          3          0          0          0          0\n",
      "               sv1-203          4          4          0          0          0          0\n",
      "               sv1-204          1          1          0          0          0          0\n",
      "               sv1-205          1          1          0          0          0          0\n",
      "               sv1-207          3          3          0          0          0          0\n",
      "               sv1-208          1          1          0          0          0          0\n",
      "               sv1-209          1          1          0          0          0          0\n",
      "               sv1-210          3          3          0          0          0          0\n",
      "               sv1-211          4          4          0          0          0          0\n",
      "               sv1-212          1          1          0          0          0          0\n",
      "               sv1-213          1          1          0          0          0          0\n",
      "               sv1-214          1          1          0          0          0          0\n",
      "               sv1-215          3          3          0          0          0          0\n",
      "               sv1-216          3          3          0          0          0          0\n",
      "               sv1-217          4          4          0          0          0          0\n",
      "               sv1-218          1          1          0          0          0          0\n",
      "               sv1-219          2          2          0          0          0          0\n",
      "               sv1-220          4          4          0          0          0          0\n",
      "               sv1-221          3          3          0          0          0          0\n",
      "               sv1-222          2          2          0          0          0          0\n",
      "               sv1-223          3          3          0          0          0          0\n",
      "               sv1-224          1          1          0          0          0          0\n",
      "               sv1-225          1          1          0          0          0          0\n",
      "               sv1-226          1          1          0          0          0          0\n",
      "               sv1-227          2          2          0          0          0          0\n",
      "               sv1-228          3          3          0          0          0          0\n",
      "               sv1-229          1          1          0          0          0          0\n",
      "               sv1-230          1          1          0          0          0          0\n",
      "               sv1-231          1          1          0          0          0          0\n",
      "               sv1-232          2          2          0          0          0          0\n",
      "               sv1-234          2          2          0          0          0          0\n",
      "               sv1-235          4          4          0          0          0          0\n",
      "               sv1-236          3          3          0          0          0          0\n",
      "               sv1-238          2          2          0          0          0          0\n",
      "               sv1-240          2          2          0          0          0          0\n",
      "               sv1-241          3          3          0          0          0          0\n",
      "               sv1-242          2          2          0          0          0          0\n",
      "               sv1-243          3          3          0          0          0          0\n",
      "               sv1-244          2          2          0          0          0          0\n",
      "               sv1-245          2          2          0          0          0          0\n",
      "               sv1-246          1          1          0          0          0          0\n",
      "               sv1-247          1          1          0          0          0          0\n",
      "               sv1-248          3          3          0          0          0          0\n",
      "               sv1-249          3          3          0          0          0          0\n",
      "               sv1-251          4          4          0          0          0          0\n",
      "               sv1-252          1          1          0          0          0          0\n",
      "               sv1-253          4          4    0.00132       0.25    0.00131    0.00118\n",
      "               sv1-254          4          4          0          0          0          0\n",
      "               sv1-255          1          1          0          0          0          0\n",
      "               sv1-256          2          2          0          0          0          0\n",
      "               sv1-257          1          1          0          0          0          0\n",
      "               sv1-258          3          3          0          0          0          0\n",
      "                 sv2-1          3          3          0          0          0          0\n",
      "                 sv2-2          1          1          0          0          0          0\n",
      "                 sv2-4          2          2          0          0          0          0\n",
      "                 sv2-6          1          1          0          0          0          0\n",
      "                 sv2-8          1          1          0          0          0          0\n",
      "                sv2-10          2          2          0          0          0          0\n",
      "                sv2-11          4          4          0          0          0          0\n",
      "                sv2-12          1          1          0          0          0          0\n",
      "                sv2-13          2          2          0          0          0          0\n",
      "                sv2-14          2          2          0          0          0          0\n",
      "                sv2-16          3          3          0          0          0          0\n",
      "                sv2-17          2          2          0          0          0          0\n",
      "                sv2-18          1          1          0          0          0          0\n",
      "                sv2-19          2          2          0          0          0          0\n",
      "                sv2-20          1          1          0          0          0          0\n",
      "                sv2-22          2          2          0          0          0          0\n",
      "                sv2-23          4          4          0          0          0          0\n",
      "                sv2-25          2          2          0          0          0          0\n",
      "                sv2-26          1          1          0          0          0          0\n",
      "                sv2-29          2          2          0          0          0          0\n",
      "                sv2-30          2          2          0          0          0          0\n",
      "                sv2-31          2          2          0          0          0          0\n",
      "                sv2-33          1          1          0          0          0          0\n",
      "                sv2-34          2          2          0          0          0          0\n",
      "                sv2-35          1          1          0          0          0          0\n",
      "                sv2-36          2          2          0          0          0          0\n",
      "                sv2-38          2          2          0          0          0          0\n",
      "                sv2-39          1          1          0          0          0          0\n",
      "                sv2-40          2          2          0          0          0          0\n",
      "                sv2-41          3          3          0          0          0          0\n",
      "                sv2-42          5          5          0          0          0          0\n",
      "                sv2-44          2          2          0          0          0          0\n",
      "                sv2-45          2          2          0          0          0          0\n",
      "                sv2-46          1          1          0          0          0          0\n",
      "                sv2-47          5          5          0          0          0          0\n",
      "                sv2-48          1          1          0          0          0          0\n",
      "                sv2-50          2          2          0          0          0          0\n",
      "                sv2-51          1          1          0          0          0          0\n",
      "                sv2-52          1          1          0          0          0          0\n",
      "                sv2-53          3          3          0          0          0          0\n",
      "                sv2-54          1          1          0          0          0          0\n",
      "                sv2-55          1          1    0.00156          1    0.00314    0.00282\n",
      "                sv2-56          2          2          0          0          0          0\n",
      "                sv2-57          1          1          0          0          0          0\n",
      "                sv2-58          4          4     0.0588       0.25      0.267      0.267\n",
      "                sv2-59          3          3          0          0          0          0\n",
      "                sv2-60          1          1          0          0          0          0\n",
      "                sv2-61          1          1          0          0          0          0\n",
      "                sv2-62          3          3          0          0          0          0\n",
      "                sv2-63          1          1          0          0          0          0\n",
      "                sv2-64          3          3          0          0          0          0\n",
      "                sv2-65          2          2          0          0          0          0\n",
      "                sv2-67          1          1          0          0          0          0\n",
      "                sv2-68          3          3          0          0          0          0\n",
      "                sv2-69          2          2          0          0          0          0\n",
      "                sv2-70          2          2          0          0          0          0\n",
      "                sv2-71          1          1          0          0          0          0\n",
      "                sv2-72          1          1          0          0          0          0\n",
      "                sv2-73          1          1          0          0          0          0\n",
      "                sv2-74          3          3          0          0          0          0\n",
      "                sv2-75          1          1          0          0          0          0\n",
      "                sv2-76          3          3          0          0          0          0\n",
      "                sv2-77          4          4          0          0          0          0\n",
      "                sv2-78          3          3          0          0          0          0\n",
      "                sv2-79          1          1          0          0          0          0\n",
      "                sv2-80          1          1          0          0          0          0\n",
      "                sv2-81          2          2          0          0          0          0\n",
      "                sv2-82          1          1          0          0          0          0\n",
      "                sv2-83          4          4          0          0          0          0\n",
      "                sv2-84          3          3          0          0          0          0\n",
      "                sv2-85          3          3          0          0          0          0\n",
      "                sv2-86          2          2          0          0          0          0\n",
      "                sv2-87          1          1          0          0          0          0\n",
      "                sv2-88          4          4          0          0          0          0\n",
      "                sv2-89          2          2          0          0          0          0\n",
      "                sv2-92          1          1          0          0          0          0\n",
      "                sv2-93          1          1          0          0          0          0\n",
      "                sv2-94          3          3          0          0          0          0\n",
      "                sv2-95          2          2          0          0          0          0\n",
      "                sv2-96          2          2          0          0          0          0\n",
      "                sv2-97          1          1          0          0          0          0\n",
      "                sv2-99          1          1          0          0          0          0\n",
      "               sv2-100          3          3     0.0016      0.333      0.336      0.302\n",
      "               sv2-101          1          1          0          0          0          0\n",
      "               sv2-103          2          2          0          0          0          0\n",
      "               sv2-104          1          1          0          0          0          0\n",
      "               sv2-105          2          2          0          0          0          0\n",
      "               sv2-106          4          4          0          0          0          0\n",
      "               sv2-107          2          2          0          0          0          0\n",
      "               sv2-109          1          1          0          0          0          0\n",
      "               sv2-110          3          3          0          0          0          0\n",
      "               sv2-111          2          2          0          0          0          0\n",
      "               sv2-112          1          1          0          0          0          0\n",
      "               sv2-113          2          2          0          0          0          0\n",
      "               sv2-114          2          2          0          0          0          0\n",
      "               sv2-115          2          2          0          0          0          0\n",
      "               sv2-117          1          1          0          0          0          0\n",
      "               sv2-118          1          1          0          0          0          0\n",
      "               sv2-119          1          1          0          0          0          0\n",
      "               sv2-120          1          1          0          0          0          0\n",
      "               sv2-123          2          2          0          0          0          0\n",
      "               sv2-124          1          1          0          0          0          0\n",
      "               sv2-125          2          2          0          0          0          0\n",
      "               sv2-126          2          2          0          0          0          0\n",
      "               sv2-127          3          3          0          0          0          0\n",
      "               sv2-128          1          1          0          0          0          0\n",
      "               sv2-129          3          3          0          0          0          0\n",
      "               sv2-130          1          1          0          0          0          0\n",
      "               sv2-131          3          3          0          0          0          0\n",
      "               sv2-132          2          2          0          0          0          0\n",
      "               sv2-133          1          1          0          0          0          0\n",
      "               sv2-134          1          1          0          0          0          0\n",
      "               sv2-135          2          2          0          0          0          0\n",
      "               sv2-136          1          1          0          0          0          0\n",
      "               sv2-137          1          1          0          0          0          0\n",
      "               sv2-138          1          1          0          0          0          0\n",
      "               sv2-139          1          1          0          0          0          0\n",
      "               sv2-140          3          3          0          0          0          0\n",
      "               sv2-141          2          2          0          0          0          0\n",
      "               sv2-142          1          1          0          0          0          0\n",
      "               sv2-143          2          2          0          0          0          0\n",
      "               sv2-144          4          4          0          0          0          0\n",
      "               sv2-145          2          2          0          0          0          0\n",
      "               sv2-146          2          2          0          0          0          0\n",
      "               sv2-147          1          1          0          0          0          0\n",
      "               sv2-149          3          3          0          0          0          0\n",
      "               sv2-150          3          3          0          0          0          0\n",
      "               sv2-151          1          1          0          0          0          0\n",
      "               sv2-152          4          4          0          0          0          0\n",
      "               sv2-153          1          1          0          0          0          0\n",
      "               sv2-154          2          2          0          0          0          0\n",
      "               sv2-155          1          1          0          0          0          0\n",
      "               sv2-156          1          1          0          0          0          0\n",
      "               sv2-157          4          4          0          0          0          0\n",
      "               sv2-158          4          4          0          0          0          0\n",
      "               sv2-159          2          2          0          0          0          0\n",
      "               sv2-160          3          3          0          0          0          0\n",
      "               sv2-161          1          1          0          0          0          0\n",
      "               sv2-162          1          1          0          0          0          0\n",
      "               sv2-163          1          1          0          0          0          0\n",
      "               sv2-164          2          2          0          0          0          0\n",
      "               sv2-165          3          3          0          0          0          0\n",
      "               sv2-168          2          2          0          0          0          0\n",
      "               sv2-169          1          1          0          0          0          0\n",
      "               sv2-170          1          1          0          0          0          0\n",
      "               sv2-171          3          3          0          0          0          0\n",
      "               sv2-172          1          1          0          0          0          0\n",
      "               sv2-173          2          2          0          0          0          0\n",
      "               sv2-174          4          4          0          0          0          0\n",
      "               sv2-175          2          2          0          0          0          0\n",
      "               sv2-176          2          2          0          0          0          0\n",
      "               sv2-177          1          1          0          0          0          0\n",
      "               sv2-178          2          2          0          0          0          0\n",
      "               sv2-179          2          2          0          0          0          0\n",
      "               sv2-182          1          1          0          0          0          0\n",
      "               sv2-183          1          1          0          0          0          0\n",
      "               sv2-184          2          2          0          0          0          0\n",
      "               sv2-185          2          2          0          0          0          0\n",
      "               sv2-186          2          2          0          0          0          0\n",
      "               sv2-188          3          3          0          0          0          0\n",
      "               sv2-189          4          4          0          0          0          0\n",
      "               sv2-191          2          2          0          0          0          0\n",
      "               sv2-193          3          3          0          0          0          0\n",
      "               sv2-194          3          3          0          0          0          0\n",
      "               sv2-196          1          1          0          0          0          0\n",
      "               sv2-198          2          2          0          0          0          0\n",
      "               sv2-199          3          3          0          0          0          0\n",
      "               sv2-201          1          1          0          0          0          0\n",
      "               sv2-202          1          1          0          0          0          0\n",
      "               sv2-203          2          2          0          0          0          0\n",
      "               sv2-204          3          3          0          0          0          0\n",
      "               sv2-205          1          1          0          0          0          0\n",
      "               sv2-206          2          2          0          0          0          0\n",
      "               sv2-208          3          3          0          0          0          0\n",
      "               sv2-209          1          1          0          0          0          0\n",
      "               sv2-210          1          1          0          0          0          0\n",
      "               sv2-211          2          2          0          0          0          0\n",
      "               sv2-213          2          2          0          0          0          0\n",
      "               sv2-214          4          4          0          0          0          0\n",
      "               sv2-215          1          1          0          0          0          0\n",
      "               sv2-216          1          2          0          0          0          0\n",
      "               sv2-217          1          1          0          0          0          0\n",
      "               sv2-218          2          2          0          0          0          0\n",
      "               sv2-219          1          1          0          0          0          0\n",
      "               sv2-220          2          2          0          0          0          0\n",
      "               sv2-221          2          2          0          0          0          0\n",
      "               sv2-222          2          2          0          0          0          0\n",
      "               sv2-223          2          2          0          0          0          0\n",
      "               sv2-225          2          2          0          0          0          0\n",
      "               sv2-227          5          5          0          0          0          0\n",
      "               sv2-228          1          1          0          0          0          0\n",
      "               sv2-229          1          1          0          0          0          0\n",
      "               sv2-230          3          3          0          0          0          0\n",
      "               sv2-231          2          2          0          0          0          0\n",
      "               sv2-233          3          3          0          0          0          0\n",
      "               sv2-234          2          2          0          0          0          0\n",
      "               sv2-235          2          2          0          0          0          0\n",
      "               sv2-236          2          2          0          0          0          0\n",
      "               sv2-237          2          2          0          0          0          0\n",
      "               sv2-238          4          4          0          0          0          0\n",
      "               sv2-239          2          2          0          0          0          0\n",
      "               sv2-240          2          2          0          0          0          0\n",
      "               sv2-241          2          2          0          0          0          0\n",
      "               sv2-242          2          2          0          0          0          0\n",
      "               sv2-243          2          2          0          0          0          0\n",
      "               sv2-244          1          1          0          0          0          0\n",
      "               sv2-245          1          1          0          0          0          0\n",
      "               sv2-246          1          1          0          0          0          0\n",
      "               sv2-247          3          3          0          0          0          0\n",
      "               sv2-248          1          1          0          0          0          0\n",
      "               sv2-249          5          5     0.0025        0.4    0.00287    0.00269\n",
      "               sv2-250          2          2          0          0          0          0\n",
      "               sv2-251          2          2          0          0          0          0\n",
      "               sv2-253          1          1          0          0          0          0\n",
      "               sv2-254          3          3          0          0          0          0\n",
      "               sv2-255          3          3          0          0          0          0\n",
      "               sv2-256          2          2          0          0          0          0\n",
      "               sv2-257          3          3          0          0          0          0\n",
      "               sv2-258          1          1          0          0          0          0\n",
      "               sv2-259          1          1          0          0          0          0\n",
      "               sv2-260          2          2          0          0          0          0\n",
      "               sv2-262          2          2          0          0          0          0\n",
      "               sv2-263          3          3          0          0          0          0\n",
      "               sv2-264          1          1          0          0          0          0\n",
      "               sv2-265          1          1          0          0          0          0\n",
      "               sv2-266          1          1          0          0          0          0\n",
      "               sv2-267          2          2          0          0          0          0\n",
      "               sv2-268          4          4          0          0          0          0\n",
      "               sv2-269          2          2          0          0          0          0\n",
      "               sv2-270          3          3          0          0          0          0\n",
      "               sv2-271          1          1          0          0          0          0\n",
      "               sv2-273          1          1          0          0          0          0\n",
      "               sv2-274          1          1          0          0          0          0\n",
      "               sv2-275          2          2          0          0          0          0\n",
      "               sv2-276          2          2          0          0          0          0\n",
      "               sv2-278          3          3          0          0          0          0\n",
      "               sv2-279          1          1          0          0          0          0\n",
      "                 sv3-1          1          1          0          0          0          0\n",
      "                 sv3-4          1          1          0          0          0          0\n",
      "                 sv3-5          2          2          0          0          0          0\n",
      "                 sv3-6          3          3          0          0          0          0\n",
      "                 sv3-7          2          2          0          0          0          0\n",
      "                 sv3-8          3          3          0          0          0          0\n",
      "                 sv3-9          2          2          0          0          0          0\n",
      "                sv3-10          1          1          0          0          0          0\n",
      "                sv3-11          3          3          0          0          0          0\n",
      "                sv3-12          3          3          0          0          0          0\n",
      "                sv3-13          3          3          0          0          0          0\n",
      "                sv3-15          2          2          0          0          0          0\n",
      "                sv3-16          2          2          0          0          0          0\n",
      "                sv3-17          2          2          0          0          0          0\n",
      "                sv3-18          4          4          0          0          0          0\n",
      "                sv3-19          3          3          0          0          0          0\n",
      "                sv3-20          4          4          0          0          0          0\n",
      "                sv3-21          2          2          0          0          0          0\n",
      "                sv3-22          1          1          0          0          0          0\n",
      "                sv3-24          3          3          0          0          0          0\n",
      "                sv3-25          1          1          0          0          0          0\n",
      "                sv3-26          3          3          0          0          0          0\n",
      "                sv3-27          2          2          0          0          0          0\n",
      "                sv3-28          2          2          0          0          0          0\n",
      "                sv3-29          1          1          0          0          0          0\n",
      "                sv3-30          4          4          0          0          0          0\n",
      "                sv3-31          3          3          0          0          0          0\n",
      "                sv3-32          2          2          0          0          0          0\n",
      "                sv3-33          4          4          0          0          0          0\n",
      "                sv3-34          1          1          0          0          0          0\n",
      "                sv3-35          1          1    0.00209          1     0.0355     0.0355\n",
      "                sv3-36          2          2          0          0          0          0\n",
      "                sv3-38          2          2          0          0          0          0\n",
      "                sv3-39          1          1          0          0          0          0\n",
      "                sv3-40          2          2          0          0          0          0\n",
      "                sv3-41          1          1          0          0          0          0\n",
      "                sv3-42          1          1          0          0          0          0\n",
      "                sv3-43          1          1          0          0          0          0\n",
      "                sv3-44          2          2          0          0          0          0\n",
      "                sv3-45          2          2    0.00102        0.5    0.00122    0.00109\n",
      "                sv3-46          3          3          0          0          0          0\n",
      "                sv3-47          1          1          0          0          0          0\n",
      "                sv3-48          1          1          0          0          0          0\n",
      "                sv3-49          3          3          0          0          0          0\n",
      "                sv3-50          3          3          0          0          0          0\n",
      "                sv3-52          3          3          0          0          0          0\n",
      "                sv3-54          2          2          0          0          0          0\n",
      "                sv3-55          2          2          0          0          0          0\n",
      "                sv3-56          3          3          0          0          0          0\n",
      "                sv3-57          4          4          0          0          0          0\n",
      "                sv3-59          1          1          0          0          0          0\n",
      "                sv3-60          2          2          0          0          0          0\n",
      "                sv3-62          1          1          0          0          0          0\n",
      "                sv3-63          2          2          0          0          0          0\n",
      "                sv3-64          1          1          0          0          0          0\n",
      "                sv3-65          1          1          0          0          0          0\n",
      "                sv3-67          1          1          0          0          0          0\n",
      "                sv3-68          3          3          0          0          0          0\n",
      "                sv3-69          6          6          0          0          0          0\n",
      "                sv3-71          2          2          0          0          0          0\n",
      "                sv3-72          5          5          0          0          0          0\n",
      "                sv3-73          3          3          0          0          0          0\n",
      "                sv3-74          2          2          0          0          0          0\n",
      "                sv3-76          2          2    0.00199        0.5    0.00758    0.00758\n",
      "                sv3-77          1          1          0          0          0          0\n",
      "                sv3-78          3          3          0          0          0          0\n",
      "                sv3-79          2          2          0          0          0          0\n",
      "                sv3-80          2          2          0          0          0          0\n",
      "                sv3-81          2          2          0          0          0          0\n",
      "                sv3-83          2          2          0          0          0          0\n",
      "                sv3-86          2          3          0          0          0          0\n",
      "                sv3-87          2          2          0          0          0          0\n",
      "                sv3-90          1          1          0          0          0          0\n",
      "                sv3-91          3          3          0          0          0          0\n",
      "                sv3-92          3          3          0          0          0          0\n",
      "                sv3-93          3          3    0.00185      0.333    0.00182    0.00182\n",
      "                sv3-94          2          3          0          0          0          0\n",
      "                sv3-95          2          2          0          0          0          0\n",
      "                sv3-96          1          1          0          0          0          0\n",
      "                sv3-97          3          3          0          0          0          0\n",
      "                sv3-99          2          2          0          0          0          0\n",
      "               sv3-100          3          3          0          0          0          0\n",
      "               sv3-101          1          1          0          0          0          0\n",
      "               sv3-103          2          2          0          0          0          0\n",
      "               sv3-105          1          1          0          0          0          0\n",
      "               sv3-106          2          2          0          0          0          0\n",
      "               sv3-107          1          1          0          0          0          0\n",
      "               sv3-108          1          1          0          0          0          0\n",
      "               sv3-109          2          2          0          0          0          0\n",
      "               sv3-110          2          2          0          0          0          0\n",
      "               sv3-111          3          3          0          0          0          0\n",
      "               sv3-112          2          2          0          0          0          0\n",
      "               sv3-113          1          1          0          0          0          0\n",
      "               sv3-114          2          2          0          0          0          0\n",
      "               sv3-115          1          1          0          0          0          0\n",
      "               sv3-116          2          2          0          0          0          0\n",
      "               sv3-117          3          3          0          0          0          0\n",
      "               sv3-118          3          3          0          0          0          0\n",
      "               sv3-119          2          2          0          0          0          0\n",
      "               sv3-120          4          4          0          0          0          0\n",
      "               sv3-121          1          1          0          0          0          0\n",
      "               sv3-122          3          3          0          0          0          0\n",
      "               sv3-123          3          3          0          0          0          0\n",
      "               sv3-124          1          1          0          0          0          0\n",
      "               sv3-125          1          1          0          0          0          0\n",
      "               sv3-126          2          2          0          0          0          0\n",
      "               sv3-127          1          1          0          0          0          0\n",
      "               sv3-128          3          3          0          0          0          0\n",
      "               sv3-129          3          3          0          0          0          0\n",
      "               sv3-130          2          2          0          0          0          0\n",
      "               sv3-132          2          2          0          0          0          0\n",
      "               sv3-133          3          3          0          0          0          0\n",
      "               sv3-134          2          2          0          0          0          0\n",
      "               sv3-135          3          3          0          0          0          0\n",
      "               sv3-136          1          1          0          0          0          0\n",
      "               sv3-137          2          2          0          0          0          0\n",
      "               sv3-138          3          3          0          0          0          0\n",
      "               sv3-139          2          2          0          0          0          0\n",
      "               sv3-140          1          1          0          0          0          0\n",
      "               sv3-141          2          2          0          0          0          0\n",
      "               sv3-143          1          1          0          0          0          0\n",
      "               sv3-144          1          1          0          0          0          0\n",
      "               sv3-145          1          1          0          0          0          0\n",
      "               sv3-147          1          1          0          0          0          0\n",
      "               sv3-148          1          1          0          0          0          0\n",
      "               sv3-149          2          2          0          0          0          0\n",
      "               sv3-150          2          2          0          0          0          0\n",
      "               sv3-151          1          1          0          0          0          0\n",
      "               sv3-152          3          3          0          0          0          0\n",
      "               sv3-153          2          2    0.00279        0.5    0.00534    0.00534\n",
      "               sv3-154          1          1          0          0          0          0\n",
      "               sv3-155          1          1          0          0          0          0\n",
      "               sv3-156          1          1          0          0          0          0\n",
      "               sv3-157          1          1          0          0          0          0\n",
      "               sv3-159          4          4          0          0          0          0\n",
      "               sv3-160          2          2          0          0          0          0\n",
      "               sv3-161          1          1          0          0          0          0\n",
      "               sv3-162          1          1    0.00127          1    0.00227   0.000909\n",
      "               sv3-163          3          3          0          0          0          0\n",
      "               sv3-164          1          1          0          0          0          0\n",
      "               sv3-165          2          2          0          0          0          0\n",
      "               sv3-166          1          1          0          0          0          0\n",
      "               sv3-167          2          2          0          0          0          0\n",
      "               sv3-168          2          2          0          0          0          0\n",
      "               sv3-169          3          3          0          0          0          0\n",
      "               sv3-170          3          3          0          0          0          0\n",
      "               sv3-171          1          1          0          0          0          0\n",
      "               sv3-172          4          4          0          0          0          0\n",
      "               sv3-173          2          2          0          0          0          0\n",
      "               sv3-174          1          1          0          0          0          0\n",
      "               sv3-175          2          2          0          0          0          0\n",
      "               sv3-176          1          1          0          0          0          0\n",
      "               sv3-177          1          1          0          0          0          0\n",
      "               sv3-178          2          2          0          0          0          0\n",
      "               sv3-179          3          3          0          0          0          0\n",
      "               sv3-180          3          3          0          0          0          0\n",
      "               sv3-181          2          2          0          0          0          0\n",
      "               sv3-183          4          4          0          0          0          0\n",
      "               sv3-184          2          2          0          0          0          0\n",
      "               sv3-185          2          2          0          0          0          0\n",
      "               sv3-186          2          2          0          0          0          0\n",
      "               sv3-187          2          2          0          0          0          0\n",
      "               sv3-188          3          3          0          0          0          0\n",
      "               sv3-189          1          1          0          0          0          0\n",
      "               sv3-190          2          2          0          0          0          0\n",
      "               sv3-191          3          3          0          0          0          0\n",
      "               sv3-192          2          2          0          0          0          0\n",
      "               sv3-193          3          3          0          0          0          0\n",
      "               sv3-194          2          2          0          0          0          0\n",
      "               sv3-195          3          3          0          0          0          0\n",
      "               sv3-196          1          1          0          0          0          0\n",
      "               sv3-197          1          1          0          0          0          0\n",
      "               sv3-198          3          3          0          0          0          0\n",
      "               sv3-199          1          1          0          0          0          0\n",
      "               sv3-200          3          3          0          0          0          0\n",
      "               sv3-201          5          5          0          0          0          0\n",
      "               sv3-202          4          4   0.000964       0.25    0.00225    0.00203\n",
      "               sv3-204          1          1          0          0          0          0\n",
      "               sv3-205          5          5          0          0          0          0\n",
      "               sv3-206          3          3          0          0          0          0\n",
      "               sv3-207          2          2          0          0          0          0\n",
      "               sv3-208          5          5          0          0          0          0\n",
      "               sv3-209          3          3          0          0          0          0\n",
      "               sv3-210          3          3          0          0          0          0\n",
      "               sv3-211          2          2          0          0          0          0\n",
      "               sv3-212          2          2          0          0          0          0\n",
      "               sv3-213          1          1          0          0          0          0\n",
      "               sv3-214          2          2          0          0          0          0\n",
      "               sv3-216          1          1          0          0          0          0\n",
      "               sv3-217          1          1          0          0          0          0\n",
      "               sv3-218          4          4          0          0          0          0\n",
      "               sv3-219          1          1          0          0          0          0\n",
      "               sv3-220          2          2          0          0          0          0\n",
      "               sv3-222          1          1          0          0          0          0\n",
      "               sv3-223          2          2          0          0          0          0\n",
      "               sv3-224          2          2          0          0          0          0\n",
      "               sv3-225          3          3          0          0          0          0\n",
      "               sv3-226          2          2          0          0          0          0\n",
      "               sv3-227          3          3          0          0          0          0\n",
      "               sv3-228          2          2          0          0          0          0\n",
      "               sv3-229          2          2          0          0          0          0\n",
      "               sv3-230          1          1          0          0          0          0\n",
      "              sv3pt5-1          4          4          0          0          0          0\n",
      "              sv3pt5-2          3          3          0          0          0          0\n",
      "              sv3pt5-3          1          1          0          0          0          0\n",
      "              sv3pt5-5          3          3          0          0          0          0\n",
      "              sv3pt5-6          1          1          0          0          0          0\n",
      "              sv3pt5-7          3          3    0.00161      0.333    0.00133    0.00107\n",
      "              sv3pt5-8          1          1          0          0          0          0\n",
      "              sv3pt5-9          4          4          0          0          0          0\n",
      "             sv3pt5-10          3          3          0          0          0          0\n",
      "             sv3pt5-11          2          2          0          0          0          0\n",
      "             sv3pt5-12          2          2          0          0          0          0\n",
      "             sv3pt5-13          3          3          0          0          0          0\n",
      "             sv3pt5-14          2          2          0          0          0          0\n",
      "             sv3pt5-16          1          1          0          0          0          0\n",
      "             sv3pt5-17          4          4          0          0          0          0\n",
      "             sv3pt5-18          3          3          0          0          0          0\n",
      "             sv3pt5-19          3          3          0          0          0          0\n",
      "             sv3pt5-21          1          1          0          0          0          0\n",
      "             sv3pt5-22          2          2          0          0          0          0\n",
      "             sv3pt5-23          1          1          0          0          0          0\n",
      "             sv3pt5-24          3          3          0          0          0          0\n",
      "             sv3pt5-25          2          2          0          0          0          0\n",
      "             sv3pt5-26          1          1          0          0          0          0\n",
      "             sv3pt5-30          1          1          0          0          0          0\n",
      "             sv3pt5-32          1          1          0          0          0          0\n",
      "             sv3pt5-33          1          1          0          0          0          0\n",
      "             sv3pt5-34          4          4          0          0          0          0\n",
      "             sv3pt5-35          4          4          0          0          0          0\n",
      "             sv3pt5-36          3          3          0          0          0          0\n",
      "             sv3pt5-37          3          3          0          0          0          0\n",
      "             sv3pt5-38          1          1          0          0          0          0\n",
      "             sv3pt5-39          1          1          0          0          0          0\n",
      "             sv3pt5-40          2          2          0          0          0          0\n",
      "             sv3pt5-41          1          1          0          0          0          0\n",
      "             sv3pt5-43          1          1          0          0          0          0\n",
      "             sv3pt5-44          2          2          0          0          0          0\n",
      "             sv3pt5-45          1          1          0          0          0          0\n",
      "             sv3pt5-46          2          2          0          0          0          0\n",
      "             sv3pt5-49          2          2          0          0          0          0\n",
      "             sv3pt5-50          1          1          0          0          0          0\n",
      "             sv3pt5-51          3          3          0          0          0          0\n",
      "             sv3pt5-52          1          1          0          0          0          0\n",
      "             sv3pt5-53          1          1          0          0          0          0\n",
      "             sv3pt5-54          2          2          0          0          0          0\n",
      "             sv3pt5-55          3          3          0          0          0          0\n",
      "             sv3pt5-56          4          4    0.00153       0.25     0.0012     0.0012\n",
      "             sv3pt5-57          2          2          0          0          0          0\n",
      "             sv3pt5-58          4          4          0          0          0          0\n",
      "             sv3pt5-59          1          2    0.00115        0.5    0.00357    0.00357\n",
      "             sv3pt5-60          2          2          0          0          0          0\n",
      "             sv3pt5-61          2          2          0          0          0          0\n",
      "             sv3pt5-62          1          1          0          0          0          0\n",
      "             sv3pt5-63          1          1          0          0          0          0\n",
      "             sv3pt5-65          3          3          0          0          0          0\n",
      "             sv3pt5-66          1          1          0          0          0          0\n",
      "             sv3pt5-67          4          4          0          0          0          0\n",
      "             sv3pt5-68          1          1          0          0          0          0\n",
      "             sv3pt5-69          1          1          0          0          0          0\n",
      "             sv3pt5-70          3          3    0.00181      0.333    0.00389    0.00389\n",
      "             sv3pt5-71          2          2          0          0          0          0\n",
      "             sv3pt5-72          2          2          0          0          0          0\n",
      "             sv3pt5-73          1          1          0          0          0          0\n",
      "             sv3pt5-74          1          1          0          0          0          0\n",
      "             sv3pt5-75          1          1          0          0          0          0\n",
      "             sv3pt5-76          2          2          0          0          0          0\n",
      "             sv3pt5-77          2          2          0          0          0          0\n",
      "             sv3pt5-78          2          2          0          0          0          0\n",
      "             sv3pt5-79          3          3          0          0          0          0\n",
      "             sv3pt5-81          3          3    0.00261      0.333    0.00262    0.00262\n",
      "             sv3pt5-82          3          3          0          0          0          0\n",
      "             sv3pt5-83          3          3          0          0          0          0\n",
      "             sv3pt5-84          1          1          0          0          0          0\n",
      "             sv3pt5-85          1          1          0          0          0          0\n",
      "             sv3pt5-86          2          2          0          0          0          0\n",
      "             sv3pt5-87          3          3          0          0          0          0\n",
      "             sv3pt5-88          1          1          0          0          0          0\n",
      "             sv3pt5-89          1          1          0          0          0          0\n",
      "             sv3pt5-90          1          1          0          0          0          0\n",
      "             sv3pt5-91          3          3    0.00185      0.667    0.00289     0.0026\n",
      "             sv3pt5-92          1          1          0          0          0          0\n",
      "             sv3pt5-93          2          2          0          0          0          0\n",
      "             sv3pt5-94          2          2          0          0          0          0\n",
      "             sv3pt5-95          1          1          0          0          0          0\n",
      "             sv3pt5-97          3          3          0          0          0          0\n",
      "             sv3pt5-98          2          2          0          0          0          0\n",
      "             sv3pt5-99          2          2          0          0          0          0\n",
      "            sv3pt5-100          3          3          0          0          0          0\n",
      "            sv3pt5-101          2          2          0          0          0          0\n",
      "            sv3pt5-102          3          3          0          0          0          0\n",
      "            sv3pt5-103          5          5          0          0          0          0\n",
      "            sv3pt5-104          3          3          0          0          0          0\n",
      "            sv3pt5-106          1          1          0          0          0          0\n",
      "            sv3pt5-107          1          1          0          0          0          0\n",
      "            sv3pt5-109          3          3          0          0          0          0\n",
      "            sv3pt5-110          1          1          0          0          0          0\n",
      "            sv3pt5-111          2          2          0          0          0          0\n",
      "            sv3pt5-112          1          1          0          0          0          0\n",
      "            sv3pt5-113          3          3          0          0          0          0\n",
      "            sv3pt5-114          4          4          0          0          0          0\n",
      "            sv3pt5-115          2          2          0          0          0          0\n",
      "            sv3pt5-118          3          3          0          0          0          0\n",
      "            sv3pt5-119          5          5          0          0          0          0\n",
      "            sv3pt5-120          2          2          0          0          0          0\n",
      "            sv3pt5-121          1          1          0          0          0          0\n",
      "            sv3pt5-122          1          1          0          0          0          0\n",
      "            sv3pt5-123          2          2          0          0          0          0\n",
      "            sv3pt5-124          1          1          0          0          0          0\n",
      "            sv3pt5-126          2          2          0          0          0          0\n",
      "            sv3pt5-128          4          4          0          0          0          0\n",
      "            sv3pt5-130          4          4          0          0          0          0\n",
      "            sv3pt5-131          3          3          0          0          0          0\n",
      "            sv3pt5-132          1          1          0          0          0          0\n",
      "            sv3pt5-133          3          3          0          0          0          0\n",
      "            sv3pt5-134          3          3          0          0          0          0\n",
      "            sv3pt5-135          3          3     0.0345      0.333     0.0291     0.0291\n",
      "            sv3pt5-137          1          1          0          0          0          0\n",
      "            sv3pt5-138          1          1          0          0          0          0\n",
      "            sv3pt5-139          1          1          0          0          0          0\n",
      "            sv3pt5-140          1          1          0          0          0          0\n",
      "            sv3pt5-141          2          2          0          0          0          0\n",
      "            sv3pt5-142          3          3          0          0          0          0\n",
      "            sv3pt5-143          5          5          0          0          0          0\n",
      "            sv3pt5-144          3          3          0          0          0          0\n",
      "            sv3pt5-145          1          1          0          0          0          0\n",
      "            sv3pt5-146          2          2          0          0          0          0\n",
      "            sv3pt5-148          2          2          0          0          0          0\n",
      "            sv3pt5-149          3          3          0          0          0          0\n",
      "            sv3pt5-151          1          1          0          0          0          0\n",
      "            sv3pt5-152          2          2          0          0          0          0\n",
      "            sv3pt5-153          2          2          0          0          0          0\n",
      "            sv3pt5-154          1          1          0          0          0          0\n",
      "            sv3pt5-155          4          4          0          0          0          0\n",
      "            sv3pt5-156          2          2          0          0          0          0\n",
      "            sv3pt5-157          3          3          0          0          0          0\n",
      "            sv3pt5-159          2          2          0          0          0          0\n",
      "            sv3pt5-160          1          1          0          0          0          0\n",
      "            sv3pt5-161          4          4          0          0          0          0\n",
      "            sv3pt5-162          3          3          0          0          0          0\n",
      "            sv3pt5-163          2          2          0          0          0          0\n",
      "            sv3pt5-164          2          2          0          0          0          0\n",
      "            sv3pt5-165          3          3          0          0          0          0\n",
      "            sv3pt5-166          3          3          0          0          0          0\n",
      "            sv3pt5-167          1          1          0          0          0          0\n",
      "            sv3pt5-168          2          2          0          0          0          0\n",
      "            sv3pt5-169          2          2          0          0          0          0\n",
      "            sv3pt5-170          4          4          0          0          0          0\n",
      "            sv3pt5-171          3          3          0          0          0          0\n",
      "            sv3pt5-175          4          4          0          0          0          0\n",
      "            sv3pt5-176          3          3          0          0          0          0\n",
      "            sv3pt5-177          2          2          0          0          0          0\n",
      "            sv3pt5-178          2          2          0          0          0          0\n",
      "            sv3pt5-179          1          1          0          0          0          0\n",
      "            sv3pt5-180          3          3          0          0          0          0\n",
      "            sv3pt5-181          2          2          0          0          0          0\n",
      "            sv3pt5-182          1          1          0          0          0          0\n",
      "            sv3pt5-183          2          2          0          0          0          0\n",
      "            sv3pt5-184          2          2          0          0          0          0\n",
      "            sv3pt5-185          2          2          0          0          0          0\n",
      "            sv3pt5-186          3          3          0          0          0          0\n",
      "            sv3pt5-188          1          1          0          0          0          0\n",
      "            sv3pt5-189          2          2          0          0          0          0\n",
      "            sv3pt5-190          1          1          0          0          0          0\n",
      "            sv3pt5-191          1          1          0          0          0          0\n",
      "            sv3pt5-192          2          2          0          0          0          0\n",
      "            sv3pt5-193          2          2          0          0          0          0\n",
      "            sv3pt5-194          1          1          0          0          0          0\n",
      "            sv3pt5-195          3          3          0          0          0          0\n",
      "            sv3pt5-196          1          1          0          0          0          0\n",
      "            sv3pt5-197          2          2          0          0          0          0\n",
      "            sv3pt5-198          2          2          0          0          0          0\n",
      "            sv3pt5-199          2          2          0          0          0          0\n",
      "            sv3pt5-200          1          1          0          0          0          0\n",
      "            sv3pt5-201          2          2          0          0          0          0\n",
      "            sv3pt5-202          1          1          0          0          0          0\n",
      "            sv3pt5-203          2          2          0          0          0          0\n",
      "            sv3pt5-204          2          2          0          0          0          0\n",
      "            sv3pt5-205          3          3          0          0          0          0\n",
      "            sv3pt5-206          1          1          0          0          0          0\n",
      "            sv3pt5-207          1          1          0          0          0          0\n",
      "                 sv4-1          2          2          0          0          0          0\n",
      "                 sv4-3          3          3          0          0          0          0\n",
      "                 sv4-4          2          2          0          0          0          0\n",
      "                 sv4-7          2          2          0          0          0          0\n",
      "                 sv4-8          1          1          0          0          0          0\n",
      "                 sv4-9          3          3          0          0          0          0\n",
      "                sv4-10          3          3          0          0          0          0\n",
      "                sv4-11          1          1          0          0          0          0\n",
      "                sv4-12          1          1          0          0          0          0\n",
      "                sv4-13          2          2          0          0          0          0\n",
      "                sv4-14          4          4          0          0          0          0\n",
      "                sv4-15          1          1          0          0          0          0\n",
      "                sv4-16          1          1          0          0          0          0\n",
      "                sv4-17          3          3          0          0          0          0\n",
      "                sv4-18          2          2          0          0          0          0\n",
      "                sv4-19          4          4          0          0          0          0\n",
      "                sv4-20          2          2          0          0          0          0\n",
      "                sv4-21          1          1          0          0          0          0\n",
      "                sv4-22          1          1          0          0          0          0\n",
      "                sv4-23          4          4          0          0          0          0\n",
      "                sv4-25          2          2          0          0          0          0\n",
      "                sv4-26          2          2          0          0          0          0\n",
      "                sv4-27          1          1          0          0          0          0\n",
      "                sv4-30          1          1          0          0          0          0\n",
      "                sv4-31          1          1          0          0          0          0\n",
      "                sv4-32          4          4          0          0          0          0\n",
      "                sv4-34          1          1          0          0          0          0\n",
      "                sv4-37          3          3          0          0          0          0\n",
      "                sv4-38          1          1          0          0          0          0\n",
      "                sv4-40          3          3          0          0          0          0\n",
      "                sv4-41          2          3          0          0          0          0\n",
      "                sv4-42          2          2          0          0          0          0\n",
      "                sv4-43          2          2          0          0          0          0\n",
      "                sv4-44          3          3          0          0          0          0\n",
      "                sv4-45          2          2          0          0          0          0\n",
      "                sv4-46          2          2          0          0          0          0\n",
      "                sv4-47          1          1          0          0          0          0\n",
      "                sv4-48          3          3          0          0          0          0\n",
      "                sv4-49          1          1          0          0          0          0\n",
      "                sv4-50          3          3          0          0          0          0\n",
      "                sv4-51          2          2          0          0          0          0\n",
      "                sv4-52          1          1          0          0          0          0\n",
      "                sv4-56          3          3          0          0          0          0\n",
      "                sv4-57          4          4          0          0          0          0\n",
      "                sv4-58          5          5          0          0          0          0\n",
      "                sv4-59          1          1          0          0          0          0\n",
      "                sv4-60          3          3          0          0          0          0\n",
      "                sv4-61          2          2          0          0          0          0\n",
      "                sv4-62          3          3    0.00418      0.333    0.00411    0.00411\n",
      "                sv4-63          1          1          0          0          0          0\n",
      "                sv4-64          3          3          0          0          0          0\n",
      "                sv4-65          1          1          0          0          0          0\n",
      "                sv4-66          2          2          0          0          0          0\n",
      "                sv4-67          3          3          0          0          0          0\n",
      "                sv4-68          2          2          0          0          0          0\n",
      "                sv4-69          2          2          0          0          0          0\n",
      "                sv4-70          1          1          0          0          0          0\n",
      "                sv4-71          1          1          0          0          0          0\n",
      "                sv4-72          4          4          0          0          0          0\n",
      "                sv4-73          4          4          0          0          0          0\n",
      "                sv4-75          3          3          0          0          0          0\n",
      "                sv4-76          2          2          0          0          0          0\n",
      "                sv4-77          2          2          0          0          0          0\n",
      "                sv4-78          4          4          0          0          0          0\n",
      "                sv4-79          2          2          0          0          0          0\n",
      "                sv4-80          1          1          0          0          0          0\n",
      "                sv4-81          1          1          0          0          0          0\n",
      "                sv4-84          1          1          0          0          0          0\n",
      "                sv4-86          1          1          0          0          0          0\n",
      "                sv4-87          1          1          0          0          0          0\n",
      "                sv4-89          2          2          0          0          0          0\n",
      "                sv4-90          1          1          0          0          0          0\n",
      "                sv4-91          3          3          0          0          0          0\n",
      "                sv4-92          2          2          0          0          0          0\n",
      "                sv4-93          3          3    0.00211      0.333    0.00226    0.00203\n",
      "                sv4-94          1          1          0          0          0          0\n",
      "                sv4-95          5          6          0          0          0          0\n",
      "                sv4-96          3          3          0          0          0          0\n",
      "                sv4-97          2          2          0          0          0          0\n",
      "                sv4-98          3          3          0          0          0          0\n",
      "                sv4-99          2          2          0          0          0          0\n",
      "               sv4-100          2          2          0          0          0          0\n",
      "               sv4-101          1          1          0          0          0          0\n",
      "               sv4-102          1          1          0          0          0          0\n",
      "               sv4-103          3          3          0          0          0          0\n",
      "               sv4-105          3          3          0          0          0          0\n",
      "               sv4-106          2          2          0          0          0          0\n",
      "               sv4-107          2          2          0          0          0          0\n",
      "               sv4-108          1          1          0          0          0          0\n",
      "               sv4-109          1          1          0          0          0          0\n",
      "               sv4-110          2          2          0          0          0          0\n",
      "               sv4-111          1          1          0          0          0          0\n",
      "               sv4-112          2          2          0          0          0          0\n",
      "               sv4-113          1          1          0          0          0          0\n",
      "               sv4-114          1          1          0          0          0          0\n",
      "               sv4-115          3          3          0          0          0          0\n",
      "               sv4-116          4          4          0          0          0          0\n",
      "               sv4-117          1          1          0          0          0          0\n",
      "               sv4-118          1          1          0          0          0          0\n",
      "               sv4-119          2          2          0          0          0          0\n",
      "               sv4-120          1          1          0          0          0          0\n",
      "               sv4-121          3          3          0          0          0          0\n",
      "               sv4-123          1          1          0          0          0          0\n",
      "               sv4-124          1          1          0          0          0          0\n",
      "               sv4-125          3          3          0          0          0          0\n",
      "               sv4-126          1          1          0          0          0          0\n",
      "               sv4-127          1          1          0          0          0          0\n",
      "               sv4-128          2          2          0          0          0          0\n",
      "               sv4-129          3          3          0          0          0          0\n",
      "               sv4-130          2          2          0          0          0          0\n",
      "               sv4-131          3          3          0          0          0          0\n",
      "               sv4-132          1          1          0          0          0          0\n",
      "               sv4-133          1          1          0          0          0          0\n",
      "               sv4-134          2          2          0          0          0          0\n",
      "               sv4-135          3          3          0          0          0          0\n",
      "               sv4-137          2          2          0          0          0          0\n",
      "               sv4-138          2          2          0          0          0          0\n",
      "               sv4-141          2          2          0          0          0          0\n",
      "               sv4-142          3          3          0          0          0          0\n",
      "               sv4-143          2          2          0          0          0          0\n",
      "               sv4-146          2          2          0          0          0          0\n",
      "               sv4-148          2          2          0          0          0          0\n",
      "               sv4-149          2          2          0          0          0          0\n",
      "               sv4-150          2          2          0          0          0          0\n",
      "               sv4-151          1          1          0          0          0          0\n",
      "               sv4-152          3          3          0          0          0          0\n",
      "               sv4-154          3          3          0          0          0          0\n",
      "               sv4-155          2          2          0          0          0          0\n",
      "               sv4-156          3          3          0          0          0          0\n",
      "               sv4-157          3          3          0          0          0          0\n",
      "               sv4-158          1          1          0          0          0          0\n",
      "               sv4-159          1          1          0          0          0          0\n",
      "               sv4-160          2          2          0          0          0          0\n",
      "               sv4-161          2          2          0          0          0          0\n",
      "               sv4-162          1          1          0          0          0          0\n",
      "               sv4-163          1          1          0          0          0          0\n",
      "               sv4-164          3          3          0          0          0          0\n",
      "               sv4-165          2          2          0          0          0          0\n",
      "               sv4-166          2          2          0          0          0          0\n",
      "               sv4-167          4          4          0          0          0          0\n",
      "               sv4-168          1          1          0          0          0          0\n",
      "               sv4-169          3          3          0          0          0          0\n",
      "               sv4-171          1          1          0          0          0          0\n",
      "               sv4-172          1          1          0          0          0          0\n",
      "               sv4-173          1          1          0          0          0          0\n",
      "               sv4-175          3          3          0          0          0          0\n",
      "               sv4-176          2          2          0          0          0          0\n",
      "               sv4-177          3          3          0          0          0          0\n",
      "               sv4-179          2          2          0          0          0          0\n",
      "               sv4-180          2          2          0          0          0          0\n",
      "               sv4-181          1          1          0          0          0          0\n",
      "               sv4-182          1          1          0          0          0          0\n",
      "               sv4-183          3          3          0          0          0          0\n",
      "               sv4-184          1          1          0          0          0          0\n",
      "               sv4-186          5          5          0          0          0          0\n",
      "               sv4-187          2          2          0          0          0          0\n",
      "               sv4-188          2          2          0          0          0          0\n",
      "               sv4-189          1          1          0          0          0          0\n",
      "               sv4-190          1          1          0          0          0          0\n",
      "               sv4-191          3          3          0          0          0          0\n",
      "               sv4-192          2          2          0          0          0          0\n",
      "               sv4-193          2          2          0          0          0          0\n",
      "               sv4-194          4          6          0          0          0          0\n",
      "               sv4-195          4          4          0          0          0          0\n",
      "               sv4-196          2          2          0          0          0          0\n",
      "               sv4-198          2          2          0          0          0          0\n",
      "               sv4-199          3          3          0          0          0          0\n",
      "               sv4-200          2          2          0          0          0          0\n",
      "               sv4-201          2          2          0          0          0          0\n",
      "               sv4-202          2          2          0          0          0          0\n",
      "               sv4-203          2          2     0.0069        0.5     0.0115     0.0103\n",
      "               sv4-204          3          3          0          0          0          0\n",
      "               sv4-205          1          1          0          0          0          0\n",
      "               sv4-207          3          3          0          0          0          0\n",
      "               sv4-208          3          3          0          0          0          0\n",
      "               sv4-209          2          2          0          0          0          0\n",
      "               sv4-210          2          2          0          0          0          0\n",
      "               sv4-212          3          3          0          0          0          0\n",
      "               sv4-213          3          3          0          0          0          0\n",
      "               sv4-214          1          1          0          0          0          0\n",
      "               sv4-215          2          2          0          0          0          0\n",
      "               sv4-217          2          2          0          0          0          0\n",
      "               sv4-218          1          1          0          0          0          0\n",
      "               sv4-219          2          2          0          0          0          0\n",
      "               sv4-220          3          3          0          0          0          0\n",
      "               sv4-221          3          3          0          0          0          0\n",
      "               sv4-222          2          2     0.0035        0.5    0.00339    0.00305\n",
      "               sv4-223          2          2          0          0          0          0\n",
      "               sv4-224          3          3          0          0          0          0\n",
      "               sv4-225          1          1          0          0          0          0\n",
      "               sv4-228          2          2          0          0          0          0\n",
      "               sv4-229          1          1          0          0          0          0\n",
      "               sv4-230          3          3          0          0          0          0\n",
      "               sv4-231          2          2          0          0          0          0\n",
      "               sv4-232          2          2          0          0          0          0\n",
      "               sv4-233          2          2          0          0          0          0\n",
      "               sv4-234          2          2          0          0          0          0\n",
      "               sv4-235          1          1          0          0          0          0\n",
      "               sv4-236          2          2          0          0          0          0\n",
      "               sv4-237          3          3          0          0          0          0\n",
      "               sv4-238          2          2          0          0          0          0\n",
      "               sv4-239          1          1          0          0          0          0\n",
      "               sv4-240          2          2          0          0          0          0\n",
      "               sv4-241          6          6          0          0          0          0\n",
      "               sv4-242          2          2          0          0          0          0\n",
      "               sv4-243          2          2          0          0          0          0\n",
      "               sv4-245          1          1          0          0          0          0\n",
      "               sv4-246          1          1          0          0          0          0\n",
      "               sv4-249          2          2          0          0          0          0\n",
      "               sv4-250          1          1          0          0          0          0\n",
      "               sv4-251          1          1          0          0          0          0\n",
      "               sv4-252          3          3          0          0          0          0\n",
      "               sv4-253          1          1          0          0          0          0\n",
      "               sv4-254          1          1          0          0          0          0\n",
      "               sv4-255          3          3          0          0          0          0\n",
      "               sv4-256          2          2          0          0          0          0\n",
      "               sv4-257          3          4          0          0          0          0\n",
      "               sv4-258          2          2          0          0          0          0\n",
      "               sv4-259          2          2          0          0          0          0\n",
      "               sv4-260          3          3          0          0          0          0\n",
      "               sv4-261          1          1          0          0          0          0\n",
      "               sv4-263          1          1          0          0          0          0\n",
      "               sv4-264          1          1          0          0          0          0\n",
      "               sv4-265          2          2          0          0          0          0\n",
      "               sv4-266          1          1          0          0          0          0\n",
      "              sv4pt5-2          1          1          0          0          0          0\n",
      "              sv4pt5-3          1          1          0          0          0          0\n",
      "              sv4pt5-4          3          3          0          0          0          0\n",
      "              sv4pt5-5          2          2          0          0          0          0\n",
      "              sv4pt5-6          4          4          0          0          0          0\n",
      "              sv4pt5-7          1          1          0          0          0          0\n",
      "              sv4pt5-8          3          3          0          0          0          0\n",
      "              sv4pt5-9          2          2          0          0          0          0\n",
      "             sv4pt5-10          2          2          0          0          0          0\n",
      "             sv4pt5-11          4          4          0          0          0          0\n",
      "             sv4pt5-15          3          3          0          0          0          0\n",
      "             sv4pt5-16          2          2          0          0          0          0\n",
      "             sv4pt5-17          5          5    0.00322        0.2    0.00259    0.00181\n",
      "             sv4pt5-18          3          3          0          0          0          0\n",
      "             sv4pt5-20          2          2          0          0          0          0\n",
      "             sv4pt5-21          1          1          0          0          0          0\n",
      "             sv4pt5-22          2          2   0.000713        0.5   0.000668   0.000668\n",
      "             sv4pt5-23          1          1          0          0          0          0\n",
      "             sv4pt5-24          2          2          0          0          0          0\n",
      "             sv4pt5-25          3          3          0          0          0          0\n",
      "             sv4pt5-26          1          1          0          0          0          0\n",
      "             sv4pt5-27          1          1          0          0          0          0\n",
      "             sv4pt5-28          2          2          0          0          0          0\n",
      "             sv4pt5-29          2          2          0          0          0          0\n",
      "             sv4pt5-30          3          3          0          0          0          0\n",
      "             sv4pt5-31          1          1          0          0          0          0\n",
      "             sv4pt5-32          2          2          0          0          0          0\n",
      "             sv4pt5-33          4          4          0          0          0          0\n",
      "             sv4pt5-34          3          3          0          0          0          0\n",
      "             sv4pt5-35          2          2          0          0          0          0\n",
      "             sv4pt5-36          5          5    0.00488        0.2    0.00314    0.00314\n",
      "             sv4pt5-37          2          2          0          0          0          0\n",
      "             sv4pt5-38          3          3          0          0          0          0\n",
      "             sv4pt5-40          1          1          0          0          0          0\n",
      "             sv4pt5-41          1          1          0          0          0          0\n",
      "             sv4pt5-42          5          5          0          0          0          0\n",
      "             sv4pt5-43          2          2          0          0          0          0\n",
      "             sv4pt5-44          1          1          0          0          0          0\n",
      "             sv4pt5-45          1          1          0          0          0          0\n",
      "             sv4pt5-46          6          6          0          0          0          0\n",
      "             sv4pt5-47          2          2          0          0          0          0\n",
      "             sv4pt5-49          2          2          0          0          0          0\n",
      "             sv4pt5-51          3          3          0          0          0          0\n",
      "             sv4pt5-52          3          3          0          0          0          0\n",
      "             sv4pt5-53          3          3          0          0          0          0\n",
      "             sv4pt5-54          2          2          0          0          0          0\n",
      "             sv4pt5-56          2          2          0          0          0          0\n",
      "             sv4pt5-58          4          4          0          0          0          0\n",
      "             sv4pt5-59          1          1          0          0          0          0\n",
      "             sv4pt5-60          2          2          0          0          0          0\n",
      "             sv4pt5-61          1          1          0          0          0          0\n",
      "             sv4pt5-62          2          2          0          0          0          0\n",
      "             sv4pt5-63          1          1          0          0          0          0\n",
      "             sv4pt5-64          1          1          0          0          0          0\n",
      "             sv4pt5-65          5          5          0          0          0          0\n",
      "             sv4pt5-66          1          1          0          0          0          0\n",
      "             sv4pt5-67          2          2          0          0          0          0\n",
      "             sv4pt5-68          3          3          0          0          0          0\n",
      "             sv4pt5-69          3          3          0          0          0          0\n",
      "             sv4pt5-70          3          3          0          0          0          0\n",
      "             sv4pt5-71          2          2          0          0          0          0\n",
      "             sv4pt5-72          2          2          0          0          0          0\n",
      "             sv4pt5-73          3          3          0          0          0          0\n",
      "             sv4pt5-74          3          3          0          0          0          0\n",
      "             sv4pt5-75          2          2          0          0          0          0\n",
      "             sv4pt5-76          1          1          0          0          0          0\n",
      "             sv4pt5-77          2          2          0          0          0          0\n",
      "             sv4pt5-78          2          2    0.00242        0.5    0.00373    0.00373\n",
      "             sv4pt5-80          1          1          0          0          0          0\n",
      "             sv4pt5-81          2          2          0          0          0          0\n",
      "             sv4pt5-84          2          2          0          0          0          0\n",
      "             sv4pt5-85          3          3          0          0          0          0\n",
      "             sv4pt5-86          2          2          0          0          0          0\n",
      "             sv4pt5-87          2          2          0          0          0          0\n",
      "             sv4pt5-88          2          2          0          0          0          0\n",
      "             sv4pt5-89          2          2          0          0          0          0\n",
      "             sv4pt5-90          1          1          0          0          0          0\n",
      "             sv4pt5-91          2          2          0          0          0          0\n",
      "             sv4pt5-92          4          4          0          0          0          0\n",
      "             sv4pt5-93          1          1          0          0          0          0\n",
      "             sv4pt5-94          3          3          0          0          0          0\n",
      "             sv4pt5-95          1          1          0          0          0          0\n",
      "             sv4pt5-96          3          3          0          0          0          0\n",
      "             sv4pt5-97          2          2          0          0          0          0\n",
      "             sv4pt5-98          2          2          0          0          0          0\n",
      "             sv4pt5-99          2          2          0          0          0          0\n",
      "            sv4pt5-100          3          3          0          0          0          0\n",
      "            sv4pt5-101          1          1          0          0          0          0\n",
      "            sv4pt5-102          1          1          0          0          0          0\n",
      "            sv4pt5-103          3          3          0          0          0          0\n",
      "            sv4pt5-104          2          2          0          0          0          0\n",
      "            sv4pt5-105          4          4          0          0          0          0\n",
      "            sv4pt5-106          2          2          0          0          0          0\n",
      "            sv4pt5-107          2          2          0          0          0          0\n",
      "            sv4pt5-108          1          1          0          0          0          0\n",
      "            sv4pt5-110          2          2          0          0          0          0\n",
      "            sv4pt5-111          1          1          0          0          0          0\n",
      "            sv4pt5-112          2          2          0          0          0          0\n",
      "            sv4pt5-113          3          3    0.00581      0.333      0.011     0.0022\n",
      "            sv4pt5-114          1          1          0          0          0          0\n",
      "            sv4pt5-115          1          1          0          0          0          0\n",
      "            sv4pt5-116          4          4          0          0          0          0\n",
      "            sv4pt5-117          2          2          0          0          0          0\n",
      "            sv4pt5-118          3          3          0          0          0          0\n",
      "            sv4pt5-119          4          4          0          0          0          0\n",
      "            sv4pt5-121          2          2          0          0          0          0\n",
      "            sv4pt5-122          4          4          0          0          0          0\n",
      "            sv4pt5-123          2          2          0          0          0          0\n",
      "            sv4pt5-124          2          2          0          0          0          0\n",
      "            sv4pt5-126          4          4          0          0          0          0\n",
      "            sv4pt5-127          4          4          0          0          0          0\n",
      "            sv4pt5-128          1          1          0          0          0          0\n",
      "            sv4pt5-129          1          1          0          0          0          0\n",
      "            sv4pt5-130          3          3          0          0          0          0\n",
      "            sv4pt5-132          3          3          0          0          0          0\n",
      "            sv4pt5-134          2          2          0          0          0          0\n",
      "            sv4pt5-136          2          2          0          0          0          0\n",
      "            sv4pt5-137          1          1          0          0          0          0\n",
      "            sv4pt5-139          1          1          0          0          0          0\n",
      "            sv4pt5-140          3          3          0          0          0          0\n",
      "            sv4pt5-141          1          1          0          0          0          0\n",
      "            sv4pt5-143          1          1          0          0          0          0\n",
      "            sv4pt5-144          2          2          0          0          0          0\n",
      "            sv4pt5-145          4          4          0          0          0          0\n",
      "            sv4pt5-146          3          3          0          0          0          0\n",
      "            sv4pt5-147          5          5          0          0          0          0\n",
      "            sv4pt5-148          4          4          0          0          0          0\n",
      "            sv4pt5-149          1          1          0          0          0          0\n",
      "            sv4pt5-150          3          3          0          0          0          0\n",
      "            sv4pt5-151          6          6          0          0          0          0\n",
      "            sv4pt5-153          2          2          0          0          0          0\n",
      "            sv4pt5-154          2          2          0          0          0          0\n",
      "            sv4pt5-155          1          1          0          0          0          0\n",
      "            sv4pt5-156          5          5          0          0          0          0\n",
      "            sv4pt5-157          4          4          0          0          0          0\n",
      "            sv4pt5-158          3          3          0          0          0          0\n",
      "            sv4pt5-159          2          2          0          0          0          0\n",
      "            sv4pt5-160          2          2          0          0          0          0\n",
      "            sv4pt5-161          1          1          0          0          0          0\n",
      "            sv4pt5-162          2          2          0          0          0          0\n",
      "            sv4pt5-163          3          3          0          0          0          0\n",
      "            sv4pt5-164          4          4          0          0          0          0\n",
      "            sv4pt5-165          4          4          0          0          0          0\n",
      "            sv4pt5-166          3          3          0          0          0          0\n",
      "            sv4pt5-167          4          4          0          0          0          0\n",
      "            sv4pt5-170          1          1          0          0          0          0\n",
      "            sv4pt5-171          4          4          0          0          0          0\n",
      "            sv4pt5-172          4          4          0          0          0          0\n",
      "            sv4pt5-173          1          1          0          0          0          0\n",
      "            sv4pt5-174          3          3          0          0          0          0\n",
      "            sv4pt5-175          1          1          0          0          0          0\n",
      "            sv4pt5-176          2          2          0          0          0          0\n",
      "            sv4pt5-177          3          3          0          0          0          0\n",
      "            sv4pt5-178          1          1          0          0          0          0\n",
      "            sv4pt5-179          3          3          0          0          0          0\n",
      "            sv4pt5-180          3          3          0          0          0          0\n",
      "            sv4pt5-181          2          2          0          0          0          0\n",
      "            sv4pt5-182          4          4          0          0          0          0\n",
      "            sv4pt5-184          1          1          0          0          0          0\n",
      "            sv4pt5-185          2          2          0          0          0          0\n",
      "            sv4pt5-186          2          2    0.00345        0.5    0.00304    0.00122\n",
      "            sv4pt5-187          2          2          0          0          0          0\n",
      "            sv4pt5-188          3          3          0          0          0          0\n",
      "            sv4pt5-190          1          1          0          0          0          0\n",
      "            sv4pt5-191          3          3          0          0          0          0\n",
      "            sv4pt5-192          1          1          0          0          0          0\n",
      "            sv4pt5-194          3          3          0          0          0          0\n",
      "            sv4pt5-195          3          3          0          0          0          0\n",
      "            sv4pt5-196          2          2          0          0          0          0\n",
      "            sv4pt5-197          2          2          0          0          0          0\n",
      "            sv4pt5-198          1          1          0          0          0          0\n",
      "            sv4pt5-199          3          3          0          0          0          0\n",
      "            sv4pt5-200          1          1          0          0          0          0\n",
      "            sv4pt5-201          1          1          0          0          0          0\n",
      "            sv4pt5-203          2          2          0          0          0          0\n",
      "            sv4pt5-204          1          1          0          0          0          0\n",
      "            sv4pt5-205          2          2          0          0          0          0\n",
      "            sv4pt5-206          1          1          0          0          0          0\n",
      "            sv4pt5-207          1          1          0          0          0          0\n",
      "            sv4pt5-208          2          2          0          0          0          0\n",
      "            sv4pt5-209          2          2          0          0          0          0\n",
      "            sv4pt5-210          2          2    0.00513        0.5    0.00561    0.00561\n",
      "            sv4pt5-212          2          2          0          0          0          0\n",
      "            sv4pt5-213          1          1          0          0          0          0\n",
      "            sv4pt5-214          4          4          0          0          0          0\n",
      "            sv4pt5-215          6          6          0          0          0          0\n",
      "            sv4pt5-218          3          3          0          0          0          0\n",
      "            sv4pt5-219          3          3          0          0          0          0\n",
      "            sv4pt5-220          2          2          0          0          0          0\n",
      "            sv4pt5-221          3          3          0          0          0          0\n",
      "            sv4pt5-222          3          3          0          0          0          0\n",
      "            sv4pt5-223          2          2          0          0          0          0\n",
      "            sv4pt5-224          3          3          0          0          0          0\n",
      "            sv4pt5-225          1          1          0          0          0          0\n",
      "            sv4pt5-226          4          4          0          0          0          0\n",
      "            sv4pt5-228          1          1          0          0          0          0\n",
      "            sv4pt5-229          2          2          0          0          0          0\n",
      "            sv4pt5-230          4          4          0          0          0          0\n",
      "            sv4pt5-231          3          3          0          0          0          0\n",
      "            sv4pt5-232          1          1          0          0          0          0\n",
      "            sv4pt5-233          4          4          0          0          0          0\n",
      "            sv4pt5-234          2          2          0          0          0          0\n",
      "            sv4pt5-235          1          1          0          0          0          0\n",
      "            sv4pt5-236          1          1          0          0          0          0\n",
      "            sv4pt5-237          1          1          0          0          0          0\n",
      "            sv4pt5-238          1          1          0          0          0          0\n",
      "            sv4pt5-240          2          2          0          0          0          0\n",
      "            sv4pt5-241          3          3          0          0          0          0\n",
      "            sv4pt5-243          3          3          0          0          0          0\n",
      "            sv4pt5-244          2          2          0          0          0          0\n",
      "            sv4pt5-245          3          3          0          0          0          0\n",
      "                 sv5-1          4          4          0          0          0          0\n",
      "                 sv5-2          2          2          0          0          0          0\n",
      "                 sv5-3          2          2          0          0          0          0\n",
      "                 sv5-5          1          1          0          0          0          0\n",
      "                 sv5-6          1          1          0          0          0          0\n",
      "                 sv5-7          1          1          0          0          0          0\n",
      "                 sv5-8          3          3          0          0          0          0\n",
      "                 sv5-9          1          1          0          0          0          0\n",
      "                sv5-11          3          3          0          0          0          0\n",
      "                sv5-12          2          2          0          0          0          0\n",
      "                sv5-14          2          2          0          0          0          0\n",
      "                sv5-15          3          3          0          0          0          0\n",
      "                sv5-16          4          4          0          0          0          0\n",
      "                sv5-17          1          1          0          0          0          0\n",
      "                sv5-18          1          1          0          0          0          0\n",
      "                sv5-19          2          2          0          0          0          0\n",
      "                sv5-20          3          3          0          0          0          0\n",
      "                sv5-21          2          2          0          0          0          0\n",
      "                sv5-22          3          3          0          0          0          0\n",
      "                sv5-23          1          1          0          0          0          0\n",
      "                sv5-24          3          3     0.0154      0.333      0.173      0.155\n",
      "                sv5-26          2          2          0          0          0          0\n",
      "                sv5-27          1          1          0          0          0          0\n",
      "                sv5-28          2          2          0          0          0          0\n",
      "                sv5-30          1          1          0          0          0          0\n",
      "                sv5-32          3          3          0          0          0          0\n",
      "                sv5-33          2          2          0          0          0          0\n",
      "                sv5-35          2          2          0          0          0          0\n",
      "                sv5-36          3          3          0          0          0          0\n",
      "                sv5-37          1          1          0          0          0          0\n",
      "                sv5-38          1          1          0          0          0          0\n",
      "                sv5-39          3          3          0          0          0          0\n",
      "                sv5-40          1          1          0          0          0          0\n",
      "                sv5-41          3          3          0          0          0          0\n",
      "                sv5-42          2          2          0          0          0          0\n",
      "                sv5-44          3          3          0          0          0          0\n",
      "                sv5-45          1          1          0          0          0          0\n",
      "                sv5-46          2          2          0          0          0          0\n",
      "                sv5-47          1          1          0          0          0          0\n",
      "                sv5-48          3          3          0          0          0          0\n",
      "                sv5-49          4          4          0          0          0          0\n",
      "                sv5-50          4          4   0.000978       0.25   0.000612   0.000551\n",
      "                sv5-51          3          3          0          0          0          0\n",
      "                sv5-52          2          2          0          0          0          0\n",
      "                sv5-53          3          3          0          0          0          0\n",
      "                sv5-54          2          2          0          0          0          0\n",
      "                sv5-55          2          2          0          0          0          0\n",
      "                sv5-57          4          4          0          0          0          0\n",
      "                sv5-58          2          2          0          0          0          0\n",
      "                sv5-59          5          5          0          0          0          0\n",
      "                sv5-61          1          1          0          0          0          0\n",
      "                sv5-62          1          1          0          0          0          0\n",
      "                sv5-63          1          1          0          0          0          0\n",
      "                sv5-64          1          1          0          0          0          0\n",
      "                sv5-65          1          1          0          0          0          0\n",
      "                sv5-66          3          3          0          0          0          0\n",
      "                sv5-67          1          1          0          0          0          0\n",
      "                sv5-68          3          3          0          0          0          0\n",
      "                sv5-69          1          1          0          0          0          0\n",
      "                sv5-70          3          3          0          0          0          0\n",
      "                sv5-71          1          1          0          0          0          0\n",
      "                sv5-72          1          1          0          0          0          0\n",
      "                sv5-73          1          1          0          0          0          0\n",
      "                sv5-74          1          1          0          0          0          0\n",
      "                sv5-75          2          2          0          0          0          0\n",
      "                sv5-76          4          4          0          0          0          0\n",
      "                sv5-77          2          2          0          0          0          0\n",
      "                sv5-78          1          1          0          0          0          0\n",
      "                sv5-79          2          2          0          0          0          0\n",
      "                sv5-80          1          1    0.00155          1    0.00193    0.00174\n",
      "                sv5-81          2          2          0          0          0          0\n",
      "                sv5-82          3          3          0          0          0          0\n",
      "                sv5-83          3          3          0          0          0          0\n",
      "                sv5-84          2          2          0          0          0          0\n",
      "                sv5-85          2          2          0          0          0          0\n",
      "                sv5-87          2          2          0          0          0          0\n",
      "                sv5-89          2          2          0          0          0          0\n",
      "                sv5-90          2          2          0          0          0          0\n",
      "                sv5-91          3          3          0          0          0          0\n",
      "                sv5-92          2          2          0          0          0          0\n",
      "                sv5-94          1          1          0          0          0          0\n",
      "                sv5-95          2          2          0          0          0          0\n",
      "                sv5-96          1          1          0          0          0          0\n",
      "                sv5-97          2          2          0          0          0          0\n",
      "                sv5-98          3          3          0          0          0          0\n",
      "                sv5-99          2          2          0          0          0          0\n",
      "               sv5-100          2          2          0          0          0          0\n",
      "               sv5-101          2          2          0          0          0          0\n",
      "               sv5-102          3          3          0          0          0          0\n",
      "               sv5-103          1          1          0          0          0          0\n",
      "               sv5-104          3          3          0          0          0          0\n",
      "               sv5-105          1          1          0          0          0          0\n",
      "               sv5-106          1          1          0          0          0          0\n",
      "               sv5-107          1          1          0          0          0          0\n",
      "               sv5-108          4          4          0          0          0          0\n",
      "               sv5-109          1          1          0          0          0          0\n",
      "               sv5-110          1          1          0          0          0          0\n",
      "               sv5-111          1          1          0          0          0          0\n",
      "               sv5-112          3          3          0          0          0          0\n",
      "               sv5-113          2          2          0          0          0          0\n",
      "               sv5-114          1          1          0          0          0          0\n",
      "               sv5-115          2          2          0          0          0          0\n",
      "               sv5-116          2          2          0          0          0          0\n",
      "               sv5-117          1          1          0          0          0          0\n",
      "               sv5-118          4          4          0          0          0          0\n",
      "               sv5-119          2          2          0          0          0          0\n",
      "               sv5-120          2          2          0          0          0          0\n",
      "               sv5-121          3          3          0          0          0          0\n",
      "               sv5-122          1          1          0          0          0          0\n",
      "               sv5-123          4          4          0          0          0          0\n",
      "               sv5-124          1          1          0          0          0          0\n",
      "               sv5-125          3          3          0          0          0          0\n",
      "               sv5-126          1          1          0          0          0          0\n",
      "               sv5-127          1          1          0          0          0          0\n",
      "               sv5-128          2          2          0          0          0          0\n",
      "               sv5-129          1          1          0          0          0          0\n",
      "               sv5-130          2          2          0          0          0          0\n",
      "               sv5-131          3          3          0          0          0          0\n",
      "               sv5-132          2          2          0          0          0          0\n",
      "               sv5-134          3          3          0          0          0          0\n",
      "               sv5-135          1          1          0          0          0          0\n",
      "               sv5-136          4          4          0          0          0          0\n",
      "               sv5-137          3          3          0          0          0          0\n",
      "               sv5-138          1          1          0          0          0          0\n",
      "               sv5-139          2          2          0          0          0          0\n",
      "               sv5-140          2          2          0          0          0          0\n",
      "               sv5-141          2          2          0          0          0          0\n",
      "               sv5-142          2          2          0          0          0          0\n",
      "               sv5-143          2          2          0          0          0          0\n",
      "               sv5-145          4          4          0          0          0          0\n",
      "               sv5-146          1          1          0          0          0          0\n",
      "               sv5-147          1          1          0          0          0          0\n",
      "               sv5-148          1          1          0          0          0          0\n",
      "               sv5-149          2          2          0          0          0          0\n",
      "               sv5-150          2          2          0          0          0          0\n",
      "               sv5-151          1          1          0          0          0          0\n",
      "               sv5-153          2          2          0          0          0          0\n",
      "               sv5-154          2          2          0          0          0          0\n",
      "               sv5-156          1          1          0          0          0          0\n",
      "               sv5-157          1          1          0          0          0          0\n",
      "               sv5-158          1          1          0          0          0          0\n",
      "               sv5-159          1          1          0          0          0          0\n",
      "               sv5-160          4          4          0          0          0          0\n",
      "               sv5-162          4          4          0          0          0          0\n",
      "               sv5-163          4          4          0          0          0          0\n",
      "               sv5-164          1          1          0          0          0          0\n",
      "               sv5-165          1          1          0          0          0          0\n",
      "               sv5-166          1          1          0          0          0          0\n",
      "               sv5-167          2          2          0          0          0          0\n",
      "               sv5-168          3          3          0          0          0          0\n",
      "               sv5-169          1          1          0          0          0          0\n",
      "               sv5-170          2          2          0          0          0          0\n",
      "               sv5-171          1          1          0          0          0          0\n",
      "               sv5-173          1          1          0          0          0          0\n",
      "               sv5-174          4          4          0          0          0          0\n",
      "               sv5-176          1          1          0          0          0          0\n",
      "               sv5-177          3          3          0          0          0          0\n",
      "               sv5-178          2          2          0          0          0          0\n",
      "               sv5-179          2          2          0          0          0          0\n",
      "               sv5-180          1          1          0          0          0          0\n",
      "               sv5-181          1          1          0          0          0          0\n",
      "               sv5-182          1          1          0          0          0          0\n",
      "               sv5-183          1          1          0          0          0          0\n",
      "               sv5-185          2          2          0          0          0          0\n",
      "               sv5-186          1          1          0          0          0          0\n",
      "               sv5-187          1          1          0          0          0          0\n",
      "               sv5-189          1          1          0          0          0          0\n",
      "               sv5-190          3          3          0          0          0          0\n",
      "               sv5-191          3          3          0          0          0          0\n",
      "               sv5-192          2          2          0          0          0          0\n",
      "               sv5-193          1          1          0          0          0          0\n",
      "               sv5-194          4          4          0          0          0          0\n",
      "               sv5-195          1          1          0          0          0          0\n",
      "               sv5-196          1          1          0          0          0          0\n",
      "               sv5-197          2          2          0          0          0          0\n",
      "               sv5-199          3          3          0          0          0          0\n",
      "               sv5-200          1          1          0          0          0          0\n",
      "               sv5-201          1          1          0          0          0          0\n",
      "               sv5-202          2          2          0          0          0          0\n",
      "               sv5-203          1          1          0          0          0          0\n",
      "               sv5-204          1          1          0          0          0          0\n",
      "               sv5-205          2          2          0          0          0          0\n",
      "               sv5-206          2          2          0          0          0          0\n",
      "               sv5-207          2          2          0          0          0          0\n",
      "               sv5-208          2          2          0          0          0          0\n",
      "               sv5-209          2          2          0          0          0          0\n",
      "               sv5-210          2          2          0          0          0          0\n",
      "               sv5-211          3          3          0          0          0          0\n",
      "               sv5-212          3          3          0          0          0          0\n",
      "               sv5-213          1          1          0          0          0          0\n",
      "               sv5-215          2          2          0          0          0          0\n",
      "               sv5-216          2          2          0          0          0          0\n",
      "               sv5-217          3          3          0          0          0          0\n",
      "                 sv6-1          2          2          0          0          0          0\n",
      "                 sv6-2          2          2          0          0          0          0\n",
      "                 sv6-3          5          5          0          0          0          0\n",
      "                 sv6-4          1          1          0          0          0          0\n",
      "                 sv6-7          1          1          0          0          0          0\n",
      "                 sv6-9          3          3          0          0          0          0\n",
      "                sv6-10          1          1          0          0          0          0\n",
      "                sv6-11          2          2          0          0          0          0\n",
      "                sv6-12          3          3          0          0          0          0\n",
      "                sv6-13          2          2          0          0          0          0\n",
      "                sv6-14          2          2          0          0          0          0\n",
      "                sv6-15          1          1          0          0          0          0\n",
      "                sv6-16          2          2          0          0          0          0\n",
      "                sv6-17          3          3          0          0          0          0\n",
      "                sv6-18          2          2          0          0          0          0\n",
      "                sv6-19          4          4          0          0          0          0\n",
      "                sv6-20          1          1          0          0          0          0\n",
      "                sv6-21          3          3          0          0          0          0\n",
      "                sv6-22          2          2          0          0          0          0\n",
      "                sv6-23          1          1          0          0          0          0\n",
      "                sv6-24          1          1          0          0          0          0\n",
      "                sv6-25          1          1          0          0          0          0\n",
      "                sv6-26          3          3          0          0          0          0\n",
      "                sv6-27          2          2          0          0          0          0\n",
      "                sv6-28          3          3          0          0          0          0\n",
      "                sv6-29          1          1          0          0          0          0\n",
      "                sv6-30          1          1          0          0          0          0\n",
      "                sv6-31          1          1          0          0          0          0\n",
      "                sv6-33          1          1          0          0          0          0\n",
      "                sv6-34          3          3          0          0          0          0\n",
      "                sv6-36          1          1          0          0          0          0\n",
      "                sv6-37          6          6          0          0          0          0\n",
      "                sv6-38          1          1          0          0          0          0\n",
      "                sv6-39          1          1          0          0          0          0\n",
      "                sv6-40          3          3          0          0          0          0\n",
      "                sv6-41          1          1          0          0          0          0\n",
      "                sv6-42          1          1          0          0          0          0\n",
      "                sv6-43          2          2          0          0          0          0\n",
      "                sv6-44          3          3    0.00365      0.333    0.00387    0.00387\n",
      "                sv6-45          5          5          0          0          0          0\n",
      "                sv6-46          2          2          0          0          0          0\n",
      "                sv6-47          4          4          0          0          0          0\n",
      "                sv6-48          2          2          0          0          0          0\n",
      "                sv6-49          1          1          0          0          0          0\n",
      "                sv6-50          2          2          0          0          0          0\n",
      "                sv6-52          2          2    0.00272        0.5    0.00536    0.00483\n",
      "                sv6-53          2          2          0          0          0          0\n",
      "                sv6-54          1          1          0          0          0          0\n",
      "                sv6-55          2          2          0          0          0          0\n",
      "                sv6-56          3          3          0          0          0          0\n",
      "                sv6-57          2          2          0          0          0          0\n",
      "                sv6-58          2          2          0          0          0          0\n",
      "                sv6-59          2          2          0          0          0          0\n",
      "                sv6-60          3          3          0          0          0          0\n",
      "                sv6-61          1          1          0          0          0          0\n",
      "                sv6-63          1          1          0          0          0          0\n",
      "                sv6-64          3          4          0          0          0          0\n",
      "                sv6-65          2          2          0          0          0          0\n",
      "                sv6-66          2          2    0.00207        0.5    0.00792    0.00712\n",
      "                sv6-67          1          1          0          0          0          0\n",
      "                sv6-68          5          5          0          0          0          0\n",
      "                sv6-69          3          3          0          0          0          0\n",
      "                sv6-70          2          2          0          0          0          0\n",
      "                sv6-71          4          4          0          0          0          0\n",
      "                sv6-72          2          2          0          0          0          0\n",
      "                sv6-73          2          2          0          0          0          0\n",
      "                sv6-74          1          1          0          0          0          0\n",
      "                sv6-75          1          1          0          0          0          0\n",
      "                sv6-77          3          3          0          0          0          0\n",
      "                sv6-79          1          1          0          0          0          0\n",
      "                sv6-80          2          2          0          0          0          0\n",
      "                sv6-81          3          3          0          0          0          0\n",
      "                sv6-82          4          4          0          0          0          0\n",
      "                sv6-83          1          1          0          0          0          0\n",
      "                sv6-84          1          1          0          0          0          0\n",
      "                sv6-86          2          2          0          0          0          0\n",
      "                sv6-87          1          1          0          0          0          0\n",
      "                sv6-88          3          3          0          0          0          0\n",
      "                sv6-89          3          3          0          0          0          0\n",
      "                sv6-91          1          1   0.000454          1    0.00053   0.000477\n",
      "                sv6-92          1          1          0          0          0          0\n",
      "                sv6-93          4          4          0          0          0          0\n",
      "                sv6-94          3          3          0          0          0          0\n",
      "                sv6-95          3          3          0          0          0          0\n",
      "                sv6-96          2          2          0          0          0          0\n",
      "                sv6-97          2          2          0          0          0          0\n",
      "                sv6-98          1          1          0          0          0          0\n",
      "                sv6-99          3          3          0          0          0          0\n",
      "               sv6-100          2          2          0          0          0          0\n",
      "               sv6-103          2          2          0          0          0          0\n",
      "               sv6-105          2          2          0          0          0          0\n",
      "               sv6-106          1          1          0          0          0          0\n",
      "               sv6-107          4          4          0          0          0          0\n",
      "               sv6-108          4          4          0          0          0          0\n",
      "               sv6-109          1          1          0          0          0          0\n",
      "               sv6-110          2          2          0          0          0          0\n",
      "               sv6-111          1          1          0          0          0          0\n",
      "               sv6-112          3          3          0          0          0          0\n",
      "               sv6-113          4          4          0          0          0          0\n",
      "               sv6-114          3          3          0          0          0          0\n",
      "               sv6-115          2          2          0          0          0          0\n",
      "               sv6-117          3          3          0          0          0          0\n",
      "               sv6-118          2          2          0          0          0          0\n",
      "               sv6-119          4          4          0          0          0          0\n",
      "               sv6-120          2          2          0          0          0          0\n",
      "               sv6-121          2          2          0          0          0          0\n",
      "               sv6-122          1          1          0          0          0          0\n",
      "               sv6-123          5          5          0          0          0          0\n",
      "               sv6-124          3          3          0          0          0          0\n",
      "               sv6-125          1          1          0          0          0          0\n",
      "               sv6-126          1          1          0          0          0          0\n",
      "               sv6-128          2          2          0          0          0          0\n",
      "               sv6-129          1          1          0          0          0          0\n",
      "               sv6-130          1          1          0          0          0          0\n",
      "               sv6-131          1          1          0          0          0          0\n",
      "               sv6-132          1          1          0          0          0          0\n",
      "               sv6-133          1          1          0          0          0          0\n",
      "               sv6-134          1          1          0          0          0          0\n",
      "               sv6-135          2          2          0          0          0          0\n",
      "               sv6-136          3          3          0          0          0          0\n",
      "               sv6-137          4          4          0          0          0          0\n",
      "               sv6-138          3          3          0          0          0          0\n",
      "               sv6-139          2          2          0          0          0          0\n",
      "               sv6-140          1          1          0          0          0          0\n",
      "               sv6-141          1          1          0          0          0          0\n",
      "               sv6-142          1          1          0          0          0          0\n",
      "               sv6-143          3          3          0          0          0          0\n",
      "               sv6-144          1          1          0          0          0          0\n",
      "               sv6-145          2          2          0          0          0          0\n",
      "               sv6-146          3          3          0          0          0          0\n",
      "               sv6-147          1          1          0          0          0          0\n",
      "               sv6-149          4          4          0          0          0          0\n",
      "               sv6-151          2          2          0          0          0          0\n",
      "               sv6-154          2          2          0          0          0          0\n",
      "               sv6-155          1          1          0          0          0          0\n",
      "               sv6-157          1          1          0          0          0          0\n",
      "               sv6-159          3          3          0          0          0          0\n",
      "               sv6-160          2          2          0          0          0          0\n",
      "               sv6-161          3          3          0          0          0          0\n",
      "               sv6-162          3          3          0          0          0          0\n",
      "               sv6-163          1          1          0          0          0          0\n",
      "               sv6-164          1          1          0          0          0          0\n",
      "               sv6-165          1          1          0          0          0          0\n",
      "               sv6-166          3          3          0          0          0          0\n",
      "               sv6-167          2          2          0          0          0          0\n",
      "               sv6-170          1          1          0          0          0          0\n",
      "               sv6-173          1          1          0          0          0          0\n",
      "               sv6-174          1          1          0          0          0          0\n",
      "               sv6-175          2          2          0          0          0          0\n",
      "               sv6-176          1          1          0          0          0          0\n",
      "               sv6-179          3          3          0          0          0          0\n",
      "               sv6-180          2          2          0          0          0          0\n",
      "               sv6-181          2          2          0          0          0          0\n",
      "               sv6-182          2          2          0          0          0          0\n",
      "               sv6-183          1          1          0          0          0          0\n",
      "               sv6-184          1          1          0          0          0          0\n",
      "               sv6-185          2          2          0          0          0          0\n",
      "               sv6-186          3          3          0          0          0          0\n",
      "               sv6-187          2          2          0          0          0          0\n",
      "               sv6-188          2          2          0          0          0          0\n",
      "               sv6-189          3          3          0          0          0          0\n",
      "               sv6-190          1          1          0          0          0          0\n",
      "               sv6-191          4          4          0          0          0          0\n",
      "               sv6-192          1          1          0          0          0          0\n",
      "               sv6-193          1          1          0          0          0          0\n",
      "               sv6-194          3          3          0          0          0          0\n",
      "               sv6-197          1          1          0          0          0          0\n",
      "               sv6-198          1          1          0          0          0          0\n",
      "               sv6-199          3          3          0          0          0          0\n",
      "               sv6-200          3          3          0          0          0          0\n",
      "               sv6-202          1          1          0          0          0          0\n",
      "               sv6-203          1          1          0          0          0          0\n",
      "               sv6-204          2          2          0          0          0          0\n",
      "               sv6-205          5          5          0          0          0          0\n",
      "               sv6-206          1          1          0          0          0          0\n",
      "               sv6-208          1          1          0          0          0          0\n",
      "               sv6-209          1          1          0          0          0          0\n",
      "               sv6-212          3          3          0          0          0          0\n",
      "               sv6-213          1          1          0          0          0          0\n",
      "               sv6-214          3          3          0          0          0          0\n",
      "               sv6-215          1          1          0          0          0          0\n",
      "               sv6-216          1          2          0          0          0          0\n",
      "               sv6-218          1          1          0          0          0          0\n",
      "               sv6-219          3          3          0          0          0          0\n",
      "               sv6-220          1          1          0          0          0          0\n",
      "               sv6-221          2          2          0          0          0          0\n",
      "               sv6-222          2          2          0          0          0          0\n",
      "               sv6-223          1          1          0          0          0          0\n",
      "               sv6-224          3          3          0          0          0          0\n",
      "               sv6-225          1          1          0          0          0          0\n",
      "               sv6-226          3          3          0          0          0          0\n",
      "              sv6pt5-1          5          5          0          0          0          0\n",
      "              sv6pt5-4          1          1          0          0          0          0\n",
      "              sv6pt5-5          1          1          0          0          0          0\n",
      "              sv6pt5-6          5          5          0          0          0          0\n",
      "              sv6pt5-7          1          1          0          0          0          0\n",
      "              sv6pt5-8          1          1          0          0          0          0\n",
      "              sv6pt5-9          1          1          0          0          0          0\n",
      "             sv6pt5-11          3          3          0          0          0          0\n",
      "             sv6pt5-12          1          1          0          0          0          0\n",
      "             sv6pt5-13          4          4          0          0          0          0\n",
      "             sv6pt5-14          1          1          0          0          0          0\n",
      "             sv6pt5-15          2          2          0          0          0          0\n",
      "             sv6pt5-16          1          1          0          0          0          0\n",
      "             sv6pt5-18          2          2          0          0          0          0\n",
      "             sv6pt5-19          1          1          0          0          0          0\n",
      "             sv6pt5-20          1          1          0          0          0          0\n",
      "             sv6pt5-22          1          1          0          0          0          0\n",
      "             sv6pt5-23          2          2          0          0          0          0\n",
      "             sv6pt5-24          1          1          0          0          0          0\n",
      "             sv6pt5-26          1          1          0          0          0          0\n",
      "             sv6pt5-27          2          2          0          0          0          0\n",
      "             sv6pt5-28          1          1          0          0          0          0\n",
      "             sv6pt5-29          1          1          0          0          0          0\n",
      "             sv6pt5-30          1          1          0          0          0          0\n",
      "             sv6pt5-31          1          1          0          0          0          0\n",
      "             sv6pt5-32          5          5          0          0          0          0\n",
      "             sv6pt5-33          2          2          0          0          0          0\n",
      "             sv6pt5-34          1          1          0          0          0          0\n",
      "             sv6pt5-35          2          2          0          0          0          0\n",
      "             sv6pt5-36          1          1          0          0          0          0\n",
      "             sv6pt5-37          3          3          0          0          0          0\n",
      "             sv6pt5-38          3          3          0          0          0          0\n",
      "             sv6pt5-40          1          1          0          0          0          0\n",
      "             sv6pt5-41          2          2          0          0          0          0\n",
      "             sv6pt5-42          2          2          0          0          0          0\n",
      "             sv6pt5-43          1          1          0          0          0          0\n",
      "             sv6pt5-44          2          2          0          0          0          0\n",
      "             sv6pt5-45          3          3          0          0          0          0\n",
      "             sv6pt5-46          4          5          0          0          0          0\n",
      "             sv6pt5-47          4          4          0          0          0          0\n",
      "             sv6pt5-48          1          1          0          0          0          0\n",
      "             sv6pt5-49          3          3          0          0          0          0\n",
      "             sv6pt5-50          5          5          0          0          0          0\n",
      "             sv6pt5-51          2          2          0          0          0          0\n",
      "             sv6pt5-52          4          4          0          0          0          0\n",
      "             sv6pt5-53          2          2          0          0          0          0\n",
      "             sv6pt5-54          3          3          0          0          0          0\n",
      "             sv6pt5-55          6          6          0          0          0          0\n",
      "             sv6pt5-56          4          4          0          0          0          0\n",
      "             sv6pt5-57          3          3          0          0          0          0\n",
      "             sv6pt5-59          2          2          0          0          0          0\n",
      "             sv6pt5-60          1          1          0          0          0          0\n",
      "             sv6pt5-63          2          2          0          0          0          0\n",
      "             sv6pt5-64          3          3          0          0          0          0\n",
      "             sv6pt5-65          2          2          0          0          0          0\n",
      "             sv6pt5-66          2          2          0          0          0          0\n",
      "             sv6pt5-67          1          1          0          0          0          0\n",
      "             sv6pt5-68          1          1          0          0          0          0\n",
      "             sv6pt5-69          2          2          0          0          0          0\n",
      "             sv6pt5-70          2          2          0          0          0          0\n",
      "             sv6pt5-71          2          2          0          0          0          0\n",
      "             sv6pt5-73          3          3          0          0          0          0\n",
      "             sv6pt5-74          1          1          0          0          0          0\n",
      "             sv6pt5-75          3          3          0          0          0          0\n",
      "             sv6pt5-76          2          2          0          0          0          0\n",
      "             sv6pt5-78          2          2          0          0          0          0\n",
      "             sv6pt5-79          2          2          0          0          0          0\n",
      "             sv6pt5-80          2          2          0          0          0          0\n",
      "             sv6pt5-81          2          2          0          0          0          0\n",
      "             sv6pt5-82          1          1          0          0          0          0\n",
      "             sv6pt5-83          4          4          0          0          0          0\n",
      "             sv6pt5-85          3          3          0          0          0          0\n",
      "             sv6pt5-86          2          2          0          0          0          0\n",
      "             sv6pt5-88          3          3          0          0          0          0\n",
      "             sv6pt5-91          3          3          0          0          0          0\n",
      "             sv6pt5-92          2          2          0          0          0          0\n",
      "             sv6pt5-94          1          1          0          0          0          0\n",
      "             sv6pt5-95          2          2          0          0          0          0\n",
      "             sv6pt5-96          1          1          0          0          0          0\n",
      "             sv6pt5-97          4          4          0          0          0          0\n",
      "             sv6pt5-98          1          1          0          0          0          0\n",
      "             sv6pt5-99          3          3          0          0          0          0\n",
      "                 sv7-1          4          4          0          0          0          0\n",
      "                 sv7-3          3          3          0          0          0          0\n",
      "                 sv7-4          2          2          0          0          0          0\n",
      "                 sv7-5          1          1          0          0          0          0\n",
      "                 sv7-6          1          1          0          0          0          0\n",
      "                 sv7-8          2          2          0          0          0          0\n",
      "                 sv7-9          2          2          0          0          0          0\n",
      "                sv7-10          2          2          0          0          0          0\n",
      "                sv7-11          3          3          0          0          0          0\n",
      "                sv7-12          2          2          0          0          0          0\n",
      "                sv7-13          4          4          0          0          0          0\n",
      "                sv7-14          1          1          0          0          0          0\n",
      "                sv7-15          2          2          0          0          0          0\n",
      "                sv7-16          2          2          0          0          0          0\n",
      "                sv7-17          3          3          0          0          0          0\n",
      "                sv7-18          4          4          0          0          0          0\n",
      "                sv7-19          2          2          0          0          0          0\n",
      "                sv7-21          4          4          0          0          0          0\n",
      "                sv7-22          2          2          0          0          0          0\n",
      "                sv7-24          2          2          0          0          0          0\n",
      "                sv7-25          2          2          0          0          0          0\n",
      "                sv7-26          2          2          0          0          0          0\n",
      "                sv7-27          2          2          0          0          0          0\n",
      "                sv7-28          4          4          0          0          0          0\n",
      "                sv7-29          2          2          0          0          0          0\n",
      "                sv7-30          2          2          0          0          0          0\n",
      "                sv7-31          1          1          0          0          0          0\n",
      "                sv7-34          1          1          0          0          0          0\n",
      "                sv7-35          3          3          0          0          0          0\n",
      "                sv7-36          1          1          0          0          0          0\n",
      "                sv7-37          3          3          0          0          0          0\n",
      "                sv7-38          1          1          0          0          0          0\n",
      "                sv7-39          1          1          0          0          0          0\n",
      "                sv7-40          1          1          0          0          0          0\n",
      "                sv7-41          4          4          0          0          0          0\n",
      "                sv7-42          1          1          0          0          0          0\n",
      "                sv7-43          2          2          0          0          0          0\n",
      "                sv7-44          3          3          0          0          0          0\n",
      "                sv7-46          1          1          0          0          0          0\n",
      "                sv7-47          2          2          0          0          0          0\n",
      "                sv7-48          1          1          0          0          0          0\n",
      "                sv7-49          2          2          0          0          0          0\n",
      "                sv7-50          2          2          0          0          0          0\n",
      "                sv7-51          2          2          0          0          0          0\n",
      "                sv7-52          4          4          0          0          0          0\n",
      "                sv7-53          1          1          0          0          0          0\n",
      "                sv7-54          2          2          0          0          0          0\n",
      "                sv7-55          2          2          0          0          0          0\n",
      "                sv7-56          2          2          0          0          0          0\n",
      "                sv7-57          3          3          0          0          0          0\n",
      "                sv7-58          3          3          0          0          0          0\n",
      "                sv7-59          3          3          0          0          0          0\n",
      "                sv7-60          1          1          0          0          0          0\n",
      "                sv7-61          1          1          0          0          0          0\n",
      "                sv7-62          1          1          0          0          0          0\n",
      "                sv7-63          2          2          0          0          0          0\n",
      "                sv7-64          3          3          0          0          0          0\n",
      "                sv7-65          2          2          0          0          0          0\n",
      "                sv7-66          2          2          0          0          0          0\n",
      "                sv7-67          2          2          0          0          0          0\n",
      "                sv7-68          1          1          0          0          0          0\n",
      "                sv7-69          1          1          0          0          0          0\n",
      "                sv7-70          1          1          0          0          0          0\n",
      "                sv7-71          4          4          0          0          0          0\n",
      "                sv7-72          4          4          0          0          0          0\n",
      "                sv7-73          1          1          0          0          0          0\n",
      "                sv7-77          3          3          0          0          0          0\n",
      "                sv7-78          1          1          0          0          0          0\n",
      "                sv7-79          1          1          0          0          0          0\n",
      "                sv7-80          2          2          0          0          0          0\n",
      "                sv7-81          2          2          0          0          0          0\n",
      "                sv7-83          2          2          0          0          0          0\n",
      "                sv7-84          1          1          0          0          0          0\n",
      "                sv7-85          2          2          0          0          0          0\n",
      "                sv7-86          2          2          0          0          0          0\n",
      "                sv7-87          4          4          0          0          0          0\n",
      "                sv7-88          1          1          0          0          0          0\n",
      "                sv7-89          2          2          0          0          0          0\n",
      "                sv7-90          1          1          0          0          0          0\n",
      "                sv7-91          1          1          0          0          0          0\n",
      "                sv7-92          1          1          0          0          0          0\n",
      "                sv7-93          1          1          0          0          0          0\n",
      "                sv7-94          2          2          0          0          0          0\n",
      "                sv7-95          1          1          0          0          0          0\n",
      "                sv7-96          1          1          0          0          0          0\n",
      "                sv7-97          2          2          0          0          0          0\n",
      "                sv7-98          5          5          0          0          0          0\n",
      "                sv7-99          3          3          0          0          0          0\n",
      "               sv7-100          2          2          0          0          0          0\n",
      "               sv7-101          1          1          0          0          0          0\n",
      "               sv7-102          2          2          0          0          0          0\n",
      "               sv7-103          2          2          0          0          0          0\n",
      "               sv7-104          3          3          0          0          0          0\n",
      "               sv7-105          2          2          0          0          0          0\n",
      "               sv7-106          3          3          0          0          0          0\n",
      "               sv7-107          1          1          0          0          0          0\n",
      "               sv7-108          1          1          0          0          0          0\n",
      "               sv7-109          2          2          0          0          0          0\n",
      "               sv7-111          1          1          0          0          0          0\n",
      "               sv7-112          3          3          0          0          0          0\n",
      "               sv7-113          1          1          0          0          0          0\n",
      "               sv7-114          2          2          0          0          0          0\n",
      "               sv7-116          2          2          0          0          0          0\n",
      "               sv7-118          2          2          0          0          0          0\n",
      "               sv7-119          4          4          0          0          0          0\n",
      "               sv7-120          2          2          0          0          0          0\n",
      "               sv7-121          1          1          0          0          0          0\n",
      "               sv7-122          3          3          0          0          0          0\n",
      "               sv7-123          2          2          0          0          0          0\n",
      "               sv7-124          3          3          0          0          0          0\n",
      "               sv7-125          3          3          0          0          0          0\n",
      "               sv7-126          2          2    0.00131        0.5     0.0066    0.00594\n",
      "               sv7-127          2          2          0          0          0          0\n",
      "               sv7-128          2          2          0          0          0          0\n",
      "               sv7-130          1          1          0          0          0          0\n",
      "               sv7-131          2          2          0          0          0          0\n",
      "               sv7-132          2          2          0          0          0          0\n",
      "               sv7-133          3          3          0          0          0          0\n",
      "               sv7-134          3          3          0          0          0          0\n",
      "               sv7-135          1          1          0          0          0          0\n",
      "               sv7-136          3          3          0          0          0          0\n",
      "               sv7-137          3          3          0          0          0          0\n",
      "               sv7-138          4          4          0          0          0          0\n",
      "               sv7-139          2          2          0          0          0          0\n",
      "               sv7-140          1          1          0          0          0          0\n",
      "               sv7-141          2          2          0          0          0          0\n",
      "               sv7-143          1          1          0          0          0          0\n",
      "               sv7-144          2          2          0          0          0          0\n",
      "               sv7-145          2          2          0          0          0          0\n",
      "               sv7-146          1          1          0          0          0          0\n",
      "               sv7-147          2          2          0          0          0          0\n",
      "               sv7-148          4          4          0          0          0          0\n",
      "               sv7-149          1          1          0          0          0          0\n",
      "               sv7-150          1          1          0          0          0          0\n",
      "               sv7-151          1          1          0          0          0          0\n",
      "               sv7-152          2          2          0          0          0          0\n",
      "               sv7-153          2          2          0          0          0          0\n",
      "               sv7-154          1          1          0          0          0          0\n",
      "               sv7-155          1          1          0          0          0          0\n",
      "               sv7-156          3          3          0          0          0          0\n",
      "               sv7-158          3          3          0          0          0          0\n",
      "               sv7-160          2          2          0          0          0          0\n",
      "               sv7-161          1          1          0          0          0          0\n",
      "               sv7-164          1          1          0          0          0          0\n",
      "               sv7-165          2          2          0          0          0          0\n",
      "               sv7-166          1          1          0          0          0          0\n",
      "               sv7-167          1          1          0          0          0          0\n",
      "               sv7-169          2          2          0          0          0          0\n",
      "               sv7-170          4          4          0          0          0          0\n",
      "               sv7-171          1          1          0          0          0          0\n",
      "               sv7-172          3          3          0          0          0          0\n",
      "               sv7-173          2          2          0          0          0          0\n",
      "               sv7-174          1          1          0          0          0          0\n",
      "               sv7-175          1          1          0          0          0          0\n",
      "                 sv8-1          3          3          0          0          0          0\n",
      "                 sv8-2          2          2          0          0          0          0\n",
      "                 sv8-3          2          2          0          0          0          0\n",
      "                 sv8-4          1          1          0          0          0          0\n",
      "                 sv8-6          2          2          0          0          0          0\n",
      "                 sv8-7          3          3          0          0          0          0\n",
      "                 sv8-8          1          1          0          0          0          0\n",
      "                 sv8-9          3          3          0          0          0          0\n",
      "                sv8-10          4          4          0          0          0          0\n",
      "                sv8-11          2          2          0          0          0          0\n",
      "                sv8-12          1          1          0          0          0          0\n",
      "                sv8-14          1          1          0          0          0          0\n",
      "                sv8-15          4          4          0          0          0          0\n",
      "                sv8-17          1          1          0          0          0          0\n",
      "                sv8-18          1          1          0          0          0          0\n",
      "                sv8-20          3          3          0          0          0          0\n",
      "                sv8-21          1          1          0          0          0          0\n",
      "                sv8-22          3          3    0.00115      0.333     0.0017    0.00153\n",
      "                sv8-23          2          2          0          0          0          0\n",
      "                sv8-24          2          2          0          0          0          0\n",
      "                sv8-25          1          1          0          0          0          0\n",
      "                sv8-26          2          2          0          0          0          0\n",
      "                sv8-27          2          2          0          0          0          0\n",
      "                sv8-28          2          2          0          0          0          0\n",
      "                sv8-29          2          2          0          0          0          0\n",
      "                sv8-30          3          3          0          0          0          0\n",
      "                sv8-31          2          2          0          0          0          0\n",
      "                sv8-32          3          3          0          0          0          0\n",
      "                sv8-33          3          3          0          0          0          0\n",
      "                sv8-34          2          2          0          0          0          0\n",
      "                sv8-35          1          1          0          0          0          0\n",
      "                sv8-36          2          2          0          0          0          0\n",
      "                sv8-37          2          2          0          0          0          0\n",
      "                sv8-38          2          2          0          0          0          0\n",
      "                sv8-39          1          1          0          0          0          0\n",
      "                sv8-40          2          2          0          0          0          0\n",
      "                sv8-41          2          2          0          0          0          0\n",
      "                sv8-43          1          1          0          0          0          0\n",
      "                sv8-44          2          2          0          0          0          0\n",
      "                sv8-45          3          3          0          0          0          0\n",
      "                sv8-46          3          3          0          0          0          0\n",
      "                sv8-47          1          1          0          0          0          0\n",
      "                sv8-48          3          3          0          0          0          0\n",
      "                sv8-49          3          3          0          0          0          0\n",
      "                sv8-50          1          1          0          0          0          0\n",
      "                sv8-51          3          3          0          0          0          0\n",
      "                sv8-52          1          1          0          0          0          0\n",
      "                sv8-53          1          1          0          0          0          0\n",
      "                sv8-54          2          2          0          0          0          0\n",
      "                sv8-55          3          3          0          0          0          0\n",
      "                sv8-57          1          1          0          0          0          0\n",
      "                sv8-58          4          4          0          0          0          0\n",
      "                sv8-59          2          2          0          0          0          0\n",
      "                sv8-60          1          1          0          0          0          0\n",
      "                sv8-61          1          1          0          0          0          0\n",
      "                sv8-63          2          2          0          0          0          0\n",
      "                sv8-64          3          3          0          0          0          0\n",
      "                sv8-65          3          3          0          0          0          0\n",
      "                sv8-67          1          1          0          0          0          0\n",
      "                sv8-68          2          2          0          0          0          0\n",
      "                sv8-69          1          1          0          0          0          0\n",
      "                sv8-70          4          4          0          0          0          0\n",
      "                sv8-72          1          1          0          0          0          0\n",
      "                sv8-73          1          1          0          0          0          0\n",
      "                sv8-75          1          1          0          0          0          0\n",
      "                sv8-76          1          1          0          0          0          0\n",
      "                sv8-78          1          1          0          0          0          0\n",
      "                sv8-79          1          1          0          0          0          0\n",
      "                sv8-80          3          3          0          0          0          0\n",
      "                sv8-82          2          2          0          0          0          0\n",
      "                sv8-83          1          1          0          0          0          0\n",
      "                sv8-84          2          2          0          0          0          0\n",
      "                sv8-85          3          3          0          0          0          0\n",
      "                sv8-86          3          3          0          0          0          0\n",
      "                sv8-87          2          2          0          0          0          0\n",
      "                sv8-88          1          1          0          0          0          0\n",
      "                sv8-90          4          4          0          0          0          0\n",
      "                sv8-91          2          2          0          0          0          0\n",
      "                sv8-92          1          1          0          0          0          0\n",
      "                sv8-94          1          1          0          0          0          0\n",
      "                sv8-95          2          2          0          0          0          0\n",
      "                sv8-96          1          1          0          0          0          0\n",
      "                sv8-97          2          2          0          0          0          0\n",
      "                sv8-99          1          1          0          0          0          0\n",
      "               sv8-100          4          4          0          0          0          0\n",
      "               sv8-101          1          1          0          0          0          0\n",
      "               sv8-103          2          2          0          0          0          0\n",
      "               sv8-104          4          4          0          0          0          0\n",
      "               sv8-105          2          2          0          0          0          0\n",
      "               sv8-106          2          2          0          0          0          0\n",
      "               sv8-107          1          1          0          0          0          0\n",
      "               sv8-108          1          1          0          0          0          0\n",
      "               sv8-109          3          3          0          0          0          0\n",
      "               sv8-110          1          1          0          0          0          0\n",
      "               sv8-111          4          4     0.0233       0.25     0.0333     0.0333\n",
      "               sv8-112          3          3    0.00398      0.333    0.00285    0.00285\n",
      "               sv8-113          3          3          0          0          0          0\n",
      "               sv8-114          1          1          0          0          0          0\n",
      "               sv8-115          2          2          0          0          0          0\n",
      "               sv8-116          4          4          0          0          0          0\n",
      "               sv8-117          2          2          0          0          0          0\n",
      "               sv8-118          2          2          0          0          0          0\n",
      "               sv8-119          3          3          0          0          0          0\n",
      "               sv8-120          2          2          0          0          0          0\n",
      "               sv8-121          5          5          0          0          0          0\n",
      "               sv8-122          3          3          0          0          0          0\n",
      "               sv8-123          2          2          0          0          0          0\n",
      "               sv8-124          1          1          0          0          0          0\n",
      "               sv8-125          2          2          0          0          0          0\n",
      "               sv8-126          2          2          0          0          0          0\n",
      "               sv8-127          2          2          0          0          0          0\n",
      "               sv8-128          2          2          0          0          0          0\n",
      "               sv8-130          1          1          0          0          0          0\n",
      "               sv8-131          3          3          0          0          0          0\n",
      "               sv8-132          2          2          0          0          0          0\n",
      "               sv8-133          1          1          0          0          0          0\n",
      "               sv8-134          1          1          0          0          0          0\n",
      "               sv8-135          3          3          0          0          0          0\n",
      "               sv8-136          2          2          0          0          0          0\n",
      "               sv8-137          2          2          0          0          0          0\n",
      "               sv8-138          1          1          0          0          0          0\n",
      "               sv8-140          4          4          0          0          0          0\n",
      "               sv8-141          2          2          0          0          0          0\n",
      "               sv8-142          2          2          0          0          0          0\n",
      "               sv8-143          1          1          0          0          0          0\n",
      "               sv8-145          2          2          0          0          0          0\n",
      "               sv8-146          1          1          0          0          0          0\n",
      "               sv8-147          3          3          0          0          0          0\n",
      "               sv8-149          1          1          0          0          0          0\n",
      "               sv8-150          3          3          0          0          0          0\n",
      "               sv8-151          2          2          0          0          0          0\n",
      "               sv8-152          2          2          0          0          0          0\n",
      "               sv8-153          2          2          0          0          0          0\n",
      "               sv8-154          1          1          0          0          0          0\n",
      "               sv8-155          3          3          0          0          0          0\n",
      "               sv8-157          2          2          0          0          0          0\n",
      "               sv8-159          4          4          0          0          0          0\n",
      "               sv8-160          2          2          0          0          0          0\n",
      "               sv8-161          3          3          0          0          0          0\n",
      "               sv8-162          1          1          0          0          0          0\n",
      "               sv8-163          3          3          0          0          0          0\n",
      "               sv8-164          3          3          0          0          0          0\n",
      "               sv8-165          1          1          0          0          0          0\n",
      "               sv8-167          1          1          0          0          0          0\n",
      "               sv8-168          1          1          0          0          0          0\n",
      "               sv8-169          1          1          0          0          0          0\n",
      "               sv8-170          2          2          0          0          0          0\n",
      "               sv8-172          2          2          0          0          0          0\n",
      "               sv8-173          2          2          0          0          0          0\n",
      "               sv8-174          1          1          0          0          0          0\n",
      "               sv8-175          2          2          0          0          0          0\n",
      "               sv8-176          2          2          0          0          0          0\n",
      "               sv8-177          1          1          0          0          0          0\n",
      "               sv8-178          4          4          0          0          0          0\n",
      "               sv8-179          3          3          0          0          0          0\n",
      "               sv8-180          4          4          0          0          0          0\n",
      "               sv8-182          3          3          0          0          0          0\n",
      "               sv8-183          1          1          0          0          0          0\n",
      "               sv8-184          2          2          0          0          0          0\n",
      "               sv8-185          3          3          0          0          0          0\n",
      "               sv8-186          1          1          0          0          0          0\n",
      "               sv8-187          3          3          0          0          0          0\n",
      "               sv8-188          2          2          0          0          0          0\n",
      "               sv8-189          1          1          0          0          0          0\n",
      "               sv8-191          3          3          0          0          0          0\n",
      "               sv8-192          1          1          0          0          0          0\n",
      "               sv8-193          1          1          0          0          0          0\n",
      "               sv8-194          1          1          0          0          0          0\n",
      "               sv8-195          2          2          0          0          0          0\n",
      "               sv8-196          3          3          0          0          0          0\n",
      "               sv8-197          3          3          0          0          0          0\n",
      "               sv8-198          1          1          0          0          0          0\n",
      "               sv8-199          4          4          0          0          0          0\n",
      "               sv8-200          3          3   0.000587      0.333    0.00113    0.00102\n",
      "               sv8-201          1          1          0          0          0          0\n",
      "               sv8-202          4          4          0          0          0          0\n",
      "               sv8-203          1          1          0          0          0          0\n",
      "               sv8-204          3          3          0          0          0          0\n",
      "               sv8-205          2          2          0          0          0          0\n",
      "               sv8-206          1          1          0          0          0          0\n",
      "               sv8-207          1          1          0          0          0          0\n",
      "               sv8-208          1          1          0          0          0          0\n",
      "               sv8-209          3          3          0          0          0          0\n",
      "               sv8-211          1          1          0          0          0          0\n",
      "               sv8-212          1          1          0          0          0          0\n",
      "               sv8-213          3          3          0          0          0          0\n",
      "               sv8-214          1          1          0          0          0          0\n",
      "               sv8-215          2          2          0          0          0          0\n",
      "               sv8-216          2          2          0          0          0          0\n",
      "               sv8-217          1          1          0          0          0          0\n",
      "               sv8-218          1          1          0          0          0          0\n",
      "               sv8-219          3          3          0          0          0          0\n",
      "               sv8-220          2          2          0          0          0          0\n",
      "               sv8-221          3          3          0          0          0          0\n",
      "               sv8-222          2          2          0          0          0          0\n",
      "               sv8-224          3          3          0          0          0          0\n",
      "               sv8-225          1          1          0          0          0          0\n",
      "               sv8-226          1          1          0          0          0          0\n",
      "               sv8-227          3          3          0          0          0          0\n",
      "               sv8-229          1          1          0          0          0          0\n",
      "               sv8-230          1          1          0          0          0          0\n",
      "               sv8-231          2          2          0          0          0          0\n",
      "               sv8-232          3          3          0          0          0          0\n",
      "               sv8-233          2          2          0          0          0          0\n",
      "               sv8-234          3          3          0          0          0          0\n",
      "               sv8-235          1          1          0          0          0          0\n",
      "               sv8-236          2          2          0          0          0          0\n",
      "               sv8-237          4          4          0          0          0          0\n",
      "               sv8-238          1          1          0          0          0          0\n",
      "               sv8-239          1          1          0          0          0          0\n",
      "               sv8-240          2          2          0          0          0          0\n",
      "               sv8-241          3          3          0          0          0          0\n",
      "               sv8-242          4          4    0.00146       0.25    0.00241    0.00217\n",
      "               sv8-243          1          1          0          0          0          0\n",
      "               sv8-244          3          3          0          0          0          0\n",
      "               sv8-245          4          4          0          0          0          0\n",
      "               sv8-246          2          2          0          0          0          0\n",
      "               sv8-247          1          1          0          0          0          0\n",
      "               sv8-248          3          3          0          0          0          0\n",
      "               sv8-249          2          2          0          0          0          0\n",
      "               sv8-250          2          2          0          0          0          0\n",
      "               sv8-251          2          2          0          0          0          0\n",
      "               sv8-252          3          3          0          0          0          0\n",
      "              sv8pt5-1          1          1          0          0          0          0\n",
      "              sv8pt5-3          2          2          0          0          0          0\n",
      "              sv8pt5-4          2          2          0          0          0          0\n",
      "              sv8pt5-5          1          1          0          0          0          0\n",
      "              sv8pt5-6          1          1          0          0          0          0\n",
      "              sv8pt5-7          3          3          0          0          0          0\n",
      "              sv8pt5-8          1          1          0          0          0          0\n",
      "              sv8pt5-9          1          1          0          0          0          0\n",
      "             sv8pt5-10          1          1          0          0          0          0\n",
      "             sv8pt5-11          3          3          0          0          0          0\n",
      "             sv8pt5-12          2          2          0          0          0          0\n",
      "             sv8pt5-13          4          4          0          0          0          0\n",
      "             sv8pt5-15          1          1          0          0          0          0\n",
      "             sv8pt5-16          1          1          0          0          0          0\n",
      "             sv8pt5-17          1          1          0          0          0          0\n",
      "             sv8pt5-18          1          1          0          0          0          0\n",
      "             sv8pt5-19          1          1          0          0          0          0\n",
      "             sv8pt5-20          3          3          0          0          0          0\n",
      "             sv8pt5-21          3          3          0          0          0          0\n",
      "             sv8pt5-22          2          2          0          0          0          0\n",
      "             sv8pt5-23          3          3          0          0          0          0\n",
      "             sv8pt5-24          3          3          0          0          0          0\n",
      "             sv8pt5-25          4          4          0          0          0          0\n",
      "             sv8pt5-28          4          4          0          0          0          0\n",
      "             sv8pt5-29          2          2          0          0          0          0\n",
      "             sv8pt5-30          2          2          0          0          0          0\n",
      "             sv8pt5-31          2          2          0          0          0          0\n",
      "             sv8pt5-32          3          3          0          0          0          0\n",
      "             sv8pt5-34          1          1          0          0          0          0\n",
      "             sv8pt5-36          1          1          0          0          0          0\n",
      "             sv8pt5-37          1          1          0          0          0          0\n",
      "             sv8pt5-38          4          4          0          0          0          0\n",
      "             sv8pt5-39          1          1          0          0          0          0\n",
      "             sv8pt5-40          2          2          0          0          0          0\n",
      "             sv8pt5-41          3          3          0          0          0          0\n",
      "             sv8pt5-42          1          1          0          0          0          0\n",
      "             sv8pt5-43          3          3          0          0          0          0\n",
      "             sv8pt5-44          1          1          0          0          0          0\n",
      "             sv8pt5-45          1          1          0          0          0          0\n",
      "             sv8pt5-46          2          2          0          0          0          0\n",
      "             sv8pt5-47          2          2          0          0          0          0\n",
      "             sv8pt5-48          1          1          0          0          0          0\n",
      "             sv8pt5-49          1          1          0          0          0          0\n",
      "             sv8pt5-50          2          2     0.0156        0.5     0.0177     0.0177\n",
      "             sv8pt5-51          2          2          0          0          0          0\n",
      "             sv8pt5-52          2          2          0          0          0          0\n",
      "             sv8pt5-54          4          4          0          0          0          0\n",
      "             sv8pt5-55          1          1          0          0          0          0\n",
      "             sv8pt5-56          2          2          0          0          0          0\n",
      "             sv8pt5-57          2          2          0          0          0          0\n",
      "             sv8pt5-58          1          1          0          0          0          0\n",
      "             sv8pt5-60          2          2          0          0          0          0\n",
      "             sv8pt5-61          2          2          0          0          0          0\n",
      "             sv8pt5-62          3          3          0          0          0          0\n",
      "             sv8pt5-63          1          1          0          0          0          0\n",
      "             sv8pt5-64          2          2          0          0          0          0\n",
      "             sv8pt5-65          3          3          0          0          0          0\n",
      "             sv8pt5-66          1          1          0          0          0          0\n",
      "             sv8pt5-67          1          1          0          0          0          0\n",
      "             sv8pt5-68          1          1      0.008          1    0.00957    0.00861\n",
      "             sv8pt5-69          4          4          0          0          0          0\n",
      "             sv8pt5-70          2          2          0          0          0          0\n",
      "             sv8pt5-71          2          2          0          0          0          0\n",
      "             sv8pt5-72          4          4          0          0          0          0\n",
      "             sv8pt5-73          1          1          0          0          0          0\n",
      "             sv8pt5-76          2          2          0          0          0          0\n",
      "             sv8pt5-77          2          2          0          0          0          0\n",
      "             sv8pt5-78          2          2          0          0          0          0\n",
      "             sv8pt5-79          3          3          0          0          0          0\n",
      "             sv8pt5-80          1          1          0          0          0          0\n",
      "             sv8pt5-81          1          1          0          0          0          0\n",
      "             sv8pt5-83          2          2          0          0          0          0\n",
      "             sv8pt5-84          1          1          0          0          0          0\n",
      "             sv8pt5-85          2          2          0          0          0          0\n",
      "             sv8pt5-86          3          3    0.00369      0.333     0.0025     0.0025\n",
      "             sv8pt5-87          2          2          0          0          0          0\n",
      "             sv8pt5-88          3          3          0          0          0          0\n",
      "             sv8pt5-89          1          1          0          0          0          0\n",
      "             sv8pt5-90          2          2          0          0          0          0\n",
      "             sv8pt5-92          1          1          0          0          0          0\n",
      "             sv8pt5-94          2          2          0          0          0          0\n",
      "             sv8pt5-95          2          2          0          0          0          0\n",
      "             sv8pt5-96          4          4          0          0          0          0\n",
      "             sv8pt5-98          4          4          0          0          0          0\n",
      "             sv8pt5-99          5          5          0          0          0          0\n",
      "            sv8pt5-101          2          2          0          0          0          0\n",
      "            sv8pt5-102          1          1          0          0          0          0\n",
      "            sv8pt5-103          1          1          0          0          0          0\n",
      "            sv8pt5-104          2          2          0          0          0          0\n",
      "            sv8pt5-106          2          2          0          0          0          0\n",
      "            sv8pt5-107          4          4          0          0          0          0\n",
      "            sv8pt5-108          2          2     0.0192        0.5     0.0159     0.0159\n",
      "            sv8pt5-109          1          1          0          0          0          0\n",
      "            sv8pt5-110          2          2    0.00147        0.5    0.00111    0.00111\n",
      "            sv8pt5-111          3          3          0          0          0          0\n",
      "            sv8pt5-112          2          2          0          0          0          0\n",
      "            sv8pt5-113          3          3          0          0          0          0\n",
      "            sv8pt5-114          4          4          0          0          0          0\n",
      "            sv8pt5-115          2          2          0          0          0          0\n",
      "            sv8pt5-116          1          1          0          0          0          0\n",
      "            sv8pt5-118          2          2   0.000769        0.5     0.0101     0.0101\n",
      "            sv8pt5-119          1          1          0          0          0          0\n",
      "            sv8pt5-120          1          1          0          0          0          0\n",
      "            sv8pt5-121          2          2          0          0          0          0\n",
      "            sv8pt5-122          2          2          0          0          0          0\n",
      "            sv8pt5-123          4          4          0          0          0          0\n",
      "            sv8pt5-124          1          1          0          0          0          0\n",
      "            sv8pt5-125          1          1          0          0          0          0\n",
      "            sv8pt5-127          2          2          0          0          0          0\n",
      "            sv8pt5-128          2          2          0          0          0          0\n",
      "            sv8pt5-129          3          3          0          0          0          0\n",
      "            sv8pt5-130          3          3          0          0          0          0\n",
      "            sv8pt5-131          3          3          0          0          0          0\n",
      "            sv8pt5-132          2          2          0          0          0          0\n",
      "            sv8pt5-133          3          3          0          0          0          0\n",
      "            sv8pt5-134          1          1          0          0          0          0\n",
      "            sv8pt5-135          6          6          0          0          0          0\n",
      "            sv8pt5-136          4          4          0          0          0          0\n",
      "            sv8pt5-137          3          3       0.02      0.667     0.0299     0.0246\n",
      "            sv8pt5-138          1          1          0          0          0          0\n",
      "            sv8pt5-139          2          2          0          0          0          0\n",
      "            sv8pt5-140          1          1          0          0          0          0\n",
      "            sv8pt5-141          4          4          0          0          0          0\n",
      "            sv8pt5-142          4          4          0          0          0          0\n",
      "            sv8pt5-143          2          2          0          0          0          0\n",
      "            sv8pt5-145          3          3          0          0          0          0\n",
      "            sv8pt5-146          3          3          0          0          0          0\n",
      "            sv8pt5-147          3          3          0          0          0          0\n",
      "            sv8pt5-148          1          1          0          0          0          0\n",
      "            sv8pt5-150          3          3          0          0          0          0\n",
      "            sv8pt5-151          5          5          0          0          0          0\n",
      "            sv8pt5-152          3          3          0          0          0          0\n",
      "            sv8pt5-153          2          2          0          0          0          0\n",
      "            sv8pt5-154          2          2          0          0          0          0\n",
      "            sv8pt5-155          3          3          0          0          0          0\n",
      "            sv8pt5-156          1          1          0          0          0          0\n",
      "            sv8pt5-157          3          3          0          0          0          0\n",
      "            sv8pt5-158          3          3          0          0          0          0\n",
      "            sv8pt5-159          1          1          0          0          0          0\n",
      "            sv8pt5-160          3          3          0          0          0          0\n",
      "            sv8pt5-161          1          1          0          0          0          0\n",
      "            sv8pt5-162          1          1          0          0          0          0\n",
      "            sv8pt5-163          2          2          0          0          0          0\n",
      "            sv8pt5-164          3          3          0          0          0          0\n",
      "            sv8pt5-165          1          1          0          0          0          0\n",
      "            sv8pt5-166          2          2          0          0          0          0\n",
      "            sv8pt5-167          3          3          0          0          0          0\n",
      "            sv8pt5-169          3          3          0          0          0          0\n",
      "            sv8pt5-170          2          2          0          0          0          0\n",
      "            sv8pt5-171          2          2          0          0          0          0\n",
      "            sv8pt5-172          3          3          0          0          0          0\n",
      "            sv8pt5-173          3          3          0          0          0          0\n",
      "            sv8pt5-174          2          2          0          0          0          0\n",
      "            sv8pt5-175          3          3          0          0          0          0\n",
      "            sv8pt5-176          2          2          0          0          0          0\n",
      "            sv8pt5-177          1          1          0          0          0          0\n",
      "            sv8pt5-179          1          1          0          0          0          0\n",
      "            sv8pt5-180          1          1          0          0          0          0\n",
      "                 sv9-1          3          3          0          0          0          0\n",
      "                 sv9-2          2          2          0          0          0          0\n",
      "                 sv9-4          3          3          0          0          0          0\n",
      "                 sv9-5          3          3          0          0          0          0\n",
      "                 sv9-6          3          3          0          0          0          0\n",
      "                 sv9-7          3          3          0          0          0          0\n",
      "                 sv9-9          3          3          0          0          0          0\n",
      "                sv9-10          3          3          0          0          0          0\n",
      "                sv9-11          3          3          0          0          0          0\n",
      "                sv9-12          2          2          0          0          0          0\n",
      "                sv9-13          3          3          0          0          0          0\n",
      "                sv9-14          1          1          0          0          0          0\n",
      "                sv9-16          2          2          0          0          0          0\n",
      "                sv9-18          2          2          0          0          0          0\n",
      "                sv9-20          1          1          0          0          0          0\n",
      "                sv9-21          2          2          0          0          0          0\n",
      "                sv9-22          3          3          0          0          0          0\n",
      "                sv9-24          1          1          0          0          0          0\n",
      "                sv9-25          2          2          0          0          0          0\n",
      "                sv9-26          3          3          0          0          0          0\n",
      "                sv9-27          1          1          0          0          0          0\n",
      "                sv9-28          3          3          0          0          0          0\n",
      "                sv9-30          1          1          0          0          0          0\n",
      "                sv9-31          1          1          0          0          0          0\n",
      "                sv9-32          2          2          0          0          0          0\n",
      "                sv9-33          1          1          0          0          0          0\n",
      "                sv9-35          1          1          0          0          0          0\n",
      "                sv9-36          4          4          0          0          0          0\n",
      "                sv9-37          3          3          0          0          0          0\n",
      "                sv9-38          1          1          0          0          0          0\n",
      "                sv9-40          1          1          0          0          0          0\n",
      "                sv9-41          1          1          0          0          0          0\n",
      "                sv9-42          1          1          0          0          0          0\n",
      "                sv9-43          1          1          0          0          0          0\n",
      "                sv9-44          1          1          0          0          0          0\n",
      "                sv9-45          1          1          0          0          0          0\n",
      "                sv9-46          1          1          0          0          0          0\n",
      "                sv9-47          1          1          0          0          0          0\n",
      "                sv9-49          1          1          0          0          0          0\n",
      "                sv9-50          1          1          0          0          0          0\n",
      "                sv9-51          4          4          0          0          0          0\n",
      "                sv9-52          2          2          0          0          0          0\n",
      "                sv9-53          1          1          0          0          0          0\n",
      "                sv9-54          1          1          0          0          0          0\n",
      "                sv9-55          2          2          0          0          0          0\n",
      "                sv9-56          1          1          0          0          0          0\n",
      "                sv9-57          4          4          0          0          0          0\n",
      "                sv9-58          2          2          0          0          0          0\n",
      "                sv9-59          4          4          0          0          0          0\n",
      "                sv9-60          4          4          0          0          0          0\n",
      "                sv9-61          2          2          0          0          0          0\n",
      "                sv9-62          2          2          0          0          0          0\n",
      "                sv9-63          1          1          0          0          0          0\n",
      "                sv9-64          2          2          0          0          0          0\n",
      "                sv9-65          3          3          0          0          0          0\n",
      "                sv9-66          2          2          0          0          0          0\n",
      "                sv9-67          2          2          0          0          0          0\n",
      "                sv9-68          2          2          0          0          0          0\n",
      "                sv9-69          2          2          0          0          0          0\n",
      "                sv9-71          3          3          0          0          0          0\n",
      "                sv9-73          2          2          0          0          0          0\n",
      "                sv9-74          5          5          0          0          0          0\n",
      "                sv9-75          1          1          0          0          0          0\n",
      "                sv9-76          2          2          0          0          0          0\n",
      "                sv9-77          2          2          0          0          0          0\n",
      "                sv9-78          2          2          0          0          0          0\n",
      "                sv9-79          3          3          0          0          0          0\n",
      "                sv9-80          2          2          0          0          0          0\n",
      "                sv9-81          1          1          0          0          0          0\n",
      "                sv9-82          1          1          0          0          0          0\n",
      "                sv9-85          1          1          0          0          0          0\n",
      "                sv9-86          3          3          0          0          0          0\n",
      "                sv9-87          3          3          0          0          0          0\n",
      "                sv9-88          2          2          0          0          0          0\n",
      "                sv9-89          3          3          0          0          0          0\n",
      "                sv9-91          1          1          0          0          0          0\n",
      "                sv9-93          1          1          0          0          0          0\n",
      "                sv9-94          3          3          0          0          0          0\n",
      "                sv9-95          2          2          0          0          0          0\n",
      "                sv9-96          1          1          0          0          0          0\n",
      "                sv9-97          1          1          0          0          0          0\n",
      "                sv9-98          2          2          0          0          0          0\n",
      "               sv9-100          1          1          0          0          0          0\n",
      "               sv9-101          2          2          0          0          0          0\n",
      "               sv9-102          3          3          0          0          0          0\n",
      "               sv9-103          2          2          0          0          0          0\n",
      "               sv9-104          2          2          0          0          0          0\n",
      "               sv9-106          1          1          0          0          0          0\n",
      "               sv9-107          1          1          0          0          0          0\n",
      "               sv9-108          2          2          0          0          0          0\n",
      "               sv9-110          3          3          0          0          0          0\n",
      "               sv9-111          2          2          0          0          0          0\n",
      "               sv9-112          2          2          0          0          0          0\n",
      "               sv9-113          1          1          0          0          0          0\n",
      "               sv9-114          1          1          0          0          0          0\n",
      "               sv9-115          2          2          0          0          0          0\n",
      "               sv9-116          2          2          0          0          0          0\n",
      "               sv9-117          2          2          0          0          0          0\n",
      "               sv9-118          5          5          0          0          0          0\n",
      "               sv9-119          4          4          0          0          0          0\n",
      "               sv9-120          2          2          0          0          0          0\n",
      "               sv9-121          4          4          0          0          0          0\n",
      "               sv9-122          1          1          0          0          0          0\n",
      "               sv9-123          1          1          0          0          0          0\n",
      "               sv9-124          2          2          0          0          0          0\n",
      "               sv9-126          1          1          0          0          0          0\n",
      "               sv9-127          2          2          0          0          0          0\n",
      "               sv9-128          2          2          0          0          0          0\n",
      "               sv9-129          2          2          0          0          0          0\n",
      "               sv9-130          3          3          0          0          0          0\n",
      "               sv9-131          2          2          0          0          0          0\n",
      "               sv9-132          2          2          0          0          0          0\n",
      "               sv9-133          1          1          0          0          0          0\n",
      "               sv9-134          1          1          0          0          0          0\n",
      "               sv9-135          1          1          0          0          0          0\n",
      "               sv9-136          2          2          0          0          0          0\n",
      "               sv9-137          1          1          0          0          0          0\n",
      "               sv9-138          1          1          0          0          0          0\n",
      "               sv9-139          1          1          0          0          0          0\n",
      "               sv9-140          1          1          0          0          0          0\n",
      "               sv9-141          2          2          0          0          0          0\n",
      "               sv9-143          3          3          0          0          0          0\n",
      "               sv9-144          1          1          0          0          0          0\n",
      "               sv9-145          2          2          0          0          0          0\n",
      "               sv9-146          3          3          0          0          0          0\n",
      "               sv9-147          1          1          0          0          0          0\n",
      "               sv9-148          1          1          0          0          0          0\n",
      "               sv9-149          1          1          0          0          0          0\n",
      "               sv9-150          3          3          0          0          0          0\n",
      "               sv9-151          1          1          0          0          0          0\n",
      "               sv9-152          1          1          0          0          0          0\n",
      "               sv9-153          1          1          0          0          0          0\n",
      "               sv9-154          2          2          0          0          0          0\n",
      "               sv9-155          2          2          0          0          0          0\n",
      "               sv9-156          1          1          0          0          0          0\n",
      "               sv9-157          1          1          0          0          0          0\n",
      "               sv9-158          2          2    0.00417        0.5    0.00378    0.00378\n",
      "               sv9-159          1          1          0          0          0          0\n",
      "               sv9-160          3          3          0          0          0          0\n",
      "               sv9-161          2          2          0          0          0          0\n",
      "               sv9-162          1          1          0          0          0          0\n",
      "               sv9-163          4          4          0          0          0          0\n",
      "               sv9-164          2          2          0          0          0          0\n",
      "               sv9-165          1          1          0          0          0          0\n",
      "               sv9-166          1          1          0          0          0          0\n",
      "               sv9-167          4          4    0.00169       0.25      0.004      0.004\n",
      "               sv9-168          2          2          0          0          0          0\n",
      "               sv9-169          1          1          0          0          0          0\n",
      "               sv9-170          2          2          0          0          0          0\n",
      "               sv9-171          1          1          0          0          0          0\n",
      "               sv9-174          1          1          0          0          0          0\n",
      "               sv9-175          1          1          0          0          0          0\n",
      "               sv9-177          1          1          0          0          0          0\n",
      "               sv9-178          1          1          0          0          0          0\n",
      "               sv9-179          1          1          0          0          0          0\n",
      "               sv9-180          1          1          0          0          0          0\n",
      "               sv9-181          2          2          0          0          0          0\n",
      "               sv9-183          1          1          0          0          0          0\n",
      "               sv9-184          4          4          0          0          0          0\n",
      "               sv9-185          1          1          0          0          0          0\n",
      "               sv9-186          2          2          0          0          0          0\n",
      "               sv9-187          3          3          0          0          0          0\n",
      "               sv9-188          1          1          0          0          0          0\n",
      "               sv9-189          2          2          0          0          0          0\n",
      "               sv9-190          1          1          0          0          0          0\n",
      "                 sve-1          1          1          0          0          0          0\n",
      "                 sve-2          1          1          0          0          0          0\n",
      "                 sve-3          1          1          0          0          0          0\n",
      "                 sve-4          3          3          0          0          0          0\n",
      "                 sve-5          2          2          0          0          0          0\n",
      "                 sve-6          4          4          0          0          0          0\n",
      "                 sve-7          2          2          0          0          0          0\n",
      "                 sve-8          2          2          0          0          0          0\n",
      "                sve-10          1          1          0          0          0          0\n",
      "                sve-11          3          3          0          0          0          0\n",
      "                sve-13          5          5          0          0          0          0\n",
      "                sve-15          2          2          0          0          0          0\n",
      "                sve-16          2          2          0          0          0          0\n",
      "                 svp-1          2          2          0          0          0          0\n",
      "                 svp-2          2          2          0          0          0          0\n",
      "                 svp-3          1          1          0          0          0          0\n",
      "                 svp-4          1          1          0          0          0          0\n",
      "                 svp-5          2          2          0          0          0          0\n",
      "                 svp-6          4          4          0          0          0          0\n",
      "                 svp-8          1          1          0          0          0          0\n",
      "                 svp-9          1          1          0          0          0          0\n",
      "                svp-11          2          2          0          0          0          0\n",
      "                svp-12          1          1          0          0          0          0\n",
      "                svp-13          2          2          0          0          0          0\n",
      "                svp-14          2          2          0          0          0          0\n",
      "                svp-15          3          3          0          0          0          0\n",
      "                svp-16          3          3          0          0          0          0\n",
      "                svp-17          2          2          0          0          0          0\n",
      "                svp-19          2          2          0          0          0          0\n",
      "                svp-20          1          1          0          0          0          0\n",
      "                svp-21          1          1          0          0          0          0\n",
      "                svp-23          1          1          0          0          0          0\n",
      "                svp-24          4          4          0          0          0          0\n",
      "                svp-25          2          2          0          0          0          0\n",
      "                svp-26          1          1          0          0          0          0\n",
      "                svp-28          3          3          0          0          0          0\n",
      "                svp-29          2          2          0          0          0          0\n",
      "                svp-30          4          4          0          0          0          0\n",
      "                svp-31          2          2          0          0          0          0\n",
      "                svp-32          2          2          0          0          0          0\n",
      "                svp-33          1          1          0          0          0          0\n",
      "                svp-34          1          1          0          0          0          0\n",
      "                svp-35          3          3          0          0          0          0\n",
      "                svp-36          1          1          0          0          0          0\n",
      "                svp-37          1          1          0          0          0          0\n",
      "                svp-38          3          3     0.0278      0.333     0.0762     0.0686\n",
      "                svp-39          2          2          0          0          0          0\n",
      "                svp-40          1          1          0          0          0          0\n",
      "                svp-41          2          2          0          0          0          0\n",
      "                svp-42          2          2          0          0          0          0\n",
      "                svp-43          1          1          0          0          0          0\n",
      "                svp-44          2          2          0          0          0          0\n",
      "                svp-45          6          6          0          0          0          0\n",
      "                svp-46          1          1          0          0          0          0\n",
      "                svp-47          2          2          0          0          0          0\n",
      "                svp-48          2          2          0          0          0          0\n",
      "                svp-49          3          3          0          0          0          0\n",
      "                svp-50          2          2          0          0          0          0\n",
      "                svp-51          3          3          0          0          0          0\n",
      "                svp-52          1          1          0          0          0          0\n",
      "                svp-53          2          2          0          0          0          0\n",
      "                svp-54          1          1          0          0          0          0\n",
      "                svp-55          4          4          0          0          0          0\n",
      "                svp-56          3          3          0          0          0          0\n",
      "                svp-58          4          4          0          0          0          0\n",
      "                svp-60          4          4          0          0          0          0\n",
      "                svp-61          2          2          0          0          0          0\n",
      "                svp-63          2          2          0          0          0          0\n",
      "                svp-64          3          3          0          0          0          0\n",
      "                svp-65          1          1          0          0          0          0\n",
      "                svp-66          3          3          0          0          0          0\n",
      "                svp-67          2          2          0          0          0          0\n",
      "                svp-69          1          1          0          0          0          0\n",
      "                svp-70          1          1          0          0          0          0\n",
      "                svp-71          2          2          0          0          0          0\n",
      "                svp-72          2          2          0          0          0          0\n",
      "                svp-73          2          2          0          0          0          0\n",
      "                svp-74          1          1          0          0          0          0\n",
      "                svp-75          3          3          0          0          0          0\n",
      "                svp-76          3          3          0          0          0          0\n",
      "                svp-77          3          3          0          0          0          0\n",
      "                svp-79          2          2          0          0          0          0\n",
      "                svp-81          1          1          0          0          0          0\n",
      "                svp-82          2          2          0          0          0          0\n",
      "                svp-84          1          1          0          0          0          0\n",
      "                svp-85          1          1          0          0          0          0\n",
      "                svp-86          2          2          0          0          0          0\n",
      "                svp-87          2          2          0          0          0          0\n",
      "                svp-89          1          1          0          0          0          0\n",
      "                svp-91          2          2          0          0          0          0\n",
      "                svp-93          3          3          0          0          0          0\n",
      "                svp-95          2          2          0          0          0          0\n",
      "                svp-96          1          1          0          0          0          0\n",
      "                svp-97          3          3          0          0          0          0\n",
      "                svp-98          3          3          0          0          0          0\n",
      "                svp-99          1          1          0          0          0          0\n",
      "               svp-100          2          2          0          0          0          0\n",
      "               svp-101          3          3          0          0          0          0\n",
      "               svp-103          2          2          0          0          0          0\n",
      "               svp-104          2          2          0          0          0          0\n",
      "               svp-105          3          3          0          0          0          0\n",
      "               svp-106          3          3          0          0          0          0\n",
      "               svp-107          2          2          0          0          0          0\n",
      "               svp-108          4          4          0          0          0          0\n",
      "               svp-109          1          1          0          0          0          0\n",
      "               svp-110          2          2          0          0          0          0\n",
      "               svp-111          2          2          0          0          0          0\n",
      "               svp-112          1          1          0          0          0          0\n",
      "               svp-113          2          2          0          0          0          0\n",
      "               svp-114          2          2          0          0          0          0\n",
      "               svp-115          3          3          0          0          0          0\n",
      "               svp-116          1          1          0          0          0          0\n",
      "               svp-118          1          1          0          0          0          0\n",
      "               svp-120          1          1          0          0          0          0\n",
      "               svp-121          1          1          0          0          0          0\n",
      "               svp-122          2          2          0          0          0          0\n",
      "               svp-123          2          2          0          0          0          0\n",
      "               svp-124          2          2          0          0          0          0\n",
      "               svp-125          2          2          0          0          0          0\n",
      "               svp-127          2          2          0          0          0          0\n",
      "               svp-128          1          1          0          0          0          0\n",
      "               svp-129          1          1          0          0          0          0\n",
      "               svp-130          3          3          0          0          0          0\n",
      "               svp-131          3          3          0          0          0          0\n",
      "               svp-132          4          4          0          0          0          0\n",
      "               svp-133          1          1          0          0          0          0\n",
      "               svp-134          2          2          0          0          0          0\n",
      "               svp-135          1          1          0          0          0          0\n",
      "               svp-136          1          1          0          0          0          0\n",
      "               svp-137          2          2          0          0          0          0\n",
      "               svp-139          2          2          0          0          0          0\n",
      "               svp-140          2          2          0          0          0          0\n",
      "               svp-141          2          3          0          0          0          0\n",
      "               svp-143          3          3          0          0          0          0\n",
      "               svp-144          2          2          0          0          0          0\n",
      "               svp-145          1          1          0          0          0          0\n",
      "               svp-146          2          2          0          0          0          0\n",
      "               svp-147          3          3          0          0          0          0\n",
      "               svp-148          1          1          0          0          0          0\n",
      "               svp-149          1          1          0          0          0          0\n",
      "               svp-150          5          5          0          0          0          0\n",
      "               svp-151          1          2          0          0          0          0\n",
      "               svp-152          2          2          0          0          0          0\n",
      "               svp-153          1          1          0          0          0          0\n",
      "               svp-155          3          3          0          0          0          0\n",
      "               svp-156          1          1          0          0          0          0\n",
      "               svp-157          1          1          0          0          0          0\n",
      "               svp-158          1          1          0          0          0          0\n",
      "               svp-159          2          2          0          0          0          0\n",
      "               svp-160          2          2          0          0          0          0\n",
      "               svp-161          1          1          0          0          0          0\n",
      "               svp-162          1          1          0          0          0          0\n",
      "               svp-163          1          1          0          0          0          0\n",
      "               svp-164          3          3          0          0          0          0\n",
      "               svp-165          1          1          0          0          0          0\n",
      "Speed: 0.3ms preprocess, 265.2ms inference, 0.0ms loss, 17.0ms postprocess per image\n",
      "Results saved to \u001b[1m/Users/pedropertusi/Desktop/comp_vis/PTCGextension/runs/detect/train2\u001b[0m\n"
     ]
    },
    {
     "data": {
      "text/plain": [
       "ultralytics.utils.metrics.DetMetrics object with attributes:\n",
       "\n",
       "ap_class_index: array([   0,    1,    2, ..., 3002, 3003, 3004], shape=(2611,))\n",
       "box: ultralytics.utils.metrics.Metric object\n",
       "confusion_matrix: <ultralytics.utils.metrics.ConfusionMatrix object at 0x574bafd70>\n",
       "curves: ['Precision-Recall(B)', 'F1-Confidence(B)', 'Precision-Confidence(B)', 'Recall-Confidence(B)']\n",
       "curves_results: [[array([          0,    0.001001,    0.002002,    0.003003,    0.004004,    0.005005,    0.006006,    0.007007,    0.008008,    0.009009,     0.01001,    0.011011,    0.012012,    0.013013,    0.014014,    0.015015,    0.016016,    0.017017,    0.018018,    0.019019,     0.02002,    0.021021,    0.022022,    0.023023,\n",
       "          0.024024,    0.025025,    0.026026,    0.027027,    0.028028,    0.029029,     0.03003,    0.031031,    0.032032,    0.033033,    0.034034,    0.035035,    0.036036,    0.037037,    0.038038,    0.039039,     0.04004,    0.041041,    0.042042,    0.043043,    0.044044,    0.045045,    0.046046,    0.047047,\n",
       "          0.048048,    0.049049,     0.05005,    0.051051,    0.052052,    0.053053,    0.054054,    0.055055,    0.056056,    0.057057,    0.058058,    0.059059,     0.06006,    0.061061,    0.062062,    0.063063,    0.064064,    0.065065,    0.066066,    0.067067,    0.068068,    0.069069,     0.07007,    0.071071,\n",
       "          0.072072,    0.073073,    0.074074,    0.075075,    0.076076,    0.077077,    0.078078,    0.079079,     0.08008,    0.081081,    0.082082,    0.083083,    0.084084,    0.085085,    0.086086,    0.087087,    0.088088,    0.089089,     0.09009,    0.091091,    0.092092,    0.093093,    0.094094,    0.095095,\n",
       "          0.096096,    0.097097,    0.098098,    0.099099,      0.1001,      0.1011,      0.1021,      0.1031,      0.1041,     0.10511,     0.10611,     0.10711,     0.10811,     0.10911,     0.11011,     0.11111,     0.11211,     0.11311,     0.11411,     0.11512,     0.11612,     0.11712,     0.11812,     0.11912,\n",
       "           0.12012,     0.12112,     0.12212,     0.12312,     0.12412,     0.12513,     0.12613,     0.12713,     0.12813,     0.12913,     0.13013,     0.13113,     0.13213,     0.13313,     0.13413,     0.13514,     0.13614,     0.13714,     0.13814,     0.13914,     0.14014,     0.14114,     0.14214,     0.14314,\n",
       "           0.14414,     0.14515,     0.14615,     0.14715,     0.14815,     0.14915,     0.15015,     0.15115,     0.15215,     0.15315,     0.15415,     0.15516,     0.15616,     0.15716,     0.15816,     0.15916,     0.16016,     0.16116,     0.16216,     0.16316,     0.16416,     0.16517,     0.16617,     0.16717,\n",
       "           0.16817,     0.16917,     0.17017,     0.17117,     0.17217,     0.17317,     0.17417,     0.17518,     0.17618,     0.17718,     0.17818,     0.17918,     0.18018,     0.18118,     0.18218,     0.18318,     0.18418,     0.18519,     0.18619,     0.18719,     0.18819,     0.18919,     0.19019,     0.19119,\n",
       "           0.19219,     0.19319,     0.19419,      0.1952,      0.1962,      0.1972,      0.1982,      0.1992,      0.2002,      0.2012,      0.2022,      0.2032,      0.2042,     0.20521,     0.20621,     0.20721,     0.20821,     0.20921,     0.21021,     0.21121,     0.21221,     0.21321,     0.21421,     0.21522,\n",
       "           0.21622,     0.21722,     0.21822,     0.21922,     0.22022,     0.22122,     0.22222,     0.22322,     0.22422,     0.22523,     0.22623,     0.22723,     0.22823,     0.22923,     0.23023,     0.23123,     0.23223,     0.23323,     0.23423,     0.23524,     0.23624,     0.23724,     0.23824,     0.23924,\n",
       "           0.24024,     0.24124,     0.24224,     0.24324,     0.24424,     0.24525,     0.24625,     0.24725,     0.24825,     0.24925,     0.25025,     0.25125,     0.25225,     0.25325,     0.25425,     0.25526,     0.25626,     0.25726,     0.25826,     0.25926,     0.26026,     0.26126,     0.26226,     0.26326,\n",
       "           0.26426,     0.26527,     0.26627,     0.26727,     0.26827,     0.26927,     0.27027,     0.27127,     0.27227,     0.27327,     0.27427,     0.27528,     0.27628,     0.27728,     0.27828,     0.27928,     0.28028,     0.28128,     0.28228,     0.28328,     0.28428,     0.28529,     0.28629,     0.28729,\n",
       "           0.28829,     0.28929,     0.29029,     0.29129,     0.29229,     0.29329,     0.29429,      0.2953,      0.2963,      0.2973,      0.2983,      0.2993,      0.3003,      0.3013,      0.3023,      0.3033,      0.3043,     0.30531,     0.30631,     0.30731,     0.30831,     0.30931,     0.31031,     0.31131,\n",
       "           0.31231,     0.31331,     0.31431,     0.31532,     0.31632,     0.31732,     0.31832,     0.31932,     0.32032,     0.32132,     0.32232,     0.32332,     0.32432,     0.32533,     0.32633,     0.32733,     0.32833,     0.32933,     0.33033,     0.33133,     0.33233,     0.33333,     0.33433,     0.33534,\n",
       "           0.33634,     0.33734,     0.33834,     0.33934,     0.34034,     0.34134,     0.34234,     0.34334,     0.34434,     0.34535,     0.34635,     0.34735,     0.34835,     0.34935,     0.35035,     0.35135,     0.35235,     0.35335,     0.35435,     0.35536,     0.35636,     0.35736,     0.35836,     0.35936,\n",
       "           0.36036,     0.36136,     0.36236,     0.36336,     0.36436,     0.36537,     0.36637,     0.36737,     0.36837,     0.36937,     0.37037,     0.37137,     0.37237,     0.37337,     0.37437,     0.37538,     0.37638,     0.37738,     0.37838,     0.37938,     0.38038,     0.38138,     0.38238,     0.38338,\n",
       "           0.38438,     0.38539,     0.38639,     0.38739,     0.38839,     0.38939,     0.39039,     0.39139,     0.39239,     0.39339,     0.39439,      0.3954,      0.3964,      0.3974,      0.3984,      0.3994,      0.4004,      0.4014,      0.4024,      0.4034,      0.4044,     0.40541,     0.40641,     0.40741,\n",
       "           0.40841,     0.40941,     0.41041,     0.41141,     0.41241,     0.41341,     0.41441,     0.41542,     0.41642,     0.41742,     0.41842,     0.41942,     0.42042,     0.42142,     0.42242,     0.42342,     0.42442,     0.42543,     0.42643,     0.42743,     0.42843,     0.42943,     0.43043,     0.43143,\n",
       "           0.43243,     0.43343,     0.43443,     0.43544,     0.43644,     0.43744,     0.43844,     0.43944,     0.44044,     0.44144,     0.44244,     0.44344,     0.44444,     0.44545,     0.44645,     0.44745,     0.44845,     0.44945,     0.45045,     0.45145,     0.45245,     0.45345,     0.45445,     0.45546,\n",
       "           0.45646,     0.45746,     0.45846,     0.45946,     0.46046,     0.46146,     0.46246,     0.46346,     0.46446,     0.46547,     0.46647,     0.46747,     0.46847,     0.46947,     0.47047,     0.47147,     0.47247,     0.47347,     0.47447,     0.47548,     0.47648,     0.47748,     0.47848,     0.47948,\n",
       "           0.48048,     0.48148,     0.48248,     0.48348,     0.48448,     0.48549,     0.48649,     0.48749,     0.48849,     0.48949,     0.49049,     0.49149,     0.49249,     0.49349,     0.49449,      0.4955,      0.4965,      0.4975,      0.4985,      0.4995,      0.5005,      0.5015,      0.5025,      0.5035,\n",
       "            0.5045,     0.50551,     0.50651,     0.50751,     0.50851,     0.50951,     0.51051,     0.51151,     0.51251,     0.51351,     0.51451,     0.51552,     0.51652,     0.51752,     0.51852,     0.51952,     0.52052,     0.52152,     0.52252,     0.52352,     0.52452,     0.52553,     0.52653,     0.52753,\n",
       "           0.52853,     0.52953,     0.53053,     0.53153,     0.53253,     0.53353,     0.53453,     0.53554,     0.53654,     0.53754,     0.53854,     0.53954,     0.54054,     0.54154,     0.54254,     0.54354,     0.54454,     0.54555,     0.54655,     0.54755,     0.54855,     0.54955,     0.55055,     0.55155,\n",
       "           0.55255,     0.55355,     0.55455,     0.55556,     0.55656,     0.55756,     0.55856,     0.55956,     0.56056,     0.56156,     0.56256,     0.56356,     0.56456,     0.56557,     0.56657,     0.56757,     0.56857,     0.56957,     0.57057,     0.57157,     0.57257,     0.57357,     0.57457,     0.57558,\n",
       "           0.57658,     0.57758,     0.57858,     0.57958,     0.58058,     0.58158,     0.58258,     0.58358,     0.58458,     0.58559,     0.58659,     0.58759,     0.58859,     0.58959,     0.59059,     0.59159,     0.59259,     0.59359,     0.59459,      0.5956,      0.5966,      0.5976,      0.5986,      0.5996,\n",
       "            0.6006,      0.6016,      0.6026,      0.6036,      0.6046,     0.60561,     0.60661,     0.60761,     0.60861,     0.60961,     0.61061,     0.61161,     0.61261,     0.61361,     0.61461,     0.61562,     0.61662,     0.61762,     0.61862,     0.61962,     0.62062,     0.62162,     0.62262,     0.62362,\n",
       "           0.62462,     0.62563,     0.62663,     0.62763,     0.62863,     0.62963,     0.63063,     0.63163,     0.63263,     0.63363,     0.63463,     0.63564,     0.63664,     0.63764,     0.63864,     0.63964,     0.64064,     0.64164,     0.64264,     0.64364,     0.64464,     0.64565,     0.64665,     0.64765,\n",
       "           0.64865,     0.64965,     0.65065,     0.65165,     0.65265,     0.65365,     0.65465,     0.65566,     0.65666,     0.65766,     0.65866,     0.65966,     0.66066,     0.66166,     0.66266,     0.66366,     0.66466,     0.66567,     0.66667,     0.66767,     0.66867,     0.66967,     0.67067,     0.67167,\n",
       "           0.67267,     0.67367,     0.67467,     0.67568,     0.67668,     0.67768,     0.67868,     0.67968,     0.68068,     0.68168,     0.68268,     0.68368,     0.68468,     0.68569,     0.68669,     0.68769,     0.68869,     0.68969,     0.69069,     0.69169,     0.69269,     0.69369,     0.69469,      0.6957,\n",
       "            0.6967,      0.6977,      0.6987,      0.6997,      0.7007,      0.7017,      0.7027,      0.7037,      0.7047,     0.70571,     0.70671,     0.70771,     0.70871,     0.70971,     0.71071,     0.71171,     0.71271,     0.71371,     0.71471,     0.71572,     0.71672,     0.71772,     0.71872,     0.71972,\n",
       "           0.72072,     0.72172,     0.72272,     0.72372,     0.72472,     0.72573,     0.72673,     0.72773,     0.72873,     0.72973,     0.73073,     0.73173,     0.73273,     0.73373,     0.73473,     0.73574,     0.73674,     0.73774,     0.73874,     0.73974,     0.74074,     0.74174,     0.74274,     0.74374,\n",
       "           0.74474,     0.74575,     0.74675,     0.74775,     0.74875,     0.74975,     0.75075,     0.75175,     0.75275,     0.75375,     0.75475,     0.75576,     0.75676,     0.75776,     0.75876,     0.75976,     0.76076,     0.76176,     0.76276,     0.76376,     0.76476,     0.76577,     0.76677,     0.76777,\n",
       "           0.76877,     0.76977,     0.77077,     0.77177,     0.77277,     0.77377,     0.77477,     0.77578,     0.77678,     0.77778,     0.77878,     0.77978,     0.78078,     0.78178,     0.78278,     0.78378,     0.78478,     0.78579,     0.78679,     0.78779,     0.78879,     0.78979,     0.79079,     0.79179,\n",
       "           0.79279,     0.79379,     0.79479,      0.7958,      0.7968,      0.7978,      0.7988,      0.7998,      0.8008,      0.8018,      0.8028,      0.8038,      0.8048,     0.80581,     0.80681,     0.80781,     0.80881,     0.80981,     0.81081,     0.81181,     0.81281,     0.81381,     0.81481,     0.81582,\n",
       "           0.81682,     0.81782,     0.81882,     0.81982,     0.82082,     0.82182,     0.82282,     0.82382,     0.82482,     0.82583,     0.82683,     0.82783,     0.82883,     0.82983,     0.83083,     0.83183,     0.83283,     0.83383,     0.83483,     0.83584,     0.83684,     0.83784,     0.83884,     0.83984,\n",
       "           0.84084,     0.84184,     0.84284,     0.84384,     0.84484,     0.84585,     0.84685,     0.84785,     0.84885,     0.84985,     0.85085,     0.85185,     0.85285,     0.85385,     0.85485,     0.85586,     0.85686,     0.85786,     0.85886,     0.85986,     0.86086,     0.86186,     0.86286,     0.86386,\n",
       "           0.86486,     0.86587,     0.86687,     0.86787,     0.86887,     0.86987,     0.87087,     0.87187,     0.87287,     0.87387,     0.87487,     0.87588,     0.87688,     0.87788,     0.87888,     0.87988,     0.88088,     0.88188,     0.88288,     0.88388,     0.88488,     0.88589,     0.88689,     0.88789,\n",
       "           0.88889,     0.88989,     0.89089,     0.89189,     0.89289,     0.89389,     0.89489,      0.8959,      0.8969,      0.8979,      0.8989,      0.8999,      0.9009,      0.9019,      0.9029,      0.9039,      0.9049,     0.90591,     0.90691,     0.90791,     0.90891,     0.90991,     0.91091,     0.91191,\n",
       "           0.91291,     0.91391,     0.91491,     0.91592,     0.91692,     0.91792,     0.91892,     0.91992,     0.92092,     0.92192,     0.92292,     0.92392,     0.92492,     0.92593,     0.92693,     0.92793,     0.92893,     0.92993,     0.93093,     0.93193,     0.93293,     0.93393,     0.93493,     0.93594,\n",
       "           0.93694,     0.93794,     0.93894,     0.93994,     0.94094,     0.94194,     0.94294,     0.94394,     0.94494,     0.94595,     0.94695,     0.94795,     0.94895,     0.94995,     0.95095,     0.95195,     0.95295,     0.95395,     0.95495,     0.95596,     0.95696,     0.95796,     0.95896,     0.95996,\n",
       "           0.96096,     0.96196,     0.96296,     0.96396,     0.96496,     0.96597,     0.96697,     0.96797,     0.96897,     0.96997,     0.97097,     0.97197,     0.97297,     0.97397,     0.97497,     0.97598,     0.97698,     0.97798,     0.97898,     0.97998,     0.98098,     0.98198,     0.98298,     0.98398,\n",
       "           0.98498,     0.98599,     0.98699,     0.98799,     0.98899,     0.98999,     0.99099,     0.99199,     0.99299,     0.99399,     0.99499,       0.996,       0.997,       0.998,       0.999,           1]), array([[          0,           0,           0, ...,           0,           0,           0],\n",
       "       [          0,           0,           0, ...,           0,           0,           0],\n",
       "       [          0,           0,           0, ...,           0,           0,           0],\n",
       "       ...,\n",
       "       [          0,           0,           0, ...,           0,           0,           0],\n",
       "       [          0,           0,           0, ...,           0,           0,           0],\n",
       "       [          0,           0,           0, ...,           0,           0,           0]], shape=(1318, 1000)), 'Recall', 'Precision'], [array([          0,    0.001001,    0.002002,    0.003003,    0.004004,    0.005005,    0.006006,    0.007007,    0.008008,    0.009009,     0.01001,    0.011011,    0.012012,    0.013013,    0.014014,    0.015015,    0.016016,    0.017017,    0.018018,    0.019019,     0.02002,    0.021021,    0.022022,    0.023023,\n",
       "          0.024024,    0.025025,    0.026026,    0.027027,    0.028028,    0.029029,     0.03003,    0.031031,    0.032032,    0.033033,    0.034034,    0.035035,    0.036036,    0.037037,    0.038038,    0.039039,     0.04004,    0.041041,    0.042042,    0.043043,    0.044044,    0.045045,    0.046046,    0.047047,\n",
       "          0.048048,    0.049049,     0.05005,    0.051051,    0.052052,    0.053053,    0.054054,    0.055055,    0.056056,    0.057057,    0.058058,    0.059059,     0.06006,    0.061061,    0.062062,    0.063063,    0.064064,    0.065065,    0.066066,    0.067067,    0.068068,    0.069069,     0.07007,    0.071071,\n",
       "          0.072072,    0.073073,    0.074074,    0.075075,    0.076076,    0.077077,    0.078078,    0.079079,     0.08008,    0.081081,    0.082082,    0.083083,    0.084084,    0.085085,    0.086086,    0.087087,    0.088088,    0.089089,     0.09009,    0.091091,    0.092092,    0.093093,    0.094094,    0.095095,\n",
       "          0.096096,    0.097097,    0.098098,    0.099099,      0.1001,      0.1011,      0.1021,      0.1031,      0.1041,     0.10511,     0.10611,     0.10711,     0.10811,     0.10911,     0.11011,     0.11111,     0.11211,     0.11311,     0.11411,     0.11512,     0.11612,     0.11712,     0.11812,     0.11912,\n",
       "           0.12012,     0.12112,     0.12212,     0.12312,     0.12412,     0.12513,     0.12613,     0.12713,     0.12813,     0.12913,     0.13013,     0.13113,     0.13213,     0.13313,     0.13413,     0.13514,     0.13614,     0.13714,     0.13814,     0.13914,     0.14014,     0.14114,     0.14214,     0.14314,\n",
       "           0.14414,     0.14515,     0.14615,     0.14715,     0.14815,     0.14915,     0.15015,     0.15115,     0.15215,     0.15315,     0.15415,     0.15516,     0.15616,     0.15716,     0.15816,     0.15916,     0.16016,     0.16116,     0.16216,     0.16316,     0.16416,     0.16517,     0.16617,     0.16717,\n",
       "           0.16817,     0.16917,     0.17017,     0.17117,     0.17217,     0.17317,     0.17417,     0.17518,     0.17618,     0.17718,     0.17818,     0.17918,     0.18018,     0.18118,     0.18218,     0.18318,     0.18418,     0.18519,     0.18619,     0.18719,     0.18819,     0.18919,     0.19019,     0.19119,\n",
       "           0.19219,     0.19319,     0.19419,      0.1952,      0.1962,      0.1972,      0.1982,      0.1992,      0.2002,      0.2012,      0.2022,      0.2032,      0.2042,     0.20521,     0.20621,     0.20721,     0.20821,     0.20921,     0.21021,     0.21121,     0.21221,     0.21321,     0.21421,     0.21522,\n",
       "           0.21622,     0.21722,     0.21822,     0.21922,     0.22022,     0.22122,     0.22222,     0.22322,     0.22422,     0.22523,     0.22623,     0.22723,     0.22823,     0.22923,     0.23023,     0.23123,     0.23223,     0.23323,     0.23423,     0.23524,     0.23624,     0.23724,     0.23824,     0.23924,\n",
       "           0.24024,     0.24124,     0.24224,     0.24324,     0.24424,     0.24525,     0.24625,     0.24725,     0.24825,     0.24925,     0.25025,     0.25125,     0.25225,     0.25325,     0.25425,     0.25526,     0.25626,     0.25726,     0.25826,     0.25926,     0.26026,     0.26126,     0.26226,     0.26326,\n",
       "           0.26426,     0.26527,     0.26627,     0.26727,     0.26827,     0.26927,     0.27027,     0.27127,     0.27227,     0.27327,     0.27427,     0.27528,     0.27628,     0.27728,     0.27828,     0.27928,     0.28028,     0.28128,     0.28228,     0.28328,     0.28428,     0.28529,     0.28629,     0.28729,\n",
       "           0.28829,     0.28929,     0.29029,     0.29129,     0.29229,     0.29329,     0.29429,      0.2953,      0.2963,      0.2973,      0.2983,      0.2993,      0.3003,      0.3013,      0.3023,      0.3033,      0.3043,     0.30531,     0.30631,     0.30731,     0.30831,     0.30931,     0.31031,     0.31131,\n",
       "           0.31231,     0.31331,     0.31431,     0.31532,     0.31632,     0.31732,     0.31832,     0.31932,     0.32032,     0.32132,     0.32232,     0.32332,     0.32432,     0.32533,     0.32633,     0.32733,     0.32833,     0.32933,     0.33033,     0.33133,     0.33233,     0.33333,     0.33433,     0.33534,\n",
       "           0.33634,     0.33734,     0.33834,     0.33934,     0.34034,     0.34134,     0.34234,     0.34334,     0.34434,     0.34535,     0.34635,     0.34735,     0.34835,     0.34935,     0.35035,     0.35135,     0.35235,     0.35335,     0.35435,     0.35536,     0.35636,     0.35736,     0.35836,     0.35936,\n",
       "           0.36036,     0.36136,     0.36236,     0.36336,     0.36436,     0.36537,     0.36637,     0.36737,     0.36837,     0.36937,     0.37037,     0.37137,     0.37237,     0.37337,     0.37437,     0.37538,     0.37638,     0.37738,     0.37838,     0.37938,     0.38038,     0.38138,     0.38238,     0.38338,\n",
       "           0.38438,     0.38539,     0.38639,     0.38739,     0.38839,     0.38939,     0.39039,     0.39139,     0.39239,     0.39339,     0.39439,      0.3954,      0.3964,      0.3974,      0.3984,      0.3994,      0.4004,      0.4014,      0.4024,      0.4034,      0.4044,     0.40541,     0.40641,     0.40741,\n",
       "           0.40841,     0.40941,     0.41041,     0.41141,     0.41241,     0.41341,     0.41441,     0.41542,     0.41642,     0.41742,     0.41842,     0.41942,     0.42042,     0.42142,     0.42242,     0.42342,     0.42442,     0.42543,     0.42643,     0.42743,     0.42843,     0.42943,     0.43043,     0.43143,\n",
       "           0.43243,     0.43343,     0.43443,     0.43544,     0.43644,     0.43744,     0.43844,     0.43944,     0.44044,     0.44144,     0.44244,     0.44344,     0.44444,     0.44545,     0.44645,     0.44745,     0.44845,     0.44945,     0.45045,     0.45145,     0.45245,     0.45345,     0.45445,     0.45546,\n",
       "           0.45646,     0.45746,     0.45846,     0.45946,     0.46046,     0.46146,     0.46246,     0.46346,     0.46446,     0.46547,     0.46647,     0.46747,     0.46847,     0.46947,     0.47047,     0.47147,     0.47247,     0.47347,     0.47447,     0.47548,     0.47648,     0.47748,     0.47848,     0.47948,\n",
       "           0.48048,     0.48148,     0.48248,     0.48348,     0.48448,     0.48549,     0.48649,     0.48749,     0.48849,     0.48949,     0.49049,     0.49149,     0.49249,     0.49349,     0.49449,      0.4955,      0.4965,      0.4975,      0.4985,      0.4995,      0.5005,      0.5015,      0.5025,      0.5035,\n",
       "            0.5045,     0.50551,     0.50651,     0.50751,     0.50851,     0.50951,     0.51051,     0.51151,     0.51251,     0.51351,     0.51451,     0.51552,     0.51652,     0.51752,     0.51852,     0.51952,     0.52052,     0.52152,     0.52252,     0.52352,     0.52452,     0.52553,     0.52653,     0.52753,\n",
       "           0.52853,     0.52953,     0.53053,     0.53153,     0.53253,     0.53353,     0.53453,     0.53554,     0.53654,     0.53754,     0.53854,     0.53954,     0.54054,     0.54154,     0.54254,     0.54354,     0.54454,     0.54555,     0.54655,     0.54755,     0.54855,     0.54955,     0.55055,     0.55155,\n",
       "           0.55255,     0.55355,     0.55455,     0.55556,     0.55656,     0.55756,     0.55856,     0.55956,     0.56056,     0.56156,     0.56256,     0.56356,     0.56456,     0.56557,     0.56657,     0.56757,     0.56857,     0.56957,     0.57057,     0.57157,     0.57257,     0.57357,     0.57457,     0.57558,\n",
       "           0.57658,     0.57758,     0.57858,     0.57958,     0.58058,     0.58158,     0.58258,     0.58358,     0.58458,     0.58559,     0.58659,     0.58759,     0.58859,     0.58959,     0.59059,     0.59159,     0.59259,     0.59359,     0.59459,      0.5956,      0.5966,      0.5976,      0.5986,      0.5996,\n",
       "            0.6006,      0.6016,      0.6026,      0.6036,      0.6046,     0.60561,     0.60661,     0.60761,     0.60861,     0.60961,     0.61061,     0.61161,     0.61261,     0.61361,     0.61461,     0.61562,     0.61662,     0.61762,     0.61862,     0.61962,     0.62062,     0.62162,     0.62262,     0.62362,\n",
       "           0.62462,     0.62563,     0.62663,     0.62763,     0.62863,     0.62963,     0.63063,     0.63163,     0.63263,     0.63363,     0.63463,     0.63564,     0.63664,     0.63764,     0.63864,     0.63964,     0.64064,     0.64164,     0.64264,     0.64364,     0.64464,     0.64565,     0.64665,     0.64765,\n",
       "           0.64865,     0.64965,     0.65065,     0.65165,     0.65265,     0.65365,     0.65465,     0.65566,     0.65666,     0.65766,     0.65866,     0.65966,     0.66066,     0.66166,     0.66266,     0.66366,     0.66466,     0.66567,     0.66667,     0.66767,     0.66867,     0.66967,     0.67067,     0.67167,\n",
       "           0.67267,     0.67367,     0.67467,     0.67568,     0.67668,     0.67768,     0.67868,     0.67968,     0.68068,     0.68168,     0.68268,     0.68368,     0.68468,     0.68569,     0.68669,     0.68769,     0.68869,     0.68969,     0.69069,     0.69169,     0.69269,     0.69369,     0.69469,      0.6957,\n",
       "            0.6967,      0.6977,      0.6987,      0.6997,      0.7007,      0.7017,      0.7027,      0.7037,      0.7047,     0.70571,     0.70671,     0.70771,     0.70871,     0.70971,     0.71071,     0.71171,     0.71271,     0.71371,     0.71471,     0.71572,     0.71672,     0.71772,     0.71872,     0.71972,\n",
       "           0.72072,     0.72172,     0.72272,     0.72372,     0.72472,     0.72573,     0.72673,     0.72773,     0.72873,     0.72973,     0.73073,     0.73173,     0.73273,     0.73373,     0.73473,     0.73574,     0.73674,     0.73774,     0.73874,     0.73974,     0.74074,     0.74174,     0.74274,     0.74374,\n",
       "           0.74474,     0.74575,     0.74675,     0.74775,     0.74875,     0.74975,     0.75075,     0.75175,     0.75275,     0.75375,     0.75475,     0.75576,     0.75676,     0.75776,     0.75876,     0.75976,     0.76076,     0.76176,     0.76276,     0.76376,     0.76476,     0.76577,     0.76677,     0.76777,\n",
       "           0.76877,     0.76977,     0.77077,     0.77177,     0.77277,     0.77377,     0.77477,     0.77578,     0.77678,     0.77778,     0.77878,     0.77978,     0.78078,     0.78178,     0.78278,     0.78378,     0.78478,     0.78579,     0.78679,     0.78779,     0.78879,     0.78979,     0.79079,     0.79179,\n",
       "           0.79279,     0.79379,     0.79479,      0.7958,      0.7968,      0.7978,      0.7988,      0.7998,      0.8008,      0.8018,      0.8028,      0.8038,      0.8048,     0.80581,     0.80681,     0.80781,     0.80881,     0.80981,     0.81081,     0.81181,     0.81281,     0.81381,     0.81481,     0.81582,\n",
       "           0.81682,     0.81782,     0.81882,     0.81982,     0.82082,     0.82182,     0.82282,     0.82382,     0.82482,     0.82583,     0.82683,     0.82783,     0.82883,     0.82983,     0.83083,     0.83183,     0.83283,     0.83383,     0.83483,     0.83584,     0.83684,     0.83784,     0.83884,     0.83984,\n",
       "           0.84084,     0.84184,     0.84284,     0.84384,     0.84484,     0.84585,     0.84685,     0.84785,     0.84885,     0.84985,     0.85085,     0.85185,     0.85285,     0.85385,     0.85485,     0.85586,     0.85686,     0.85786,     0.85886,     0.85986,     0.86086,     0.86186,     0.86286,     0.86386,\n",
       "           0.86486,     0.86587,     0.86687,     0.86787,     0.86887,     0.86987,     0.87087,     0.87187,     0.87287,     0.87387,     0.87487,     0.87588,     0.87688,     0.87788,     0.87888,     0.87988,     0.88088,     0.88188,     0.88288,     0.88388,     0.88488,     0.88589,     0.88689,     0.88789,\n",
       "           0.88889,     0.88989,     0.89089,     0.89189,     0.89289,     0.89389,     0.89489,      0.8959,      0.8969,      0.8979,      0.8989,      0.8999,      0.9009,      0.9019,      0.9029,      0.9039,      0.9049,     0.90591,     0.90691,     0.90791,     0.90891,     0.90991,     0.91091,     0.91191,\n",
       "           0.91291,     0.91391,     0.91491,     0.91592,     0.91692,     0.91792,     0.91892,     0.91992,     0.92092,     0.92192,     0.92292,     0.92392,     0.92492,     0.92593,     0.92693,     0.92793,     0.92893,     0.92993,     0.93093,     0.93193,     0.93293,     0.93393,     0.93493,     0.93594,\n",
       "           0.93694,     0.93794,     0.93894,     0.93994,     0.94094,     0.94194,     0.94294,     0.94394,     0.94494,     0.94595,     0.94695,     0.94795,     0.94895,     0.94995,     0.95095,     0.95195,     0.95295,     0.95395,     0.95495,     0.95596,     0.95696,     0.95796,     0.95896,     0.95996,\n",
       "           0.96096,     0.96196,     0.96296,     0.96396,     0.96496,     0.96597,     0.96697,     0.96797,     0.96897,     0.96997,     0.97097,     0.97197,     0.97297,     0.97397,     0.97497,     0.97598,     0.97698,     0.97798,     0.97898,     0.97998,     0.98098,     0.98198,     0.98298,     0.98398,\n",
       "           0.98498,     0.98599,     0.98699,     0.98799,     0.98899,     0.98999,     0.99099,     0.99199,     0.99299,     0.99399,     0.99499,       0.996,       0.997,       0.998,       0.999,           1]), array([[          0,           0,           0, ...,           0,           0,           0],\n",
       "       [          0,           0,           0, ...,           0,           0,           0],\n",
       "       [          0,           0,           0, ...,           0,           0,           0],\n",
       "       ...,\n",
       "       [          0,           0,           0, ...,           0,           0,           0],\n",
       "       [          0,           0,           0, ...,           0,           0,           0],\n",
       "       [          0,           0,           0, ...,           0,           0,           0]], shape=(2611, 1000)), 'Confidence', 'F1'], [array([          0,    0.001001,    0.002002,    0.003003,    0.004004,    0.005005,    0.006006,    0.007007,    0.008008,    0.009009,     0.01001,    0.011011,    0.012012,    0.013013,    0.014014,    0.015015,    0.016016,    0.017017,    0.018018,    0.019019,     0.02002,    0.021021,    0.022022,    0.023023,\n",
       "          0.024024,    0.025025,    0.026026,    0.027027,    0.028028,    0.029029,     0.03003,    0.031031,    0.032032,    0.033033,    0.034034,    0.035035,    0.036036,    0.037037,    0.038038,    0.039039,     0.04004,    0.041041,    0.042042,    0.043043,    0.044044,    0.045045,    0.046046,    0.047047,\n",
       "          0.048048,    0.049049,     0.05005,    0.051051,    0.052052,    0.053053,    0.054054,    0.055055,    0.056056,    0.057057,    0.058058,    0.059059,     0.06006,    0.061061,    0.062062,    0.063063,    0.064064,    0.065065,    0.066066,    0.067067,    0.068068,    0.069069,     0.07007,    0.071071,\n",
       "          0.072072,    0.073073,    0.074074,    0.075075,    0.076076,    0.077077,    0.078078,    0.079079,     0.08008,    0.081081,    0.082082,    0.083083,    0.084084,    0.085085,    0.086086,    0.087087,    0.088088,    0.089089,     0.09009,    0.091091,    0.092092,    0.093093,    0.094094,    0.095095,\n",
       "          0.096096,    0.097097,    0.098098,    0.099099,      0.1001,      0.1011,      0.1021,      0.1031,      0.1041,     0.10511,     0.10611,     0.10711,     0.10811,     0.10911,     0.11011,     0.11111,     0.11211,     0.11311,     0.11411,     0.11512,     0.11612,     0.11712,     0.11812,     0.11912,\n",
       "           0.12012,     0.12112,     0.12212,     0.12312,     0.12412,     0.12513,     0.12613,     0.12713,     0.12813,     0.12913,     0.13013,     0.13113,     0.13213,     0.13313,     0.13413,     0.13514,     0.13614,     0.13714,     0.13814,     0.13914,     0.14014,     0.14114,     0.14214,     0.14314,\n",
       "           0.14414,     0.14515,     0.14615,     0.14715,     0.14815,     0.14915,     0.15015,     0.15115,     0.15215,     0.15315,     0.15415,     0.15516,     0.15616,     0.15716,     0.15816,     0.15916,     0.16016,     0.16116,     0.16216,     0.16316,     0.16416,     0.16517,     0.16617,     0.16717,\n",
       "           0.16817,     0.16917,     0.17017,     0.17117,     0.17217,     0.17317,     0.17417,     0.17518,     0.17618,     0.17718,     0.17818,     0.17918,     0.18018,     0.18118,     0.18218,     0.18318,     0.18418,     0.18519,     0.18619,     0.18719,     0.18819,     0.18919,     0.19019,     0.19119,\n",
       "           0.19219,     0.19319,     0.19419,      0.1952,      0.1962,      0.1972,      0.1982,      0.1992,      0.2002,      0.2012,      0.2022,      0.2032,      0.2042,     0.20521,     0.20621,     0.20721,     0.20821,     0.20921,     0.21021,     0.21121,     0.21221,     0.21321,     0.21421,     0.21522,\n",
       "           0.21622,     0.21722,     0.21822,     0.21922,     0.22022,     0.22122,     0.22222,     0.22322,     0.22422,     0.22523,     0.22623,     0.22723,     0.22823,     0.22923,     0.23023,     0.23123,     0.23223,     0.23323,     0.23423,     0.23524,     0.23624,     0.23724,     0.23824,     0.23924,\n",
       "           0.24024,     0.24124,     0.24224,     0.24324,     0.24424,     0.24525,     0.24625,     0.24725,     0.24825,     0.24925,     0.25025,     0.25125,     0.25225,     0.25325,     0.25425,     0.25526,     0.25626,     0.25726,     0.25826,     0.25926,     0.26026,     0.26126,     0.26226,     0.26326,\n",
       "           0.26426,     0.26527,     0.26627,     0.26727,     0.26827,     0.26927,     0.27027,     0.27127,     0.27227,     0.27327,     0.27427,     0.27528,     0.27628,     0.27728,     0.27828,     0.27928,     0.28028,     0.28128,     0.28228,     0.28328,     0.28428,     0.28529,     0.28629,     0.28729,\n",
       "           0.28829,     0.28929,     0.29029,     0.29129,     0.29229,     0.29329,     0.29429,      0.2953,      0.2963,      0.2973,      0.2983,      0.2993,      0.3003,      0.3013,      0.3023,      0.3033,      0.3043,     0.30531,     0.30631,     0.30731,     0.30831,     0.30931,     0.31031,     0.31131,\n",
       "           0.31231,     0.31331,     0.31431,     0.31532,     0.31632,     0.31732,     0.31832,     0.31932,     0.32032,     0.32132,     0.32232,     0.32332,     0.32432,     0.32533,     0.32633,     0.32733,     0.32833,     0.32933,     0.33033,     0.33133,     0.33233,     0.33333,     0.33433,     0.33534,\n",
       "           0.33634,     0.33734,     0.33834,     0.33934,     0.34034,     0.34134,     0.34234,     0.34334,     0.34434,     0.34535,     0.34635,     0.34735,     0.34835,     0.34935,     0.35035,     0.35135,     0.35235,     0.35335,     0.35435,     0.35536,     0.35636,     0.35736,     0.35836,     0.35936,\n",
       "           0.36036,     0.36136,     0.36236,     0.36336,     0.36436,     0.36537,     0.36637,     0.36737,     0.36837,     0.36937,     0.37037,     0.37137,     0.37237,     0.37337,     0.37437,     0.37538,     0.37638,     0.37738,     0.37838,     0.37938,     0.38038,     0.38138,     0.38238,     0.38338,\n",
       "           0.38438,     0.38539,     0.38639,     0.38739,     0.38839,     0.38939,     0.39039,     0.39139,     0.39239,     0.39339,     0.39439,      0.3954,      0.3964,      0.3974,      0.3984,      0.3994,      0.4004,      0.4014,      0.4024,      0.4034,      0.4044,     0.40541,     0.40641,     0.40741,\n",
       "           0.40841,     0.40941,     0.41041,     0.41141,     0.41241,     0.41341,     0.41441,     0.41542,     0.41642,     0.41742,     0.41842,     0.41942,     0.42042,     0.42142,     0.42242,     0.42342,     0.42442,     0.42543,     0.42643,     0.42743,     0.42843,     0.42943,     0.43043,     0.43143,\n",
       "           0.43243,     0.43343,     0.43443,     0.43544,     0.43644,     0.43744,     0.43844,     0.43944,     0.44044,     0.44144,     0.44244,     0.44344,     0.44444,     0.44545,     0.44645,     0.44745,     0.44845,     0.44945,     0.45045,     0.45145,     0.45245,     0.45345,     0.45445,     0.45546,\n",
       "           0.45646,     0.45746,     0.45846,     0.45946,     0.46046,     0.46146,     0.46246,     0.46346,     0.46446,     0.46547,     0.46647,     0.46747,     0.46847,     0.46947,     0.47047,     0.47147,     0.47247,     0.47347,     0.47447,     0.47548,     0.47648,     0.47748,     0.47848,     0.47948,\n",
       "           0.48048,     0.48148,     0.48248,     0.48348,     0.48448,     0.48549,     0.48649,     0.48749,     0.48849,     0.48949,     0.49049,     0.49149,     0.49249,     0.49349,     0.49449,      0.4955,      0.4965,      0.4975,      0.4985,      0.4995,      0.5005,      0.5015,      0.5025,      0.5035,\n",
       "            0.5045,     0.50551,     0.50651,     0.50751,     0.50851,     0.50951,     0.51051,     0.51151,     0.51251,     0.51351,     0.51451,     0.51552,     0.51652,     0.51752,     0.51852,     0.51952,     0.52052,     0.52152,     0.52252,     0.52352,     0.52452,     0.52553,     0.52653,     0.52753,\n",
       "           0.52853,     0.52953,     0.53053,     0.53153,     0.53253,     0.53353,     0.53453,     0.53554,     0.53654,     0.53754,     0.53854,     0.53954,     0.54054,     0.54154,     0.54254,     0.54354,     0.54454,     0.54555,     0.54655,     0.54755,     0.54855,     0.54955,     0.55055,     0.55155,\n",
       "           0.55255,     0.55355,     0.55455,     0.55556,     0.55656,     0.55756,     0.55856,     0.55956,     0.56056,     0.56156,     0.56256,     0.56356,     0.56456,     0.56557,     0.56657,     0.56757,     0.56857,     0.56957,     0.57057,     0.57157,     0.57257,     0.57357,     0.57457,     0.57558,\n",
       "           0.57658,     0.57758,     0.57858,     0.57958,     0.58058,     0.58158,     0.58258,     0.58358,     0.58458,     0.58559,     0.58659,     0.58759,     0.58859,     0.58959,     0.59059,     0.59159,     0.59259,     0.59359,     0.59459,      0.5956,      0.5966,      0.5976,      0.5986,      0.5996,\n",
       "            0.6006,      0.6016,      0.6026,      0.6036,      0.6046,     0.60561,     0.60661,     0.60761,     0.60861,     0.60961,     0.61061,     0.61161,     0.61261,     0.61361,     0.61461,     0.61562,     0.61662,     0.61762,     0.61862,     0.61962,     0.62062,     0.62162,     0.62262,     0.62362,\n",
       "           0.62462,     0.62563,     0.62663,     0.62763,     0.62863,     0.62963,     0.63063,     0.63163,     0.63263,     0.63363,     0.63463,     0.63564,     0.63664,     0.63764,     0.63864,     0.63964,     0.64064,     0.64164,     0.64264,     0.64364,     0.64464,     0.64565,     0.64665,     0.64765,\n",
       "           0.64865,     0.64965,     0.65065,     0.65165,     0.65265,     0.65365,     0.65465,     0.65566,     0.65666,     0.65766,     0.65866,     0.65966,     0.66066,     0.66166,     0.66266,     0.66366,     0.66466,     0.66567,     0.66667,     0.66767,     0.66867,     0.66967,     0.67067,     0.67167,\n",
       "           0.67267,     0.67367,     0.67467,     0.67568,     0.67668,     0.67768,     0.67868,     0.67968,     0.68068,     0.68168,     0.68268,     0.68368,     0.68468,     0.68569,     0.68669,     0.68769,     0.68869,     0.68969,     0.69069,     0.69169,     0.69269,     0.69369,     0.69469,      0.6957,\n",
       "            0.6967,      0.6977,      0.6987,      0.6997,      0.7007,      0.7017,      0.7027,      0.7037,      0.7047,     0.70571,     0.70671,     0.70771,     0.70871,     0.70971,     0.71071,     0.71171,     0.71271,     0.71371,     0.71471,     0.71572,     0.71672,     0.71772,     0.71872,     0.71972,\n",
       "           0.72072,     0.72172,     0.72272,     0.72372,     0.72472,     0.72573,     0.72673,     0.72773,     0.72873,     0.72973,     0.73073,     0.73173,     0.73273,     0.73373,     0.73473,     0.73574,     0.73674,     0.73774,     0.73874,     0.73974,     0.74074,     0.74174,     0.74274,     0.74374,\n",
       "           0.74474,     0.74575,     0.74675,     0.74775,     0.74875,     0.74975,     0.75075,     0.75175,     0.75275,     0.75375,     0.75475,     0.75576,     0.75676,     0.75776,     0.75876,     0.75976,     0.76076,     0.76176,     0.76276,     0.76376,     0.76476,     0.76577,     0.76677,     0.76777,\n",
       "           0.76877,     0.76977,     0.77077,     0.77177,     0.77277,     0.77377,     0.77477,     0.77578,     0.77678,     0.77778,     0.77878,     0.77978,     0.78078,     0.78178,     0.78278,     0.78378,     0.78478,     0.78579,     0.78679,     0.78779,     0.78879,     0.78979,     0.79079,     0.79179,\n",
       "           0.79279,     0.79379,     0.79479,      0.7958,      0.7968,      0.7978,      0.7988,      0.7998,      0.8008,      0.8018,      0.8028,      0.8038,      0.8048,     0.80581,     0.80681,     0.80781,     0.80881,     0.80981,     0.81081,     0.81181,     0.81281,     0.81381,     0.81481,     0.81582,\n",
       "           0.81682,     0.81782,     0.81882,     0.81982,     0.82082,     0.82182,     0.82282,     0.82382,     0.82482,     0.82583,     0.82683,     0.82783,     0.82883,     0.82983,     0.83083,     0.83183,     0.83283,     0.83383,     0.83483,     0.83584,     0.83684,     0.83784,     0.83884,     0.83984,\n",
       "           0.84084,     0.84184,     0.84284,     0.84384,     0.84484,     0.84585,     0.84685,     0.84785,     0.84885,     0.84985,     0.85085,     0.85185,     0.85285,     0.85385,     0.85485,     0.85586,     0.85686,     0.85786,     0.85886,     0.85986,     0.86086,     0.86186,     0.86286,     0.86386,\n",
       "           0.86486,     0.86587,     0.86687,     0.86787,     0.86887,     0.86987,     0.87087,     0.87187,     0.87287,     0.87387,     0.87487,     0.87588,     0.87688,     0.87788,     0.87888,     0.87988,     0.88088,     0.88188,     0.88288,     0.88388,     0.88488,     0.88589,     0.88689,     0.88789,\n",
       "           0.88889,     0.88989,     0.89089,     0.89189,     0.89289,     0.89389,     0.89489,      0.8959,      0.8969,      0.8979,      0.8989,      0.8999,      0.9009,      0.9019,      0.9029,      0.9039,      0.9049,     0.90591,     0.90691,     0.90791,     0.90891,     0.90991,     0.91091,     0.91191,\n",
       "           0.91291,     0.91391,     0.91491,     0.91592,     0.91692,     0.91792,     0.91892,     0.91992,     0.92092,     0.92192,     0.92292,     0.92392,     0.92492,     0.92593,     0.92693,     0.92793,     0.92893,     0.92993,     0.93093,     0.93193,     0.93293,     0.93393,     0.93493,     0.93594,\n",
       "           0.93694,     0.93794,     0.93894,     0.93994,     0.94094,     0.94194,     0.94294,     0.94394,     0.94494,     0.94595,     0.94695,     0.94795,     0.94895,     0.94995,     0.95095,     0.95195,     0.95295,     0.95395,     0.95495,     0.95596,     0.95696,     0.95796,     0.95896,     0.95996,\n",
       "           0.96096,     0.96196,     0.96296,     0.96396,     0.96496,     0.96597,     0.96697,     0.96797,     0.96897,     0.96997,     0.97097,     0.97197,     0.97297,     0.97397,     0.97497,     0.97598,     0.97698,     0.97798,     0.97898,     0.97998,     0.98098,     0.98198,     0.98298,     0.98398,\n",
       "           0.98498,     0.98599,     0.98699,     0.98799,     0.98899,     0.98999,     0.99099,     0.99199,     0.99299,     0.99399,     0.99499,       0.996,       0.997,       0.998,       0.999,           1]), array([[          0,           0,           0, ...,           1,           1,           1],\n",
       "       [          0,           0,           0, ...,           1,           1,           1],\n",
       "       [          0,           0,           0, ...,           0,           0,           0],\n",
       "       ...,\n",
       "       [          0,           0,           0, ...,           0,           0,           0],\n",
       "       [          0,           0,           0, ...,           1,           1,           1],\n",
       "       [          0,           0,           0, ...,           1,           1,           1]], shape=(2611, 1000)), 'Confidence', 'Precision'], [array([          0,    0.001001,    0.002002,    0.003003,    0.004004,    0.005005,    0.006006,    0.007007,    0.008008,    0.009009,     0.01001,    0.011011,    0.012012,    0.013013,    0.014014,    0.015015,    0.016016,    0.017017,    0.018018,    0.019019,     0.02002,    0.021021,    0.022022,    0.023023,\n",
       "          0.024024,    0.025025,    0.026026,    0.027027,    0.028028,    0.029029,     0.03003,    0.031031,    0.032032,    0.033033,    0.034034,    0.035035,    0.036036,    0.037037,    0.038038,    0.039039,     0.04004,    0.041041,    0.042042,    0.043043,    0.044044,    0.045045,    0.046046,    0.047047,\n",
       "          0.048048,    0.049049,     0.05005,    0.051051,    0.052052,    0.053053,    0.054054,    0.055055,    0.056056,    0.057057,    0.058058,    0.059059,     0.06006,    0.061061,    0.062062,    0.063063,    0.064064,    0.065065,    0.066066,    0.067067,    0.068068,    0.069069,     0.07007,    0.071071,\n",
       "          0.072072,    0.073073,    0.074074,    0.075075,    0.076076,    0.077077,    0.078078,    0.079079,     0.08008,    0.081081,    0.082082,    0.083083,    0.084084,    0.085085,    0.086086,    0.087087,    0.088088,    0.089089,     0.09009,    0.091091,    0.092092,    0.093093,    0.094094,    0.095095,\n",
       "          0.096096,    0.097097,    0.098098,    0.099099,      0.1001,      0.1011,      0.1021,      0.1031,      0.1041,     0.10511,     0.10611,     0.10711,     0.10811,     0.10911,     0.11011,     0.11111,     0.11211,     0.11311,     0.11411,     0.11512,     0.11612,     0.11712,     0.11812,     0.11912,\n",
       "           0.12012,     0.12112,     0.12212,     0.12312,     0.12412,     0.12513,     0.12613,     0.12713,     0.12813,     0.12913,     0.13013,     0.13113,     0.13213,     0.13313,     0.13413,     0.13514,     0.13614,     0.13714,     0.13814,     0.13914,     0.14014,     0.14114,     0.14214,     0.14314,\n",
       "           0.14414,     0.14515,     0.14615,     0.14715,     0.14815,     0.14915,     0.15015,     0.15115,     0.15215,     0.15315,     0.15415,     0.15516,     0.15616,     0.15716,     0.15816,     0.15916,     0.16016,     0.16116,     0.16216,     0.16316,     0.16416,     0.16517,     0.16617,     0.16717,\n",
       "           0.16817,     0.16917,     0.17017,     0.17117,     0.17217,     0.17317,     0.17417,     0.17518,     0.17618,     0.17718,     0.17818,     0.17918,     0.18018,     0.18118,     0.18218,     0.18318,     0.18418,     0.18519,     0.18619,     0.18719,     0.18819,     0.18919,     0.19019,     0.19119,\n",
       "           0.19219,     0.19319,     0.19419,      0.1952,      0.1962,      0.1972,      0.1982,      0.1992,      0.2002,      0.2012,      0.2022,      0.2032,      0.2042,     0.20521,     0.20621,     0.20721,     0.20821,     0.20921,     0.21021,     0.21121,     0.21221,     0.21321,     0.21421,     0.21522,\n",
       "           0.21622,     0.21722,     0.21822,     0.21922,     0.22022,     0.22122,     0.22222,     0.22322,     0.22422,     0.22523,     0.22623,     0.22723,     0.22823,     0.22923,     0.23023,     0.23123,     0.23223,     0.23323,     0.23423,     0.23524,     0.23624,     0.23724,     0.23824,     0.23924,\n",
       "           0.24024,     0.24124,     0.24224,     0.24324,     0.24424,     0.24525,     0.24625,     0.24725,     0.24825,     0.24925,     0.25025,     0.25125,     0.25225,     0.25325,     0.25425,     0.25526,     0.25626,     0.25726,     0.25826,     0.25926,     0.26026,     0.26126,     0.26226,     0.26326,\n",
       "           0.26426,     0.26527,     0.26627,     0.26727,     0.26827,     0.26927,     0.27027,     0.27127,     0.27227,     0.27327,     0.27427,     0.27528,     0.27628,     0.27728,     0.27828,     0.27928,     0.28028,     0.28128,     0.28228,     0.28328,     0.28428,     0.28529,     0.28629,     0.28729,\n",
       "           0.28829,     0.28929,     0.29029,     0.29129,     0.29229,     0.29329,     0.29429,      0.2953,      0.2963,      0.2973,      0.2983,      0.2993,      0.3003,      0.3013,      0.3023,      0.3033,      0.3043,     0.30531,     0.30631,     0.30731,     0.30831,     0.30931,     0.31031,     0.31131,\n",
       "           0.31231,     0.31331,     0.31431,     0.31532,     0.31632,     0.31732,     0.31832,     0.31932,     0.32032,     0.32132,     0.32232,     0.32332,     0.32432,     0.32533,     0.32633,     0.32733,     0.32833,     0.32933,     0.33033,     0.33133,     0.33233,     0.33333,     0.33433,     0.33534,\n",
       "           0.33634,     0.33734,     0.33834,     0.33934,     0.34034,     0.34134,     0.34234,     0.34334,     0.34434,     0.34535,     0.34635,     0.34735,     0.34835,     0.34935,     0.35035,     0.35135,     0.35235,     0.35335,     0.35435,     0.35536,     0.35636,     0.35736,     0.35836,     0.35936,\n",
       "           0.36036,     0.36136,     0.36236,     0.36336,     0.36436,     0.36537,     0.36637,     0.36737,     0.36837,     0.36937,     0.37037,     0.37137,     0.37237,     0.37337,     0.37437,     0.37538,     0.37638,     0.37738,     0.37838,     0.37938,     0.38038,     0.38138,     0.38238,     0.38338,\n",
       "           0.38438,     0.38539,     0.38639,     0.38739,     0.38839,     0.38939,     0.39039,     0.39139,     0.39239,     0.39339,     0.39439,      0.3954,      0.3964,      0.3974,      0.3984,      0.3994,      0.4004,      0.4014,      0.4024,      0.4034,      0.4044,     0.40541,     0.40641,     0.40741,\n",
       "           0.40841,     0.40941,     0.41041,     0.41141,     0.41241,     0.41341,     0.41441,     0.41542,     0.41642,     0.41742,     0.41842,     0.41942,     0.42042,     0.42142,     0.42242,     0.42342,     0.42442,     0.42543,     0.42643,     0.42743,     0.42843,     0.42943,     0.43043,     0.43143,\n",
       "           0.43243,     0.43343,     0.43443,     0.43544,     0.43644,     0.43744,     0.43844,     0.43944,     0.44044,     0.44144,     0.44244,     0.44344,     0.44444,     0.44545,     0.44645,     0.44745,     0.44845,     0.44945,     0.45045,     0.45145,     0.45245,     0.45345,     0.45445,     0.45546,\n",
       "           0.45646,     0.45746,     0.45846,     0.45946,     0.46046,     0.46146,     0.46246,     0.46346,     0.46446,     0.46547,     0.46647,     0.46747,     0.46847,     0.46947,     0.47047,     0.47147,     0.47247,     0.47347,     0.47447,     0.47548,     0.47648,     0.47748,     0.47848,     0.47948,\n",
       "           0.48048,     0.48148,     0.48248,     0.48348,     0.48448,     0.48549,     0.48649,     0.48749,     0.48849,     0.48949,     0.49049,     0.49149,     0.49249,     0.49349,     0.49449,      0.4955,      0.4965,      0.4975,      0.4985,      0.4995,      0.5005,      0.5015,      0.5025,      0.5035,\n",
       "            0.5045,     0.50551,     0.50651,     0.50751,     0.50851,     0.50951,     0.51051,     0.51151,     0.51251,     0.51351,     0.51451,     0.51552,     0.51652,     0.51752,     0.51852,     0.51952,     0.52052,     0.52152,     0.52252,     0.52352,     0.52452,     0.52553,     0.52653,     0.52753,\n",
       "           0.52853,     0.52953,     0.53053,     0.53153,     0.53253,     0.53353,     0.53453,     0.53554,     0.53654,     0.53754,     0.53854,     0.53954,     0.54054,     0.54154,     0.54254,     0.54354,     0.54454,     0.54555,     0.54655,     0.54755,     0.54855,     0.54955,     0.55055,     0.55155,\n",
       "           0.55255,     0.55355,     0.55455,     0.55556,     0.55656,     0.55756,     0.55856,     0.55956,     0.56056,     0.56156,     0.56256,     0.56356,     0.56456,     0.56557,     0.56657,     0.56757,     0.56857,     0.56957,     0.57057,     0.57157,     0.57257,     0.57357,     0.57457,     0.57558,\n",
       "           0.57658,     0.57758,     0.57858,     0.57958,     0.58058,     0.58158,     0.58258,     0.58358,     0.58458,     0.58559,     0.58659,     0.58759,     0.58859,     0.58959,     0.59059,     0.59159,     0.59259,     0.59359,     0.59459,      0.5956,      0.5966,      0.5976,      0.5986,      0.5996,\n",
       "            0.6006,      0.6016,      0.6026,      0.6036,      0.6046,     0.60561,     0.60661,     0.60761,     0.60861,     0.60961,     0.61061,     0.61161,     0.61261,     0.61361,     0.61461,     0.61562,     0.61662,     0.61762,     0.61862,     0.61962,     0.62062,     0.62162,     0.62262,     0.62362,\n",
       "           0.62462,     0.62563,     0.62663,     0.62763,     0.62863,     0.62963,     0.63063,     0.63163,     0.63263,     0.63363,     0.63463,     0.63564,     0.63664,     0.63764,     0.63864,     0.63964,     0.64064,     0.64164,     0.64264,     0.64364,     0.64464,     0.64565,     0.64665,     0.64765,\n",
       "           0.64865,     0.64965,     0.65065,     0.65165,     0.65265,     0.65365,     0.65465,     0.65566,     0.65666,     0.65766,     0.65866,     0.65966,     0.66066,     0.66166,     0.66266,     0.66366,     0.66466,     0.66567,     0.66667,     0.66767,     0.66867,     0.66967,     0.67067,     0.67167,\n",
       "           0.67267,     0.67367,     0.67467,     0.67568,     0.67668,     0.67768,     0.67868,     0.67968,     0.68068,     0.68168,     0.68268,     0.68368,     0.68468,     0.68569,     0.68669,     0.68769,     0.68869,     0.68969,     0.69069,     0.69169,     0.69269,     0.69369,     0.69469,      0.6957,\n",
       "            0.6967,      0.6977,      0.6987,      0.6997,      0.7007,      0.7017,      0.7027,      0.7037,      0.7047,     0.70571,     0.70671,     0.70771,     0.70871,     0.70971,     0.71071,     0.71171,     0.71271,     0.71371,     0.71471,     0.71572,     0.71672,     0.71772,     0.71872,     0.71972,\n",
       "           0.72072,     0.72172,     0.72272,     0.72372,     0.72472,     0.72573,     0.72673,     0.72773,     0.72873,     0.72973,     0.73073,     0.73173,     0.73273,     0.73373,     0.73473,     0.73574,     0.73674,     0.73774,     0.73874,     0.73974,     0.74074,     0.74174,     0.74274,     0.74374,\n",
       "           0.74474,     0.74575,     0.74675,     0.74775,     0.74875,     0.74975,     0.75075,     0.75175,     0.75275,     0.75375,     0.75475,     0.75576,     0.75676,     0.75776,     0.75876,     0.75976,     0.76076,     0.76176,     0.76276,     0.76376,     0.76476,     0.76577,     0.76677,     0.76777,\n",
       "           0.76877,     0.76977,     0.77077,     0.77177,     0.77277,     0.77377,     0.77477,     0.77578,     0.77678,     0.77778,     0.77878,     0.77978,     0.78078,     0.78178,     0.78278,     0.78378,     0.78478,     0.78579,     0.78679,     0.78779,     0.78879,     0.78979,     0.79079,     0.79179,\n",
       "           0.79279,     0.79379,     0.79479,      0.7958,      0.7968,      0.7978,      0.7988,      0.7998,      0.8008,      0.8018,      0.8028,      0.8038,      0.8048,     0.80581,     0.80681,     0.80781,     0.80881,     0.80981,     0.81081,     0.81181,     0.81281,     0.81381,     0.81481,     0.81582,\n",
       "           0.81682,     0.81782,     0.81882,     0.81982,     0.82082,     0.82182,     0.82282,     0.82382,     0.82482,     0.82583,     0.82683,     0.82783,     0.82883,     0.82983,     0.83083,     0.83183,     0.83283,     0.83383,     0.83483,     0.83584,     0.83684,     0.83784,     0.83884,     0.83984,\n",
       "           0.84084,     0.84184,     0.84284,     0.84384,     0.84484,     0.84585,     0.84685,     0.84785,     0.84885,     0.84985,     0.85085,     0.85185,     0.85285,     0.85385,     0.85485,     0.85586,     0.85686,     0.85786,     0.85886,     0.85986,     0.86086,     0.86186,     0.86286,     0.86386,\n",
       "           0.86486,     0.86587,     0.86687,     0.86787,     0.86887,     0.86987,     0.87087,     0.87187,     0.87287,     0.87387,     0.87487,     0.87588,     0.87688,     0.87788,     0.87888,     0.87988,     0.88088,     0.88188,     0.88288,     0.88388,     0.88488,     0.88589,     0.88689,     0.88789,\n",
       "           0.88889,     0.88989,     0.89089,     0.89189,     0.89289,     0.89389,     0.89489,      0.8959,      0.8969,      0.8979,      0.8989,      0.8999,      0.9009,      0.9019,      0.9029,      0.9039,      0.9049,     0.90591,     0.90691,     0.90791,     0.90891,     0.90991,     0.91091,     0.91191,\n",
       "           0.91291,     0.91391,     0.91491,     0.91592,     0.91692,     0.91792,     0.91892,     0.91992,     0.92092,     0.92192,     0.92292,     0.92392,     0.92492,     0.92593,     0.92693,     0.92793,     0.92893,     0.92993,     0.93093,     0.93193,     0.93293,     0.93393,     0.93493,     0.93594,\n",
       "           0.93694,     0.93794,     0.93894,     0.93994,     0.94094,     0.94194,     0.94294,     0.94394,     0.94494,     0.94595,     0.94695,     0.94795,     0.94895,     0.94995,     0.95095,     0.95195,     0.95295,     0.95395,     0.95495,     0.95596,     0.95696,     0.95796,     0.95896,     0.95996,\n",
       "           0.96096,     0.96196,     0.96296,     0.96396,     0.96496,     0.96597,     0.96697,     0.96797,     0.96897,     0.96997,     0.97097,     0.97197,     0.97297,     0.97397,     0.97497,     0.97598,     0.97698,     0.97798,     0.97898,     0.97998,     0.98098,     0.98198,     0.98298,     0.98398,\n",
       "           0.98498,     0.98599,     0.98699,     0.98799,     0.98899,     0.98999,     0.99099,     0.99199,     0.99299,     0.99399,     0.99499,       0.996,       0.997,       0.998,       0.999,           1]), array([[          0,           0,           0, ...,           0,           0,           0],\n",
       "       [          0,           0,           0, ...,           0,           0,           0],\n",
       "       [          0,           0,           0, ...,           0,           0,           0],\n",
       "       ...,\n",
       "       [          0,           0,           0, ...,           0,           0,           0],\n",
       "       [          0,           0,           0, ...,           0,           0,           0],\n",
       "       [          0,           0,           0, ...,           0,           0,           0]], shape=(2611, 1000)), 'Confidence', 'Recall']]\n",
       "fitness: np.float64(0.00042687372974630595)\n",
       "keys: ['metrics/precision(B)', 'metrics/recall(B)', 'metrics/mAP50(B)', 'metrics/mAP50-95(B)']\n",
       "maps: array([          0,           0,           0, ...,           0,           0,           0], shape=(3005,))\n",
       "names: {0: 'sv1-1', 1: 'sv1-2', 2: 'sv1-3', 3: 'sv1-4', 4: 'sv1-5', 5: 'sv1-6', 6: 'sv1-7', 7: 'sv1-8', 8: 'sv1-9', 9: 'sv1-10', 10: 'sv1-11', 11: 'sv1-12', 12: 'sv1-13', 13: 'sv1-14', 14: 'sv1-15', 15: 'sv1-16', 16: 'sv1-17', 17: 'sv1-18', 18: 'sv1-19', 19: 'sv1-20', 20: 'sv1-21', 21: 'sv1-22', 22: 'sv1-23', 23: 'sv1-24', 24: 'sv1-25', 25: 'sv1-26', 26: 'sv1-27', 27: 'sv1-28', 28: 'sv1-29', 29: 'sv1-30', 30: 'sv1-31', 31: 'sv1-32', 32: 'sv1-33', 33: 'sv1-34', 34: 'sv1-35', 35: 'sv1-36', 36: 'sv1-37', 37: 'sv1-38', 38: 'sv1-39', 39: 'sv1-40', 40: 'sv1-41', 41: 'sv1-42', 42: 'sv1-43', 43: 'sv1-44', 44: 'sv1-45', 45: 'sv1-46', 46: 'sv1-47', 47: 'sv1-48', 48: 'sv1-49', 49: 'sv1-50', 50: 'sv1-51', 51: 'sv1-52', 52: 'sv1-53', 53: 'sv1-54', 54: 'sv1-55', 55: 'sv1-56', 56: 'sv1-57', 57: 'sv1-58', 58: 'sv1-59', 59: 'sv1-60', 60: 'sv1-61', 61: 'sv1-62', 62: 'sv1-63', 63: 'sv1-64', 64: 'sv1-65', 65: 'sv1-66', 66: 'sv1-67', 67: 'sv1-68', 68: 'sv1-69', 69: 'sv1-70', 70: 'sv1-71', 71: 'sv1-72', 72: 'sv1-73', 73: 'sv1-74', 74: 'sv1-75', 75: 'sv1-76', 76: 'sv1-77', 77: 'sv1-78', 78: 'sv1-79', 79: 'sv1-80', 80: 'sv1-81', 81: 'sv1-82', 82: 'sv1-83', 83: 'sv1-84', 84: 'sv1-85', 85: 'sv1-86', 86: 'sv1-87', 87: 'sv1-88', 88: 'sv1-89', 89: 'sv1-90', 90: 'sv1-91', 91: 'sv1-92', 92: 'sv1-93', 93: 'sv1-94', 94: 'sv1-95', 95: 'sv1-96', 96: 'sv1-97', 97: 'sv1-98', 98: 'sv1-99', 99: 'sv1-100', 100: 'sv1-101', 101: 'sv1-102', 102: 'sv1-103', 103: 'sv1-104', 104: 'sv1-105', 105: 'sv1-106', 106: 'sv1-107', 107: 'sv1-108', 108: 'sv1-109', 109: 'sv1-110', 110: 'sv1-111', 111: 'sv1-112', 112: 'sv1-113', 113: 'sv1-114', 114: 'sv1-115', 115: 'sv1-116', 116: 'sv1-117', 117: 'sv1-118', 118: 'sv1-119', 119: 'sv1-120', 120: 'sv1-121', 121: 'sv1-122', 122: 'sv1-123', 123: 'sv1-124', 124: 'sv1-125', 125: 'sv1-126', 126: 'sv1-127', 127: 'sv1-128', 128: 'sv1-129', 129: 'sv1-130', 130: 'sv1-131', 131: 'sv1-132', 132: 'sv1-133', 133: 'sv1-134', 134: 'sv1-135', 135: 'sv1-136', 136: 'sv1-137', 137: 'sv1-138', 138: 'sv1-139', 139: 'sv1-140', 140: 'sv1-141', 141: 'sv1-142', 142: 'sv1-143', 143: 'sv1-144', 144: 'sv1-145', 145: 'sv1-146', 146: 'sv1-147', 147: 'sv1-148', 148: 'sv1-149', 149: 'sv1-150', 150: 'sv1-151', 151: 'sv1-152', 152: 'sv1-153', 153: 'sv1-154', 154: 'sv1-155', 155: 'sv1-156', 156: 'sv1-157', 157: 'sv1-158', 158: 'sv1-159', 159: 'sv1-160', 160: 'sv1-161', 161: 'sv1-162', 162: 'sv1-163', 163: 'sv1-164', 164: 'sv1-165', 165: 'sv1-166', 166: 'sv1-167', 167: 'sv1-168', 168: 'sv1-169', 169: 'sv1-170', 170: 'sv1-171', 171: 'sv1-172', 172: 'sv1-173', 173: 'sv1-174', 174: 'sv1-175', 175: 'sv1-176', 176: 'sv1-177', 177: 'sv1-178', 178: 'sv1-179', 179: 'sv1-180', 180: 'sv1-181', 181: 'sv1-182', 182: 'sv1-183', 183: 'sv1-184', 184: 'sv1-185', 185: 'sv1-186', 186: 'sv1-187', 187: 'sv1-188', 188: 'sv1-189', 189: 'sv1-190', 190: 'sv1-191', 191: 'sv1-192', 192: 'sv1-193', 193: 'sv1-194', 194: 'sv1-195', 195: 'sv1-196', 196: 'sv1-197', 197: 'sv1-198', 198: 'sv1-199', 199: 'sv1-200', 200: 'sv1-201', 201: 'sv1-202', 202: 'sv1-203', 203: 'sv1-204', 204: 'sv1-205', 205: 'sv1-206', 206: 'sv1-207', 207: 'sv1-208', 208: 'sv1-209', 209: 'sv1-210', 210: 'sv1-211', 211: 'sv1-212', 212: 'sv1-213', 213: 'sv1-214', 214: 'sv1-215', 215: 'sv1-216', 216: 'sv1-217', 217: 'sv1-218', 218: 'sv1-219', 219: 'sv1-220', 220: 'sv1-221', 221: 'sv1-222', 222: 'sv1-223', 223: 'sv1-224', 224: 'sv1-225', 225: 'sv1-226', 226: 'sv1-227', 227: 'sv1-228', 228: 'sv1-229', 229: 'sv1-230', 230: 'sv1-231', 231: 'sv1-232', 232: 'sv1-233', 233: 'sv1-234', 234: 'sv1-235', 235: 'sv1-236', 236: 'sv1-237', 237: 'sv1-238', 238: 'sv1-239', 239: 'sv1-240', 240: 'sv1-241', 241: 'sv1-242', 242: 'sv1-243', 243: 'sv1-244', 244: 'sv1-245', 245: 'sv1-246', 246: 'sv1-247', 247: 'sv1-248', 248: 'sv1-249', 249: 'sv1-250', 250: 'sv1-251', 251: 'sv1-252', 252: 'sv1-253', 253: 'sv1-254', 254: 'sv1-255', 255: 'sv1-256', 256: 'sv1-257', 257: 'sv1-258', 258: 'sv2-1', 259: 'sv2-2', 260: 'sv2-3', 261: 'sv2-4', 262: 'sv2-5', 263: 'sv2-6', 264: 'sv2-7', 265: 'sv2-8', 266: 'sv2-9', 267: 'sv2-10', 268: 'sv2-11', 269: 'sv2-12', 270: 'sv2-13', 271: 'sv2-14', 272: 'sv2-15', 273: 'sv2-16', 274: 'sv2-17', 275: 'sv2-18', 276: 'sv2-19', 277: 'sv2-20', 278: 'sv2-21', 279: 'sv2-22', 280: 'sv2-23', 281: 'sv2-24', 282: 'sv2-25', 283: 'sv2-26', 284: 'sv2-27', 285: 'sv2-28', 286: 'sv2-29', 287: 'sv2-30', 288: 'sv2-31', 289: 'sv2-32', 290: 'sv2-33', 291: 'sv2-34', 292: 'sv2-35', 293: 'sv2-36', 294: 'sv2-37', 295: 'sv2-38', 296: 'sv2-39', 297: 'sv2-40', 298: 'sv2-41', 299: 'sv2-42', 300: 'sv2-43', 301: 'sv2-44', 302: 'sv2-45', 303: 'sv2-46', 304: 'sv2-47', 305: 'sv2-48', 306: 'sv2-49', 307: 'sv2-50', 308: 'sv2-51', 309: 'sv2-52', 310: 'sv2-53', 311: 'sv2-54', 312: 'sv2-55', 313: 'sv2-56', 314: 'sv2-57', 315: 'sv2-58', 316: 'sv2-59', 317: 'sv2-60', 318: 'sv2-61', 319: 'sv2-62', 320: 'sv2-63', 321: 'sv2-64', 322: 'sv2-65', 323: 'sv2-66', 324: 'sv2-67', 325: 'sv2-68', 326: 'sv2-69', 327: 'sv2-70', 328: 'sv2-71', 329: 'sv2-72', 330: 'sv2-73', 331: 'sv2-74', 332: 'sv2-75', 333: 'sv2-76', 334: 'sv2-77', 335: 'sv2-78', 336: 'sv2-79', 337: 'sv2-80', 338: 'sv2-81', 339: 'sv2-82', 340: 'sv2-83', 341: 'sv2-84', 342: 'sv2-85', 343: 'sv2-86', 344: 'sv2-87', 345: 'sv2-88', 346: 'sv2-89', 347: 'sv2-90', 348: 'sv2-91', 349: 'sv2-92', 350: 'sv2-93', 351: 'sv2-94', 352: 'sv2-95', 353: 'sv2-96', 354: 'sv2-97', 355: 'sv2-98', 356: 'sv2-99', 357: 'sv2-100', 358: 'sv2-101', 359: 'sv2-102', 360: 'sv2-103', 361: 'sv2-104', 362: 'sv2-105', 363: 'sv2-106', 364: 'sv2-107', 365: 'sv2-108', 366: 'sv2-109', 367: 'sv2-110', 368: 'sv2-111', 369: 'sv2-112', 370: 'sv2-113', 371: 'sv2-114', 372: 'sv2-115', 373: 'sv2-116', 374: 'sv2-117', 375: 'sv2-118', 376: 'sv2-119', 377: 'sv2-120', 378: 'sv2-121', 379: 'sv2-122', 380: 'sv2-123', 381: 'sv2-124', 382: 'sv2-125', 383: 'sv2-126', 384: 'sv2-127', 385: 'sv2-128', 386: 'sv2-129', 387: 'sv2-130', 388: 'sv2-131', 389: 'sv2-132', 390: 'sv2-133', 391: 'sv2-134', 392: 'sv2-135', 393: 'sv2-136', 394: 'sv2-137', 395: 'sv2-138', 396: 'sv2-139', 397: 'sv2-140', 398: 'sv2-141', 399: 'sv2-142', 400: 'sv2-143', 401: 'sv2-144', 402: 'sv2-145', 403: 'sv2-146', 404: 'sv2-147', 405: 'sv2-148', 406: 'sv2-149', 407: 'sv2-150', 408: 'sv2-151', 409: 'sv2-152', 410: 'sv2-153', 411: 'sv2-154', 412: 'sv2-155', 413: 'sv2-156', 414: 'sv2-157', 415: 'sv2-158', 416: 'sv2-159', 417: 'sv2-160', 418: 'sv2-161', 419: 'sv2-162', 420: 'sv2-163', 421: 'sv2-164', 422: 'sv2-165', 423: 'sv2-166', 424: 'sv2-167', 425: 'sv2-168', 426: 'sv2-169', 427: 'sv2-170', 428: 'sv2-171', 429: 'sv2-172', 430: 'sv2-173', 431: 'sv2-174', 432: 'sv2-175', 433: 'sv2-176', 434: 'sv2-177', 435: 'sv2-178', 436: 'sv2-179', 437: 'sv2-180', 438: 'sv2-181', 439: 'sv2-182', 440: 'sv2-183', 441: 'sv2-184', 442: 'sv2-185', 443: 'sv2-186', 444: 'sv2-187', 445: 'sv2-188', 446: 'sv2-189', 447: 'sv2-190', 448: 'sv2-191', 449: 'sv2-192', 450: 'sv2-193', 451: 'sv2-194', 452: 'sv2-195', 453: 'sv2-196', 454: 'sv2-197', 455: 'sv2-198', 456: 'sv2-199', 457: 'sv2-200', 458: 'sv2-201', 459: 'sv2-202', 460: 'sv2-203', 461: 'sv2-204', 462: 'sv2-205', 463: 'sv2-206', 464: 'sv2-207', 465: 'sv2-208', 466: 'sv2-209', 467: 'sv2-210', 468: 'sv2-211', 469: 'sv2-212', 470: 'sv2-213', 471: 'sv2-214', 472: 'sv2-215', 473: 'sv2-216', 474: 'sv2-217', 475: 'sv2-218', 476: 'sv2-219', 477: 'sv2-220', 478: 'sv2-221', 479: 'sv2-222', 480: 'sv2-223', 481: 'sv2-224', 482: 'sv2-225', 483: 'sv2-226', 484: 'sv2-227', 485: 'sv2-228', 486: 'sv2-229', 487: 'sv2-230', 488: 'sv2-231', 489: 'sv2-232', 490: 'sv2-233', 491: 'sv2-234', 492: 'sv2-235', 493: 'sv2-236', 494: 'sv2-237', 495: 'sv2-238', 496: 'sv2-239', 497: 'sv2-240', 498: 'sv2-241', 499: 'sv2-242', 500: 'sv2-243', 501: 'sv2-244', 502: 'sv2-245', 503: 'sv2-246', 504: 'sv2-247', 505: 'sv2-248', 506: 'sv2-249', 507: 'sv2-250', 508: 'sv2-251', 509: 'sv2-252', 510: 'sv2-253', 511: 'sv2-254', 512: 'sv2-255', 513: 'sv2-256', 514: 'sv2-257', 515: 'sv2-258', 516: 'sv2-259', 517: 'sv2-260', 518: 'sv2-261', 519: 'sv2-262', 520: 'sv2-263', 521: 'sv2-264', 522: 'sv2-265', 523: 'sv2-266', 524: 'sv2-267', 525: 'sv2-268', 526: 'sv2-269', 527: 'sv2-270', 528: 'sv2-271', 529: 'sv2-272', 530: 'sv2-273', 531: 'sv2-274', 532: 'sv2-275', 533: 'sv2-276', 534: 'sv2-277', 535: 'sv2-278', 536: 'sv2-279', 537: 'sv3-1', 538: 'sv3-2', 539: 'sv3-3', 540: 'sv3-4', 541: 'sv3-5', 542: 'sv3-6', 543: 'sv3-7', 544: 'sv3-8', 545: 'sv3-9', 546: 'sv3-10', 547: 'sv3-11', 548: 'sv3-12', 549: 'sv3-13', 550: 'sv3-14', 551: 'sv3-15', 552: 'sv3-16', 553: 'sv3-17', 554: 'sv3-18', 555: 'sv3-19', 556: 'sv3-20', 557: 'sv3-21', 558: 'sv3-22', 559: 'sv3-23', 560: 'sv3-24', 561: 'sv3-25', 562: 'sv3-26', 563: 'sv3-27', 564: 'sv3-28', 565: 'sv3-29', 566: 'sv3-30', 567: 'sv3-31', 568: 'sv3-32', 569: 'sv3-33', 570: 'sv3-34', 571: 'sv3-35', 572: 'sv3-36', 573: 'sv3-37', 574: 'sv3-38', 575: 'sv3-39', 576: 'sv3-40', 577: 'sv3-41', 578: 'sv3-42', 579: 'sv3-43', 580: 'sv3-44', 581: 'sv3-45', 582: 'sv3-46', 583: 'sv3-47', 584: 'sv3-48', 585: 'sv3-49', 586: 'sv3-50', 587: 'sv3-51', 588: 'sv3-52', 589: 'sv3-53', 590: 'sv3-54', 591: 'sv3-55', 592: 'sv3-56', 593: 'sv3-57', 594: 'sv3-58', 595: 'sv3-59', 596: 'sv3-60', 597: 'sv3-61', 598: 'sv3-62', 599: 'sv3-63', 600: 'sv3-64', 601: 'sv3-65', 602: 'sv3-66', 603: 'sv3-67', 604: 'sv3-68', 605: 'sv3-69', 606: 'sv3-70', 607: 'sv3-71', 608: 'sv3-72', 609: 'sv3-73', 610: 'sv3-74', 611: 'sv3-75', 612: 'sv3-76', 613: 'sv3-77', 614: 'sv3-78', 615: 'sv3-79', 616: 'sv3-80', 617: 'sv3-81', 618: 'sv3-82', 619: 'sv3-83', 620: 'sv3-84', 621: 'sv3-85', 622: 'sv3-86', 623: 'sv3-87', 624: 'sv3-88', 625: 'sv3-89', 626: 'sv3-90', 627: 'sv3-91', 628: 'sv3-92', 629: 'sv3-93', 630: 'sv3-94', 631: 'sv3-95', 632: 'sv3-96', 633: 'sv3-97', 634: 'sv3-98', 635: 'sv3-99', 636: 'sv3-100', 637: 'sv3-101', 638: 'sv3-102', 639: 'sv3-103', 640: 'sv3-104', 641: 'sv3-105', 642: 'sv3-106', 643: 'sv3-107', 644: 'sv3-108', 645: 'sv3-109', 646: 'sv3-110', 647: 'sv3-111', 648: 'sv3-112', 649: 'sv3-113', 650: 'sv3-114', 651: 'sv3-115', 652: 'sv3-116', 653: 'sv3-117', 654: 'sv3-118', 655: 'sv3-119', 656: 'sv3-120', 657: 'sv3-121', 658: 'sv3-122', 659: 'sv3-123', 660: 'sv3-124', 661: 'sv3-125', 662: 'sv3-126', 663: 'sv3-127', 664: 'sv3-128', 665: 'sv3-129', 666: 'sv3-130', 667: 'sv3-131', 668: 'sv3-132', 669: 'sv3-133', 670: 'sv3-134', 671: 'sv3-135', 672: 'sv3-136', 673: 'sv3-137', 674: 'sv3-138', 675: 'sv3-139', 676: 'sv3-140', 677: 'sv3-141', 678: 'sv3-142', 679: 'sv3-143', 680: 'sv3-144', 681: 'sv3-145', 682: 'sv3-146', 683: 'sv3-147', 684: 'sv3-148', 685: 'sv3-149', 686: 'sv3-150', 687: 'sv3-151', 688: 'sv3-152', 689: 'sv3-153', 690: 'sv3-154', 691: 'sv3-155', 692: 'sv3-156', 693: 'sv3-157', 694: 'sv3-158', 695: 'sv3-159', 696: 'sv3-160', 697: 'sv3-161', 698: 'sv3-162', 699: 'sv3-163', 700: 'sv3-164', 701: 'sv3-165', 702: 'sv3-166', 703: 'sv3-167', 704: 'sv3-168', 705: 'sv3-169', 706: 'sv3-170', 707: 'sv3-171', 708: 'sv3-172', 709: 'sv3-173', 710: 'sv3-174', 711: 'sv3-175', 712: 'sv3-176', 713: 'sv3-177', 714: 'sv3-178', 715: 'sv3-179', 716: 'sv3-180', 717: 'sv3-181', 718: 'sv3-182', 719: 'sv3-183', 720: 'sv3-184', 721: 'sv3-185', 722: 'sv3-186', 723: 'sv3-187', 724: 'sv3-188', 725: 'sv3-189', 726: 'sv3-190', 727: 'sv3-191', 728: 'sv3-192', 729: 'sv3-193', 730: 'sv3-194', 731: 'sv3-195', 732: 'sv3-196', 733: 'sv3-197', 734: 'sv3-198', 735: 'sv3-199', 736: 'sv3-200', 737: 'sv3-201', 738: 'sv3-202', 739: 'sv3-203', 740: 'sv3-204', 741: 'sv3-205', 742: 'sv3-206', 743: 'sv3-207', 744: 'sv3-208', 745: 'sv3-209', 746: 'sv3-210', 747: 'sv3-211', 748: 'sv3-212', 749: 'sv3-213', 750: 'sv3-214', 751: 'sv3-215', 752: 'sv3-216', 753: 'sv3-217', 754: 'sv3-218', 755: 'sv3-219', 756: 'sv3-220', 757: 'sv3-221', 758: 'sv3-222', 759: 'sv3-223', 760: 'sv3-224', 761: 'sv3-225', 762: 'sv3-226', 763: 'sv3-227', 764: 'sv3-228', 765: 'sv3-229', 766: 'sv3-230', 767: 'sv3pt5-1', 768: 'sv3pt5-2', 769: 'sv3pt5-3', 770: 'sv3pt5-4', 771: 'sv3pt5-5', 772: 'sv3pt5-6', 773: 'sv3pt5-7', 774: 'sv3pt5-8', 775: 'sv3pt5-9', 776: 'sv3pt5-10', 777: 'sv3pt5-11', 778: 'sv3pt5-12', 779: 'sv3pt5-13', 780: 'sv3pt5-14', 781: 'sv3pt5-15', 782: 'sv3pt5-16', 783: 'sv3pt5-17', 784: 'sv3pt5-18', 785: 'sv3pt5-19', 786: 'sv3pt5-20', 787: 'sv3pt5-21', 788: 'sv3pt5-22', 789: 'sv3pt5-23', 790: 'sv3pt5-24', 791: 'sv3pt5-25', 792: 'sv3pt5-26', 793: 'sv3pt5-27', 794: 'sv3pt5-28', 795: 'sv3pt5-29', 796: 'sv3pt5-30', 797: 'sv3pt5-31', 798: 'sv3pt5-32', 799: 'sv3pt5-33', 800: 'sv3pt5-34', 801: 'sv3pt5-35', 802: 'sv3pt5-36', 803: 'sv3pt5-37', 804: 'sv3pt5-38', 805: 'sv3pt5-39', 806: 'sv3pt5-40', 807: 'sv3pt5-41', 808: 'sv3pt5-42', 809: 'sv3pt5-43', 810: 'sv3pt5-44', 811: 'sv3pt5-45', 812: 'sv3pt5-46', 813: 'sv3pt5-47', 814: 'sv3pt5-48', 815: 'sv3pt5-49', 816: 'sv3pt5-50', 817: 'sv3pt5-51', 818: 'sv3pt5-52', 819: 'sv3pt5-53', 820: 'sv3pt5-54', 821: 'sv3pt5-55', 822: 'sv3pt5-56', 823: 'sv3pt5-57', 824: 'sv3pt5-58', 825: 'sv3pt5-59', 826: 'sv3pt5-60', 827: 'sv3pt5-61', 828: 'sv3pt5-62', 829: 'sv3pt5-63', 830: 'sv3pt5-64', 831: 'sv3pt5-65', 832: 'sv3pt5-66', 833: 'sv3pt5-67', 834: 'sv3pt5-68', 835: 'sv3pt5-69', 836: 'sv3pt5-70', 837: 'sv3pt5-71', 838: 'sv3pt5-72', 839: 'sv3pt5-73', 840: 'sv3pt5-74', 841: 'sv3pt5-75', 842: 'sv3pt5-76', 843: 'sv3pt5-77', 844: 'sv3pt5-78', 845: 'sv3pt5-79', 846: 'sv3pt5-80', 847: 'sv3pt5-81', 848: 'sv3pt5-82', 849: 'sv3pt5-83', 850: 'sv3pt5-84', 851: 'sv3pt5-85', 852: 'sv3pt5-86', 853: 'sv3pt5-87', 854: 'sv3pt5-88', 855: 'sv3pt5-89', 856: 'sv3pt5-90', 857: 'sv3pt5-91', 858: 'sv3pt5-92', 859: 'sv3pt5-93', 860: 'sv3pt5-94', 861: 'sv3pt5-95', 862: 'sv3pt5-96', 863: 'sv3pt5-97', 864: 'sv3pt5-98', 865: 'sv3pt5-99', 866: 'sv3pt5-100', 867: 'sv3pt5-101', 868: 'sv3pt5-102', 869: 'sv3pt5-103', 870: 'sv3pt5-104', 871: 'sv3pt5-105', 872: 'sv3pt5-106', 873: 'sv3pt5-107', 874: 'sv3pt5-108', 875: 'sv3pt5-109', 876: 'sv3pt5-110', 877: 'sv3pt5-111', 878: 'sv3pt5-112', 879: 'sv3pt5-113', 880: 'sv3pt5-114', 881: 'sv3pt5-115', 882: 'sv3pt5-116', 883: 'sv3pt5-117', 884: 'sv3pt5-118', 885: 'sv3pt5-119', 886: 'sv3pt5-120', 887: 'sv3pt5-121', 888: 'sv3pt5-122', 889: 'sv3pt5-123', 890: 'sv3pt5-124', 891: 'sv3pt5-125', 892: 'sv3pt5-126', 893: 'sv3pt5-127', 894: 'sv3pt5-128', 895: 'sv3pt5-129', 896: 'sv3pt5-130', 897: 'sv3pt5-131', 898: 'sv3pt5-132', 899: 'sv3pt5-133', 900: 'sv3pt5-134', 901: 'sv3pt5-135', 902: 'sv3pt5-136', 903: 'sv3pt5-137', 904: 'sv3pt5-138', 905: 'sv3pt5-139', 906: 'sv3pt5-140', 907: 'sv3pt5-141', 908: 'sv3pt5-142', 909: 'sv3pt5-143', 910: 'sv3pt5-144', 911: 'sv3pt5-145', 912: 'sv3pt5-146', 913: 'sv3pt5-147', 914: 'sv3pt5-148', 915: 'sv3pt5-149', 916: 'sv3pt5-150', 917: 'sv3pt5-151', 918: 'sv3pt5-152', 919: 'sv3pt5-153', 920: 'sv3pt5-154', 921: 'sv3pt5-155', 922: 'sv3pt5-156', 923: 'sv3pt5-157', 924: 'sv3pt5-158', 925: 'sv3pt5-159', 926: 'sv3pt5-160', 927: 'sv3pt5-161', 928: 'sv3pt5-162', 929: 'sv3pt5-163', 930: 'sv3pt5-164', 931: 'sv3pt5-165', 932: 'sv3pt5-166', 933: 'sv3pt5-167', 934: 'sv3pt5-168', 935: 'sv3pt5-169', 936: 'sv3pt5-170', 937: 'sv3pt5-171', 938: 'sv3pt5-172', 939: 'sv3pt5-173', 940: 'sv3pt5-174', 941: 'sv3pt5-175', 942: 'sv3pt5-176', 943: 'sv3pt5-177', 944: 'sv3pt5-178', 945: 'sv3pt5-179', 946: 'sv3pt5-180', 947: 'sv3pt5-181', 948: 'sv3pt5-182', 949: 'sv3pt5-183', 950: 'sv3pt5-184', 951: 'sv3pt5-185', 952: 'sv3pt5-186', 953: 'sv3pt5-187', 954: 'sv3pt5-188', 955: 'sv3pt5-189', 956: 'sv3pt5-190', 957: 'sv3pt5-191', 958: 'sv3pt5-192', 959: 'sv3pt5-193', 960: 'sv3pt5-194', 961: 'sv3pt5-195', 962: 'sv3pt5-196', 963: 'sv3pt5-197', 964: 'sv3pt5-198', 965: 'sv3pt5-199', 966: 'sv3pt5-200', 967: 'sv3pt5-201', 968: 'sv3pt5-202', 969: 'sv3pt5-203', 970: 'sv3pt5-204', 971: 'sv3pt5-205', 972: 'sv3pt5-206', 973: 'sv3pt5-207', 974: 'sv4-1', 975: 'sv4-2', 976: 'sv4-3', 977: 'sv4-4', 978: 'sv4-5', 979: 'sv4-6', 980: 'sv4-7', 981: 'sv4-8', 982: 'sv4-9', 983: 'sv4-10', 984: 'sv4-11', 985: 'sv4-12', 986: 'sv4-13', 987: 'sv4-14', 988: 'sv4-15', 989: 'sv4-16', 990: 'sv4-17', 991: 'sv4-18', 992: 'sv4-19', 993: 'sv4-20', 994: 'sv4-21', 995: 'sv4-22', 996: 'sv4-23', 997: 'sv4-24', 998: 'sv4-25', 999: 'sv4-26', 1000: 'sv4-27', 1001: 'sv4-28', 1002: 'sv4-29', 1003: 'sv4-30', 1004: 'sv4-31', 1005: 'sv4-32', 1006: 'sv4-33', 1007: 'sv4-34', 1008: 'sv4-35', 1009: 'sv4-36', 1010: 'sv4-37', 1011: 'sv4-38', 1012: 'sv4-39', 1013: 'sv4-40', 1014: 'sv4-41', 1015: 'sv4-42', 1016: 'sv4-43', 1017: 'sv4-44', 1018: 'sv4-45', 1019: 'sv4-46', 1020: 'sv4-47', 1021: 'sv4-48', 1022: 'sv4-49', 1023: 'sv4-50', 1024: 'sv4-51', 1025: 'sv4-52', 1026: 'sv4-53', 1027: 'sv4-54', 1028: 'sv4-55', 1029: 'sv4-56', 1030: 'sv4-57', 1031: 'sv4-58', 1032: 'sv4-59', 1033: 'sv4-60', 1034: 'sv4-61', 1035: 'sv4-62', 1036: 'sv4-63', 1037: 'sv4-64', 1038: 'sv4-65', 1039: 'sv4-66', 1040: 'sv4-67', 1041: 'sv4-68', 1042: 'sv4-69', 1043: 'sv4-70', 1044: 'sv4-71', 1045: 'sv4-72', 1046: 'sv4-73', 1047: 'sv4-74', 1048: 'sv4-75', 1049: 'sv4-76', 1050: 'sv4-77', 1051: 'sv4-78', 1052: 'sv4-79', 1053: 'sv4-80', 1054: 'sv4-81', 1055: 'sv4-82', 1056: 'sv4-83', 1057: 'sv4-84', 1058: 'sv4-85', 1059: 'sv4-86', 1060: 'sv4-87', 1061: 'sv4-88', 1062: 'sv4-89', 1063: 'sv4-90', 1064: 'sv4-91', 1065: 'sv4-92', 1066: 'sv4-93', 1067: 'sv4-94', 1068: 'sv4-95', 1069: 'sv4-96', 1070: 'sv4-97', 1071: 'sv4-98', 1072: 'sv4-99', 1073: 'sv4-100', 1074: 'sv4-101', 1075: 'sv4-102', 1076: 'sv4-103', 1077: 'sv4-104', 1078: 'sv4-105', 1079: 'sv4-106', 1080: 'sv4-107', 1081: 'sv4-108', 1082: 'sv4-109', 1083: 'sv4-110', 1084: 'sv4-111', 1085: 'sv4-112', 1086: 'sv4-113', 1087: 'sv4-114', 1088: 'sv4-115', 1089: 'sv4-116', 1090: 'sv4-117', 1091: 'sv4-118', 1092: 'sv4-119', 1093: 'sv4-120', 1094: 'sv4-121', 1095: 'sv4-122', 1096: 'sv4-123', 1097: 'sv4-124', 1098: 'sv4-125', 1099: 'sv4-126', 1100: 'sv4-127', 1101: 'sv4-128', 1102: 'sv4-129', 1103: 'sv4-130', 1104: 'sv4-131', 1105: 'sv4-132', 1106: 'sv4-133', 1107: 'sv4-134', 1108: 'sv4-135', 1109: 'sv4-136', 1110: 'sv4-137', 1111: 'sv4-138', 1112: 'sv4-139', 1113: 'sv4-140', 1114: 'sv4-141', 1115: 'sv4-142', 1116: 'sv4-143', 1117: 'sv4-144', 1118: 'sv4-145', 1119: 'sv4-146', 1120: 'sv4-147', 1121: 'sv4-148', 1122: 'sv4-149', 1123: 'sv4-150', 1124: 'sv4-151', 1125: 'sv4-152', 1126: 'sv4-153', 1127: 'sv4-154', 1128: 'sv4-155', 1129: 'sv4-156', 1130: 'sv4-157', 1131: 'sv4-158', 1132: 'sv4-159', 1133: 'sv4-160', 1134: 'sv4-161', 1135: 'sv4-162', 1136: 'sv4-163', 1137: 'sv4-164', 1138: 'sv4-165', 1139: 'sv4-166', 1140: 'sv4-167', 1141: 'sv4-168', 1142: 'sv4-169', 1143: 'sv4-170', 1144: 'sv4-171', 1145: 'sv4-172', 1146: 'sv4-173', 1147: 'sv4-174', 1148: 'sv4-175', 1149: 'sv4-176', 1150: 'sv4-177', 1151: 'sv4-178', 1152: 'sv4-179', 1153: 'sv4-180', 1154: 'sv4-181', 1155: 'sv4-182', 1156: 'sv4-183', 1157: 'sv4-184', 1158: 'sv4-185', 1159: 'sv4-186', 1160: 'sv4-187', 1161: 'sv4-188', 1162: 'sv4-189', 1163: 'sv4-190', 1164: 'sv4-191', 1165: 'sv4-192', 1166: 'sv4-193', 1167: 'sv4-194', 1168: 'sv4-195', 1169: 'sv4-196', 1170: 'sv4-197', 1171: 'sv4-198', 1172: 'sv4-199', 1173: 'sv4-200', 1174: 'sv4-201', 1175: 'sv4-202', 1176: 'sv4-203', 1177: 'sv4-204', 1178: 'sv4-205', 1179: 'sv4-206', 1180: 'sv4-207', 1181: 'sv4-208', 1182: 'sv4-209', 1183: 'sv4-210', 1184: 'sv4-211', 1185: 'sv4-212', 1186: 'sv4-213', 1187: 'sv4-214', 1188: 'sv4-215', 1189: 'sv4-216', 1190: 'sv4-217', 1191: 'sv4-218', 1192: 'sv4-219', 1193: 'sv4-220', 1194: 'sv4-221', 1195: 'sv4-222', 1196: 'sv4-223', 1197: 'sv4-224', 1198: 'sv4-225', 1199: 'sv4-226', 1200: 'sv4-227', 1201: 'sv4-228', 1202: 'sv4-229', 1203: 'sv4-230', 1204: 'sv4-231', 1205: 'sv4-232', 1206: 'sv4-233', 1207: 'sv4-234', 1208: 'sv4-235', 1209: 'sv4-236', 1210: 'sv4-237', 1211: 'sv4-238', 1212: 'sv4-239', 1213: 'sv4-240', 1214: 'sv4-241', 1215: 'sv4-242', 1216: 'sv4-243', 1217: 'sv4-244', 1218: 'sv4-245', 1219: 'sv4-246', 1220: 'sv4-247', 1221: 'sv4-248', 1222: 'sv4-249', 1223: 'sv4-250', 1224: 'sv4-251', 1225: 'sv4-252', 1226: 'sv4-253', 1227: 'sv4-254', 1228: 'sv4-255', 1229: 'sv4-256', 1230: 'sv4-257', 1231: 'sv4-258', 1232: 'sv4-259', 1233: 'sv4-260', 1234: 'sv4-261', 1235: 'sv4-262', 1236: 'sv4-263', 1237: 'sv4-264', 1238: 'sv4-265', 1239: 'sv4-266', 1240: 'sv4pt5-1', 1241: 'sv4pt5-2', 1242: 'sv4pt5-3', 1243: 'sv4pt5-4', 1244: 'sv4pt5-5', 1245: 'sv4pt5-6', 1246: 'sv4pt5-7', 1247: 'sv4pt5-8', 1248: 'sv4pt5-9', 1249: 'sv4pt5-10', 1250: 'sv4pt5-11', 1251: 'sv4pt5-12', 1252: 'sv4pt5-13', 1253: 'sv4pt5-14', 1254: 'sv4pt5-15', 1255: 'sv4pt5-16', 1256: 'sv4pt5-17', 1257: 'sv4pt5-18', 1258: 'sv4pt5-19', 1259: 'sv4pt5-20', 1260: 'sv4pt5-21', 1261: 'sv4pt5-22', 1262: 'sv4pt5-23', 1263: 'sv4pt5-24', 1264: 'sv4pt5-25', 1265: 'sv4pt5-26', 1266: 'sv4pt5-27', 1267: 'sv4pt5-28', 1268: 'sv4pt5-29', 1269: 'sv4pt5-30', 1270: 'sv4pt5-31', 1271: 'sv4pt5-32', 1272: 'sv4pt5-33', 1273: 'sv4pt5-34', 1274: 'sv4pt5-35', 1275: 'sv4pt5-36', 1276: 'sv4pt5-37', 1277: 'sv4pt5-38', 1278: 'sv4pt5-39', 1279: 'sv4pt5-40', 1280: 'sv4pt5-41', 1281: 'sv4pt5-42', 1282: 'sv4pt5-43', 1283: 'sv4pt5-44', 1284: 'sv4pt5-45', 1285: 'sv4pt5-46', 1286: 'sv4pt5-47', 1287: 'sv4pt5-48', 1288: 'sv4pt5-49', 1289: 'sv4pt5-50', 1290: 'sv4pt5-51', 1291: 'sv4pt5-52', 1292: 'sv4pt5-53', 1293: 'sv4pt5-54', 1294: 'sv4pt5-55', 1295: 'sv4pt5-56', 1296: 'sv4pt5-57', 1297: 'sv4pt5-58', 1298: 'sv4pt5-59', 1299: 'sv4pt5-60', 1300: 'sv4pt5-61', 1301: 'sv4pt5-62', 1302: 'sv4pt5-63', 1303: 'sv4pt5-64', 1304: 'sv4pt5-65', 1305: 'sv4pt5-66', 1306: 'sv4pt5-67', 1307: 'sv4pt5-68', 1308: 'sv4pt5-69', 1309: 'sv4pt5-70', 1310: 'sv4pt5-71', 1311: 'sv4pt5-72', 1312: 'sv4pt5-73', 1313: 'sv4pt5-74', 1314: 'sv4pt5-75', 1315: 'sv4pt5-76', 1316: 'sv4pt5-77', 1317: 'sv4pt5-78', 1318: 'sv4pt5-79', 1319: 'sv4pt5-80', 1320: 'sv4pt5-81', 1321: 'sv4pt5-82', 1322: 'sv4pt5-83', 1323: 'sv4pt5-84', 1324: 'sv4pt5-85', 1325: 'sv4pt5-86', 1326: 'sv4pt5-87', 1327: 'sv4pt5-88', 1328: 'sv4pt5-89', 1329: 'sv4pt5-90', 1330: 'sv4pt5-91', 1331: 'sv4pt5-92', 1332: 'sv4pt5-93', 1333: 'sv4pt5-94', 1334: 'sv4pt5-95', 1335: 'sv4pt5-96', 1336: 'sv4pt5-97', 1337: 'sv4pt5-98', 1338: 'sv4pt5-99', 1339: 'sv4pt5-100', 1340: 'sv4pt5-101', 1341: 'sv4pt5-102', 1342: 'sv4pt5-103', 1343: 'sv4pt5-104', 1344: 'sv4pt5-105', 1345: 'sv4pt5-106', 1346: 'sv4pt5-107', 1347: 'sv4pt5-108', 1348: 'sv4pt5-109', 1349: 'sv4pt5-110', 1350: 'sv4pt5-111', 1351: 'sv4pt5-112', 1352: 'sv4pt5-113', 1353: 'sv4pt5-114', 1354: 'sv4pt5-115', 1355: 'sv4pt5-116', 1356: 'sv4pt5-117', 1357: 'sv4pt5-118', 1358: 'sv4pt5-119', 1359: 'sv4pt5-120', 1360: 'sv4pt5-121', 1361: 'sv4pt5-122', 1362: 'sv4pt5-123', 1363: 'sv4pt5-124', 1364: 'sv4pt5-125', 1365: 'sv4pt5-126', 1366: 'sv4pt5-127', 1367: 'sv4pt5-128', 1368: 'sv4pt5-129', 1369: 'sv4pt5-130', 1370: 'sv4pt5-131', 1371: 'sv4pt5-132', 1372: 'sv4pt5-133', 1373: 'sv4pt5-134', 1374: 'sv4pt5-135', 1375: 'sv4pt5-136', 1376: 'sv4pt5-137', 1377: 'sv4pt5-138', 1378: 'sv4pt5-139', 1379: 'sv4pt5-140', 1380: 'sv4pt5-141', 1381: 'sv4pt5-142', 1382: 'sv4pt5-143', 1383: 'sv4pt5-144', 1384: 'sv4pt5-145', 1385: 'sv4pt5-146', 1386: 'sv4pt5-147', 1387: 'sv4pt5-148', 1388: 'sv4pt5-149', 1389: 'sv4pt5-150', 1390: 'sv4pt5-151', 1391: 'sv4pt5-152', 1392: 'sv4pt5-153', 1393: 'sv4pt5-154', 1394: 'sv4pt5-155', 1395: 'sv4pt5-156', 1396: 'sv4pt5-157', 1397: 'sv4pt5-158', 1398: 'sv4pt5-159', 1399: 'sv4pt5-160', 1400: 'sv4pt5-161', 1401: 'sv4pt5-162', 1402: 'sv4pt5-163', 1403: 'sv4pt5-164', 1404: 'sv4pt5-165', 1405: 'sv4pt5-166', 1406: 'sv4pt5-167', 1407: 'sv4pt5-168', 1408: 'sv4pt5-169', 1409: 'sv4pt5-170', 1410: 'sv4pt5-171', 1411: 'sv4pt5-172', 1412: 'sv4pt5-173', 1413: 'sv4pt5-174', 1414: 'sv4pt5-175', 1415: 'sv4pt5-176', 1416: 'sv4pt5-177', 1417: 'sv4pt5-178', 1418: 'sv4pt5-179', 1419: 'sv4pt5-180', 1420: 'sv4pt5-181', 1421: 'sv4pt5-182', 1422: 'sv4pt5-183', 1423: 'sv4pt5-184', 1424: 'sv4pt5-185', 1425: 'sv4pt5-186', 1426: 'sv4pt5-187', 1427: 'sv4pt5-188', 1428: 'sv4pt5-189', 1429: 'sv4pt5-190', 1430: 'sv4pt5-191', 1431: 'sv4pt5-192', 1432: 'sv4pt5-193', 1433: 'sv4pt5-194', 1434: 'sv4pt5-195', 1435: 'sv4pt5-196', 1436: 'sv4pt5-197', 1437: 'sv4pt5-198', 1438: 'sv4pt5-199', 1439: 'sv4pt5-200', 1440: 'sv4pt5-201', 1441: 'sv4pt5-202', 1442: 'sv4pt5-203', 1443: 'sv4pt5-204', 1444: 'sv4pt5-205', 1445: 'sv4pt5-206', 1446: 'sv4pt5-207', 1447: 'sv4pt5-208', 1448: 'sv4pt5-209', 1449: 'sv4pt5-210', 1450: 'sv4pt5-211', 1451: 'sv4pt5-212', 1452: 'sv4pt5-213', 1453: 'sv4pt5-214', 1454: 'sv4pt5-215', 1455: 'sv4pt5-216', 1456: 'sv4pt5-217', 1457: 'sv4pt5-218', 1458: 'sv4pt5-219', 1459: 'sv4pt5-220', 1460: 'sv4pt5-221', 1461: 'sv4pt5-222', 1462: 'sv4pt5-223', 1463: 'sv4pt5-224', 1464: 'sv4pt5-225', 1465: 'sv4pt5-226', 1466: 'sv4pt5-227', 1467: 'sv4pt5-228', 1468: 'sv4pt5-229', 1469: 'sv4pt5-230', 1470: 'sv4pt5-231', 1471: 'sv4pt5-232', 1472: 'sv4pt5-233', 1473: 'sv4pt5-234', 1474: 'sv4pt5-235', 1475: 'sv4pt5-236', 1476: 'sv4pt5-237', 1477: 'sv4pt5-238', 1478: 'sv4pt5-239', 1479: 'sv4pt5-240', 1480: 'sv4pt5-241', 1481: 'sv4pt5-242', 1482: 'sv4pt5-243', 1483: 'sv4pt5-244', 1484: 'sv4pt5-245', 1485: 'sv5-1', 1486: 'sv5-2', 1487: 'sv5-3', 1488: 'sv5-4', 1489: 'sv5-5', 1490: 'sv5-6', 1491: 'sv5-7', 1492: 'sv5-8', 1493: 'sv5-9', 1494: 'sv5-10', 1495: 'sv5-11', 1496: 'sv5-12', 1497: 'sv5-13', 1498: 'sv5-14', 1499: 'sv5-15', 1500: 'sv5-16', 1501: 'sv5-17', 1502: 'sv5-18', 1503: 'sv5-19', 1504: 'sv5-20', 1505: 'sv5-21', 1506: 'sv5-22', 1507: 'sv5-23', 1508: 'sv5-24', 1509: 'sv5-25', 1510: 'sv5-26', 1511: 'sv5-27', 1512: 'sv5-28', 1513: 'sv5-29', 1514: 'sv5-30', 1515: 'sv5-31', 1516: 'sv5-32', 1517: 'sv5-33', 1518: 'sv5-34', 1519: 'sv5-35', 1520: 'sv5-36', 1521: 'sv5-37', 1522: 'sv5-38', 1523: 'sv5-39', 1524: 'sv5-40', 1525: 'sv5-41', 1526: 'sv5-42', 1527: 'sv5-43', 1528: 'sv5-44', 1529: 'sv5-45', 1530: 'sv5-46', 1531: 'sv5-47', 1532: 'sv5-48', 1533: 'sv5-49', 1534: 'sv5-50', 1535: 'sv5-51', 1536: 'sv5-52', 1537: 'sv5-53', 1538: 'sv5-54', 1539: 'sv5-55', 1540: 'sv5-56', 1541: 'sv5-57', 1542: 'sv5-58', 1543: 'sv5-59', 1544: 'sv5-60', 1545: 'sv5-61', 1546: 'sv5-62', 1547: 'sv5-63', 1548: 'sv5-64', 1549: 'sv5-65', 1550: 'sv5-66', 1551: 'sv5-67', 1552: 'sv5-68', 1553: 'sv5-69', 1554: 'sv5-70', 1555: 'sv5-71', 1556: 'sv5-72', 1557: 'sv5-73', 1558: 'sv5-74', 1559: 'sv5-75', 1560: 'sv5-76', 1561: 'sv5-77', 1562: 'sv5-78', 1563: 'sv5-79', 1564: 'sv5-80', 1565: 'sv5-81', 1566: 'sv5-82', 1567: 'sv5-83', 1568: 'sv5-84', 1569: 'sv5-85', 1570: 'sv5-86', 1571: 'sv5-87', 1572: 'sv5-88', 1573: 'sv5-89', 1574: 'sv5-90', 1575: 'sv5-91', 1576: 'sv5-92', 1577: 'sv5-93', 1578: 'sv5-94', 1579: 'sv5-95', 1580: 'sv5-96', 1581: 'sv5-97', 1582: 'sv5-98', 1583: 'sv5-99', 1584: 'sv5-100', 1585: 'sv5-101', 1586: 'sv5-102', 1587: 'sv5-103', 1588: 'sv5-104', 1589: 'sv5-105', 1590: 'sv5-106', 1591: 'sv5-107', 1592: 'sv5-108', 1593: 'sv5-109', 1594: 'sv5-110', 1595: 'sv5-111', 1596: 'sv5-112', 1597: 'sv5-113', 1598: 'sv5-114', 1599: 'sv5-115', 1600: 'sv5-116', 1601: 'sv5-117', 1602: 'sv5-118', 1603: 'sv5-119', 1604: 'sv5-120', 1605: 'sv5-121', 1606: 'sv5-122', 1607: 'sv5-123', 1608: 'sv5-124', 1609: 'sv5-125', 1610: 'sv5-126', 1611: 'sv5-127', 1612: 'sv5-128', 1613: 'sv5-129', 1614: 'sv5-130', 1615: 'sv5-131', 1616: 'sv5-132', 1617: 'sv5-133', 1618: 'sv5-134', 1619: 'sv5-135', 1620: 'sv5-136', 1621: 'sv5-137', 1622: 'sv5-138', 1623: 'sv5-139', 1624: 'sv5-140', 1625: 'sv5-141', 1626: 'sv5-142', 1627: 'sv5-143', 1628: 'sv5-144', 1629: 'sv5-145', 1630: 'sv5-146', 1631: 'sv5-147', 1632: 'sv5-148', 1633: 'sv5-149', 1634: 'sv5-150', 1635: 'sv5-151', 1636: 'sv5-152', 1637: 'sv5-153', 1638: 'sv5-154', 1639: 'sv5-155', 1640: 'sv5-156', 1641: 'sv5-157', 1642: 'sv5-158', 1643: 'sv5-159', 1644: 'sv5-160', 1645: 'sv5-161', 1646: 'sv5-162', 1647: 'sv5-163', 1648: 'sv5-164', 1649: 'sv5-165', 1650: 'sv5-166', 1651: 'sv5-167', 1652: 'sv5-168', 1653: 'sv5-169', 1654: 'sv5-170', 1655: 'sv5-171', 1656: 'sv5-172', 1657: 'sv5-173', 1658: 'sv5-174', 1659: 'sv5-175', 1660: 'sv5-176', 1661: 'sv5-177', 1662: 'sv5-178', 1663: 'sv5-179', 1664: 'sv5-180', 1665: 'sv5-181', 1666: 'sv5-182', 1667: 'sv5-183', 1668: 'sv5-184', 1669: 'sv5-185', 1670: 'sv5-186', 1671: 'sv5-187', 1672: 'sv5-188', 1673: 'sv5-189', 1674: 'sv5-190', 1675: 'sv5-191', 1676: 'sv5-192', 1677: 'sv5-193', 1678: 'sv5-194', 1679: 'sv5-195', 1680: 'sv5-196', 1681: 'sv5-197', 1682: 'sv5-198', 1683: 'sv5-199', 1684: 'sv5-200', 1685: 'sv5-201', 1686: 'sv5-202', 1687: 'sv5-203', 1688: 'sv5-204', 1689: 'sv5-205', 1690: 'sv5-206', 1691: 'sv5-207', 1692: 'sv5-208', 1693: 'sv5-209', 1694: 'sv5-210', 1695: 'sv5-211', 1696: 'sv5-212', 1697: 'sv5-213', 1698: 'sv5-214', 1699: 'sv5-215', 1700: 'sv5-216', 1701: 'sv5-217', 1702: 'sv5-218', 1703: 'sv6-1', 1704: 'sv6-2', 1705: 'sv6-3', 1706: 'sv6-4', 1707: 'sv6-5', 1708: 'sv6-6', 1709: 'sv6-7', 1710: 'sv6-8', 1711: 'sv6-9', 1712: 'sv6-10', 1713: 'sv6-11', 1714: 'sv6-12', 1715: 'sv6-13', 1716: 'sv6-14', 1717: 'sv6-15', 1718: 'sv6-16', 1719: 'sv6-17', 1720: 'sv6-18', 1721: 'sv6-19', 1722: 'sv6-20', 1723: 'sv6-21', 1724: 'sv6-22', 1725: 'sv6-23', 1726: 'sv6-24', 1727: 'sv6-25', 1728: 'sv6-26', 1729: 'sv6-27', 1730: 'sv6-28', 1731: 'sv6-29', 1732: 'sv6-30', 1733: 'sv6-31', 1734: 'sv6-32', 1735: 'sv6-33', 1736: 'sv6-34', 1737: 'sv6-35', 1738: 'sv6-36', 1739: 'sv6-37', 1740: 'sv6-38', 1741: 'sv6-39', 1742: 'sv6-40', 1743: 'sv6-41', 1744: 'sv6-42', 1745: 'sv6-43', 1746: 'sv6-44', 1747: 'sv6-45', 1748: 'sv6-46', 1749: 'sv6-47', 1750: 'sv6-48', 1751: 'sv6-49', 1752: 'sv6-50', 1753: 'sv6-51', 1754: 'sv6-52', 1755: 'sv6-53', 1756: 'sv6-54', 1757: 'sv6-55', 1758: 'sv6-56', 1759: 'sv6-57', 1760: 'sv6-58', 1761: 'sv6-59', 1762: 'sv6-60', 1763: 'sv6-61', 1764: 'sv6-62', 1765: 'sv6-63', 1766: 'sv6-64', 1767: 'sv6-65', 1768: 'sv6-66', 1769: 'sv6-67', 1770: 'sv6-68', 1771: 'sv6-69', 1772: 'sv6-70', 1773: 'sv6-71', 1774: 'sv6-72', 1775: 'sv6-73', 1776: 'sv6-74', 1777: 'sv6-75', 1778: 'sv6-76', 1779: 'sv6-77', 1780: 'sv6-78', 1781: 'sv6-79', 1782: 'sv6-80', 1783: 'sv6-81', 1784: 'sv6-82', 1785: 'sv6-83', 1786: 'sv6-84', 1787: 'sv6-85', 1788: 'sv6-86', 1789: 'sv6-87', 1790: 'sv6-88', 1791: 'sv6-89', 1792: 'sv6-90', 1793: 'sv6-91', 1794: 'sv6-92', 1795: 'sv6-93', 1796: 'sv6-94', 1797: 'sv6-95', 1798: 'sv6-96', 1799: 'sv6-97', 1800: 'sv6-98', 1801: 'sv6-99', 1802: 'sv6-100', 1803: 'sv6-101', 1804: 'sv6-102', 1805: 'sv6-103', 1806: 'sv6-104', 1807: 'sv6-105', 1808: 'sv6-106', 1809: 'sv6-107', 1810: 'sv6-108', 1811: 'sv6-109', 1812: 'sv6-110', 1813: 'sv6-111', 1814: 'sv6-112', 1815: 'sv6-113', 1816: 'sv6-114', 1817: 'sv6-115', 1818: 'sv6-116', 1819: 'sv6-117', 1820: 'sv6-118', 1821: 'sv6-119', 1822: 'sv6-120', 1823: 'sv6-121', 1824: 'sv6-122', 1825: 'sv6-123', 1826: 'sv6-124', 1827: 'sv6-125', 1828: 'sv6-126', 1829: 'sv6-127', 1830: 'sv6-128', 1831: 'sv6-129', 1832: 'sv6-130', 1833: 'sv6-131', 1834: 'sv6-132', 1835: 'sv6-133', 1836: 'sv6-134', 1837: 'sv6-135', 1838: 'sv6-136', 1839: 'sv6-137', 1840: 'sv6-138', 1841: 'sv6-139', 1842: 'sv6-140', 1843: 'sv6-141', 1844: 'sv6-142', 1845: 'sv6-143', 1846: 'sv6-144', 1847: 'sv6-145', 1848: 'sv6-146', 1849: 'sv6-147', 1850: 'sv6-148', 1851: 'sv6-149', 1852: 'sv6-150', 1853: 'sv6-151', 1854: 'sv6-152', 1855: 'sv6-153', 1856: 'sv6-154', 1857: 'sv6-155', 1858: 'sv6-156', 1859: 'sv6-157', 1860: 'sv6-158', 1861: 'sv6-159', 1862: 'sv6-160', 1863: 'sv6-161', 1864: 'sv6-162', 1865: 'sv6-163', 1866: 'sv6-164', 1867: 'sv6-165', 1868: 'sv6-166', 1869: 'sv6-167', 1870: 'sv6-168', 1871: 'sv6-169', 1872: 'sv6-170', 1873: 'sv6-171', 1874: 'sv6-172', 1875: 'sv6-173', 1876: 'sv6-174', 1877: 'sv6-175', 1878: 'sv6-176', 1879: 'sv6-177', 1880: 'sv6-178', 1881: 'sv6-179', 1882: 'sv6-180', 1883: 'sv6-181', 1884: 'sv6-182', 1885: 'sv6-183', 1886: 'sv6-184', 1887: 'sv6-185', 1888: 'sv6-186', 1889: 'sv6-187', 1890: 'sv6-188', 1891: 'sv6-189', 1892: 'sv6-190', 1893: 'sv6-191', 1894: 'sv6-192', 1895: 'sv6-193', 1896: 'sv6-194', 1897: 'sv6-195', 1898: 'sv6-196', 1899: 'sv6-197', 1900: 'sv6-198', 1901: 'sv6-199', 1902: 'sv6-200', 1903: 'sv6-201', 1904: 'sv6-202', 1905: 'sv6-203', 1906: 'sv6-204', 1907: 'sv6-205', 1908: 'sv6-206', 1909: 'sv6-207', 1910: 'sv6-208', 1911: 'sv6-209', 1912: 'sv6-210', 1913: 'sv6-211', 1914: 'sv6-212', 1915: 'sv6-213', 1916: 'sv6-214', 1917: 'sv6-215', 1918: 'sv6-216', 1919: 'sv6-217', 1920: 'sv6-218', 1921: 'sv6-219', 1922: 'sv6-220', 1923: 'sv6-221', 1924: 'sv6-222', 1925: 'sv6-223', 1926: 'sv6-224', 1927: 'sv6-225', 1928: 'sv6-226', 1929: 'sv6pt5-1', 1930: 'sv6pt5-2', 1931: 'sv6pt5-3', 1932: 'sv6pt5-4', 1933: 'sv6pt5-5', 1934: 'sv6pt5-6', 1935: 'sv6pt5-7', 1936: 'sv6pt5-8', 1937: 'sv6pt5-9', 1938: 'sv6pt5-10', 1939: 'sv6pt5-11', 1940: 'sv6pt5-12', 1941: 'sv6pt5-13', 1942: 'sv6pt5-14', 1943: 'sv6pt5-15', 1944: 'sv6pt5-16', 1945: 'sv6pt5-17', 1946: 'sv6pt5-18', 1947: 'sv6pt5-19', 1948: 'sv6pt5-20', 1949: 'sv6pt5-21', 1950: 'sv6pt5-22', 1951: 'sv6pt5-23', 1952: 'sv6pt5-24', 1953: 'sv6pt5-25', 1954: 'sv6pt5-26', 1955: 'sv6pt5-27', 1956: 'sv6pt5-28', 1957: 'sv6pt5-29', 1958: 'sv6pt5-30', 1959: 'sv6pt5-31', 1960: 'sv6pt5-32', 1961: 'sv6pt5-33', 1962: 'sv6pt5-34', 1963: 'sv6pt5-35', 1964: 'sv6pt5-36', 1965: 'sv6pt5-37', 1966: 'sv6pt5-38', 1967: 'sv6pt5-39', 1968: 'sv6pt5-40', 1969: 'sv6pt5-41', 1970: 'sv6pt5-42', 1971: 'sv6pt5-43', 1972: 'sv6pt5-44', 1973: 'sv6pt5-45', 1974: 'sv6pt5-46', 1975: 'sv6pt5-47', 1976: 'sv6pt5-48', 1977: 'sv6pt5-49', 1978: 'sv6pt5-50', 1979: 'sv6pt5-51', 1980: 'sv6pt5-52', 1981: 'sv6pt5-53', 1982: 'sv6pt5-54', 1983: 'sv6pt5-55', 1984: 'sv6pt5-56', 1985: 'sv6pt5-57', 1986: 'sv6pt5-58', 1987: 'sv6pt5-59', 1988: 'sv6pt5-60', 1989: 'sv6pt5-61', 1990: 'sv6pt5-62', 1991: 'sv6pt5-63', 1992: 'sv6pt5-64', 1993: 'sv6pt5-65', 1994: 'sv6pt5-66', 1995: 'sv6pt5-67', 1996: 'sv6pt5-68', 1997: 'sv6pt5-69', 1998: 'sv6pt5-70', 1999: 'sv6pt5-71', 2000: 'sv6pt5-72', 2001: 'sv6pt5-73', 2002: 'sv6pt5-74', 2003: 'sv6pt5-75', 2004: 'sv6pt5-76', 2005: 'sv6pt5-77', 2006: 'sv6pt5-78', 2007: 'sv6pt5-79', 2008: 'sv6pt5-80', 2009: 'sv6pt5-81', 2010: 'sv6pt5-82', 2011: 'sv6pt5-83', 2012: 'sv6pt5-84', 2013: 'sv6pt5-85', 2014: 'sv6pt5-86', 2015: 'sv6pt5-87', 2016: 'sv6pt5-88', 2017: 'sv6pt5-89', 2018: 'sv6pt5-90', 2019: 'sv6pt5-91', 2020: 'sv6pt5-92', 2021: 'sv6pt5-93', 2022: 'sv6pt5-94', 2023: 'sv6pt5-95', 2024: 'sv6pt5-96', 2025: 'sv6pt5-97', 2026: 'sv6pt5-98', 2027: 'sv6pt5-99', 2028: 'sv7-1', 2029: 'sv7-2', 2030: 'sv7-3', 2031: 'sv7-4', 2032: 'sv7-5', 2033: 'sv7-6', 2034: 'sv7-7', 2035: 'sv7-8', 2036: 'sv7-9', 2037: 'sv7-10', 2038: 'sv7-11', 2039: 'sv7-12', 2040: 'sv7-13', 2041: 'sv7-14', 2042: 'sv7-15', 2043: 'sv7-16', 2044: 'sv7-17', 2045: 'sv7-18', 2046: 'sv7-19', 2047: 'sv7-20', 2048: 'sv7-21', 2049: 'sv7-22', 2050: 'sv7-23', 2051: 'sv7-24', 2052: 'sv7-25', 2053: 'sv7-26', 2054: 'sv7-27', 2055: 'sv7-28', 2056: 'sv7-29', 2057: 'sv7-30', 2058: 'sv7-31', 2059: 'sv7-32', 2060: 'sv7-33', 2061: 'sv7-34', 2062: 'sv7-35', 2063: 'sv7-36', 2064: 'sv7-37', 2065: 'sv7-38', 2066: 'sv7-39', 2067: 'sv7-40', 2068: 'sv7-41', 2069: 'sv7-42', 2070: 'sv7-43', 2071: 'sv7-44', 2072: 'sv7-45', 2073: 'sv7-46', 2074: 'sv7-47', 2075: 'sv7-48', 2076: 'sv7-49', 2077: 'sv7-50', 2078: 'sv7-51', 2079: 'sv7-52', 2080: 'sv7-53', 2081: 'sv7-54', 2082: 'sv7-55', 2083: 'sv7-56', 2084: 'sv7-57', 2085: 'sv7-58', 2086: 'sv7-59', 2087: 'sv7-60', 2088: 'sv7-61', 2089: 'sv7-62', 2090: 'sv7-63', 2091: 'sv7-64', 2092: 'sv7-65', 2093: 'sv7-66', 2094: 'sv7-67', 2095: 'sv7-68', 2096: 'sv7-69', 2097: 'sv7-70', 2098: 'sv7-71', 2099: 'sv7-72', 2100: 'sv7-73', 2101: 'sv7-74', 2102: 'sv7-75', 2103: 'sv7-76', 2104: 'sv7-77', 2105: 'sv7-78', 2106: 'sv7-79', 2107: 'sv7-80', 2108: 'sv7-81', 2109: 'sv7-82', 2110: 'sv7-83', 2111: 'sv7-84', 2112: 'sv7-85', 2113: 'sv7-86', 2114: 'sv7-87', 2115: 'sv7-88', 2116: 'sv7-89', 2117: 'sv7-90', 2118: 'sv7-91', 2119: 'sv7-92', 2120: 'sv7-93', 2121: 'sv7-94', 2122: 'sv7-95', 2123: 'sv7-96', 2124: 'sv7-97', 2125: 'sv7-98', 2126: 'sv7-99', 2127: 'sv7-100', 2128: 'sv7-101', 2129: 'sv7-102', 2130: 'sv7-103', 2131: 'sv7-104', 2132: 'sv7-105', 2133: 'sv7-106', 2134: 'sv7-107', 2135: 'sv7-108', 2136: 'sv7-109', 2137: 'sv7-110', 2138: 'sv7-111', 2139: 'sv7-112', 2140: 'sv7-113', 2141: 'sv7-114', 2142: 'sv7-115', 2143: 'sv7-116', 2144: 'sv7-117', 2145: 'sv7-118', 2146: 'sv7-119', 2147: 'sv7-120', 2148: 'sv7-121', 2149: 'sv7-122', 2150: 'sv7-123', 2151: 'sv7-124', 2152: 'sv7-125', 2153: 'sv7-126', 2154: 'sv7-127', 2155: 'sv7-128', 2156: 'sv7-129', 2157: 'sv7-130', 2158: 'sv7-131', 2159: 'sv7-132', 2160: 'sv7-133', 2161: 'sv7-134', 2162: 'sv7-135', 2163: 'sv7-136', 2164: 'sv7-137', 2165: 'sv7-138', 2166: 'sv7-139', 2167: 'sv7-140', 2168: 'sv7-141', 2169: 'sv7-142', 2170: 'sv7-143', 2171: 'sv7-144', 2172: 'sv7-145', 2173: 'sv7-146', 2174: 'sv7-147', 2175: 'sv7-148', 2176: 'sv7-149', 2177: 'sv7-150', 2178: 'sv7-151', 2179: 'sv7-152', 2180: 'sv7-153', 2181: 'sv7-154', 2182: 'sv7-155', 2183: 'sv7-156', 2184: 'sv7-157', 2185: 'sv7-158', 2186: 'sv7-159', 2187: 'sv7-160', 2188: 'sv7-161', 2189: 'sv7-162', 2190: 'sv7-163', 2191: 'sv7-164', 2192: 'sv7-165', 2193: 'sv7-166', 2194: 'sv7-167', 2195: 'sv7-168', 2196: 'sv7-169', 2197: 'sv7-170', 2198: 'sv7-171', 2199: 'sv7-172', 2200: 'sv7-173', 2201: 'sv7-174', 2202: 'sv7-175', 2203: 'sv8-1', 2204: 'sv8-2', 2205: 'sv8-3', 2206: 'sv8-4', 2207: 'sv8-5', 2208: 'sv8-6', 2209: 'sv8-7', 2210: 'sv8-8', 2211: 'sv8-9', 2212: 'sv8-10', 2213: 'sv8-11', 2214: 'sv8-12', 2215: 'sv8-13', 2216: 'sv8-14', 2217: 'sv8-15', 2218: 'sv8-16', 2219: 'sv8-17', 2220: 'sv8-18', 2221: 'sv8-19', 2222: 'sv8-20', 2223: 'sv8-21', 2224: 'sv8-22', 2225: 'sv8-23', 2226: 'sv8-24', 2227: 'sv8-25', 2228: 'sv8-26', 2229: 'sv8-27', 2230: 'sv8-28', 2231: 'sv8-29', 2232: 'sv8-30', 2233: 'sv8-31', 2234: 'sv8-32', 2235: 'sv8-33', 2236: 'sv8-34', 2237: 'sv8-35', 2238: 'sv8-36', 2239: 'sv8-37', 2240: 'sv8-38', 2241: 'sv8-39', 2242: 'sv8-40', 2243: 'sv8-41', 2244: 'sv8-42', 2245: 'sv8-43', 2246: 'sv8-44', 2247: 'sv8-45', 2248: 'sv8-46', 2249: 'sv8-47', 2250: 'sv8-48', 2251: 'sv8-49', 2252: 'sv8-50', 2253: 'sv8-51', 2254: 'sv8-52', 2255: 'sv8-53', 2256: 'sv8-54', 2257: 'sv8-55', 2258: 'sv8-56', 2259: 'sv8-57', 2260: 'sv8-58', 2261: 'sv8-59', 2262: 'sv8-60', 2263: 'sv8-61', 2264: 'sv8-62', 2265: 'sv8-63', 2266: 'sv8-64', 2267: 'sv8-65', 2268: 'sv8-66', 2269: 'sv8-67', 2270: 'sv8-68', 2271: 'sv8-69', 2272: 'sv8-70', 2273: 'sv8-71', 2274: 'sv8-72', 2275: 'sv8-73', 2276: 'sv8-74', 2277: 'sv8-75', 2278: 'sv8-76', 2279: 'sv8-77', 2280: 'sv8-78', 2281: 'sv8-79', 2282: 'sv8-80', 2283: 'sv8-81', 2284: 'sv8-82', 2285: 'sv8-83', 2286: 'sv8-84', 2287: 'sv8-85', 2288: 'sv8-86', 2289: 'sv8-87', 2290: 'sv8-88', 2291: 'sv8-89', 2292: 'sv8-90', 2293: 'sv8-91', 2294: 'sv8-92', 2295: 'sv8-93', 2296: 'sv8-94', 2297: 'sv8-95', 2298: 'sv8-96', 2299: 'sv8-97', 2300: 'sv8-98', 2301: 'sv8-99', 2302: 'sv8-100', 2303: 'sv8-101', 2304: 'sv8-102', 2305: 'sv8-103', 2306: 'sv8-104', 2307: 'sv8-105', 2308: 'sv8-106', 2309: 'sv8-107', 2310: 'sv8-108', 2311: 'sv8-109', 2312: 'sv8-110', 2313: 'sv8-111', 2314: 'sv8-112', 2315: 'sv8-113', 2316: 'sv8-114', 2317: 'sv8-115', 2318: 'sv8-116', 2319: 'sv8-117', 2320: 'sv8-118', 2321: 'sv8-119', 2322: 'sv8-120', 2323: 'sv8-121', 2324: 'sv8-122', 2325: 'sv8-123', 2326: 'sv8-124', 2327: 'sv8-125', 2328: 'sv8-126', 2329: 'sv8-127', 2330: 'sv8-128', 2331: 'sv8-129', 2332: 'sv8-130', 2333: 'sv8-131', 2334: 'sv8-132', 2335: 'sv8-133', 2336: 'sv8-134', 2337: 'sv8-135', 2338: 'sv8-136', 2339: 'sv8-137', 2340: 'sv8-138', 2341: 'sv8-139', 2342: 'sv8-140', 2343: 'sv8-141', 2344: 'sv8-142', 2345: 'sv8-143', 2346: 'sv8-144', 2347: 'sv8-145', 2348: 'sv8-146', 2349: 'sv8-147', 2350: 'sv8-148', 2351: 'sv8-149', 2352: 'sv8-150', 2353: 'sv8-151', 2354: 'sv8-152', 2355: 'sv8-153', 2356: 'sv8-154', 2357: 'sv8-155', 2358: 'sv8-156', 2359: 'sv8-157', 2360: 'sv8-158', 2361: 'sv8-159', 2362: 'sv8-160', 2363: 'sv8-161', 2364: 'sv8-162', 2365: 'sv8-163', 2366: 'sv8-164', 2367: 'sv8-165', 2368: 'sv8-166', 2369: 'sv8-167', 2370: 'sv8-168', 2371: 'sv8-169', 2372: 'sv8-170', 2373: 'sv8-171', 2374: 'sv8-172', 2375: 'sv8-173', 2376: 'sv8-174', 2377: 'sv8-175', 2378: 'sv8-176', 2379: 'sv8-177', 2380: 'sv8-178', 2381: 'sv8-179', 2382: 'sv8-180', 2383: 'sv8-181', 2384: 'sv8-182', 2385: 'sv8-183', 2386: 'sv8-184', 2387: 'sv8-185', 2388: 'sv8-186', 2389: 'sv8-187', 2390: 'sv8-188', 2391: 'sv8-189', 2392: 'sv8-190', 2393: 'sv8-191', 2394: 'sv8-192', 2395: 'sv8-193', 2396: 'sv8-194', 2397: 'sv8-195', 2398: 'sv8-196', 2399: 'sv8-197', 2400: 'sv8-198', 2401: 'sv8-199', 2402: 'sv8-200', 2403: 'sv8-201', 2404: 'sv8-202', 2405: 'sv8-203', 2406: 'sv8-204', 2407: 'sv8-205', 2408: 'sv8-206', 2409: 'sv8-207', 2410: 'sv8-208', 2411: 'sv8-209', 2412: 'sv8-210', 2413: 'sv8-211', 2414: 'sv8-212', 2415: 'sv8-213', 2416: 'sv8-214', 2417: 'sv8-215', 2418: 'sv8-216', 2419: 'sv8-217', 2420: 'sv8-218', 2421: 'sv8-219', 2422: 'sv8-220', 2423: 'sv8-221', 2424: 'sv8-222', 2425: 'sv8-223', 2426: 'sv8-224', 2427: 'sv8-225', 2428: 'sv8-226', 2429: 'sv8-227', 2430: 'sv8-228', 2431: 'sv8-229', 2432: 'sv8-230', 2433: 'sv8-231', 2434: 'sv8-232', 2435: 'sv8-233', 2436: 'sv8-234', 2437: 'sv8-235', 2438: 'sv8-236', 2439: 'sv8-237', 2440: 'sv8-238', 2441: 'sv8-239', 2442: 'sv8-240', 2443: 'sv8-241', 2444: 'sv8-242', 2445: 'sv8-243', 2446: 'sv8-244', 2447: 'sv8-245', 2448: 'sv8-246', 2449: 'sv8-247', 2450: 'sv8-248', 2451: 'sv8-249', 2452: 'sv8-250', 2453: 'sv8-251', 2454: 'sv8-252', 2455: 'sv8pt5-1', 2456: 'sv8pt5-2', 2457: 'sv8pt5-3', 2458: 'sv8pt5-4', 2459: 'sv8pt5-5', 2460: 'sv8pt5-6', 2461: 'sv8pt5-7', 2462: 'sv8pt5-8', 2463: 'sv8pt5-9', 2464: 'sv8pt5-10', 2465: 'sv8pt5-11', 2466: 'sv8pt5-12', 2467: 'sv8pt5-13', 2468: 'sv8pt5-14', 2469: 'sv8pt5-15', 2470: 'sv8pt5-16', 2471: 'sv8pt5-17', 2472: 'sv8pt5-18', 2473: 'sv8pt5-19', 2474: 'sv8pt5-20', 2475: 'sv8pt5-21', 2476: 'sv8pt5-22', 2477: 'sv8pt5-23', 2478: 'sv8pt5-24', 2479: 'sv8pt5-25', 2480: 'sv8pt5-26', 2481: 'sv8pt5-27', 2482: 'sv8pt5-28', 2483: 'sv8pt5-29', 2484: 'sv8pt5-30', 2485: 'sv8pt5-31', 2486: 'sv8pt5-32', 2487: 'sv8pt5-33', 2488: 'sv8pt5-34', 2489: 'sv8pt5-35', 2490: 'sv8pt5-36', 2491: 'sv8pt5-37', 2492: 'sv8pt5-38', 2493: 'sv8pt5-39', 2494: 'sv8pt5-40', 2495: 'sv8pt5-41', 2496: 'sv8pt5-42', 2497: 'sv8pt5-43', 2498: 'sv8pt5-44', 2499: 'sv8pt5-45', 2500: 'sv8pt5-46', 2501: 'sv8pt5-47', 2502: 'sv8pt5-48', 2503: 'sv8pt5-49', 2504: 'sv8pt5-50', 2505: 'sv8pt5-51', 2506: 'sv8pt5-52', 2507: 'sv8pt5-53', 2508: 'sv8pt5-54', 2509: 'sv8pt5-55', 2510: 'sv8pt5-56', 2511: 'sv8pt5-57', 2512: 'sv8pt5-58', 2513: 'sv8pt5-59', 2514: 'sv8pt5-60', 2515: 'sv8pt5-61', 2516: 'sv8pt5-62', 2517: 'sv8pt5-63', 2518: 'sv8pt5-64', 2519: 'sv8pt5-65', 2520: 'sv8pt5-66', 2521: 'sv8pt5-67', 2522: 'sv8pt5-68', 2523: 'sv8pt5-69', 2524: 'sv8pt5-70', 2525: 'sv8pt5-71', 2526: 'sv8pt5-72', 2527: 'sv8pt5-73', 2528: 'sv8pt5-74', 2529: 'sv8pt5-75', 2530: 'sv8pt5-76', 2531: 'sv8pt5-77', 2532: 'sv8pt5-78', 2533: 'sv8pt5-79', 2534: 'sv8pt5-80', 2535: 'sv8pt5-81', 2536: 'sv8pt5-82', 2537: 'sv8pt5-83', 2538: 'sv8pt5-84', 2539: 'sv8pt5-85', 2540: 'sv8pt5-86', 2541: 'sv8pt5-87', 2542: 'sv8pt5-88', 2543: 'sv8pt5-89', 2544: 'sv8pt5-90', 2545: 'sv8pt5-91', 2546: 'sv8pt5-92', 2547: 'sv8pt5-93', 2548: 'sv8pt5-94', 2549: 'sv8pt5-95', 2550: 'sv8pt5-96', 2551: 'sv8pt5-97', 2552: 'sv8pt5-98', 2553: 'sv8pt5-99', 2554: 'sv8pt5-100', 2555: 'sv8pt5-101', 2556: 'sv8pt5-102', 2557: 'sv8pt5-103', 2558: 'sv8pt5-104', 2559: 'sv8pt5-105', 2560: 'sv8pt5-106', 2561: 'sv8pt5-107', 2562: 'sv8pt5-108', 2563: 'sv8pt5-109', 2564: 'sv8pt5-110', 2565: 'sv8pt5-111', 2566: 'sv8pt5-112', 2567: 'sv8pt5-113', 2568: 'sv8pt5-114', 2569: 'sv8pt5-115', 2570: 'sv8pt5-116', 2571: 'sv8pt5-117', 2572: 'sv8pt5-118', 2573: 'sv8pt5-119', 2574: 'sv8pt5-120', 2575: 'sv8pt5-121', 2576: 'sv8pt5-122', 2577: 'sv8pt5-123', 2578: 'sv8pt5-124', 2579: 'sv8pt5-125', 2580: 'sv8pt5-126', 2581: 'sv8pt5-127', 2582: 'sv8pt5-128', 2583: 'sv8pt5-129', 2584: 'sv8pt5-130', 2585: 'sv8pt5-131', 2586: 'sv8pt5-132', 2587: 'sv8pt5-133', 2588: 'sv8pt5-134', 2589: 'sv8pt5-135', 2590: 'sv8pt5-136', 2591: 'sv8pt5-137', 2592: 'sv8pt5-138', 2593: 'sv8pt5-139', 2594: 'sv8pt5-140', 2595: 'sv8pt5-141', 2596: 'sv8pt5-142', 2597: 'sv8pt5-143', 2598: 'sv8pt5-144', 2599: 'sv8pt5-145', 2600: 'sv8pt5-146', 2601: 'sv8pt5-147', 2602: 'sv8pt5-148', 2603: 'sv8pt5-149', 2604: 'sv8pt5-150', 2605: 'sv8pt5-151', 2606: 'sv8pt5-152', 2607: 'sv8pt5-153', 2608: 'sv8pt5-154', 2609: 'sv8pt5-155', 2610: 'sv8pt5-156', 2611: 'sv8pt5-157', 2612: 'sv8pt5-158', 2613: 'sv8pt5-159', 2614: 'sv8pt5-160', 2615: 'sv8pt5-161', 2616: 'sv8pt5-162', 2617: 'sv8pt5-163', 2618: 'sv8pt5-164', 2619: 'sv8pt5-165', 2620: 'sv8pt5-166', 2621: 'sv8pt5-167', 2622: 'sv8pt5-168', 2623: 'sv8pt5-169', 2624: 'sv8pt5-170', 2625: 'sv8pt5-171', 2626: 'sv8pt5-172', 2627: 'sv8pt5-173', 2628: 'sv8pt5-174', 2629: 'sv8pt5-175', 2630: 'sv8pt5-176', 2631: 'sv8pt5-177', 2632: 'sv8pt5-178', 2633: 'sv8pt5-179', 2634: 'sv8pt5-180', 2635: 'sv9-1', 2636: 'sv9-2', 2637: 'sv9-3', 2638: 'sv9-4', 2639: 'sv9-5', 2640: 'sv9-6', 2641: 'sv9-7', 2642: 'sv9-8', 2643: 'sv9-9', 2644: 'sv9-10', 2645: 'sv9-11', 2646: 'sv9-12', 2647: 'sv9-13', 2648: 'sv9-14', 2649: 'sv9-15', 2650: 'sv9-16', 2651: 'sv9-17', 2652: 'sv9-18', 2653: 'sv9-19', 2654: 'sv9-20', 2655: 'sv9-21', 2656: 'sv9-22', 2657: 'sv9-23', 2658: 'sv9-24', 2659: 'sv9-25', 2660: 'sv9-26', 2661: 'sv9-27', 2662: 'sv9-28', 2663: 'sv9-29', 2664: 'sv9-30', 2665: 'sv9-31', 2666: 'sv9-32', 2667: 'sv9-33', 2668: 'sv9-34', 2669: 'sv9-35', 2670: 'sv9-36', 2671: 'sv9-37', 2672: 'sv9-38', 2673: 'sv9-39', 2674: 'sv9-40', 2675: 'sv9-41', 2676: 'sv9-42', 2677: 'sv9-43', 2678: 'sv9-44', 2679: 'sv9-45', 2680: 'sv9-46', 2681: 'sv9-47', 2682: 'sv9-48', 2683: 'sv9-49', 2684: 'sv9-50', 2685: 'sv9-51', 2686: 'sv9-52', 2687: 'sv9-53', 2688: 'sv9-54', 2689: 'sv9-55', 2690: 'sv9-56', 2691: 'sv9-57', 2692: 'sv9-58', 2693: 'sv9-59', 2694: 'sv9-60', 2695: 'sv9-61', 2696: 'sv9-62', 2697: 'sv9-63', 2698: 'sv9-64', 2699: 'sv9-65', 2700: 'sv9-66', 2701: 'sv9-67', 2702: 'sv9-68', 2703: 'sv9-69', 2704: 'sv9-70', 2705: 'sv9-71', 2706: 'sv9-72', 2707: 'sv9-73', 2708: 'sv9-74', 2709: 'sv9-75', 2710: 'sv9-76', 2711: 'sv9-77', 2712: 'sv9-78', 2713: 'sv9-79', 2714: 'sv9-80', 2715: 'sv9-81', 2716: 'sv9-82', 2717: 'sv9-83', 2718: 'sv9-84', 2719: 'sv9-85', 2720: 'sv9-86', 2721: 'sv9-87', 2722: 'sv9-88', 2723: 'sv9-89', 2724: 'sv9-90', 2725: 'sv9-91', 2726: 'sv9-92', 2727: 'sv9-93', 2728: 'sv9-94', 2729: 'sv9-95', 2730: 'sv9-96', 2731: 'sv9-97', 2732: 'sv9-98', 2733: 'sv9-99', 2734: 'sv9-100', 2735: 'sv9-101', 2736: 'sv9-102', 2737: 'sv9-103', 2738: 'sv9-104', 2739: 'sv9-105', 2740: 'sv9-106', 2741: 'sv9-107', 2742: 'sv9-108', 2743: 'sv9-109', 2744: 'sv9-110', 2745: 'sv9-111', 2746: 'sv9-112', 2747: 'sv9-113', 2748: 'sv9-114', 2749: 'sv9-115', 2750: 'sv9-116', 2751: 'sv9-117', 2752: 'sv9-118', 2753: 'sv9-119', 2754: 'sv9-120', 2755: 'sv9-121', 2756: 'sv9-122', 2757: 'sv9-123', 2758: 'sv9-124', 2759: 'sv9-125', 2760: 'sv9-126', 2761: 'sv9-127', 2762: 'sv9-128', 2763: 'sv9-129', 2764: 'sv9-130', 2765: 'sv9-131', 2766: 'sv9-132', 2767: 'sv9-133', 2768: 'sv9-134', 2769: 'sv9-135', 2770: 'sv9-136', 2771: 'sv9-137', 2772: 'sv9-138', 2773: 'sv9-139', 2774: 'sv9-140', 2775: 'sv9-141', 2776: 'sv9-142', 2777: 'sv9-143', 2778: 'sv9-144', 2779: 'sv9-145', 2780: 'sv9-146', 2781: 'sv9-147', 2782: 'sv9-148', 2783: 'sv9-149', 2784: 'sv9-150', 2785: 'sv9-151', 2786: 'sv9-152', 2787: 'sv9-153', 2788: 'sv9-154', 2789: 'sv9-155', 2790: 'sv9-156', 2791: 'sv9-157', 2792: 'sv9-158', 2793: 'sv9-159', 2794: 'sv9-160', 2795: 'sv9-161', 2796: 'sv9-162', 2797: 'sv9-163', 2798: 'sv9-164', 2799: 'sv9-165', 2800: 'sv9-166', 2801: 'sv9-167', 2802: 'sv9-168', 2803: 'sv9-169', 2804: 'sv9-170', 2805: 'sv9-171', 2806: 'sv9-172', 2807: 'sv9-173', 2808: 'sv9-174', 2809: 'sv9-175', 2810: 'sv9-176', 2811: 'sv9-177', 2812: 'sv9-178', 2813: 'sv9-179', 2814: 'sv9-180', 2815: 'sv9-181', 2816: 'sv9-182', 2817: 'sv9-183', 2818: 'sv9-184', 2819: 'sv9-185', 2820: 'sv9-186', 2821: 'sv9-187', 2822: 'sv9-188', 2823: 'sv9-189', 2824: 'sv9-190', 2825: 'sve-1', 2826: 'sve-2', 2827: 'sve-3', 2828: 'sve-4', 2829: 'sve-5', 2830: 'sve-6', 2831: 'sve-7', 2832: 'sve-8', 2833: 'sve-9', 2834: 'sve-10', 2835: 'sve-11', 2836: 'sve-12', 2837: 'sve-13', 2838: 'sve-14', 2839: 'sve-15', 2840: 'sve-16', 2841: 'svp-1', 2842: 'svp-2', 2843: 'svp-3', 2844: 'svp-4', 2845: 'svp-5', 2846: 'svp-6', 2847: 'svp-7', 2848: 'svp-8', 2849: 'svp-9', 2850: 'svp-10', 2851: 'svp-11', 2852: 'svp-12', 2853: 'svp-13', 2854: 'svp-14', 2855: 'svp-15', 2856: 'svp-16', 2857: 'svp-17', 2858: 'svp-18', 2859: 'svp-19', 2860: 'svp-20', 2861: 'svp-21', 2862: 'svp-22', 2863: 'svp-23', 2864: 'svp-24', 2865: 'svp-25', 2866: 'svp-26', 2867: 'svp-27', 2868: 'svp-28', 2869: 'svp-29', 2870: 'svp-30', 2871: 'svp-31', 2872: 'svp-32', 2873: 'svp-33', 2874: 'svp-34', 2875: 'svp-35', 2876: 'svp-36', 2877: 'svp-37', 2878: 'svp-38', 2879: 'svp-39', 2880: 'svp-40', 2881: 'svp-41', 2882: 'svp-42', 2883: 'svp-43', 2884: 'svp-44', 2885: 'svp-45', 2886: 'svp-46', 2887: 'svp-47', 2888: 'svp-48', 2889: 'svp-49', 2890: 'svp-50', 2891: 'svp-51', 2892: 'svp-52', 2893: 'svp-53', 2894: 'svp-54', 2895: 'svp-55', 2896: 'svp-56', 2897: 'svp-57', 2898: 'svp-58', 2899: 'svp-59', 2900: 'svp-60', 2901: 'svp-61', 2902: 'svp-62', 2903: 'svp-63', 2904: 'svp-64', 2905: 'svp-65', 2906: 'svp-66', 2907: 'svp-67', 2908: 'svp-68', 2909: 'svp-69', 2910: 'svp-70', 2911: 'svp-71', 2912: 'svp-72', 2913: 'svp-73', 2914: 'svp-74', 2915: 'svp-75', 2916: 'svp-76', 2917: 'svp-77', 2918: 'svp-78', 2919: 'svp-79', 2920: 'svp-80', 2921: 'svp-81', 2922: 'svp-82', 2923: 'svp-83', 2924: 'svp-84', 2925: 'svp-85', 2926: 'svp-86', 2927: 'svp-87', 2928: 'svp-88', 2929: 'svp-89', 2930: 'svp-90', 2931: 'svp-91', 2932: 'svp-92', 2933: 'svp-93', 2934: 'svp-94', 2935: 'svp-95', 2936: 'svp-96', 2937: 'svp-97', 2938: 'svp-98', 2939: 'svp-99', 2940: 'svp-100', 2941: 'svp-101', 2942: 'svp-103', 2943: 'svp-104', 2944: 'svp-105', 2945: 'svp-106', 2946: 'svp-107', 2947: 'svp-108', 2948: 'svp-109', 2949: 'svp-110', 2950: 'svp-111', 2951: 'svp-112', 2952: 'svp-113', 2953: 'svp-114', 2954: 'svp-115', 2955: 'svp-116', 2956: 'svp-117', 2957: 'svp-118', 2958: 'svp-119', 2959: 'svp-120', 2960: 'svp-121', 2961: 'svp-122', 2962: 'svp-123', 2963: 'svp-124', 2964: 'svp-125', 2965: 'svp-126', 2966: 'svp-127', 2967: 'svp-128', 2968: 'svp-129', 2969: 'svp-130', 2970: 'svp-131', 2971: 'svp-132', 2972: 'svp-133', 2973: 'svp-134', 2974: 'svp-135', 2975: 'svp-136', 2976: 'svp-137', 2977: 'svp-138', 2978: 'svp-139', 2979: 'svp-140', 2980: 'svp-141', 2981: 'svp-142', 2982: 'svp-143', 2983: 'svp-144', 2984: 'svp-145', 2985: 'svp-146', 2986: 'svp-147', 2987: 'svp-148', 2988: 'svp-149', 2989: 'svp-150', 2990: 'svp-151', 2991: 'svp-152', 2992: 'svp-153', 2993: 'svp-154', 2994: 'svp-155', 2995: 'svp-156', 2996: 'svp-157', 2997: 'svp-158', 2998: 'svp-159', 2999: 'svp-160', 3000: 'svp-161', 3001: 'svp-162', 3002: 'svp-163', 3003: 'svp-164', 3004: 'svp-165'}\n",
       "plot: True\n",
       "results_dict: {'metrics/precision(B)': np.float64(0.0001301336065031285), 'metrics/recall(B)': np.float64(0.01042384782331163), 'metrics/mAP50(B)': np.float64(0.0004559832400891911), 'metrics/mAP50-95(B)': np.float64(0.00042363933970820754), 'fitness': np.float64(0.00042687372974630595)}\n",
       "save_dir: PosixPath('/Users/pedropertusi/Desktop/comp_vis/PTCGextension/runs/detect/train2')\n",
       "speed: {'preprocess': 0.262618240866075, 'inference': 265.1669883628568, 'loss': 4.117384110655274e-05, 'postprocess': 17.04176895819853}\n",
       "task: 'detect'"
      ]
     },
     "execution_count": 17,
     "metadata": {},
     "output_type": "execute_result"
    }
   ],
   "source": [
    "from ultralytics import YOLO\n",
    "\n",
    "# Load your previously saved checkpoint\n",
    "model = YOLO(\"runs/detect/train/weights/last.pt\")  # or epoch7.pt if you saved manually\n",
    "\n",
    "# Resume training until epoch 20\n",
    "model.train(\n",
    "    data=\"custom.yaml\",\n",
    "    epochs=20,         # total number of epochs (not +13, but total = 20)\n",
    "    imgsz=640,\n",
    "    batch=8,\n",
    "    save=True,\n",
    "    save_period=1\n",
    ")\n"
   ]
  }
 ],
 "metadata": {
  "kernelspec": {
   "display_name": "env",
   "language": "python",
   "name": "python3"
  },
  "language_info": {
   "codemirror_mode": {
    "name": "ipython",
    "version": 3
   },
   "file_extension": ".py",
   "mimetype": "text/x-python",
   "name": "python",
   "nbconvert_exporter": "python",
   "pygments_lexer": "ipython3",
   "version": "3.12.3"
  }
 },
 "nbformat": 4,
 "nbformat_minor": 5
}
