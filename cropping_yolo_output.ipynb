{
 "cells": [
  {
   "cell_type": "code",
   "execution_count": 6,
   "id": "508846d1",
   "metadata": {},
   "outputs": [],
   "source": [
    "import os\n",
    "from PIL import Image\n"
   ]
  },
  {
   "cell_type": "code",
   "execution_count": 7,
   "id": "8773749a",
   "metadata": {},
   "outputs": [],
   "source": [
    "LABELS_DIR = \"outputs/predict/labels\"\n",
    "IMAGES_DIR = \"outputs/predict\""
   ]
  },
  {
   "cell_type": "code",
   "execution_count": 8,
   "id": "584b164b",
   "metadata": {},
   "outputs": [
    {
     "data": {
      "text/plain": [
       "477"
      ]
     },
     "execution_count": 8,
     "metadata": {},
     "output_type": "execute_result"
    }
   ],
   "source": [
    "cropped_images = []\n",
    "\n",
    "for file in os.listdir(LABELS_DIR):\n",
    "        with open(os.path.join(LABELS_DIR, file), 'r') as label_file:\n",
    "            img_path = os.path.join(IMAGES_DIR, file.replace('.txt', '.jpeg'))\n",
    "            \n",
    "            img = Image.open(img_path).convert('RGB')\n",
    "            W, H = img.size\n",
    "\n",
    "            with open(os.path.join(LABELS_DIR, file), 'r') as f:\n",
    "                for line in f:\n",
    "                    _, xc, yc, w_rel, h_rel = map(float, line.split())\n",
    "                    x1 = int((xc - w_rel/2) * W)\n",
    "                    y1 = int((yc - h_rel/2) * H)\n",
    "                    x2 = int((xc + w_rel/2) * W)\n",
    "                    y2 = int((yc + h_rel/2) * H)\n",
    "\n",
    "                    crop = img.crop((x1,y1,x2,y2))\n",
    "\n",
    "                    cropped_images.append(crop)\n",
    "\n",
    "len(cropped_images)\n",
    "                    "
   ]
  },
  {
   "cell_type": "code",
   "execution_count": 9,
   "id": "39e90e7f",
   "metadata": {},
   "outputs": [],
   "source": [
    "i = 0\n",
    "for img in cropped_images:\n",
    "    img.save(f\"cropped_images/cropped_{i}.jpeg\")\n",
    "    i += 1"
   ]
  },
  {
   "cell_type": "code",
   "execution_count": 5,
   "id": "88c417b5",
   "metadata": {},
   "outputs": [],
   "source": [
    "# rename the files in /cropped_images to with 0.jpeg, 1.jpeg, 2.jpeg, etc.\n",
    "\n",
    "for i, file in enumerate(os.listdir(\"cropped_images\")):\n",
    "    os.rename(os.path.join(\"cropped_images\", file), os.path.join(\"cropped_images\", f\"{i}.jpeg\"))\n",
    "    "
   ]
  }
 ],
 "metadata": {
  "kernelspec": {
   "display_name": "env",
   "language": "python",
   "name": "python3"
  },
  "language_info": {
   "codemirror_mode": {
    "name": "ipython",
    "version": 3
   },
   "file_extension": ".py",
   "mimetype": "text/x-python",
   "name": "python",
   "nbconvert_exporter": "python",
   "pygments_lexer": "ipython3",
   "version": "3.12.3"
  }
 },
 "nbformat": 4,
 "nbformat_minor": 5
}
