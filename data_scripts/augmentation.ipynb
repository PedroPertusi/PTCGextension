{
 "cells": [
  {
   "cell_type": "code",
   "execution_count": null,
   "id": "71375980",
   "metadata": {},
   "outputs": [],
   "source": [
    "import cv2\n",
    "import numpy as np\n",
    "import os\n",
    "import uuid\n",
    "from tqdm import tqdm"
   ]
  },
  {
   "cell_type": "code",
   "execution_count": null,
   "id": "403fd298",
   "metadata": {},
   "outputs": [],
   "source": [
    "def rotate_image(image, angle):\n",
    "    (h, w) = image.shape[:2]\n",
    "    center = (w / 2, h / 2)\n",
    "\n",
    "    # Rotation matrix\n",
    "    matrix = cv2.getRotationMatrix2D(center, angle, 1.0)\n",
    "\n",
    "    # Compute new bounding dimensions\n",
    "    cos = np.abs(matrix[0, 0])\n",
    "    sin = np.abs(matrix[0, 1])\n",
    "    new_w = int((h * sin) + (w * cos))\n",
    "    new_h = int((h * cos) + (w * sin))\n",
    "\n",
    "    # Adjust rotation matrix to consider translation\n",
    "    matrix[0, 2] += (new_w / 2) - center[0]\n",
    "    matrix[1, 2] += (new_h / 2) - center[1]\n",
    "\n",
    "    # Perform actual rotation with new bounds\n",
    "    return cv2.warpAffine(image, matrix, (new_w, new_h))"
   ]
  },
  {
   "cell_type": "code",
   "execution_count": null,
   "id": "79410b85",
   "metadata": {},
   "outputs": [],
   "source": [
    "def translate_image(image, tx, ty):\n",
    "    matrix = np.float32([[1, 0, tx], [0, 1, ty]])\n",
    "    return cv2.warpAffine(image, matrix, (image.shape[1], image.shape[0]))"
   ]
  },
  {
   "cell_type": "code",
   "execution_count": null,
   "id": "e939cc44",
   "metadata": {},
   "outputs": [],
   "source": [
    "def scale_image(image, fx, fy):\n",
    "    return cv2.resize(image, None, fx=fx, fy=fy, interpolation=cv2.INTER_LINEAR)"
   ]
  },
  {
   "cell_type": "code",
   "execution_count": null,
   "id": "2a1524ca",
   "metadata": {},
   "outputs": [],
   "source": [
    "\n",
    "def adjust_brightness_contrast(image, alpha=1.0, beta=0):\n",
    "    return cv2.convertScaleAbs(image, alpha=alpha, beta=beta)"
   ]
  },
  {
   "cell_type": "code",
   "execution_count": null,
   "id": "68c7ced1",
   "metadata": {},
   "outputs": [],
   "source": [
    "def add_gaussian_noise(image):\n",
    "    row, col, ch = image.shape\n",
    "    gauss = np.random.normal(0, 15, (row, col, ch)).reshape(row, col, ch)\n",
    "    noisy = np.clip(image + gauss, 0, 255).astype(np.uint8)\n",
    "    return noisy"
   ]
  },
  {
   "cell_type": "code",
   "execution_count": null,
   "id": "2eec4f8e",
   "metadata": {},
   "outputs": [],
   "source": [
    "def augment_image(image):\n",
    "    augmentations = []\n",
    "\n",
    "    # Rotation\n",
    "    for angle in [angle for angle in range(-90, 90, 15)]:\n",
    "        augmentations.append(rotate_image(image, angle))\n",
    "    \n",
    "    # Flip\n",
    "    augmentations.append(cv2.flip(image, 1))  # horizontal\n",
    "    augmentations.append(cv2.flip(image, 0))  # vertical\n",
    "\n",
    "    # Scaling\n",
    "    augmentations.append(scale_image(image, 1.2, 1.2))\n",
    "    augmentations.append(scale_image(image, 0.8, 0.8))\n",
    "\n",
    "    # Brightness/contrast\n",
    "    augmentations.append(adjust_brightness_contrast(image, alpha=1.5, beta=20))\n",
    "    augmentations.append(adjust_brightness_contrast(image, alpha=0.7, beta=-20))\n",
    "\n",
    "    # Noise\n",
    "    augmentations.append(add_gaussian_noise(image))\n",
    "\n",
    "    # Blur\n",
    "    augmentations.append(cv2.GaussianBlur(image, (5, 5), 0))\n",
    "\n",
    "    return augmentations"
   ]
  },
  {
   "cell_type": "code",
   "execution_count": null,
   "id": "52055cd5",
   "metadata": {},
   "outputs": [],
   "source": [
    "def save_augmented_images(image_path, output_dir):\n",
    "    image = cv2.imread(image_path)\n",
    "    if image is None:\n",
    "        print(f\"Failed to read {image_path}\")\n",
    "        return\n",
    "\n",
    "    augmented_images = augment_image(image)\n",
    "    for aug_img in augmented_images:\n",
    "        aug_name = f\"aug_{uuid.uuid4().hex[:8]}.jpg\"\n",
    "        cv2.imwrite(os.path.join(output_dir, aug_name), aug_img)"
   ]
  },
  {
   "cell_type": "code",
   "execution_count": null,
   "id": "e62e9c6f",
   "metadata": {},
   "outputs": [],
   "source": [
    "def clear_augmented_images(foldername):\n",
    "    for filename in os.listdir(foldername):\n",
    "        if filename.startswith(\"aug_\"):\n",
    "            os.remove(os.path.join(foldername, filename))\n",
    "            print(f\"Removed {filename}\")"
   ]
  },
  {
   "cell_type": "code",
   "execution_count": null,
   "id": "ff37313f",
   "metadata": {},
   "outputs": [],
   "source": [
    "def process_all_images(root_dir='../cards'):\n",
    "    for foldername, _, filenames in os.walk(root_dir):\n",
    "        print('iterating through folder:', foldername)\n",
    "        if not os.path.exists(foldername):\n",
    "            print(f\"Folder {foldername} does not exist.\")\n",
    "            continue\n",
    "        image_files = [f for f in filenames if f.lower().endswith(('.png', '.jpg', '.jpeg'))]\n",
    "        if image_files:\n",
    "            print(f\"\\nProcessing folder: {foldername}\")\n",
    "            for filename in tqdm(image_files, desc=f\"Augmenting\", unit=\"img\"):\n",
    "                image_path = os.path.join(foldername, filename)\n",
    "                save_augmented_images(image_path, foldername)"
   ]
  },
  {
   "cell_type": "code",
   "execution_count": null,
   "id": "8b23dfe5",
   "metadata": {},
   "outputs": [],
   "source": [
    "def clear_augmented_images_in_all_folders(root_dir='../cards'):\n",
    "    for foldername, _, filenames in os.walk(root_dir):\n",
    "        print('iterating through folder:', foldername)\n",
    "        if not os.path.exists(foldername):\n",
    "            print(f\"Folder {foldername} does not exist.\")\n",
    "            continue\n",
    "        clear_augmented_images(foldername)\n",
    "        print(f\"Cleared augmented images in {foldername}\")"
   ]
  },
  {
   "cell_type": "code",
   "execution_count": null,
   "id": "86e7765d",
   "metadata": {},
   "outputs": [],
   "source": [
    "print(\"Starting augmentation...\")\n",
    "clear_augmented_images_in_all_folders('cards')\n",
    "process_all_images('cards')\n",
    "print(\"\\n✅ Augmentation complete.\")"
   ]
  }
 ],
 "metadata": {
  "kernelspec": {
   "display_name": "env",
   "language": "python",
   "name": "python3"
  },
  "language_info": {
   "name": "python",
   "version": "3.12.4"
  }
 },
 "nbformat": 4,
 "nbformat_minor": 5
}
